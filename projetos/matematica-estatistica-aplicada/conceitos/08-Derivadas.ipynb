{
 "cells": [
  {
   "cell_type": "markdown",
   "id": "f66ffd99",
   "metadata": {},
   "source": [
    "# Derivada \n",
    "## Conceito de derivada\n",
    "\n",
    "Matemáticamente, a derivada em um ponto é a inclinação da linha tangente à curva da função naquele ponto. A linha tangente é a linha q toca a curva em apenas um ponto e tem a mesma direção que a curva nesse ponto.\n",
    "\n",
    "Dizemos que a derivada é a taxa de variação de uma função $y=f(x)$ em relação à x, dada pela relação:\n",
    "\n",
    "$$\\delta x/ \\delta y$$\n",
    "\n",
    "Considerando uma função $y = f(x)$, a sua derivada no ponto $x = x_0$ corresponde à tangente do ângulo formado pela interseção entre a reta e a curva da função $y = f(x)$, isto é, o coeficiente angular da reta tangente à curva.\n",
    "\n",
    "A derivada é indicada como $f'(x)$ e pode ser calculada através do limite.\n",
    "\n",
    "**Def 1.** Seja $f$ uma função e $p$ um ponto do seu domínio. O limite:\n",
    "\n",
    "$$\\lim_{x \\to p} \\frac{f(x) - f(x)}{x - p}$$\n",
    "quando existe e é finito, o chamamos de derivada de $f$ em $p$ e indica-se por $f'(p)$. Ou seja:\n",
    "$$f'(p)  \\lim_{x \\to p} \\frac{f(x) - f(x)}{x - p}$$\n",
    "Se $f$ admite derivada mem $p$, então dizemos que $f$ é diferenciável ou derivável em $p$.\n"
   ]
  },
  {
   "cell_type": "markdown",
   "id": "2e72a0c1",
   "metadata": {},
   "source": [
    "## Derivada em python\n",
    "\n",
    "A derivada mede a sensibilidade à mudança da função (valor de saída) em relação a uma mudança na sua entrada.\n",
    "\n",
    "Em termos mais simples, a derivada de uma função em um ponto específico é a taxa na qual a função está mudando naquele ponto. Isso é frequentemente entendido como a inclinação da linha tangente à função naquele ponto.\n",
    "\n",
    "Por exemplo, se temos uma função que descreve a posição de um carro em movimento ao longo do tempo, a derivada dessa função em um ponto específico nos dá a velocidade de carro naquele momento.\n",
    "\n",
    "A derivada de uma função f(x) é normalmente escrita como f'(x) ou df/dx. O processo de encontrar a derivada é chamado de diferenciação.\n",
    "\n",
    "A derivada de $$f(x) = x^n$$ é dada por $$f'(x) = n x^{(n-1)}$$"
   ]
  },
  {
   "cell_type": "code",
   "execution_count": 2,
   "id": "f9fb8522",
   "metadata": {},
   "outputs": [],
   "source": [
    "import torch\n",
    "import numpy as np\n",
    "import sympy\n",
    "from sympy import symbols, diff"
   ]
  },
  {
   "cell_type": "code",
   "execution_count": 4,
   "id": "3bbce50a",
   "metadata": {},
   "outputs": [],
   "source": [
    "# Definindo variável simbolica\n",
    "x = symbols('x')"
   ]
  },
  {
   "cell_type": "markdown",
   "id": "48925a57",
   "metadata": {},
   "source": [
    "f'(x) = x³ 2x² - x + 1 "
   ]
  },
  {
   "cell_type": "code",
   "execution_count": 5,
   "id": "67df0aad",
   "metadata": {},
   "outputs": [
    {
     "data": {
      "text/latex": [
       "$\\displaystyle 3 x^{2} + 4 x - 1$"
      ],
      "text/plain": [
       "3*x**2 + 4*x - 1"
      ]
     },
     "execution_count": 5,
     "metadata": {},
     "output_type": "execute_result"
    }
   ],
   "source": [
    "funcao = x**3 + 2*x**2 - x + 1\n",
    "derivada = diff(funcao, x)\n",
    "derivada"
   ]
  },
  {
   "cell_type": "markdown",
   "id": "e8c60724",
   "metadata": {},
   "source": [
    "no ponto x = 1"
   ]
  },
  {
   "cell_type": "code",
   "execution_count": 6,
   "id": "bd4fef7f",
   "metadata": {},
   "outputs": [
    {
     "data": {
      "text/latex": [
       "$\\displaystyle 6$"
      ],
      "text/plain": [
       "6"
      ]
     },
     "execution_count": 6,
     "metadata": {},
     "output_type": "execute_result"
    }
   ],
   "source": [
    "derivada.subs(x, 1)  "
   ]
  },
  {
   "cell_type": "markdown",
   "id": "6906ffad",
   "metadata": {},
   "source": [
    "Derivada da função f(x) = 2x²:"
   ]
  },
  {
   "cell_type": "code",
   "execution_count": 7,
   "id": "341f0fe9",
   "metadata": {},
   "outputs": [
    {
     "data": {
      "text/latex": [
       "$\\displaystyle 2 x$"
      ],
      "text/plain": [
       "2*x"
      ]
     },
     "execution_count": 7,
     "metadata": {},
     "output_type": "execute_result"
    }
   ],
   "source": [
    "f = x**2\n",
    "diff(f, x)"
   ]
  }
 ],
 "metadata": {
  "kernelspec": {
   "display_name": "Python 3",
   "language": "python",
   "name": "python3"
  },
  "language_info": {
   "codemirror_mode": {
    "name": "ipython",
    "version": 3
   },
   "file_extension": ".py",
   "mimetype": "text/x-python",
   "name": "python",
   "nbconvert_exporter": "python",
   "pygments_lexer": "ipython3",
   "version": "3.10.12"
  }
 },
 "nbformat": 4,
 "nbformat_minor": 5
}
