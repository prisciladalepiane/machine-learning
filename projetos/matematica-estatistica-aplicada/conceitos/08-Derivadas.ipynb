{
 "cells": [
  {
   "cell_type": "markdown",
   "id": "f66ffd99",
   "metadata": {},
   "source": [
    "# Derivada \n",
    "## Conceito de derivada\n",
    "\n",
    "Matemáticamente, a derivada em um ponto é a inclinação da linha tangente à curva da função naquele ponto. A linha tangente é a linha q toca a curva em apenas um ponto e tem a mesma direção que a curva nesse ponto.\n",
    "\n",
    "Dizemos que a derivada é a taxa de variação de uma função $y=f(x)$ em relação à x, dada pela relação:\n",
    "\n",
    "$$\\delta x/ \\delta y$$\n",
    "\n",
    "Considerando uma função $y = f(x)$, a sua derivada no ponto $x = x_0$ corresponde à tangente do ângulo formado pela interseção entre a reta e a curva da função $y = f(x)$, isto é, o coeficiente angular da reta tangente à curva.\n",
    "\n",
    "A derivada é indicada como $f'(x)$ e pode ser calculada através do limite.\n",
    "\n",
    "**Def 1.** Seja $f$ uma função e $p$ um ponto do seu domínio. O limite:\n",
    "\n",
    "$$\\lim_{x \\to p} \\frac{f(x) - f(x)}{x - p}$$\n",
    "quando existe e é finito, o chamamos de derivada de $f$ em $p$ e indica-se por $f'(p)$. Ou seja:\n",
    "$$f'(p)  \\lim_{x \\to p} \\frac{f(x) - f(x)}{x - p}$$\n",
    "Se $f$ admite derivada mem $p$, então dizemos que $f$ é diferenciável ou derivável em $p$.\n"
   ]
  }
 ],
 "metadata": {
  "language_info": {
   "name": "python"
  }
 },
 "nbformat": 4,
 "nbformat_minor": 5
}
