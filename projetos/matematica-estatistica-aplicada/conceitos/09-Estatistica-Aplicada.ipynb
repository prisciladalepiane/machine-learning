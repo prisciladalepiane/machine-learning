{
 "cells": [
  {
   "cell_type": "markdown",
   "id": "c6c3ca85",
   "metadata": {},
   "source": [
    "# Estatistica aplicada\n",
    "\n",
    "## Principais regras da análise de dados\n",
    "\n",
    "1. Conheça o contexto.\n",
    "2. Inspecione os dados antes de começar o trabalho de análise.\n",
    "3. Valide suas suposições.\n",
    "4. Verifique se os resultados fazem sentido.\n",
    "5. Use gráficos e tabelas para apresentar os resultados.\n",
    "6. Faça com que o seu processo de análise possa ser reproduzido.\n",
    "7. Não há mais nada sofisticado do que a simplicidade.\n",
    "\n",
    "\n",
    "## Dicas para analisar dados categóricos \n",
    "- Em uma tabela de frequência, observe categorias que aparecem com  baixa frequência. Se  o  valor  for  muito  baixo  em  comparação  com  as outras  categorias  os  dados  da  categoria  de baixa frequência podem ser removidos.\n",
    "- Verifique se há independência entre as variáveis. \n",
    "- Em uma tabela de contingência, quando a  distribuição  de  uma  variável  é  a  mesma  para  todas  as  categorias  da  outra,  dizemos  que  as variáveis são independentes. \n",
    "- Analise as distribuições condicionais. Uma distribuição condicional mostra a distribuição de uma variável apenas para aqueles casos que satisfazem uma condição em outra.\n",
    "- A  análise  de  valores  percentuais  pode  ser  mais  efetiva  do  que  a  análise  de  valores absolutos, principalmente na hora de entregar os resultados.Descreva a associação entre as variáveis por meio de coeficientes adequados.\n",
    "-  Uma das medidas mais usuais é o qui-quadrado."
   ]
  },
  {
   "cell_type": "markdown",
   "id": "1ebbc8f0",
   "metadata": {},
   "source": [
    "## Estratégia 1 de Tratamento de Variáveis Categóricas\n",
    "\n",
    "### One Hot-Encoding\n",
    "\n",
    "A Codificação One-Hot, também conhecida como One-Hot Encoding,  é uma técnica de pré-processamento de dados utilizada para converter variáveis categóricas em um formato que pode ser fornecido aos algoritmos de aprendizado de máquina.\n",
    "\n",
    "Na codificação One-Hot, cada categoria única de uma variável categórica é transformada em uma nova coluna binária; essa coluna assume o valor 1 onde a categoria está presente e 0 onde não está.\n",
    "\n",
    "Por exemplo, se tivermos uma variável categórica \"Cor\" com três categorias \"Vermelho\", \"Azul\" e \"Verde\", a codificação One-Hot criaria três novas colunas, uma para cada cor. Um registro com a cor \"Vermelho\" teria 1 na coluna \"Vermelho\" e 0 nas colunas \"Azul\" e \"Verde\".\n",
    "\n",
    "Esta abordagem é amplamente utilizada porque transforma dados categóricos em um formato numérico sem introduzir uma ordem arbitrária entre as categorias, o que poderia influenciar erroneamente o modelo de aprendizado de máquina.\n",
    "\n",
    "A codificação One-Hot facilita a modelagem de relações não lineares entre a variável categórica e a variável alvo.\n",
    "\n",
    "No entanto, um dos principais desafios dessa técnica é o aumento da dimensionalidade do conjunto de dados, especialmente quando lidamos com variáveis categóricas que possuem muitas categorias únicas.\n",
    "\n",
    "Isso pode levar ao chamado \"curse of dimensionality\" (maldição da dimensionalidade), que pode degradar o desempenho do modelo devido ao aumento da complexidade e à necessidade de mais dados para treinar efetivamente o modelo.\n",
    "\n",
    "Para mitigar esse problema, técnicas como PCA (Análise de Componentes Principais) ou seleção de características podem ser aplicadas posteriormente para reduzir a dimensionalidade.\n",
    "\n",
    "\n",
    "## Estratégia 2 de Tratamento de Variáveis Categóricas\n",
    "\n",
    "### Ordinal Label Encoding \n",
    "\n",
    "O Ordinal Label Encoding é uma técnica de processamento de dados utilizada para converter variáveis categóricas em uma forma numérica, preservando a ordem natural que as categorias possam ter.\n",
    "\n",
    "Diferentemente da codificação One-Hot, que cria uma nova coluna para cada categoria, a codificação ordinal atribui a cada categoria um valor inteiro único baseado em sua ordem ou classificação.\n",
    "\n",
    "Por exemplo, em uma variável categórica \"Tamanho\" com as categorias \"Pequeno\", \"Médio\" e \"Grande\", estas poderiam ser codificadas como 0, 1 e 2, respectivamente.\n",
    "\n",
    "Essa abordagem é particularmente útil para variáveis categóricas onde a ordem das categorias tem significado e é importante para a análise ou modelagem, como em níveis de educação, faixas de renda ou classificações de satisfação.\n",
    "\n",
    "No entanto, ao usar a codificação ordinal, é importante considerar que a diferença numérica entre as categorias codificadas pode não representar uma distância real ou uma diferença de magnitude entre as categorias na vida real.\n",
    "\n",
    "Por exemplo, a diferença entre \"Pequeno\" e \"Médio\" pode não ser a mesma que entre \"Médio\" e \"Grande\", embora numericamente ambas as diferenças sejam de uma unidade.\n",
    "\n",
    "Isso pode levar a interpretações errôneas por parte dos modelos de aprendizado de máquina, especialmente aqueles que assumem uma relação linear entre as variáveis.\n",
    "\n",
    "Portanto, a escolha de usar codificação ordinal deve ser feita com cautela e com um entendimento claro da natureza das variáveis categóricas envolvidas, garantindo que a técnica escolhida seja a mais adequada para capturar as relações subjacentes no conjunto de dados.\n"
   ]
  }
 ],
 "metadata": {
  "language_info": {
   "name": "python"
  }
 },
 "nbformat": 4,
 "nbformat_minor": 5
}
