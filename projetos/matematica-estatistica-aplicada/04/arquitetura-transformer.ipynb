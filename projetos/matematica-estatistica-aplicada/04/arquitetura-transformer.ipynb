{
 "cells": [
  {
   "cell_type": "markdown",
   "id": "1ef2fd3a",
   "metadata": {},
   "source": [
    "# Matemática da Arquitetura Transformer na Análise e Forecast de Séries Temporais\n",
    "\n",
    "https://arxiv.org/abs/1706.03762\n",
    "\n",
    "HuggingFace como fonte de dados e do modelo pré-treinado.\n",
    "\n",
    "https://huggingface.co/"
   ]
  },
  {
   "cell_type": "markdown",
   "id": "1e540c87",
   "metadata": {},
   "source": [
    "## Instalar e carregar pacotes"
   ]
  },
  {
   "cell_type": "code",
   "execution_count": 14,
   "id": "e967a677",
   "metadata": {},
   "outputs": [],
   "source": [
    "!pip install -q transformers==4.37.2"
   ]
  },
  {
   "cell_type": "code",
   "execution_count": 4,
   "id": "68b3b91b",
   "metadata": {},
   "outputs": [],
   "source": [
    "!pip install -q datasets==2.16.1"
   ]
  },
  {
   "cell_type": "code",
   "execution_count": 5,
   "id": "32a6c5a3",
   "metadata": {},
   "outputs": [],
   "source": [
    "!pip install -q evaluate==0.4.1"
   ]
  },
  {
   "cell_type": "code",
   "execution_count": 6,
   "id": "6fc8f0cc",
   "metadata": {},
   "outputs": [],
   "source": [
    "!pip install -q accelerate==0.26.1"
   ]
  },
  {
   "cell_type": "code",
   "execution_count": 7,
   "id": "6b687614",
   "metadata": {},
   "outputs": [],
   "source": [
    "!pip install -q -U gluonts==0.16.2"
   ]
  },
  {
   "cell_type": "markdown",
   "id": "2e5d366b",
   "metadata": {},
   "source": [
    "https://ts.gluon.ai"
   ]
  },
  {
   "cell_type": "code",
   "execution_count": 8,
   "id": "41e3c95a",
   "metadata": {},
   "outputs": [],
   "source": [
    "!pip install -q ujson==5.4.0"
   ]
  },
  {
   "cell_type": "code",
   "execution_count": 9,
   "id": "13c797c2",
   "metadata": {},
   "outputs": [],
   "source": [
    "!pip install -q urllib3==1.26.16"
   ]
  },
  {
   "cell_type": "code",
   "execution_count": 10,
   "id": "4fddaabb",
   "metadata": {},
   "outputs": [
    {
     "name": "stdout",
     "output_type": "stream",
     "text": [
      "env: TF_CPP_MIN_LOG_LEVEL=3\n"
     ]
    }
   ],
   "source": [
    "%env TF_CPP_MIN_LOG_LEVEL=3"
   ]
  },
  {
   "cell_type": "code",
   "execution_count": 11,
   "id": "364378d7",
   "metadata": {},
   "outputs": [],
   "source": [
    "# Ajusta problema de performance do TensorFlow em CPUs Intel\n",
    "import os\n",
    "os.environ['TF_ENABLE_ONEDNN_OPTS'] = '0'"
   ]
  },
  {
   "cell_type": "code",
   "execution_count": 12,
   "id": "598d6979",
   "metadata": {},
   "outputs": [],
   "source": [
    "# Ajusta problema de performance do PyTorch \n",
    "os.environ['PYTORCH_ENABLE_MPS_FALLBACK'] = '1'"
   ]
  },
  {
   "cell_type": "code",
   "execution_count": 15,
   "id": "f2cc746a",
   "metadata": {},
   "outputs": [],
   "source": [
    "# Imports\n",
    "import ujson\n",
    "import urllib3\n",
    "import evaluate\n",
    "import torch\n",
    "import transformers\n",
    "import accelerate\n",
    "import gluonts\n",
    "import pandas as pd\n",
    "import numpy as np\n",
    "from datasets import load_dataset\n",
    "import matplotlib.pyplot as plt\n",
    "import matplotlib.dates as mdates\n",
    "from functools import lru_cache\n",
    "from functools import partial\n",
    "from transformers import TimeSeriesTransformerConfig, TimeSeriesTransformerForPrediction\n",
    "from transformers import PretrainedConfig\n",
    "from typing import Optional\n",
    "from accelerate import Accelerator\n",
    "from torch.optim import AdamW\n",
    "from evaluate import load\n",
    "from typing import Iterable\n",
    "from gluonts.itertools import Cached, Cyclic\n",
    "from gluonts.dataset.loader import as_stacked_batches\n",
    "from gluonts.time_feature import get_seasonality\n",
    "from gluonts.time_feature import get_lags_for_frequency\n",
    "from gluonts.time_feature import time_features_from_frequency_str\n",
    "from gluonts.transform.sampler import InstanceSampler\n",
    "from gluonts.time_feature import (time_features_from_frequency_str, TimeFeature, get_lags_for_frequency)\n",
    "from gluonts.dataset.field_names import FieldName\n",
    "from gluonts.transform import (\n",
    "    AddAgeFeature,\n",
    "    AddObservedValuesIndicator,\n",
    "    AddTimeFeatures,\n",
    "    AsNumpyArray,\n",
    "    Chain,\n",
    "    ExpectedNumInstanceSampler,\n",
    "    InstanceSplitter,\n",
    "    RemoveFields,\n",
    "    SelectFields,\n",
    "    SetField,\n",
    "    TestSplitSampler,\n",
    "    Transformation,\n",
    "    ValidationSplitSampler,\n",
    "    VstackFeatures,\n",
    "    RenameFields,\n",
    ")\n",
    "import warnings\n",
    "warnings.filterwarnings('ignore')"
   ]
  },
  {
   "cell_type": "markdown",
   "id": "568d97e8",
   "metadata": {},
   "source": [
    "## Dados\n",
    "https://huggingface.co/datasets/Monash-University/monash_tsf"
   ]
  },
  {
   "cell_type": "code",
   "execution_count": 19,
   "id": "0ecb7157",
   "metadata": {},
   "outputs": [
    {
     "data": {
      "text/plain": [
       "DatasetDict({\n",
       "    train: Dataset({\n",
       "        features: ['start', 'target', 'feat_static_cat', 'feat_dynamic_real', 'item_id'],\n",
       "        num_rows: 366\n",
       "    })\n",
       "    test: Dataset({\n",
       "        features: ['start', 'target', 'feat_static_cat', 'feat_dynamic_real', 'item_id'],\n",
       "        num_rows: 366\n",
       "    })\n",
       "    validation: Dataset({\n",
       "        features: ['start', 'target', 'feat_static_cat', 'feat_dynamic_real', 'item_id'],\n",
       "        num_rows: 366\n",
       "    })\n",
       "})"
      ]
     },
     "execution_count": 19,
     "metadata": {},
     "output_type": "execute_result"
    }
   ],
   "source": [
    "dataset = load_dataset(\"monash_tsf\", \"tourism_monthly\")\n",
    "dataset"
   ]
  },
  {
   "cell_type": "code",
   "execution_count": 22,
   "id": "c7a734be",
   "metadata": {},
   "outputs": [
    {
     "data": {
      "text/plain": [
       "Dataset({\n",
       "    features: ['start', 'target', 'feat_static_cat', 'feat_dynamic_real', 'item_id'],\n",
       "    num_rows: 366\n",
       "})"
      ]
     },
     "execution_count": 22,
     "metadata": {},
     "output_type": "execute_result"
    }
   ],
   "source": [
    "dataset['train']"
   ]
  },
  {
   "cell_type": "code",
   "execution_count": 24,
   "id": "4efc1141",
   "metadata": {},
   "outputs": [
    {
     "data": {
      "text/plain": [
       "dict"
      ]
     },
     "execution_count": 24,
     "metadata": {},
     "output_type": "execute_result"
    }
   ],
   "source": [
    "exemplo_treino = dataset['train'][0]\n",
    "type(exemplo_treino)"
   ]
  },
  {
   "cell_type": "code",
   "execution_count": 25,
   "id": "319684b6",
   "metadata": {},
   "outputs": [
    {
     "data": {
      "text/plain": [
       "dict_keys(['start', 'target', 'feat_static_cat', 'feat_dynamic_real', 'item_id'])"
      ]
     },
     "execution_count": 25,
     "metadata": {},
     "output_type": "execute_result"
    }
   ],
   "source": [
    "exemplo_treino.keys()"
   ]
  },
  {
   "cell_type": "code",
   "execution_count": 31,
   "id": "73a5b346",
   "metadata": {},
   "outputs": [
    {
     "name": "stdout",
     "output_type": "stream",
     "text": [
      "1979-01-01 00:00:00\n",
      "[1149.8699951171875, 1053.8001708984375, 1388.8797607421875, 1783.3702392578125, 1921.025146484375, 2704.94482421875, 4184.41357421875, 4148.35400390625, 2620.72509765625, 1650.300048828125, 1115.9200439453125, 1370.6251220703125, 1096.31494140625, 978.4600219726562, 1294.68505859375, 1480.465087890625, 1748.865234375, 2216.920166015625, 4690.5185546875, 4682.8642578125, 2459.579833984375, 1484.4901123046875, 1028.985107421875, 1109.3648681640625, 960.8751220703125, 896.35009765625, 1118.6551513671875, 1619.9949951171875, 1847.994873046875, 2367.044921875, 4991.16015625, 4772.9443359375, 2894.678466796875, 1860.4801025390625, 1185.150146484375, 1313.659912109375, 1160.9150390625, 1061.5048828125, 1301.77001953125, 1794.3797607421875, 2106.455078125, 2789.034912109375, 4917.8466796875, 4994.4833984375, 3016.754150390625, 1941.505126953125, 1234.135009765625, 1378.72021484375, 1182.9749755859375, 1081.6600341796875, 1424.110107421875, 1774.5350341796875, 2115.420166015625, 2804.840087890625, 4849.498046875, 4937.47509765625, 3074.2236328125, 2063.42529296875, 1297.355224609375, 1350.710205078125, 1224.360107421875, 1165.815185546875, 1409.3299560546875, 2116.5498046875, 2357.135009765625, 2995.0703125, 5295.2119140625, 4957.90478515625, 3321.959228515625, 2221.18017578125, 1345.9000244140625, 1514.01513671875, 1239.5501708984375, 1172.159912109375, 1518.9752197265625, 1996.8751220703125, 2248.68505859375, 3053.440185546875, 5019.45361328125, 5466.7802734375, 3235.167724609375, 2157.97998046875, 1379.7252197265625, 1728.0400390625, 1350.10986328125, 1216.014892578125, 1751.3251953125, 1805.320068359375, 2570.02490234375, 3204.240234375, 5395.72021484375, 6078.82861328125, 3587.098388671875, 2285.195068359375, 1582.18994140625, 1787.4298095703125, 1554.8701171875, 1409.8648681640625, 1612.125, 2286.239990234375, 2913.755126953125, 3645.908447265625, 5956.70849609375, 6326.97509765625, 3914.66015625, 2617.675048828125, 1675.1650390625, 2139.219970703125, 1715.4898681640625, 1663.5799560546875, 2053.699951171875, 2354.929931640625, 3038.591796875, 3470.609375, 6606.18359375, 6587.63671875, 4133.78271484375, 2960.0244140625, 1762.5849609375, 2125.64013671875, 1815.9150390625, 1632.31494140625, 2210.39501953125, 2210.215087890625, 3099.269287109375, 3468.77783203125, 6482.92529296875, 6665.48486328125, 4006.36181640625, 2882.3349609375, 1775.2498779296875, 2171.64990234375, 1796.4749755859375, 1692.349853515625, 1949.78515625, 2680.630126953125, 2645.949951171875, 3414.742919921875, 5772.876953125]\n"
     ]
    }
   ],
   "source": [
    "print(exemplo_treino['start'])\n",
    "print(exemplo_treino['target'])"
   ]
  },
  {
   "cell_type": "code",
   "execution_count": 33,
   "id": "76bb2750",
   "metadata": {},
   "outputs": [
    {
     "data": {
      "text/plain": [
       "dict_keys(['start', 'target', 'feat_static_cat', 'feat_dynamic_real', 'item_id'])"
      ]
     },
     "execution_count": 33,
     "metadata": {},
     "output_type": "execute_result"
    }
   ],
   "source": [
    "exemplo_valid = dataset['validation'][0]\n",
    "exemplo_valid.keys()"
   ]
  },
  {
   "cell_type": "code",
   "execution_count": 34,
   "id": "4a19fd3b",
   "metadata": {},
   "outputs": [
    {
     "name": "stdout",
     "output_type": "stream",
     "text": [
      "1979-01-01 00:00:00\n",
      "[1149.8699951171875, 1053.8001708984375, 1388.8797607421875, 1783.3702392578125, 1921.025146484375, 2704.94482421875, 4184.41357421875, 4148.35400390625, 2620.72509765625, 1650.300048828125, 1115.9200439453125, 1370.6251220703125, 1096.31494140625, 978.4600219726562, 1294.68505859375, 1480.465087890625, 1748.865234375, 2216.920166015625, 4690.5185546875, 4682.8642578125, 2459.579833984375, 1484.4901123046875, 1028.985107421875, 1109.3648681640625, 960.8751220703125, 896.35009765625, 1118.6551513671875, 1619.9949951171875, 1847.994873046875, 2367.044921875, 4991.16015625, 4772.9443359375, 2894.678466796875, 1860.4801025390625, 1185.150146484375, 1313.659912109375, 1160.9150390625, 1061.5048828125, 1301.77001953125, 1794.3797607421875, 2106.455078125, 2789.034912109375, 4917.8466796875, 4994.4833984375, 3016.754150390625, 1941.505126953125, 1234.135009765625, 1378.72021484375, 1182.9749755859375, 1081.6600341796875, 1424.110107421875, 1774.5350341796875, 2115.420166015625, 2804.840087890625, 4849.498046875, 4937.47509765625, 3074.2236328125, 2063.42529296875, 1297.355224609375, 1350.710205078125, 1224.360107421875, 1165.815185546875, 1409.3299560546875, 2116.5498046875, 2357.135009765625, 2995.0703125, 5295.2119140625, 4957.90478515625, 3321.959228515625, 2221.18017578125, 1345.9000244140625, 1514.01513671875, 1239.5501708984375, 1172.159912109375, 1518.9752197265625, 1996.8751220703125, 2248.68505859375, 3053.440185546875, 5019.45361328125, 5466.7802734375, 3235.167724609375, 2157.97998046875, 1379.7252197265625, 1728.0400390625, 1350.10986328125, 1216.014892578125, 1751.3251953125, 1805.320068359375, 2570.02490234375, 3204.240234375, 5395.72021484375, 6078.82861328125, 3587.098388671875, 2285.195068359375, 1582.18994140625, 1787.4298095703125, 1554.8701171875, 1409.8648681640625, 1612.125, 2286.239990234375, 2913.755126953125, 3645.908447265625, 5956.70849609375, 6326.97509765625, 3914.66015625, 2617.675048828125, 1675.1650390625, 2139.219970703125, 1715.4898681640625, 1663.5799560546875, 2053.699951171875, 2354.929931640625, 3038.591796875, 3470.609375, 6606.18359375, 6587.63671875, 4133.78271484375, 2960.0244140625, 1762.5849609375, 2125.64013671875, 1815.9150390625, 1632.31494140625, 2210.39501953125, 2210.215087890625, 3099.269287109375, 3468.77783203125, 6482.92529296875, 6665.48486328125, 4006.36181640625, 2882.3349609375, 1775.2498779296875, 2171.64990234375, 1796.4749755859375, 1692.349853515625, 1949.78515625, 2680.630126953125, 2645.949951171875, 3414.742919921875, 5772.876953125, 6053.7041015625, 3878.12841796875, 2806.514892578125, 1735.5382080078125, 2128.919921875, 1608.01416015625, 1441.330078125, 2068.235107421875, 2207.610107421875, 2918.409912109375, 3400.81787109375, 6048.7421875, 6483.14013671875, 4063.502685546875, 2900.22998046875, 1907.094970703125, 2338.510009765625, 1787.1650390625, 1699.6451416015625, 1979.105224609375, 2824.260009765625, 3076.5048828125, 3402.5849609375, 5985.830078125]\n"
     ]
    }
   ],
   "source": [
    "print(exemplo_valid['start'])\n",
    "print(exemplo_valid['target'])"
   ]
  },
  {
   "cell_type": "code",
   "execution_count": 36,
   "id": "26f698ed",
   "metadata": {},
   "outputs": [],
   "source": [
    "# Vamos extrair um elemento de teste\n",
    "exemplo_teste = dataset['test'][0]"
   ]
  },
  {
   "cell_type": "code",
   "execution_count": 38,
   "id": "b2c82d5e",
   "metadata": {},
   "outputs": [
    {
     "name": "stdout",
     "output_type": "stream",
     "text": [
      "1979-01-01 00:00:00\n",
      "[1149.8699951171875, 1053.8001708984375, 1388.8797607421875, 1783.3702392578125, 1921.025146484375, 2704.94482421875, 4184.41357421875, 4148.35400390625, 2620.72509765625, 1650.300048828125, 1115.9200439453125, 1370.6251220703125, 1096.31494140625, 978.4600219726562, 1294.68505859375, 1480.465087890625, 1748.865234375, 2216.920166015625, 4690.5185546875, 4682.8642578125, 2459.579833984375, 1484.4901123046875, 1028.985107421875, 1109.3648681640625, 960.8751220703125, 896.35009765625, 1118.6551513671875, 1619.9949951171875, 1847.994873046875, 2367.044921875, 4991.16015625, 4772.9443359375, 2894.678466796875, 1860.4801025390625, 1185.150146484375, 1313.659912109375, 1160.9150390625, 1061.5048828125, 1301.77001953125, 1794.3797607421875, 2106.455078125, 2789.034912109375, 4917.8466796875, 4994.4833984375, 3016.754150390625, 1941.505126953125, 1234.135009765625, 1378.72021484375, 1182.9749755859375, 1081.6600341796875, 1424.110107421875, 1774.5350341796875, 2115.420166015625, 2804.840087890625, 4849.498046875, 4937.47509765625, 3074.2236328125, 2063.42529296875, 1297.355224609375, 1350.710205078125, 1224.360107421875, 1165.815185546875, 1409.3299560546875, 2116.5498046875, 2357.135009765625, 2995.0703125, 5295.2119140625, 4957.90478515625, 3321.959228515625, 2221.18017578125, 1345.9000244140625, 1514.01513671875, 1239.5501708984375, 1172.159912109375, 1518.9752197265625, 1996.8751220703125, 2248.68505859375, 3053.440185546875, 5019.45361328125, 5466.7802734375, 3235.167724609375, 2157.97998046875, 1379.7252197265625, 1728.0400390625, 1350.10986328125, 1216.014892578125, 1751.3251953125, 1805.320068359375, 2570.02490234375, 3204.240234375, 5395.72021484375, 6078.82861328125, 3587.098388671875, 2285.195068359375, 1582.18994140625, 1787.4298095703125, 1554.8701171875, 1409.8648681640625, 1612.125, 2286.239990234375, 2913.755126953125, 3645.908447265625, 5956.70849609375, 6326.97509765625, 3914.66015625, 2617.675048828125, 1675.1650390625, 2139.219970703125, 1715.4898681640625, 1663.5799560546875, 2053.699951171875, 2354.929931640625, 3038.591796875, 3470.609375, 6606.18359375, 6587.63671875, 4133.78271484375, 2960.0244140625, 1762.5849609375, 2125.64013671875, 1815.9150390625, 1632.31494140625, 2210.39501953125, 2210.215087890625, 3099.269287109375, 3468.77783203125, 6482.92529296875, 6665.48486328125, 4006.36181640625, 2882.3349609375, 1775.2498779296875, 2171.64990234375, 1796.4749755859375, 1692.349853515625, 1949.78515625, 2680.630126953125, 2645.949951171875, 3414.742919921875, 5772.876953125, 6053.7041015625, 3878.12841796875, 2806.514892578125, 1735.5382080078125, 2128.919921875, 1608.01416015625, 1441.330078125, 2068.235107421875, 2207.610107421875, 2918.409912109375, 3400.81787109375, 6048.7421875, 6483.14013671875, 4063.502685546875, 2900.22998046875, 1907.094970703125, 2338.510009765625, 1787.1650390625, 1699.6451416015625, 1979.105224609375, 2824.260009765625, 3076.5048828125, 3402.5849609375, 5985.830078125, 6611.115234375, 4150.2392578125, 2841.0, 1813.43994140625, 2261.080078125, 1873.60498046875, 1772.8399658203125, 2049.56494140625, 2932.264892578125, 3113.2548828125, 3461.5048828125, 6265.740234375, 6857.7998046875, 4346.08984375, 3154.72998046875, 2142.2099609375, 2375.72509765625, 1981.1099853515625, 1959.864990234375, 2466.31005859375, 2851.715087890625, 3671.804931640625, 3806.780029296875, 6995.0498046875]\n"
     ]
    }
   ],
   "source": [
    "print(exemplo_teste['start'])\n",
    "print(exemplo_teste['target'])"
   ]
  },
  {
   "cell_type": "code",
   "execution_count": 39,
   "id": "40d4fc8d",
   "metadata": {},
   "outputs": [
    {
     "data": {
      "text/plain": [
       "139"
      ]
     },
     "execution_count": 39,
     "metadata": {},
     "output_type": "execute_result"
    }
   ],
   "source": [
    "len(exemplo_treino['target'])"
   ]
  },
  {
   "cell_type": "code",
   "execution_count": 40,
   "id": "bb43e0fb",
   "metadata": {},
   "outputs": [
    {
     "data": {
      "text/plain": [
       "163"
      ]
     },
     "execution_count": 40,
     "metadata": {},
     "output_type": "execute_result"
    }
   ],
   "source": [
    "len(exemplo_valid['target'])"
   ]
  },
  {
   "cell_type": "code",
   "execution_count": 41,
   "id": "cf402044",
   "metadata": {},
   "outputs": [
    {
     "data": {
      "text/plain": [
       "187"
      ]
     },
     "execution_count": 41,
     "metadata": {},
     "output_type": "execute_result"
    }
   ],
   "source": [
    "len(exemplo_teste['target'])"
   ]
  },
  {
   "cell_type": "markdown",
   "id": "2094a620",
   "metadata": {},
   "source": [
    "## Visualização da série temporal"
   ]
  },
  {
   "cell_type": "code",
   "execution_count": 43,
   "id": "ea111f16",
   "metadata": {},
   "outputs": [],
   "source": [
    "# Frequência da série temporal (1 mês)\n",
    "freq = \"1M\"\n",
    "\n",
    "# Janela de previsão (24 meses)\n",
    "prediction_length = 24"
   ]
  },
  {
   "cell_type": "code",
   "execution_count": 46,
   "id": "d97331f8",
   "metadata": {},
   "outputs": [],
   "source": [
    "# Verifica se o comprimento dos dados de validação permite a janela de previsão\n",
    "assert len(exemplo_treino[\"target\"]) + prediction_length == len(exemplo_valid[\"target\"])"
   ]
  },
  {
   "cell_type": "code",
   "execution_count": 49,
   "id": "72e73f62",
   "metadata": {},
   "outputs": [
    {
     "data": {
      "image/png": "[encoded data removed]",
      "text/plain": [
       "<Figure size 640x480 with 1 Axes>"
      ]
     },
     "metadata": {},
     "output_type": "display_data"
    }
   ],
   "source": [
    "# Plot\n",
    "fig, ax = plt.subplots()\n",
    "ax.plot(exemplo_treino['target'], label='Treino')\n",
    "ax.plot(exemplo_valid[\"target\"], color = \"red\", alpha = 0.5)\n",
    "plt.show()"
   ]
  },
  {
   "cell_type": "markdown",
   "id": "34c7e21a",
   "metadata": {},
   "source": [
    "## Converter o formato de dados"
   ]
  },
  {
   "cell_type": "code",
   "execution_count": 50,
   "id": "0ae16e7b",
   "metadata": {},
   "outputs": [],
   "source": [
    "dataset_treino = dataset['train']\n",
    "dataset_teste = dataset['test'] "
   ]
  },
  {
   "cell_type": "code",
   "execution_count": 51,
   "id": "6ea036e2",
   "metadata": {},
   "outputs": [],
   "source": [
    "# Função para converter datas para períodos de datas\n",
    "def convert_to_period(date, freq: str):\n",
    "    return pd.Period(date, freq)"
   ]
  },
  {
   "cell_type": "code",
   "execution_count": null,
   "id": "0bfbeac2",
   "metadata": {},
   "outputs": [],
   "source": [
    "# Função para definir o início do batch de dados\n",
    "def define_start(batch, freq):\n",
    "    batch[\"start\"] = [convert_to_period(date, freq) for date in batch[\"start\"]]\n",
    "    return batch"
   ]
  },
  {
   "cell_type": "code",
   "execution_count": null,
   "id": "feb36b74",
   "metadata": {},
   "outputs": [],
   "source": [
    "# Ajusta os datasets das séries temporais no formato apropriado\n",
    "dataset_treino.set_transform(partial(define_start, freq = freq))\n",
    "dataset_teste.set_transform(partial(define_start, freq = freq))"
   ]
  },
  {
   "cell_type": "markdown",
   "id": "3b7b57e0",
   "metadata": {},
   "source": [
    "## TimeSeries Transformer Config\n",
    "\n",
    "https://huggingface.co/docs/transformers/en/model_doc/time_series_transformer\n",
    "\n",
    "A configuração define vários hiperparâmetros para o modelo. Descrição de cada hiperparâmetro:\n",
    "\n",
    "`prediction_length`: O número de etapas à frente que o modelo deve prever. Por exemplo, se você estiver trabalhando com dados diários e quiser prever uma semana à frente, o prediction_length seria 7.\n",
    "\n",
    "`context_length`: O número de pontos de dados anteriores que o modelo usará para fazer suas previsões. Neste caso, é definido como duas vezes o prediction_length.\n",
    "\n",
    "`lags_sequenc`: Esta é a sequência de atrasos de tempo (ou \"lags\") que o modelo usará. Lags são valores passados em uma série temporal. Por exemplo, em um modelo de regressão, você pode usar dados de um dia, uma semana e um mês atrás como entradas.\n",
    "\n",
    "`num_time_features`: O número de características temporais que o modelo usará. Características de tempo podem incluir itens como a hora do dia, dia da semana, mês do ano, etc.\n",
    "\n",
    "`num_static_categorical_features`: O número de características categóricas estáticas. Essas são características que não mudam com o tempo, como o ID de uma loja ou produto em previsões de vendas.\n",
    "\n",
    "`cardinality`: O número de valores possíveis para cada característica categórica. Aqui, há uma característica categórica com 366 valores possíveis.\n",
    "\n",
    "`embedding_dimension`: A dimensionalidade do espaço de incorporação para as características categóricas. Neste caso, cada um dos 366 possíveis valores categóricos será mapeado para um vetor de 2 dimensões.\n",
    "\n",
    "`encoder_layers` e `decoder_layers`: O número de camadas na codificador e decodificador do transformador, respectivamente.\n",
    "\n",
    "`d_model`: A dimensionalidade do espaço de entrada e saída para o transformador.\n",
    "\n",
    "\n",
    "Todos esses parâmetros serão usados para construir e treinar o modelo de transformador de séries temporais. A escolha desses hiperparâmetros pode ter um grande impacto na performance do modelo.\n"
   ]
  },
  {
   "cell_type": "code",
   "execution_count": null,
   "id": "46868413",
   "metadata": {},
   "outputs": [],
   "source": [
    "# TimeSeries Transformer Config\n",
    "config = TimeSeriesTransformerConfig(\n",
    "\n",
    "    # Comprimento de previsão\n",
    "    prediction_length = prediction_length,\n",
    "\n",
    "    # Comprimento do contexto\n",
    "    context_length = prediction_length * 2,\n",
    "\n",
    "    # Lags sequence\n",
    "    # \"Lags\" em séries temporais referem-se a pontos de dados anteriores em uma série de tempo.\n",
    "    # Em outras palavras, um \"lag\" é um atraso temporal. Por exemplo, em uma série temporal mensal, o \"lag\"\n",
    "    # de um mês refere-se aos dados do mês anterior.\n",
    "    lags_sequence = get_lags_for_frequency(freq),\n",
    "\n",
    "    # Adicionaremos 2 características de tempo (\"mês do ano\" e \"idade da série\"):\n",
    "    num_time_features = lsen(time_features_from_frequency_str(freq)) + 1,\n",
    "\n",
    "    # Temos um único recurso categórico estático, ou seja, o ID da série temporal\n",
    "    num_static_categorical_features = 1,\n",
    "\n",
    "    # Temos 366 valores possíveis\n",
    "    cardinality = [len(dataset_treino)],\n",
    "\n",
    "    # O modelo receberá uma embedding de tamanho 2 para cada um dos 366 valores possíveis:\n",
    "    embedding_dimension = [2],\n",
    "\n",
    "    # Parâmetros da rede neural do Transformer\n",
    "    encoder_layers = 4,\n",
    "    decoder_layers = 4,\n",
    "    d_model = 32,\n",
    ")"
   ]
  }
 ],
 "metadata": {
  "kernelspec": {
   "display_name": "Python 3",
   "language": "python",
   "name": "python3"
  },
  "language_info": {
   "codemirror_mode": {
    "name": "ipython",
    "version": 3
   },
   "file_extension": ".py",
   "mimetype": "text/x-python",
   "name": "python",
   "nbconvert_exporter": "python",
   "pygments_lexer": "ipython3",
   "version": "3.10.12"
  }
 },
 "nbformat": 4,
 "nbformat_minor": 5
}
