{
  "cells": [
    {
      "cell_type": "markdown",
      "id": "1ef2fd3a",
      "metadata": {
        "id": "1ef2fd3a"
      },
      "source": [
        "# Matemática da Arquitetura Transformer na Análise e Forecast de Séries Temporais\n",
        "\n",
        "https://arxiv.org/abs/1706.03762\n",
        "\n",
        "HuggingFace como fonte de dados e do modelo pré-treinado.\n",
        "\n",
        "https://huggingface.co/"
      ]
    },
    {
      "cell_type": "markdown",
      "id": "1e540c87",
      "metadata": {
        "id": "1e540c87"
      },
      "source": [
        "## Instalar e carregar pacotes"
      ]
    },
    {
      "cell_type": "code",
      "execution_count": null,
      "id": "e967a677",
      "metadata": {
        "id": "e967a677"
      },
      "outputs": [],
      "source": [
        "!pip install -q transformers==4.37.2"
      ]
    },
    {
      "cell_type": "code",
      "execution_count": null,
      "id": "68b3b91b",
      "metadata": {
        "colab": {
          "base_uri": "https://localhost:8080/"
        },
        "id": "68b3b91b",
        "outputId": "f0b1614e-59a9-4207-f19d-1faff526ec71"
      },
      "outputs": [],
      "source": [
        "!pip install -q datasets==2.16.1"
      ]
    },
    {
      "cell_type": "code",
      "execution_count": null,
      "id": "32a6c5a3",
      "metadata": {
        "colab": {
          "base_uri": "https://localhost:8080/"
        },
        "id": "32a6c5a3",
        "outputId": "67f65d7f-d70f-4b89-c0d2-a655398e8678"
      },
      "outputs": [],
      "source": [
        "!pip install -q evaluate==0.4.1"
      ]
    },
    {
      "cell_type": "code",
      "execution_count": null,
      "id": "6fc8f0cc",
      "metadata": {
        "colab": {
          "base_uri": "https://localhost:8080/"
        },
        "id": "6fc8f0cc",
        "outputId": "dfd0a3dd-7ec0-48a3-aac3-0f12eac03c11"
      },
      "outputs": [],
      "source": [
        "!pip install -q accelerate==0.26.1"
      ]
    },
    {
      "cell_type": "code",
      "execution_count": null,
      "id": "6b687614",
      "metadata": {
        "colab": {
          "base_uri": "https://localhost:8080/"
        },
        "id": "6b687614",
        "outputId": "7e571fef-c577-4b46-cf36-9e6ff7d1f6d2"
      },
      "outputs": [],
      "source": [
        "!pip install -q -U gluonts==0.16.2"
      ]
    },
    {
      "cell_type": "markdown",
      "id": "2e5d366b",
      "metadata": {
        "id": "2e5d366b"
      },
      "source": [
        "https://ts.gluon.ai"
      ]
    },
    {
      "cell_type": "code",
      "execution_count": null,
      "id": "41e3c95a",
      "metadata": {
        "colab": {
          "base_uri": "https://localhost:8080/"
        },
        "id": "41e3c95a",
        "outputId": "1f4a645d-3838-4e90-9e52-e960f5f0142a"
      },
      "outputs": [],
      "source": [
        "!pip install -q ujson==5.4.0"
      ]
    },
    {
      "cell_type": "code",
      "execution_count": null,
      "id": "13c797c2",
      "metadata": {
        "colab": {
          "base_uri": "https://localhost:8080/"
        },
        "id": "13c797c2",
        "outputId": "d1f714c0-a000-476f-a6a2-22f6ca266c9d"
      },
      "outputs": [],
      "source": [
        "!pip install -q urllib3==1.26.16"
      ]
    },
    {
      "cell_type": "code",
      "execution_count": null,
      "id": "4fddaabb",
      "metadata": {
        "colab": {
          "base_uri": "https://localhost:8080/"
        },
        "id": "4fddaabb",
        "outputId": "80e34bfc-395b-48ab-84b3-54bc871d79cf"
      },
      "outputs": [],
      "source": [
        "%env TF_CPP_MIN_LOG_LEVEL=3"
      ]
    },
    {
      "cell_type": "code",
      "execution_count": null,
      "id": "364378d7",
      "metadata": {
        "id": "364378d7"
      },
      "outputs": [],
      "source": [
        "# Ajusta problema de performance do TensorFlow em CPUs Intel\n",
        "import os\n",
        "os.environ['TF_ENABLE_ONEDNN_OPTS'] = '0'"
      ]
    },
    {
      "cell_type": "code",
      "execution_count": null,
      "id": "598d6979",
      "metadata": {
        "id": "598d6979"
      },
      "outputs": [],
      "source": [
        "# Ajusta problema de performance do PyTorch\n",
        "os.environ['PYTORCH_ENABLE_MPS_FALLBACK'] = '1'"
      ]
    },
    {
      "cell_type": "code",
      "execution_count": null,
      "id": "f2cc746a",
      "metadata": {
        "id": "f2cc746a"
      },
      "outputs": [],
      "source": [
        "# Imports\n",
        "import ujson\n",
        "import urllib3\n",
        "import evaluate\n",
        "import torch\n",
        "import transformers\n",
        "import accelerate\n",
        "import gluonts\n",
        "import pandas as pd\n",
        "import numpy as np\n",
        "from datasets import load_dataset\n",
        "import matplotlib.pyplot as plt\n",
        "import matplotlib.dates as mdates\n",
        "from functools import lru_cache\n",
        "from functools import partial\n",
        "from transformers import TimeSeriesTransformerConfig, TimeSeriesTransformerForPrediction\n",
        "from transformers import PretrainedConfig\n",
        "from typing import Optional\n",
        "from accelerate import Accelerator\n",
        "from torch.optim import AdamW\n",
        "from evaluate import load\n",
        "from typing import Iterable\n",
        "from gluonts.itertools import Cached, Cyclic\n",
        "from gluonts.dataset.loader import as_stacked_batches\n",
        "from gluonts.time_feature import get_seasonality\n",
        "from gluonts.time_feature import get_lags_for_frequency\n",
        "from gluonts.time_feature import time_features_from_frequency_str\n",
        "from gluonts.transform.sampler import InstanceSampler\n",
        "from gluonts.time_feature import (time_features_from_frequency_str, TimeFeature, get_lags_for_frequency)\n",
        "from gluonts.dataset.field_names import FieldName\n",
        "from gluonts.transform import (\n",
        "    AddAgeFeature,\n",
        "    AddObservedValuesIndicator,\n",
        "    AddTimeFeatures,\n",
        "    AsNumpyArray,\n",
        "    Chain,\n",
        "    ExpectedNumInstanceSampler,\n",
        "    InstanceSplitter,\n",
        "    RemoveFields,\n",
        "    SelectFields,\n",
        "    SetField,\n",
        "    TestSplitSampler,\n",
        "    Transformation,\n",
        "    ValidationSplitSampler,\n",
        "    VstackFeatures,\n",
        "    RenameFields,\n",
        ")\n",
        "import warnings\n",
        "warnings.filterwarnings('ignore')"
      ]
    },
    {
      "cell_type": "markdown",
      "id": "568d97e8",
      "metadata": {
        "id": "568d97e8"
      },
      "source": [
        "## Dados\n",
        "https://huggingface.co/datasets/Monash-University/monash_tsf"
      ]
    },
    {
      "cell_type": "code",
      "execution_count": null,
      "id": "0ecb7157",
      "metadata": {
        "colab": {
          "base_uri": "https://localhost:8080/",
          "height": 484,
          "referenced_widgets": [
            "a1740f3993fc4751852961586e04c343",
            "41c8f49f0ae3430e8eb8d2aea09d9abe",
            "e36a5e3bed784205b304040dbf1c040c",
            "a48f222da37f48f8b624b74db101fb7b",
            "c6174a1080ec4dca9227db489d1d02ba",
            "30139f472cbc4bcf83e41767dbb7b30f",
            "abe46c88cf1045f0ae8f3e264045672a",
            "ad01991f9d5f4e63861f51afb6f2f26b",
            "ed76f4b8a66d4ea089bf28a5943420b6",
            "63f84b6a642c4660ac5392292c56688a",
            "bcecbe178f584f1bb17ccb30e91cea2b",
            "e241ce636e274cab96c5f1a127ae125a",
            "4a1b09c9a086482ea823fdc5542ade43",
            "c205288669c84aee85c134a625a497d8",
            "9d85263290be4f89824f1a847292dc58",
            "21af52bfba4445639f48983bba304bcf",
            "7e4215d55fa644afa9b182e3de5f725f",
            "7cf84b7e83004f1db426ce23b74f6e4c",
            "efe371479bf9498ba76c6607675d71ba",
            "f9fa200b1d02400ab28ffdf0ce877bfa",
            "2fad8d1620f84e3caf14549131b35b4d",
            "727d70451c1d4153b99713ad64fe73ff",
            "e28a7b3cd70940099188389419e580a5",
            "236ccdfee92844cf87bf91a7154affab",
            "0cb35c13bd144c1aa9d142aba609a87b",
            "732e2c04d8184f10bb5ae8ba2bc0965f",
            "55757f31a7c4493cad694e7853f0484a",
            "a1fda800841146f3a14fef5738e43a47",
            "b8b974b1d23a42d499b7b4c29090fe5d",
            "e5505a103dac4a2d99e3082671414f37",
            "ccf71b987038451ab96ced8db505d31a",
            "dfd8116086ba43e7926a023831da19cb",
            "40f46fe05cb74defb20996997a55629b",
            "12fa78ca7c3a4c198988a77d1896a495",
            "ca4aa980460e4fb685a132b7e806c92b",
            "ad122840f3f242bbadf0f3c2f3d453d6",
            "6e834837c3824689b718dc842c9ab0b8",
            "8f65c8bdc5e44d83a40ce79ba49edfc4",
            "75ab440b45cd4bdaa5171b618f89c728",
            "fcd05520e8734a99bffd7ed641c9bfd5",
            "13485402761c45058a7a99df29113806",
            "73f9b57798aa4b34a7f34c50e67fcb67",
            "9c38ac4311b240fa859b51483ee59ce9",
            "a2a7473cb24a4709b25bae7da2e5c8ed",
            "d2d6861e2eec440ebe1a08e21e257e80",
            "4bb0bf6f36e144f89c2b45d7101313f3",
            "11166a36c0694e99979732f0a685969b",
            "fecda26ace98424f8c2474b367fa2fd9",
            "579c47f7cd074348b8f8e53b39b50054",
            "9181e8eaedee4cea92363bb69fb3a504",
            "11c07d1187a14ac09e6313f94d105fdc",
            "b0eb19393e5d4f1fa26bca2c6d2c5493",
            "a45ee3bfc99d451e9767a7aca0bb76b3",
            "e8bda38d34ba424bba1a4f42b7015744",
            "f9d88a73cb2c412a8e869a454e077c6d",
            "0db9491c73f0447ca74124e9972fcfb3",
            "4ac460790fda41109132664b5f61378e",
            "76e12bfad3ac4158932e1dd1b8f59781",
            "4a4aba47781d4fbc856256b8ddb8efe8",
            "c4e65e69b59e4e428a2c4e3df4cbc3ae",
            "d0807842d0b14043aaf4802008e38de7",
            "91084b9745954a4fa50bbf8098f706e4",
            "bbd34b0b011145dba0c58025c8b26715",
            "768bae25b0d6428c87bc65a3a0a9e208",
            "1524be3b1c984077b2c65719ded484d6",
            "aa336d40741343289e83ea7df5408144",
            "b34232b36c7146779dd4b626087d5deb",
            "a6690b34fb914b9e843048116aafced2",
            "7fe30403abd24a7ebd510be23ae35395",
            "883e28e261c040adb92186035deeded2",
            "72b4e29eced94d898c203960da19f994",
            "d3f850bef08b4d0a8f312c2f9a937b75",
            "1b6b07ab4dc242e5a69e1d84da1db430",
            "a769e2fd5d4e4b309c24b7a5ba6a7e36",
            "0d68ae84e866476187036dc9db3df374",
            "8b43cdcc8a7d40ccaf29a76d9a864bbe",
            "5715092bcfee4e58a0fc87e109ee6303"
          ]
        },
        "id": "0ecb7157",
        "outputId": "5c01b468-f28a-45fe-e76a-ba395294d988"
      },
      "outputs": [],
      "source": [
        "dataset = load_dataset(\"monash_tsf\", \"tourism_monthly\")\n",
        "dataset"
      ]
    },
    {
      "cell_type": "code",
      "execution_count": null,
      "id": "c7a734be",
      "metadata": {
        "colab": {
          "base_uri": "https://localhost:8080/"
        },
        "id": "c7a734be",
        "outputId": "6a5da86d-18ad-407a-8d47-f0ab4cc51d8e"
      },
      "outputs": [],
      "source": [
        "dataset['train']"
      ]
    },
    {
      "cell_type": "code",
      "execution_count": null,
      "id": "4efc1141",
      "metadata": {
        "colab": {
          "base_uri": "https://localhost:8080/"
        },
        "id": "4efc1141",
        "outputId": "9efacfe0-4718-4905-edc8-0c31fc428dc1"
      },
      "outputs": [],
      "source": [
        "exemplo_treino = dataset['train'][0]\n",
        "type(exemplo_treino)"
      ]
    },
    {
      "cell_type": "code",
      "execution_count": null,
      "id": "319684b6",
      "metadata": {
        "colab": {
          "base_uri": "https://localhost:8080/"
        },
        "id": "319684b6",
        "outputId": "70f0908e-428b-4898-e0d5-c6ba572481e3"
      },
      "outputs": [],
      "source": [
        "exemplo_treino.keys()"
      ]
    },
    {
      "cell_type": "code",
      "execution_count": null,
      "id": "73a5b346",
      "metadata": {
        "colab": {
          "base_uri": "https://localhost:8080/"
        },
        "id": "73a5b346",
        "outputId": "f3348aef-2b47-4cae-c7e9-f9e3962395d6"
      },
      "outputs": [],
      "source": [
        "print(exemplo_treino['start'])\n",
        "print(exemplo_treino['target'])"
      ]
    },
    {
      "cell_type": "code",
      "execution_count": null,
      "id": "76bb2750",
      "metadata": {
        "colab": {
          "base_uri": "https://localhost:8080/"
        },
        "id": "76bb2750",
        "outputId": "938543c7-9546-4b1e-8070-e1f2bec8808f"
      },
      "outputs": [],
      "source": [
        "exemplo_valid = dataset['validation'][0]\n",
        "exemplo_valid.keys()"
      ]
    },
    {
      "cell_type": "code",
      "execution_count": null,
      "id": "4a19fd3b",
      "metadata": {
        "colab": {
          "base_uri": "https://localhost:8080/"
        },
        "id": "4a19fd3b",
        "outputId": "a5084e5e-3f23-4b0a-cb1d-dfec39ac29b4"
      },
      "outputs": [],
      "source": [
        "print(exemplo_valid['start'])\n",
        "print(exemplo_valid['target'])"
      ]
    },
    {
      "cell_type": "code",
      "execution_count": null,
      "id": "26f698ed",
      "metadata": {
        "id": "26f698ed"
      },
      "outputs": [],
      "source": [
        "# Vamos extrair um elemento de teste\n",
        "exemplo_teste = dataset['test'][0]"
      ]
    },
    {
      "cell_type": "code",
      "execution_count": null,
      "id": "b2c82d5e",
      "metadata": {
        "colab": {
          "base_uri": "https://localhost:8080/"
        },
        "id": "b2c82d5e",
        "outputId": "d49c2a82-6054-408e-fad5-a667b4b93a9f"
      },
      "outputs": [],
      "source": [
        "print(exemplo_teste['start'])\n",
        "print(exemplo_teste['target'])"
      ]
    },
    {
      "cell_type": "code",
      "execution_count": null,
      "id": "40d4fc8d",
      "metadata": {
        "colab": {
          "base_uri": "https://localhost:8080/"
        },
        "id": "40d4fc8d",
        "outputId": "6efafef9-ffd3-48b5-8671-a7f0bd7c743c"
      },
      "outputs": [],
      "source": [
        "len(exemplo_treino['target'])"
      ]
    },
    {
      "cell_type": "code",
      "execution_count": null,
      "id": "bb43e0fb",
      "metadata": {
        "colab": {
          "base_uri": "https://localhost:8080/"
        },
        "id": "bb43e0fb",
        "outputId": "3006cf14-1d36-41aa-e45b-5999e24ef855"
      },
      "outputs": [],
      "source": [
        "len(exemplo_valid['target'])"
      ]
    },
    {
      "cell_type": "code",
      "execution_count": null,
      "id": "cf402044",
      "metadata": {
        "colab": {
          "base_uri": "https://localhost:8080/"
        },
        "id": "cf402044",
        "outputId": "79953e1e-d978-4a4f-fffe-7c2ddd9354bc"
      },
      "outputs": [],
      "source": [
        "len(exemplo_teste['target'])"
      ]
    },
    {
      "cell_type": "markdown",
      "id": "2094a620",
      "metadata": {
        "id": "2094a620"
      },
      "source": [
        "## Visualização da série temporal"
      ]
    },
    {
      "cell_type": "code",
      "execution_count": null,
      "id": "ea111f16",
      "metadata": {
        "id": "ea111f16"
      },
      "outputs": [],
      "source": [
        "# Frequência da série temporal (1 mês)\n",
        "freq = \"1M\"\n",
        "\n",
        "# Janela de previsão (24 meses)\n",
        "prediction_length = 24"
      ]
    },
    {
      "cell_type": "code",
      "execution_count": null,
      "id": "d97331f8",
      "metadata": {
        "id": "d97331f8"
      },
      "outputs": [],
      "source": [
        "# Verifica se o comprimento dos dados de validação permite a janela de previsão\n",
        "assert len(exemplo_treino[\"target\"]) + prediction_length == len(exemplo_valid[\"target\"])"
      ]
    },
    {
      "cell_type": "code",
      "execution_count": null,
      "id": "72e73f62",
      "metadata": {
        "colab": {
          "base_uri": "https://localhost:8080/",
          "height": 430
        },
        "id": "72e73f62",
        "outputId": "13467538-02a8-421e-940f-1d15dca0c4b8"
      },
      "outputs": [],
      "source": [
        "# Plot\n",
        "fig, ax = plt.subplots()\n",
        "ax.plot(exemplo_treino['target'], label='Treino')\n",
        "ax.plot(exemplo_valid[\"target\"], color = \"red\", alpha = 0.5)\n",
        "plt.show()"
      ]
    },
    {
      "cell_type": "markdown",
      "id": "34c7e21a",
      "metadata": {
        "id": "34c7e21a"
      },
      "source": [
        "## Converter o formato de dados"
      ]
    },
    {
      "cell_type": "code",
      "execution_count": null,
      "id": "0ae16e7b",
      "metadata": {
        "id": "0ae16e7b"
      },
      "outputs": [],
      "source": [
        "dataset_treino = dataset['train']\n",
        "dataset_teste = dataset['test']"
      ]
    },
    {
      "cell_type": "code",
      "execution_count": null,
      "id": "6ea036e2",
      "metadata": {
        "id": "6ea036e2"
      },
      "outputs": [],
      "source": [
        "# Função para converter datas para períodos de datas\n",
        "def convert_to_period(date, freq: str):\n",
        "    return pd.Period(date, freq)"
      ]
    },
    {
      "cell_type": "code",
      "execution_count": null,
      "id": "0bfbeac2",
      "metadata": {
        "id": "0bfbeac2"
      },
      "outputs": [],
      "source": [
        "# Função para definir o início do batch de dados\n",
        "def define_start(batch, freq):\n",
        "    batch[\"start\"] = [convert_to_period(date, freq) for date in batch[\"start\"]]\n",
        "    return batch"
      ]
    },
    {
      "cell_type": "code",
      "execution_count": null,
      "id": "feb36b74",
      "metadata": {
        "id": "feb36b74"
      },
      "outputs": [],
      "source": [
        "# Ajusta os datasets das séries temporais no formato apropriado\n",
        "dataset_treino.set_transform(partial(define_start, freq = freq))\n",
        "dataset_teste.set_transform(partial(define_start, freq = freq))"
      ]
    },
    {
      "cell_type": "markdown",
      "id": "3b7b57e0",
      "metadata": {
        "id": "3b7b57e0"
      },
      "source": [
        "## TimeSeries Transformer Config\n",
        "\n",
        "https://huggingface.co/docs/transformers/en/model_doc/time_series_transformer\n",
        "\n",
        "A configuração define vários hiperparâmetros para o modelo. Descrição de cada hiperparâmetro:\n",
        "\n",
        "`prediction_length`: O número de etapas à frente que o modelo deve prever. Por exemplo, se você estiver trabalhando com dados diários e quiser prever uma semana à frente, o prediction_length seria 7.\n",
        "\n",
        "`context_length`: O número de pontos de dados anteriores que o modelo usará para fazer suas previsões. Neste caso, é definido como duas vezes o prediction_length.\n",
        "\n",
        "`lags_sequenc`: Esta é a sequência de atrasos de tempo (ou \"lags\") que o modelo usará. Lags são valores passados em uma série temporal. Por exemplo, em um modelo de regressão, você pode usar dados de um dia, uma semana e um mês atrás como entradas.\n",
        "\n",
        "`num_time_features`: O número de características temporais que o modelo usará. Características de tempo podem incluir itens como a hora do dia, dia da semana, mês do ano, etc.\n",
        "\n",
        "`num_static_categorical_features`: O número de características categóricas estáticas. Essas são características que não mudam com o tempo, como o ID de uma loja ou produto em previsões de vendas.\n",
        "\n",
        "`cardinality`: O número de valores possíveis para cada característica categórica. Aqui, há uma característica categórica com 366 valores possíveis.\n",
        "\n",
        "`embedding_dimension`: A dimensionalidade do espaço de incorporação para as características categóricas. Neste caso, cada um dos 366 possíveis valores categóricos será mapeado para um vetor de 2 dimensões.\n",
        "\n",
        "`encoder_layers` e `decoder_layers`: O número de camadas na codificador e decodificador do transformador, respectivamente.\n",
        "\n",
        "`d_model`: A dimensionalidade do espaço de entrada e saída para o transformador.\n",
        "\n",
        "\n",
        "Todos esses parâmetros serão usados para construir e treinar o modelo de transformador de séries temporais. A escolha desses hiperparâmetros pode ter um grande impacto na performance do modelo.\n"
      ]
    },
    {
      "cell_type": "code",
      "execution_count": null,
      "id": "46868413",
      "metadata": {
        "id": "46868413"
      },
      "outputs": [],
      "source": [
        "# TimeSeries Transformer Config\n",
        "config = TimeSeriesTransformerConfig(\n",
        "\n",
        "    # Comprimento de previsão\n",
        "    prediction_length = prediction_length,\n",
        "\n",
        "    # Comprimento do contexto\n",
        "    context_length = prediction_length * 2,\n",
        "\n",
        "    # Lags sequence\n",
        "    # \"Lags\" em séries temporais referem-se a pontos de dados anteriores em uma série de tempo.\n",
        "    # Em outras palavras, um \"lag\" é um atraso temporal. Por exemplo, em uma série temporal mensal, o \"lag\"\n",
        "    # de um mês refere-se aos dados do mês anterior.\n",
        "    lags_sequence = get_lags_for_frequency(freq),\n",
        "\n",
        "    # Adicionaremos 2 características de tempo (\"mês do ano\" e \"idade da série\"):\n",
        "    num_time_features = len(time_features_from_frequency_str(freq)) + 1,\n",
        "\n",
        "    # Temos um único recurso categórico estático, ou seja, o ID da série temporal\n",
        "    num_static_categorical_features = 1,\n",
        "\n",
        "    # Temos 366 valores possíveis\n",
        "    cardinality = [len(dataset_treino)],\n",
        "\n",
        "    # O modelo receberá uma embedding de tamanho 2 para cada um dos 366 valores possíveis:\n",
        "    embedding_dimension = [2],\n",
        "\n",
        "    # Parâmetros da rede neural do Transformer\n",
        "    encoder_layers = 4,\n",
        "    decoder_layers = 4,\n",
        "    d_model = 32,\n",
        ")"
      ]
    },
    {
      "cell_type": "markdown",
      "id": "20935b0f",
      "metadata": {
        "id": "20935b0f"
      },
      "source": [
        "### Matemática do Modelo Transformer\n",
        "\n",
        "https://arxiv.org/pdf/1706.03762.pdf\n",
        "\n",
        "Vamos descrever as partes do modelo Transformer com algumas fórmulas. Os termos a seguir serão úteis para entender os cálculos.\n",
        "\n",
        "- Q: vetor de consulta\n",
        "- K: vetor de chave\n",
        "- V: vetor de valor\n",
        "\n",
        "As fórmulas para o mecanismo de atenção no Transformer são as seguintes:\n",
        "\n",
        "1- Atenção Escalada por Produto Escalar\n",
        "\n",
        "A função de atenção é usada para calcular a importância de diferentes partes da entrada. Ela recebe três entradas: Q, K e V. A saída é calculada como:\n",
        "\n",
        "**Attention(Q, K, V) = softmax((QK^T) / sqrt(d_k))V**\n",
        "\n",
        "onde d_k é a dimensão dos vetores-chave e o operador ^T indica a transposição de uma matriz. A operação de produto escalar entre Q e K ajuda a determinar a relevância entre cada par de consulta e chave. O resultado é então dividido pela raiz quadrada de d_k para evitar que os valores do produto escalar fiquem muito grandes. Por fim, a função softmax é aplicada para transformar os pesos em probabilidades que somam 1. Esses pesos são então usados para ponderar os vetores de valor.\n",
        "\n",
        "2- Atenção Multi-cabeça\n",
        "\n",
        "A atenção multi-cabeça permite que o modelo se concentre em diferentes partes da entrada para cada cabeça de atenção. Suponha que temos h cabeças de atenção. Para cada cabeça, primeiro transformamos Q, K e V com diferentes pesos aprendidos:\n",
        "\n",
        "- Q_i = QW^Q_i\n",
        "- K_i = KW^K_i\n",
        "- V_i = VW^V_i\n",
        "\n",
        "onde W^Q_i, W^K_i e W^V_i são os pesos aprendidos para a i-ésima cabeça.\n",
        "\n",
        "Em seguida, aplicamos a atenção escalada por produto escalar para cada conjunto de Q_i, K_i e V_i:\n",
        "\n",
        "**head_i = Attention(Q_i, K_i, V_i)**\n",
        "\n",
        "A saída de todas as cabeças é então concatenada e linearmente transformada para produzir a saída final:\n",
        "\n",
        "**MultiHead(Q, K, V) = Concat(head_1, ..., head_h)W^O**\n",
        "\n",
        "onde W^O é uma matriz de pesos aprendida.\n",
        "\n",
        "3- Codificador e Decodificador\n",
        "\n",
        "No codificador, cada camada consiste em atenção multi-cabeça seguida por uma rede neural feed-forward. A entrada passa pela atenção multi-cabeça e é então somada à entrada original (conexão residual) e normalizada. O resultado passa pela rede feed-forward, é somado à entrada e normalizado novamente.\n",
        "\n",
        "No decodificador, temos uma camada adicional de atenção multi-cabeça que leva a saída do codificador como K e V. Isso permite que o decodificador leve em consideração a entrada inteira ao produzir cada token de saída."
      ]
    },
    {
      "cell_type": "code",
      "execution_count": null,
      "id": "6355183f",
      "metadata": {
        "id": "6355183f"
      },
      "outputs": [],
      "source": [
        "modelo = TimeSeriesTransformerForPrediction(config)"
      ]
    },
    {
      "cell_type": "markdown",
      "id": "20e8c476",
      "metadata": {
        "id": "20e8c476"
      },
      "source": [
        "### Pré-processamento dos dados"
      ]
    },
    {
      "cell_type": "code",
      "execution_count": null,
      "id": "c0c72583",
      "metadata": {
        "id": "c0c72583"
      },
      "outputs": [],
      "source": [
        "# Função para criar a transformação (sequência de dados)\n",
        "def cria_transformacao(freq: str, config: PretrainedConfig) -> Transformation:\n",
        "\n",
        "    remove_field_names = []\n",
        "\n",
        "    if config.num_static_real_features == 0:\n",
        "        remove_field_names.append(FieldName.FEAT_STATIC_REAL)\n",
        "\n",
        "    if config.num_dynamic_real_features == 0:\n",
        "        remove_field_names.append(FieldName.FEAT_DYNAMIC_REAL)\n",
        "\n",
        "    if config.num_static_categorical_features == 0:\n",
        "        remove_field_names.append(FieldName.FEAT_STATIC_CAT)\n",
        "\n",
        "    return Chain(\n",
        "\n",
        "        # Passo 1: Remove campos estáticos/dinâmicos se não for especificado\n",
        "        [RemoveFields(field_names = remove_field_names)]\n",
        "\n",
        "        # Passo 2: Converte os dados para formato NumPy\n",
        "        + (\n",
        "            [\n",
        "                AsNumpyArray(field = FieldName.FEAT_STATIC_CAT, expected_ndim = 1, dtype = int)\n",
        "            ]\n",
        "            if config.num_static_categorical_features > 0\n",
        "            else []\n",
        "        )\n",
        "        + (\n",
        "            [\n",
        "                AsNumpyArray(field = FieldName.FEAT_STATIC_REAL, expected_ndim = 1)\n",
        "            ]\n",
        "            if config.num_static_real_features > 0\n",
        "            else []\n",
        "        )\n",
        "        + [\n",
        "            AsNumpyArray(field = FieldName.TARGET, expected_ndim = 1 if config.input_size == 1 else 2,\n",
        "            ),\n",
        "\n",
        "            # Passo 3: Trata os NaN's preenchendo o alvo com zero e retornando a máscara\n",
        "            AddObservedValuesIndicator(target_field = FieldName.TARGET, output_field = FieldName.OBSERVED_VALUES),\n",
        "\n",
        "            # Passo 4: Adiciona recursos temporais com base na freq do mês do ano do conjunto de dados\n",
        "            # no caso em que freq=\"M\" eles servem como codificações posicionais\n",
        "            AddTimeFeatures(\n",
        "                start_field = FieldName.START,\n",
        "                target_field = FieldName.TARGET,\n",
        "                output_field = FieldName.FEAT_TIME,\n",
        "                time_features = time_features_from_frequency_str(freq),\n",
        "                pred_length = config.prediction_length,\n",
        "            ),\n",
        "\n",
        "            # Passo 5: Adiciona outro recurso temporal (apenas um único número)\n",
        "            # Informa ao modelo onde está o valor da série temporal, uma espécie de contador em execução\n",
        "            AddAgeFeature(\n",
        "                target_field = FieldName.TARGET,\n",
        "                output_field = FieldName.FEAT_AGE,\n",
        "                pred_length = config.prediction_length,\n",
        "                log_scale = True,\n",
        "            ),\n",
        "\n",
        "            # Passo 6: Empilha verticalmente todos os recursos temporais na chave FEAT_TIME\n",
        "            VstackFeatures(\n",
        "                output_field = FieldName.FEAT_TIME,\n",
        "                input_fields = [FieldName.FEAT_TIME, FieldName.FEAT_AGE]\n",
        "                + (\n",
        "                    [FieldName.FEAT_DYNAMIC_REAL]\n",
        "                    if config.num_dynamic_real_features > 0\n",
        "                    else []\n",
        "                ),\n",
        "            ),\n",
        "\n",
        "            # Passo 7: Renomeia para corresponder aos nomes no dataset extraído do HuggingFace\n",
        "            RenameFields(\n",
        "                mapping = {\n",
        "                    FieldName.FEAT_STATIC_CAT: \"static_categorical_features\",\n",
        "                    FieldName.FEAT_STATIC_REAL: \"static_real_features\",\n",
        "                    FieldName.FEAT_TIME: \"time_features\",\n",
        "                    FieldName.TARGET: \"values\",\n",
        "                    FieldName.OBSERVED_VALUES: \"observed_mask\",\n",
        "                }\n",
        "            ),\n",
        "        ]\n",
        "    )"
      ]
    },
    {
      "cell_type": "markdown",
      "id": "JAeoS1qHueoE",
      "metadata": {
        "id": "JAeoS1qHueoE"
      },
      "source": []
    },
    {
      "cell_type": "markdown",
      "id": "9oLJzxMpuuXJ",
      "metadata": {
        "id": "9oLJzxMpuuXJ"
      },
      "source": [
        "## Divisão nas Amostras de Treino, Validação e Teste"
      ]
    },
    {
      "cell_type": "code",
      "execution_count": null,
      "id": "hWSMVYU9u62r",
      "metadata": {
        "id": "hWSMVYU9u62r"
      },
      "outputs": [],
      "source": [
        "# Define uma função para criar um divisor de instâncias e separar os dados em conjuntos de treino, validação e teste\n",
        "def create_instance_splitter(\n",
        "    config: PretrainedConfig,\n",
        "    mode: str,\n",
        "    train_sampler: Optional[InstanceSampler] = None,\n",
        "    validation_sampler: Optional[InstanceSampler] = None,\n",
        ") -> Transformation:\n",
        "\n",
        "    # Garante que o modo especificado seja um dos modos aceitos: treino, validação ou teste\n",
        "    assert mode in [\"train\", \"validation\", \"test\"]\n",
        "\n",
        "    # Define um dicionário mapeando cada modo para um sampler específico ou utiliza samplers padrões baseados na configuração\n",
        "    instance_sampler = {\n",
        "        \"train\": train_sampler\n",
        "        or ExpectedNumInstanceSampler(\n",
        "\n",
        "            # Sampler para treino, esperando um número específico de instâncias com um mínimo de pontos futuros\n",
        "            num_instances = 1.0, min_future = config.prediction_length\n",
        "        ),\n",
        "        \"validation\": validation_sampler\n",
        "\n",
        "        # Sampler para validação, dividindo com base em um mínimo de pontos futuros\n",
        "        or ValidationSplitSampler(min_future = config.prediction_length),\n",
        "\n",
        "        # Sampler para teste, sem necessidade de pontos futuros específicos\n",
        "        \"test\": TestSplitSampler(),\n",
        "    }[mode]\n",
        "\n",
        "    # Cria e retorna um divisor de instâncias configurado com o sampler adequado e outras definições relevantes\n",
        "    return InstanceSplitter(\n",
        "\n",
        "        # Campo alvo para a previsão\n",
        "        target_field = \"values\",\n",
        "\n",
        "        # Campo que indica se um ponto de dados é um preenchimento (padding)\n",
        "        is_pad_field = FieldName.IS_PAD,\n",
        "\n",
        "        # Campo que indica o início da série temporal\n",
        "        start_field = FieldName.START,\n",
        "\n",
        "        # Campo que indica o início da previsão\n",
        "        forecast_start_field = FieldName.FORECAST_START,\n",
        "\n",
        "        # O sampler de instâncias escolhido baseado no modo\n",
        "        instance_sampler = instance_sampler,\n",
        "\n",
        "        # Define o comprimento do contexto passado\n",
        "        past_length = config.context_length + max(config.lags_sequence),\n",
        "\n",
        "        # Define o comprimento da previsão futura\n",
        "        future_length = config.prediction_length,\n",
        "\n",
        "        # Campos adicionais da série temporal a serem incluídos\n",
        "        time_series_fields = [\"time_features\", \"observed_mask\"],\n",
        "    )"
      ]
    },
    {
      "cell_type": "markdown",
      "id": "YsR7Z5FkvPs8",
      "metadata": {
        "id": "YsR7Z5FkvPs8"
      },
      "source": [
        "## Criação dos Dataloaders"
      ]
    },
    {
      "cell_type": "code",
      "execution_count": null,
      "id": "9dBy7srHvLfm",
      "metadata": {
        "id": "9dBy7srHvLfm"
      },
      "outputs": [],
      "source": [
        "# Define uma função para criar um DataLoader de treinamento com base nas configurações e dados fornecidos\n",
        "def cria_dataloader_treino(config: PretrainedConfig,\n",
        "                               freq,\n",
        "                               data,\n",
        "                               batch_size: int,\n",
        "                               num_batches_per_epoch: int,\n",
        "                               shuffle_buffer_length: Optional[int] = None,\n",
        "                               cache_data: bool = True,\n",
        "                               **kwargs) -> Iterable:\n",
        "\n",
        "    # Inicia a lista de nomes de entradas para previsão baseando-se na configuração de características estáticas e temporais\n",
        "    PREDICTION_INPUT_NAMES = [\"past_time_features\", \"past_values\", \"past_observed_mask\", \"future_time_features\"]\n",
        "\n",
        "    # Adiciona o nome da característica categórica estática à lista se presente na configuração\n",
        "    if config.num_static_categorical_features > 0:\n",
        "        PREDICTION_INPUT_NAMES.append(\"static_categorical_features\")\n",
        "\n",
        "    # Adiciona o nome da característica real estática à lista se presente na configuração\n",
        "    if config.num_static_real_features > 0:\n",
        "        PREDICTION_INPUT_NAMES.append(\"static_real_features\")\n",
        "\n",
        "    # Estende a lista de nomes de entradas para incluir os dados de treinamento específicos\n",
        "    TRAINING_INPUT_NAMES = PREDICTION_INPUT_NAMES + [\n",
        "        \"future_values\",\n",
        "        \"future_observed_mask\",\n",
        "    ]\n",
        "\n",
        "    # Cria a transformação dos dados com base na frequência e configuração fornecida\n",
        "    transformation = cria_transformacao(freq, config)\n",
        "\n",
        "    # Aplica a transformação nos dados no modo de treinamento\n",
        "    transformed_data = transformation.apply(data, is_train = True)\n",
        "\n",
        "    # Se solicitado, armazena em cache os dados transformados para otimizar o treinamento\n",
        "    if cache_data:\n",
        "        transformed_data = Cached(transformed_data)\n",
        "\n",
        "    # Cria um divisor de instâncias para o treinamento que define como as janelas de dados serão amostradas\n",
        "    instance_splitter = create_instance_splitter(config, \"train\")\n",
        "\n",
        "    # Cria um fluxo cíclico dos dados transformados para amostragem contínua\n",
        "    stream = Cyclic(transformed_data).stream()\n",
        "\n",
        "    # Aplica o divisor de instâncias ao fluxo de dados para gerar instâncias de treinamento\n",
        "    training_instances = instance_splitter.apply(stream, is_train = True)\n",
        "\n",
        "    # Retorna os lotes empilhados das instâncias de treinamento conforme especificado\n",
        "    return as_stacked_batches(\n",
        "        training_instances,\n",
        "        batch_size = batch_size,\n",
        "        shuffle_buffer_length = shuffle_buffer_length,  # Define o comprimento do buffer de embaralhamento, se aplicável\n",
        "        field_names = TRAINING_INPUT_NAMES,  # Especifica os nomes dos campos a serem incluídos nos lotes\n",
        "        output_type = torch.tensor,  # Define o tipo de saída dos lotes\n",
        "        num_batches_per_epoch = num_batches_per_epoch,  # Especifica o número de lotes por época\n",
        "    )\n",
        "\n",
        "    # Define uma função para criar um DataLoader de teste a partir de configurações pré-definidas e dados\n",
        "def cria_dataloader_teste(config: PretrainedConfig, freq, data, batch_size: int, **kwargs):\n",
        "\n",
        "    # Define os nomes das entradas necessárias para previsão baseadas na configuração\n",
        "    PREDICTION_INPUT_NAMES = [\"past_time_features\", \"past_values\", \"past_observed_mask\", \"future_time_features\"]\n",
        "\n",
        "    # Se houver características categóricas estáticas, adiciona ao conjunto de entradas de previsão\n",
        "    if config.num_static_categorical_features > 0:\n",
        "        PREDICTION_INPUT_NAMES.append(\"static_categorical_features\")\n",
        "\n",
        "    # Se houver características reais estáticas, adiciona ao conjunto de entradas de previsão\n",
        "    if config.num_static_real_features > 0:\n",
        "        PREDICTION_INPUT_NAMES.append(\"static_real_features\")\n",
        "\n",
        "    # Cria a transformação a ser aplicada nos dados com base na frequência e configuração\n",
        "    transformation = cria_transformacao(freq, config)\n",
        "\n",
        "    # Aplica a transformação aos dados no modo de teste (não treinamento)\n",
        "    transformed_data = transformation.apply(data, is_train=False)\n",
        "\n",
        "    # Cria um amostrador de instâncias para o modo de teste que irá selecionar a última janela de contexto vista durante o treinamento\n",
        "    instance_sampler = create_instance_splitter(config, \"test\")\n",
        "\n",
        "    # Aplica o amostrador de instâncias aos dados transformados no modo de teste\n",
        "    testing_instances = instance_sampler.apply(transformed_data, is_train = False)\n",
        "\n",
        "    # Retorna os lotes empilhados como tensores PyTorch, com um tamanho de lote especificado e usando os nomes de campos definidos\n",
        "    return as_stacked_batches(\n",
        "        testing_instances,\n",
        "        batch_size = batch_size,\n",
        "        output_type = torch.tensor,\n",
        "        field_names = PREDICTION_INPUT_NAMES,\n",
        "    )"
      ]
    },
    {
      "cell_type": "code",
      "execution_count": null,
      "id": "n9Lw6nQlvgrx",
      "metadata": {
        "id": "n9Lw6nQlvgrx"
      },
      "outputs": [],
      "source": [
        "# Cria o dataloader de treino\n",
        "dl_treino = cria_dataloader_treino(config = config,\n",
        "                                  freq = freq,\n",
        "                                  data = dataset_treino,\n",
        "                                  batch_size = 256,\n",
        "                                   num_batches_per_epoch = 100)"
      ]
    },
    {
      "cell_type": "code",
      "execution_count": null,
      "id": "X0Fu-O0Dvm7a",
      "metadata": {
        "colab": {
          "base_uri": "https://localhost:8080/"
        },
        "id": "X0Fu-O0Dvm7a",
        "outputId": "bbd38523-bee0-4b1d-f1d2-9f209315ae3b"
      },
      "outputs": [],
      "source": [
        "# Imprime as chaves de um batch de dados\n",
        "batch = next(iter(dl_treino))\n",
        "for k, v in batch.items():\n",
        "    print(k)"
      ]
    },
    {
      "cell_type": "code",
      "execution_count": null,
      "id": "L5U3r4nmvtAB",
      "metadata": {
        "colab": {
          "base_uri": "https://localhost:8080/"
        },
        "id": "L5U3r4nmvtAB",
        "outputId": "4cf15ce7-e43d-4004-deb7-463b51e1bd35"
      },
      "outputs": [],
      "source": [
        "# Imprime as chaves e respectivos valores de um batch de dados\n",
        "batch = next(iter(dl_treino))\n",
        "for k, v in batch.items():\n",
        "    print(k, v)"
      ]
    },
    {
      "cell_type": "code",
      "execution_count": null,
      "id": "ASvTAdG3vvSb",
      "metadata": {
        "id": "ASvTAdG3vvSb"
      },
      "outputs": [],
      "source": [
        "# Cria o dataloader de teste\n",
        "dl_teste = cria_dataloader_teste(config = config,\n",
        "                                freq = freq,\n",
        "                                data = dataset_teste,\n",
        "                                batch_size = 64)"
      ]
    },
    {
      "cell_type": "markdown",
      "id": "jhIu15CswAsz",
      "metadata": {
        "id": "jhIu15CswAsz"
      },
      "source": [
        "## Loop de Treinamento do Modelo"
      ]
    },
    {
      "cell_type": "code",
      "execution_count": null,
      "id": "vCfOykXjwGfq",
      "metadata": {
        "colab": {
          "base_uri": "https://localhost:8080/"
        },
        "id": "vCfOykXjwGfq",
        "outputId": "b5347095-167c-48dc-c4c8-86dad9bb1baa"
      },
      "outputs": [],
      "source": [
        "# Cria o acelerador\n",
        "accelerator = Accelerator()\n",
        "\n",
        "# Registra o device\n",
        "device = accelerator.device\n",
        "\n",
        "device"
      ]
    },
    {
      "cell_type": "code",
      "execution_count": null,
      "id": "GdBwGP1zwMdb",
      "metadata": {
        "colab": {
          "base_uri": "https://localhost:8080/"
        },
        "id": "GdBwGP1zwMdb",
        "outputId": "933aed5e-6fb9-4383-98a8-60798af86243"
      },
      "outputs": [],
      "source": [
        "# Envia o modelo para o device\n",
        "modelo.to(device)"
      ]
    },
    {
      "cell_type": "code",
      "execution_count": null,
      "id": "e070WwKPwTq-",
      "metadata": {
        "id": "e070WwKPwTq-"
      },
      "outputs": [],
      "source": [
        "# Otimizador\n",
        "optimizer = AdamW(modelo.parameters(), lr = 6e-4, betas = (0.9, 0.95), weight_decay = 1e-1)"
      ]
    },
    {
      "cell_type": "code",
      "execution_count": null,
      "id": "3PoC3-2gwdlX",
      "metadata": {
        "id": "3PoC3-2gwdlX"
      },
      "outputs": [],
      "source": [
        "# Carrega o modelo, o otimizador e o dataloader de treino\n",
        "modelo, optimizer, dl_treino = accelerator.prepare(modelo, optimizer, dl_treino)"
      ]
    },
    {
      "cell_type": "markdown",
      "id": "TB21PeDezgcv",
      "metadata": {
        "id": "TB21PeDezgcv"
      },
      "source": [
        "### Matemática da Otimização do Modelo\n",
        "\n",
        "Aqui estão as etapas do AdamW em termos matemáticos:\n",
        "\n",
        "**Cálculo dos Momentos de Primeira e Segunda Ordem**\n",
        "\n",
        "Para cada parâmetro θ, Adam mantém uma estimativa do primeiro momento (a média móvel dos gradientes passados) e do segundo momento (a média móvel dos quadrados dos gradientes passados). Para uma dada etapa t, gradiente g_t e parâmetros de decaimento β1 e β2, essas estimativas são atualizadas da seguinte forma:\n",
        "\n",
        "- m_t = β1 * m_(t-1) + (1 - β1) * g_t\n",
        "- v_t = β2 * v_(t-1) + (1 - β2) * g_t^2\n",
        "\n",
        "**Correção de Viés**\n",
        "\n",
        "Como m_t e v_t são inicializados como zero, eles são tendenciosos para zero no início do treinamento. Portanto, Adam realiza uma correção de viés para compensar isso:\n",
        "\n",
        "- m_t_hat = m_t / (1 - β1^t)\n",
        "- v_t_hat = v_t / (1 - β2^t)\n",
        "\n",
        "**Atualização de Peso**\n",
        "\n",
        "Finalmente, os pesos são atualizados com uma taxa de aprendizado η e um termo de decaimento de peso w:\n",
        "\n",
        "**θ = θ - η * (m_t_hat / (sqrt(v_t_hat) + ε) + w * θ)**\n",
        "\n",
        "Onde ε é um termo de suavização para evitar a divisão por zero (geralmente algo como 1e-8).\n",
        "\n",
        "AdamW difere do Adam na forma como o termo de decaimento de peso é aplicado. No Adam original, o decaimento de peso é aplicado antes do cálculo do gradiente, o que pode levar a um acoplamento entre a atualização do peso e a escala do gradiente. AdamW aplica o decaimento de peso diretamente na etapa de atualização do peso, o que \"desacopla\" a regularização do decaimento de peso da escala do gradiente.\n",
        "\n",
        "O cálculo das derivadas é uma parte fundamental do treinamento de redes neurais e é aplicado durante o processo de retropropagação (backpropagation), que é usado para atualizar os pesos da rede. No contexto do otimizador AdamW (ou qualquer otimizador baseado em gradiente), a derivada é usada para calcular o gradiente da função de perda com relação a cada peso na rede.\n",
        "\n",
        "Na prática, você não precisa calcular essas derivadas manualmente. Frameworks modernos de aprendizado profundo, como TensorFlow e PyTorch, usam diferenciação automática para calcular as derivadas. Você simplesmente define a função de perda e o framework cuida de calcular os gradientes para você.\n",
        "\n",
        "No caso específico do AdamW, a derivada é usada para calcular o gradiente g_t na etapa de atualização de momentos. Esse gradiente é simplesmente a derivada da função de perda com relação ao peso específico que está sendo atualizado. O gradiente indica a direção e a magnitude da mudança no peso que resultará no maior decréscimo na função de perda.\n",
        "\n",
        "Então, em resumo, a derivada é usada no cálculo do gradiente, que é então usado para atualizar os pesos da rede neural na direção que minimiza a função de perda. Queremos os pesos que levem ao menor erro possível."
      ]
    },
    {
      "cell_type": "markdown",
      "id": "9-Y7zkS63n3q",
      "metadata": {
        "id": "9-Y7zkS63n3q"
      },
      "source": [
        "---\n",
        "\n",
        "O otimizador é uma parte crítica do treinamento de redes neurais, pois é responsável por atualizar os pesos das conexões na rede para minimizar o erro entre as previsões do modelo e os dados reais.\n",
        "\n",
        "Neste caso, o otimizador escolhido foi o AdamW, que é uma variação do otimizador Adam com regularização de decaimento de peso (weight decay). Vamos analisar cada componente:\n",
        "\n",
        "\n",
        "model.parameters(): Esta é uma função que retorna todos os parâmetros (pesos e vieses) do modelo que estão sendo otimizados.\n",
        "\n",
        "\n",
        "lr = 6e-4: Este é o valor da taxa de aprendizado. A taxa de aprendizado controla a rapidez com que o modelo aprende. Uma taxa de aprendizado muito alta pode fazer com que o modelo salte sobre o mínimo global, enquanto uma taxa de aprendizado muito baixa pode fazer com que o modelo aprenda muito lentamente.\n",
        "\n",
        "betas = (0.9, 0.95): Estes são os coeficientes usados para calcular as médias móveis dos gradientes e dos quadrados dos gradientes, respectivamente. Os valores padrão para Adam são geralmente (0.9, 0.999), mas eles podem ser ajustados.\n",
        "\n",
        "weight_decay = 1e-1: Este é o termo de regularização de decaimento de peso. O decaimento de peso é uma técnica de regularização que impõe uma penalidade sobre a magnitude dos pesos na rede. O objetivo é prevenir o overfitting, penalizando pesos grandes e incentivando pesos menores, levando a um modelo mais simples.\n",
        "\n",
        "O otimizador AdamW combina as vantagens do método de otimização adaptativa de Adam, que se adapta ao longo do tempo para otimizar a taxa de aprendizado de cada parâmetro individual, com a regularização de decaimento de peso para melhorar o desempenho do modelo em conjuntos de dados de teste.\n",
        "\n",
        "\n",
        "\n",
        "AdamW é um algoritmo de otimização baseado em gradientes usado para atualizar os pesos da rede neural para minimizar a função de perda. AdamW é uma extensão do Adam com decaimento de peso, como descrito em \"Decoupled Weight Decay Regularization\" por Loshchilov e Hutter."
      ]
    },
    {
      "cell_type": "code",
      "execution_count": null,
      "id": "0sN4Bh9bzkJX",
      "metadata": {
        "colab": {
          "base_uri": "https://localhost:8080/"
        },
        "id": "0sN4Bh9bzkJX",
        "outputId": "eb514e85-c824-4417-e35d-d56b16db8b95"
      },
      "outputs": [],
      "source": [
        "%%time\n",
        "\n",
        "modelo.train()\n",
        "\n",
        "# Inicia o loop de treinamento para um número pré-definido de épocas\n",
        "for epoch in range(10):\n",
        "\n",
        "    # Itera sobre os lotes do DataLoader de treinamento\n",
        "    for idx, batch in enumerate(dl_treino):\n",
        "\n",
        "        # Zera os gradientes do otimizador para evitar acumulação de gradientes de iterações anteriores\n",
        "        optimizer.zero_grad()\n",
        "\n",
        "        # Gera as saídas do modelo passando as características adequadas do lote atual\n",
        "        outputs = modelo(\n",
        "\n",
        "            # Passa características categóricas estáticas para o dispositivo se configurado\n",
        "            static_categorical_features = batch[\"static_categorical_features\"].to(device)\n",
        "            if config.num_static_categorical_features > 0\n",
        "            else None,\n",
        "\n",
        "            # Passa características reais estáticas para o dispositivo se configurado\n",
        "            static_real_features = batch[\"static_real_features\"].to(device)\n",
        "            if config.num_static_real_features > 0\n",
        "            else None,\n",
        "\n",
        "            # Passa características temporais passadas para o dispositivo\n",
        "            past_time_features = batch[\"past_time_features\"].to(device),\n",
        "\n",
        "            # Passa valores passados para o dispositivo\n",
        "            past_values = batch[\"past_values\"].to(device),\n",
        "\n",
        "            # Passa características temporais futuras para o dispositivo\n",
        "            future_time_features = batch[\"future_time_features\"].to(device),\n",
        "\n",
        "            # Passa valores futuros para o dispositivo (usado para treinamento supervisionado)\n",
        "            future_values = batch[\"future_values\"].to(device),\n",
        "\n",
        "            # Passa a máscara de observações passadas para o dispositivo\n",
        "            past_observed_mask = batch[\"past_observed_mask\"].to(device),\n",
        "\n",
        "            # Passa a máscara de observações futuras para o dispositivo\n",
        "            future_observed_mask = batch[\"future_observed_mask\"].to(device),\n",
        "        )\n",
        "\n",
        "        # Atribui a perda calculada pelas saídas do modelo\n",
        "        loss = outputs.loss\n",
        "\n",
        "        # Realiza a retropropagação do erro para ajustar os pesos do modelo\n",
        "        accelerator.backward(loss)\n",
        "\n",
        "        # Atualiza os pesos do modelo com base nos gradientes calculados\n",
        "        optimizer.step()\n",
        "\n",
        "        # A cada 100 lotes, imprime o erro atual do modelo\n",
        "        if idx % 100 == 0:\n",
        "            print(\"Erro do Modelo:\", loss.item())"
      ]
    },
    {
      "cell_type": "markdown",
      "id": "rnQWowOF2XD3",
      "metadata": {
        "id": "rnQWowOF2XD3"
      },
      "source": [
        "## Avaliação do modelo"
      ]
    },
    {
      "cell_type": "code",
      "execution_count": null,
      "id": "MC2niBXp2WN2",
      "metadata": {
        "colab": {
          "base_uri": "https://localhost:8080/"
        },
        "id": "MC2niBXp2WN2",
        "outputId": "2dadea6c-7100-44da-941a-3f48e8fa1800"
      },
      "outputs": [],
      "source": [
        "modelo.eval()"
      ]
    },
    {
      "cell_type": "code",
      "execution_count": null,
      "id": "GNGWLUo12kJm",
      "metadata": {
        "id": "GNGWLUo12kJm"
      },
      "outputs": [],
      "source": [
        "forecasts = []"
      ]
    },
    {
      "cell_type": "code",
      "execution_count": null,
      "id": "Tdnrc-H12oIt",
      "metadata": {
        "id": "Tdnrc-H12oIt"
      },
      "outputs": [],
      "source": [
        "# Itera sobre os lotes do DataLoader de teste\n",
        "for batch in dl_teste:\n",
        "\n",
        "    # Gera previsões usando o modelo para o lote atual, passando as características conforme a configuração\n",
        "    outputs = modelo.generate(\n",
        "\n",
        "        # Passa características categóricas estáticas para o dispositivo se houver alguma\n",
        "        static_categorical_features = batch[\"static_categorical_features\"].to(device)\n",
        "        if config.num_static_categorical_features > 0\n",
        "        else None,\n",
        "\n",
        "        # Passa características reais estáticas para o dispositivo se houver alguma\n",
        "        static_real_features = batch[\"static_real_features\"].to(device)\n",
        "        if config.num_static_real_features > 0\n",
        "        else None,\n",
        "\n",
        "        # Passa características temporais passadas para o dispositivo\n",
        "        past_time_features = batch[\"past_time_features\"].to(device),\n",
        "\n",
        "        # Passa valores passados para o dispositivo\n",
        "        past_values = batch[\"past_values\"].to(device),\n",
        "\n",
        "        # Passa características temporais futuras para o dispositivo\n",
        "        future_time_features = batch[\"future_time_features\"].to(device),\n",
        "\n",
        "        # Passa a máscara de observações passadas para o dispositivo\n",
        "        past_observed_mask = batch[\"past_observed_mask\"].to(device),\n",
        "    )\n",
        "\n",
        "    # Adiciona as sequências de previsões geradas à lista de previsões, movendo para a CPU e convertendo para numpy\n",
        "    forecasts.append(outputs.sequences.cpu().numpy())"
      ]
    },
    {
      "cell_type": "code",
      "execution_count": null,
      "id": "3ZxpM5pg4oxS",
      "metadata": {
        "colab": {
          "base_uri": "https://localhost:8080/"
        },
        "id": "3ZxpM5pg4oxS",
        "outputId": "66f99b41-1857-4426-80cb-a84f76ff3653"
      },
      "outputs": [],
      "source": [
        "# Shape das previsões\n",
        "forecasts[0].shape"
      ]
    },
    {
      "cell_type": "code",
      "execution_count": null,
      "id": "Zy88xF1Z44mR",
      "metadata": {
        "colab": {
          "base_uri": "https://localhost:8080/"
        },
        "id": "Zy88xF1Z44mR",
        "outputId": "d859695a-506f-47c3-e624-38eab601ad46"
      },
      "outputs": [],
      "source": [
        "# Ajuste do shape\n",
        "forecasts = np.vstack(forecasts)\n",
        "print(forecasts.shape)"
      ]
    },
    {
      "cell_type": "markdown",
      "id": "D-f8rLtd5Hw-",
      "metadata": {
        "id": "D-f8rLtd5Hw-"
      },
      "source": [
        "### Calculando as Métricas MASE e SMAPE\n",
        "\n",
        "As métricas MASE (Erro Médio Absoluto Escalonado) e SMAPE (Erro Percentual Absoluto Médio Simétrico) são usadas para avaliar a precisão das previsões em problemas de séries temporais. Ambas são métricas que tentam colocar o erro de previsão em um contexto mais fácil de interpretar, escalonando ou normalizando o erro de alguma forma.\n",
        "\n",
        "MASE (Erro Médio Absoluto Escalonado): A MASE é uma métrica que compara o erro de previsão de um método de previsão com o erro de previsão de um método de previsão \"ingênuo\" (naive), geralmente uma previsão que simplesmente assume que o valor futuro será o mesmo que o valor atual. A MASE é calculada como a média dos erros absolutos das previsões dividida pela média dos erros absolutos das previsões ingênuas. Um valor MASE de 1 indica que o modelo tem o mesmo erro médio que a previsão ingênua, enquanto um valor MASE menor que 1 indica que o modelo é melhor que a previsão ingênua.\n",
        "\n",
        "SMAPE (Erro Percentual Absoluto Médio Simétrico): A SMAPE é uma métrica que expressa o erro de previsão como uma porcentagem do valor verdadeiro e da previsão. Ao contrário do erro percentual absoluto médio (MAPE), a SMAPE tem um denominador que incorpora tanto o valor verdadeiro quanto o valor previsto, tornando-a \"simétrica\". Isso evita alguns dos problemas com o MAPE, onde previsões muito baixas podem levar a erros percentuais muito grandes. A SMAPE varia de 0 a 200, onde 0 indica que não há erro (previsão perfeita) e 200 indica que a previsão está completamente errada.\n",
        "\n",
        "Ambas as métricas têm suas próprias vantagens e limitações, e a escolha entre elas dependerá do problema específico e das características dos dados.\n"
      ]
    },
    {
      "cell_type": "code",
      "execution_count": null,
      "id": "ahBWWLAw5KTY",
      "metadata": {
        "id": "ahBWWLAw5KTY"
      },
      "outputs": [],
      "source": [
        "# Funções com os cálculos matemáticos para as métricas\n",
        "\n",
        "# MASE\n",
        "def mase_score(pred, real, train, m):\n",
        "    num = np.mean(np.abs(pred - real))\n",
        "    denom = np.mean(np.abs(train[m:] - train[:-m]))\n",
        "    return num / denom if denom != 0 else np.nan\n",
        "\n",
        "# MAPE\n",
        "def smape_score(pred, real):\n",
        "    return 100 * np.mean(2 * np.abs(pred - real) / (np.abs(pred) + np.abs(real) + 1e-8))"
      ]
    },
    {
      "cell_type": "code",
      "execution_count": null,
      "id": "MWkTgH1Q7lmP",
      "metadata": {
        "id": "MWkTgH1Q7lmP"
      },
      "outputs": [],
      "source": [
        "# Mediana das previsões\n",
        "forecast_median = np.median(forecasts, 1)"
      ]
    },
    {
      "cell_type": "code",
      "execution_count": null,
      "id": "ne6ZkRxk7pff",
      "metadata": {
        "id": "ne6ZkRxk7pff"
      },
      "outputs": [],
      "source": [
        "# Listas das métricas\n",
        "mase_metrics = []\n",
        "smape_metrics = []\n",
        "\n",
        "# Inicializa o loop para percorrer os itens do conjunto de teste\n",
        "for item_id, ts in enumerate(dataset_teste):\n",
        "\n",
        "    # Separa os dados de treinamento excluindo o comprimento da previsão do final\n",
        "    training_data = ts[\"target\"][:-prediction_length]\n",
        "\n",
        "    # Separa os dados reais (ground truth) para o comprimento da previsão\n",
        "    ground_truth = ts[\"target\"][-prediction_length:]\n",
        "\n",
        "    # Calcula MASE manualmente\n",
        "    mase = mase_score(forecast_median[item_id], np.array(ground_truth), np.array(training_data), get_seasonality(freq))\n",
        "    mase_metrics.append(mase)\n",
        "\n",
        "    # Calcula sMAPE manualmente\n",
        "    smape = smape_score(forecast_median[item_id], np.array(ground_truth))\n",
        "    smape_metrics.append(smape)"
      ]
    },
    {
      "cell_type": "code",
      "execution_count": null,
      "id": "y_X0X-iQ7v3G",
      "metadata": {
        "colab": {
          "base_uri": "https://localhost:8080/"
        },
        "id": "y_X0X-iQ7v3G",
        "outputId": "d1a1177f-73b0-47d7-a6c9-77c59a663511"
      },
      "outputs": [],
      "source": [
        "print(f\"MASE: {np.mean(mase_metrics)}\")\n",
        "print(f\"sMAPE: {np.mean(smape_metrics)}\")\n"
      ]
    },
    {
      "cell_type": "code",
      "execution_count": null,
      "id": "YcKqBB8s7_BF",
      "metadata": {
        "id": "YcKqBB8s7_BF"
      },
      "outputs": [],
      "source": [
        "# Plot\n",
        "plt.scatter(mase_metrics, smape_metrics, alpha = 0.3)\n",
        "plt.xlabel(\"MASE\")\n",
        "plt.ylabel(\"sMAPE\")\n",
        "plt.show()"
      ]
    },
    {
      "cell_type": "code",
      "execution_count": null,
      "id": "FOt8WLBl8Sj-",
      "metadata": {
        "id": "FOt8WLBl8Sj-"
      },
      "outputs": [],
      "source": [
        "# Define a função para plotar a série temporal e previsões para um índice específico\n",
        "def plot(ts_index):\n",
        "\n",
        "    # Cria uma figura e um eixo para o plot\n",
        "    fig, ax = plt.subplots(figsize = (10, 5))\n",
        "\n",
        "    # Gera o índice de datas para a série temporal a partir dos metadados e do comprimento do alvo\n",
        "    index = pd.period_range(start = dataset_teste[ts_index][FieldName.START],\n",
        "                            periods = len(dataset_teste[ts_index][FieldName.TARGET]),\n",
        "                            freq = freq).to_timestamp()\n",
        "\n",
        "    # Configura os locais principais do eixo x para serem nos meses de janeiro e julho\n",
        "    ax.xaxis.set_major_locator(mdates.MonthLocator(bymonth=(1, 7)))\n",
        "\n",
        "    # Configura os locais secundários do eixo x para serem em todos os meses\n",
        "    ax.xaxis.set_minor_locator(mdates.MonthLocator())\n",
        "\n",
        "    # Plota os valores reais da série temporal para os últimos 2 períodos de previsão\n",
        "    ax.plot(index[-2*prediction_length:],\n",
        "            dataset_teste[ts_index][\"target\"][-2*prediction_length:],\n",
        "            label=\"Valor Real\")\n",
        "\n",
        "    # Plota a mediana das previsões para o último período de previsão\n",
        "    plt.plot(index[-prediction_length:],\n",
        "             np.median(forecasts[ts_index], axis=0),\n",
        "             label = \"Mediana das Previsões\")\n",
        "\n",
        "    # Preenche a área entre a média menos o desvio padrão e a média mais o desvio padrão das previsões\n",
        "    plt.fill_between(\n",
        "        index[-prediction_length:],\n",
        "        forecasts[ts_index].mean(0) - forecasts[ts_index].std(axis=0),\n",
        "        forecasts[ts_index].mean(0) + forecasts[ts_index].std(axis=0),\n",
        "        alpha = 0.3,\n",
        "        interpolate = True,\n",
        "        label = \"+/- 1-std\",\n",
        "    )\n",
        "\n",
        "    # Adiciona uma legenda ao plot\n",
        "    plt.legend()\n",
        "\n",
        "    # Exibe o plot\n",
        "    plt.show()"
      ]
    },
    {
      "cell_type": "code",
      "execution_count": null,
      "id": "CDNKWJTD8Isl",
      "metadata": {
        "colab": {
          "base_uri": "https://localhost:8080/",
          "height": 465
        },
        "id": "CDNKWJTD8Isl",
        "outputId": "ac24676d-8e33-4acc-f2e1-e6dcc3243b3f"
      },
      "outputs": [],
      "source": [
        "# Previsão para o índice 334\n",
        "plot(334)"
      ]
    }
  ],
  "metadata": {
    "accelerator": "GPU",
    "colab": {
      "gpuType": "T4",
      "provenance": []
    },
    "kernelspec": {
      "display_name": "Python 3",
      "name": "python3"
    },
    "language_info": {
      "codemirror_mode": {
        "name": "ipython",
        "version": 3
      },
      "file_extension": ".py",
      "mimetype": "text/x-python",
      "name": "python",
      "nbconvert_exporter": "python",
      "pygments_lexer": "ipython3",
      "version": "3.10.12"
    },
    "widgets": {
      "application/vnd.jupyter.widget-state+json": {
        "0cb35c13bd144c1aa9d142aba609a87b": {
          "model_module": "@jupyter-widgets/controls",
          "model_module_version": "1.5.0",
          "model_name": "FloatProgressModel",
          "state": {
            "_dom_classes": [],
            "_model_module": "@jupyter-widgets/controls",
            "_model_module_version": "1.5.0",
            "_model_name": "FloatProgressModel",
            "_view_count": null,
            "_view_module": "@jupyter-widgets/controls",
            "_view_module_version": "1.5.0",
            "_view_name": "ProgressView",
            "bar_style": "success",
            "description": "",
            "description_tooltip": null,
            "layout": "IPY_MODEL_e5505a103dac4a2d99e3082671414f37",
            "max": 1,
            "min": 0,
            "orientation": "horizontal",
            "style": "IPY_MODEL_ccf71b987038451ab96ced8db505d31a",
            "value": 1
          }
        },
        "0d68ae84e866476187036dc9db3df374": {
          "model_module": "@jupyter-widgets/controls",
          "model_module_version": "1.5.0",
          "model_name": "ProgressStyleModel",
          "state": {
            "_model_module": "@jupyter-widgets/controls",
            "_model_module_version": "1.5.0",
            "_model_name": "ProgressStyleModel",
            "_view_count": null,
            "_view_module": "@jupyter-widgets/base",
            "_view_module_version": "1.2.0",
            "_view_name": "StyleView",
            "bar_color": null,
            "description_width": ""
          }
        },
        "0db9491c73f0447ca74124e9972fcfb3": {
          "model_module": "@jupyter-widgets/controls",
          "model_module_version": "1.5.0",
          "model_name": "HBoxModel",
          "state": {
            "_dom_classes": [],
            "_model_module": "@jupyter-widgets/controls",
            "_model_module_version": "1.5.0",
            "_model_name": "HBoxModel",
            "_view_count": null,
            "_view_module": "@jupyter-widgets/controls",
            "_view_module_version": "1.5.0",
            "_view_name": "HBoxView",
            "box_style": "",
            "children": [
              "IPY_MODEL_4ac460790fda41109132664b5f61378e",
              "IPY_MODEL_76e12bfad3ac4158932e1dd1b8f59781",
              "IPY_MODEL_4a4aba47781d4fbc856256b8ddb8efe8"
            ],
            "layout": "IPY_MODEL_c4e65e69b59e4e428a2c4e3df4cbc3ae"
          }
        },
        "11166a36c0694e99979732f0a685969b": {
          "model_module": "@jupyter-widgets/controls",
          "model_module_version": "1.5.0",
          "model_name": "FloatProgressModel",
          "state": {
            "_dom_classes": [],
            "_model_module": "@jupyter-widgets/controls",
            "_model_module_version": "1.5.0",
            "_model_name": "FloatProgressModel",
            "_view_count": null,
            "_view_module": "@jupyter-widgets/controls",
            "_view_module_version": "1.5.0",
            "_view_name": "ProgressView",
            "bar_style": "success",
            "description": "",
            "description_tooltip": null,
            "layout": "IPY_MODEL_b0eb19393e5d4f1fa26bca2c6d2c5493",
            "max": 366,
            "min": 0,
            "orientation": "horizontal",
            "style": "IPY_MODEL_a45ee3bfc99d451e9767a7aca0bb76b3",
            "value": 366
          }
        },
        "11c07d1187a14ac09e6313f94d105fdc": {
          "model_module": "@jupyter-widgets/controls",
          "model_module_version": "1.5.0",
          "model_name": "DescriptionStyleModel",
          "state": {
            "_model_module": "@jupyter-widgets/controls",
            "_model_module_version": "1.5.0",
            "_model_name": "DescriptionStyleModel",
            "_view_count": null,
            "_view_module": "@jupyter-widgets/base",
            "_view_module_version": "1.2.0",
            "_view_name": "StyleView",
            "description_width": ""
          }
        },
        "12fa78ca7c3a4c198988a77d1896a495": {
          "model_module": "@jupyter-widgets/controls",
          "model_module_version": "1.5.0",
          "model_name": "HBoxModel",
          "state": {
            "_dom_classes": [],
            "_model_module": "@jupyter-widgets/controls",
            "_model_module_version": "1.5.0",
            "_model_name": "HBoxModel",
            "_view_count": null,
            "_view_module": "@jupyter-widgets/controls",
            "_view_module_version": "1.5.0",
            "_view_name": "HBoxView",
            "box_style": "",
            "children": [
              "IPY_MODEL_ca4aa980460e4fb685a132b7e806c92b",
              "IPY_MODEL_ad122840f3f242bbadf0f3c2f3d453d6",
              "IPY_MODEL_6e834837c3824689b718dc842c9ab0b8"
            ],
            "layout": "IPY_MODEL_8f65c8bdc5e44d83a40ce79ba49edfc4"
          }
        },
        "13485402761c45058a7a99df29113806": {
          "model_module": "@jupyter-widgets/base",
          "model_module_version": "1.2.0",
          "model_name": "LayoutModel",
          "state": {
            "_model_module": "@jupyter-widgets/base",
            "_model_module_version": "1.2.0",
            "_model_name": "LayoutModel",
            "_view_count": null,
            "_view_module": "@jupyter-widgets/base",
            "_view_module_version": "1.2.0",
            "_view_name": "LayoutView",
            "align_content": null,
            "align_items": null,
            "align_self": null,
            "border": null,
            "bottom": null,
            "display": null,
            "flex": null,
            "flex_flow": null,
            "grid_area": null,
            "grid_auto_columns": null,
            "grid_auto_flow": null,
            "grid_auto_rows": null,
            "grid_column": null,
            "grid_gap": null,
            "grid_row": null,
            "grid_template_areas": null,
            "grid_template_columns": null,
            "grid_template_rows": null,
            "height": null,
            "justify_content": null,
            "justify_items": null,
            "left": null,
            "margin": null,
            "max_height": null,
            "max_width": null,
            "min_height": null,
            "min_width": null,
            "object_fit": null,
            "object_position": null,
            "order": null,
            "overflow": null,
            "overflow_x": null,
            "overflow_y": null,
            "padding": null,
            "right": null,
            "top": null,
            "visibility": null,
            "width": null
          }
        },
        "1524be3b1c984077b2c65719ded484d6": {
          "model_module": "@jupyter-widgets/base",
          "model_module_version": "1.2.0",
          "model_name": "LayoutModel",
          "state": {
            "_model_module": "@jupyter-widgets/base",
            "_model_module_version": "1.2.0",
            "_model_name": "LayoutModel",
            "_view_count": null,
            "_view_module": "@jupyter-widgets/base",
            "_view_module_version": "1.2.0",
            "_view_name": "LayoutView",
            "align_content": null,
            "align_items": null,
            "align_self": null,
            "border": null,
            "bottom": null,
            "display": null,
            "flex": null,
            "flex_flow": null,
            "grid_area": null,
            "grid_auto_columns": null,
            "grid_auto_flow": null,
            "grid_auto_rows": null,
            "grid_column": null,
            "grid_gap": null,
            "grid_row": null,
            "grid_template_areas": null,
            "grid_template_columns": null,
            "grid_template_rows": null,
            "height": null,
            "justify_content": null,
            "justify_items": null,
            "left": null,
            "margin": null,
            "max_height": null,
            "max_width": null,
            "min_height": null,
            "min_width": null,
            "object_fit": null,
            "object_position": null,
            "order": null,
            "overflow": null,
            "overflow_x": null,
            "overflow_y": null,
            "padding": null,
            "right": null,
            "top": null,
            "visibility": null,
            "width": null
          }
        },
        "1b6b07ab4dc242e5a69e1d84da1db430": {
          "model_module": "@jupyter-widgets/controls",
          "model_module_version": "1.5.0",
          "model_name": "DescriptionStyleModel",
          "state": {
            "_model_module": "@jupyter-widgets/controls",
            "_model_module_version": "1.5.0",
            "_model_name": "DescriptionStyleModel",
            "_view_count": null,
            "_view_module": "@jupyter-widgets/base",
            "_view_module_version": "1.2.0",
            "_view_name": "StyleView",
            "description_width": ""
          }
        },
        "21af52bfba4445639f48983bba304bcf": {
          "model_module": "@jupyter-widgets/base",
          "model_module_version": "1.2.0",
          "model_name": "LayoutModel",
          "state": {
            "_model_module": "@jupyter-widgets/base",
            "_model_module_version": "1.2.0",
            "_model_name": "LayoutModel",
            "_view_count": null,
            "_view_module": "@jupyter-widgets/base",
            "_view_module_version": "1.2.0",
            "_view_name": "LayoutView",
            "align_content": null,
            "align_items": null,
            "align_self": null,
            "border": null,
            "bottom": null,
            "display": null,
            "flex": null,
            "flex_flow": null,
            "grid_area": null,
            "grid_auto_columns": null,
            "grid_auto_flow": null,
            "grid_auto_rows": null,
            "grid_column": null,
            "grid_gap": null,
            "grid_row": null,
            "grid_template_areas": null,
            "grid_template_columns": null,
            "grid_template_rows": null,
            "height": null,
            "justify_content": null,
            "justify_items": null,
            "left": null,
            "margin": null,
            "max_height": null,
            "max_width": null,
            "min_height": null,
            "min_width": null,
            "object_fit": null,
            "object_position": null,
            "order": null,
            "overflow": null,
            "overflow_x": null,
            "overflow_y": null,
            "padding": null,
            "right": null,
            "top": null,
            "visibility": null,
            "width": null
          }
        },
        "236ccdfee92844cf87bf91a7154affab": {
          "model_module": "@jupyter-widgets/controls",
          "model_module_version": "1.5.0",
          "model_name": "HTMLModel",
          "state": {
            "_dom_classes": [],
            "_model_module": "@jupyter-widgets/controls",
            "_model_module_version": "1.5.0",
            "_model_name": "HTMLModel",
            "_view_count": null,
            "_view_module": "@jupyter-widgets/controls",
            "_view_module_version": "1.5.0",
            "_view_name": "HTMLView",
            "description": "",
            "description_tooltip": null,
            "layout": "IPY_MODEL_a1fda800841146f3a14fef5738e43a47",
            "placeholder": "​",
            "style": "IPY_MODEL_b8b974b1d23a42d499b7b4c29090fe5d",
            "value": "Downloading extra modules: "
          }
        },
        "2fad8d1620f84e3caf14549131b35b4d": {
          "model_module": "@jupyter-widgets/base",
          "model_module_version": "1.2.0",
          "model_name": "LayoutModel",
          "state": {
            "_model_module": "@jupyter-widgets/base",
            "_model_module_version": "1.2.0",
            "_model_name": "LayoutModel",
            "_view_count": null,
            "_view_module": "@jupyter-widgets/base",
            "_view_module_version": "1.2.0",
            "_view_name": "LayoutView",
            "align_content": null,
            "align_items": null,
            "align_self": null,
            "border": null,
            "bottom": null,
            "display": null,
            "flex": null,
            "flex_flow": null,
            "grid_area": null,
            "grid_auto_columns": null,
            "grid_auto_flow": null,
            "grid_auto_rows": null,
            "grid_column": null,
            "grid_gap": null,
            "grid_row": null,
            "grid_template_areas": null,
            "grid_template_columns": null,
            "grid_template_rows": null,
            "height": null,
            "justify_content": null,
            "justify_items": null,
            "left": null,
            "margin": null,
            "max_height": null,
            "max_width": null,
            "min_height": null,
            "min_width": null,
            "object_fit": null,
            "object_position": null,
            "order": null,
            "overflow": null,
            "overflow_x": null,
            "overflow_y": null,
            "padding": null,
            "right": null,
            "top": null,
            "visibility": null,
            "width": null
          }
        },
        "30139f472cbc4bcf83e41767dbb7b30f": {
          "model_module": "@jupyter-widgets/base",
          "model_module_version": "1.2.0",
          "model_name": "LayoutModel",
          "state": {
            "_model_module": "@jupyter-widgets/base",
            "_model_module_version": "1.2.0",
            "_model_name": "LayoutModel",
            "_view_count": null,
            "_view_module": "@jupyter-widgets/base",
            "_view_module_version": "1.2.0",
            "_view_name": "LayoutView",
            "align_content": null,
            "align_items": null,
            "align_self": null,
            "border": null,
            "bottom": null,
            "display": null,
            "flex": null,
            "flex_flow": null,
            "grid_area": null,
            "grid_auto_columns": null,
            "grid_auto_flow": null,
            "grid_auto_rows": null,
            "grid_column": null,
            "grid_gap": null,
            "grid_row": null,
            "grid_template_areas": null,
            "grid_template_columns": null,
            "grid_template_rows": null,
            "height": null,
            "justify_content": null,
            "justify_items": null,
            "left": null,
            "margin": null,
            "max_height": null,
            "max_width": null,
            "min_height": null,
            "min_width": null,
            "object_fit": null,
            "object_position": null,
            "order": null,
            "overflow": null,
            "overflow_x": null,
            "overflow_y": null,
            "padding": null,
            "right": null,
            "top": null,
            "visibility": null,
            "width": null
          }
        },
        "40f46fe05cb74defb20996997a55629b": {
          "model_module": "@jupyter-widgets/controls",
          "model_module_version": "1.5.0",
          "model_name": "DescriptionStyleModel",
          "state": {
            "_model_module": "@jupyter-widgets/controls",
            "_model_module_version": "1.5.0",
            "_model_name": "DescriptionStyleModel",
            "_view_count": null,
            "_view_module": "@jupyter-widgets/base",
            "_view_module_version": "1.2.0",
            "_view_name": "StyleView",
            "description_width": ""
          }
        },
        "41c8f49f0ae3430e8eb8d2aea09d9abe": {
          "model_module": "@jupyter-widgets/controls",
          "model_module_version": "1.5.0",
          "model_name": "HTMLModel",
          "state": {
            "_dom_classes": [],
            "_model_module": "@jupyter-widgets/controls",
            "_model_module_version": "1.5.0",
            "_model_name": "HTMLModel",
            "_view_count": null,
            "_view_module": "@jupyter-widgets/controls",
            "_view_module_version": "1.5.0",
            "_view_name": "HTMLView",
            "description": "",
            "description_tooltip": null,
            "layout": "IPY_MODEL_30139f472cbc4bcf83e41767dbb7b30f",
            "placeholder": "​",
            "style": "IPY_MODEL_abe46c88cf1045f0ae8f3e264045672a",
            "value": "Downloading builder script: "
          }
        },
        "4a1b09c9a086482ea823fdc5542ade43": {
          "model_module": "@jupyter-widgets/controls",
          "model_module_version": "1.5.0",
          "model_name": "HTMLModel",
          "state": {
            "_dom_classes": [],
            "_model_module": "@jupyter-widgets/controls",
            "_model_module_version": "1.5.0",
            "_model_name": "HTMLModel",
            "_view_count": null,
            "_view_module": "@jupyter-widgets/controls",
            "_view_module_version": "1.5.0",
            "_view_name": "HTMLView",
            "description": "",
            "description_tooltip": null,
            "layout": "IPY_MODEL_7e4215d55fa644afa9b182e3de5f725f",
            "placeholder": "​",
            "style": "IPY_MODEL_7cf84b7e83004f1db426ce23b74f6e4c",
            "value": "Downloading readme: "
          }
        },
        "4a4aba47781d4fbc856256b8ddb8efe8": {
          "model_module": "@jupyter-widgets/controls",
          "model_module_version": "1.5.0",
          "model_name": "HTMLModel",
          "state": {
            "_dom_classes": [],
            "_model_module": "@jupyter-widgets/controls",
            "_model_module_version": "1.5.0",
            "_model_name": "HTMLModel",
            "_view_count": null,
            "_view_module": "@jupyter-widgets/controls",
            "_view_module_version": "1.5.0",
            "_view_name": "HTMLView",
            "description": "",
            "description_tooltip": null,
            "layout": "IPY_MODEL_1524be3b1c984077b2c65719ded484d6",
            "placeholder": "​",
            "style": "IPY_MODEL_aa336d40741343289e83ea7df5408144",
            "value": " 366/366 [00:00&lt;00:00, 1501.76 examples/s]"
          }
        },
        "4ac460790fda41109132664b5f61378e": {
          "model_module": "@jupyter-widgets/controls",
          "model_module_version": "1.5.0",
          "model_name": "HTMLModel",
          "state": {
            "_dom_classes": [],
            "_model_module": "@jupyter-widgets/controls",
            "_model_module_version": "1.5.0",
            "_model_name": "HTMLModel",
            "_view_count": null,
            "_view_module": "@jupyter-widgets/controls",
            "_view_module_version": "1.5.0",
            "_view_name": "HTMLView",
            "description": "",
            "description_tooltip": null,
            "layout": "IPY_MODEL_d0807842d0b14043aaf4802008e38de7",
            "placeholder": "​",
            "style": "IPY_MODEL_91084b9745954a4fa50bbf8098f706e4",
            "value": "Generating test split: 100%"
          }
        },
        "4bb0bf6f36e144f89c2b45d7101313f3": {
          "model_module": "@jupyter-widgets/controls",
          "model_module_version": "1.5.0",
          "model_name": "HTMLModel",
          "state": {
            "_dom_classes": [],
            "_model_module": "@jupyter-widgets/controls",
            "_model_module_version": "1.5.0",
            "_model_name": "HTMLModel",
            "_view_count": null,
            "_view_module": "@jupyter-widgets/controls",
            "_view_module_version": "1.5.0",
            "_view_name": "HTMLView",
            "description": "",
            "description_tooltip": null,
            "layout": "IPY_MODEL_9181e8eaedee4cea92363bb69fb3a504",
            "placeholder": "​",
            "style": "IPY_MODEL_11c07d1187a14ac09e6313f94d105fdc",
            "value": "Generating train split: 100%"
          }
        },
        "55757f31a7c4493cad694e7853f0484a": {
          "model_module": "@jupyter-widgets/base",
          "model_module_version": "1.2.0",
          "model_name": "LayoutModel",
          "state": {
            "_model_module": "@jupyter-widgets/base",
            "_model_module_version": "1.2.0",
            "_model_name": "LayoutModel",
            "_view_count": null,
            "_view_module": "@jupyter-widgets/base",
            "_view_module_version": "1.2.0",
            "_view_name": "LayoutView",
            "align_content": null,
            "align_items": null,
            "align_self": null,
            "border": null,
            "bottom": null,
            "display": null,
            "flex": null,
            "flex_flow": null,
            "grid_area": null,
            "grid_auto_columns": null,
            "grid_auto_flow": null,
            "grid_auto_rows": null,
            "grid_column": null,
            "grid_gap": null,
            "grid_row": null,
            "grid_template_areas": null,
            "grid_template_columns": null,
            "grid_template_rows": null,
            "height": null,
            "justify_content": null,
            "justify_items": null,
            "left": null,
            "margin": null,
            "max_height": null,
            "max_width": null,
            "min_height": null,
            "min_width": null,
            "object_fit": null,
            "object_position": null,
            "order": null,
            "overflow": null,
            "overflow_x": null,
            "overflow_y": null,
            "padding": null,
            "right": null,
            "top": null,
            "visibility": null,
            "width": null
          }
        },
        "5715092bcfee4e58a0fc87e109ee6303": {
          "model_module": "@jupyter-widgets/controls",
          "model_module_version": "1.5.0",
          "model_name": "DescriptionStyleModel",
          "state": {
            "_model_module": "@jupyter-widgets/controls",
            "_model_module_version": "1.5.0",
            "_model_name": "DescriptionStyleModel",
            "_view_count": null,
            "_view_module": "@jupyter-widgets/base",
            "_view_module_version": "1.2.0",
            "_view_name": "StyleView",
            "description_width": ""
          }
        },
        "579c47f7cd074348b8f8e53b39b50054": {
          "model_module": "@jupyter-widgets/base",
          "model_module_version": "1.2.0",
          "model_name": "LayoutModel",
          "state": {
            "_model_module": "@jupyter-widgets/base",
            "_model_module_version": "1.2.0",
            "_model_name": "LayoutModel",
            "_view_count": null,
            "_view_module": "@jupyter-widgets/base",
            "_view_module_version": "1.2.0",
            "_view_name": "LayoutView",
            "align_content": null,
            "align_items": null,
            "align_self": null,
            "border": null,
            "bottom": null,
            "display": null,
            "flex": null,
            "flex_flow": null,
            "grid_area": null,
            "grid_auto_columns": null,
            "grid_auto_flow": null,
            "grid_auto_rows": null,
            "grid_column": null,
            "grid_gap": null,
            "grid_row": null,
            "grid_template_areas": null,
            "grid_template_columns": null,
            "grid_template_rows": null,
            "height": null,
            "justify_content": null,
            "justify_items": null,
            "left": null,
            "margin": null,
            "max_height": null,
            "max_width": null,
            "min_height": null,
            "min_width": null,
            "object_fit": null,
            "object_position": null,
            "order": null,
            "overflow": null,
            "overflow_x": null,
            "overflow_y": null,
            "padding": null,
            "right": null,
            "top": null,
            "visibility": null,
            "width": null
          }
        },
        "63f84b6a642c4660ac5392292c56688a": {
          "model_module": "@jupyter-widgets/base",
          "model_module_version": "1.2.0",
          "model_name": "LayoutModel",
          "state": {
            "_model_module": "@jupyter-widgets/base",
            "_model_module_version": "1.2.0",
            "_model_name": "LayoutModel",
            "_view_count": null,
            "_view_module": "@jupyter-widgets/base",
            "_view_module_version": "1.2.0",
            "_view_name": "LayoutView",
            "align_content": null,
            "align_items": null,
            "align_self": null,
            "border": null,
            "bottom": null,
            "display": null,
            "flex": null,
            "flex_flow": null,
            "grid_area": null,
            "grid_auto_columns": null,
            "grid_auto_flow": null,
            "grid_auto_rows": null,
            "grid_column": null,
            "grid_gap": null,
            "grid_row": null,
            "grid_template_areas": null,
            "grid_template_columns": null,
            "grid_template_rows": null,
            "height": null,
            "justify_content": null,
            "justify_items": null,
            "left": null,
            "margin": null,
            "max_height": null,
            "max_width": null,
            "min_height": null,
            "min_width": null,
            "object_fit": null,
            "object_position": null,
            "order": null,
            "overflow": null,
            "overflow_x": null,
            "overflow_y": null,
            "padding": null,
            "right": null,
            "top": null,
            "visibility": null,
            "width": null
          }
        },
        "6e834837c3824689b718dc842c9ab0b8": {
          "model_module": "@jupyter-widgets/controls",
          "model_module_version": "1.5.0",
          "model_name": "HTMLModel",
          "state": {
            "_dom_classes": [],
            "_model_module": "@jupyter-widgets/controls",
            "_model_module_version": "1.5.0",
            "_model_name": "HTMLModel",
            "_view_count": null,
            "_view_module": "@jupyter-widgets/controls",
            "_view_module_version": "1.5.0",
            "_view_name": "HTMLView",
            "description": "",
            "description_tooltip": null,
            "layout": "IPY_MODEL_9c38ac4311b240fa859b51483ee59ce9",
            "placeholder": "​",
            "style": "IPY_MODEL_a2a7473cb24a4709b25bae7da2e5c8ed",
            "value": " 200k/200k [00:00&lt;00:00, 2.64MB/s]"
          }
        },
        "727d70451c1d4153b99713ad64fe73ff": {
          "model_module": "@jupyter-widgets/controls",
          "model_module_version": "1.5.0",
          "model_name": "DescriptionStyleModel",
          "state": {
            "_model_module": "@jupyter-widgets/controls",
            "_model_module_version": "1.5.0",
            "_model_name": "DescriptionStyleModel",
            "_view_count": null,
            "_view_module": "@jupyter-widgets/base",
            "_view_module_version": "1.2.0",
            "_view_name": "StyleView",
            "description_width": ""
          }
        },
        "72b4e29eced94d898c203960da19f994": {
          "model_module": "@jupyter-widgets/base",
          "model_module_version": "1.2.0",
          "model_name": "LayoutModel",
          "state": {
            "_model_module": "@jupyter-widgets/base",
            "_model_module_version": "1.2.0",
            "_model_name": "LayoutModel",
            "_view_count": null,
            "_view_module": "@jupyter-widgets/base",
            "_view_module_version": "1.2.0",
            "_view_name": "LayoutView",
            "align_content": null,
            "align_items": null,
            "align_self": null,
            "border": null,
            "bottom": null,
            "display": null,
            "flex": null,
            "flex_flow": null,
            "grid_area": null,
            "grid_auto_columns": null,
            "grid_auto_flow": null,
            "grid_auto_rows": null,
            "grid_column": null,
            "grid_gap": null,
            "grid_row": null,
            "grid_template_areas": null,
            "grid_template_columns": null,
            "grid_template_rows": null,
            "height": null,
            "justify_content": null,
            "justify_items": null,
            "left": null,
            "margin": null,
            "max_height": null,
            "max_width": null,
            "min_height": null,
            "min_width": null,
            "object_fit": null,
            "object_position": null,
            "order": null,
            "overflow": null,
            "overflow_x": null,
            "overflow_y": null,
            "padding": null,
            "right": null,
            "top": null,
            "visibility": null,
            "width": null
          }
        },
        "732e2c04d8184f10bb5ae8ba2bc0965f": {
          "model_module": "@jupyter-widgets/controls",
          "model_module_version": "1.5.0",
          "model_name": "HTMLModel",
          "state": {
            "_dom_classes": [],
            "_model_module": "@jupyter-widgets/controls",
            "_model_module_version": "1.5.0",
            "_model_name": "HTMLModel",
            "_view_count": null,
            "_view_module": "@jupyter-widgets/controls",
            "_view_module_version": "1.5.0",
            "_view_name": "HTMLView",
            "description": "",
            "description_tooltip": null,
            "layout": "IPY_MODEL_dfd8116086ba43e7926a023831da19cb",
            "placeholder": "​",
            "style": "IPY_MODEL_40f46fe05cb74defb20996997a55629b",
            "value": " 7.54k/? [00:00&lt;00:00, 791kB/s]"
          }
        },
        "73f9b57798aa4b34a7f34c50e67fcb67": {
          "model_module": "@jupyter-widgets/controls",
          "model_module_version": "1.5.0",
          "model_name": "ProgressStyleModel",
          "state": {
            "_model_module": "@jupyter-widgets/controls",
            "_model_module_version": "1.5.0",
            "_model_name": "ProgressStyleModel",
            "_view_count": null,
            "_view_module": "@jupyter-widgets/base",
            "_view_module_version": "1.2.0",
            "_view_name": "StyleView",
            "bar_color": null,
            "description_width": ""
          }
        },
        "75ab440b45cd4bdaa5171b618f89c728": {
          "model_module": "@jupyter-widgets/base",
          "model_module_version": "1.2.0",
          "model_name": "LayoutModel",
          "state": {
            "_model_module": "@jupyter-widgets/base",
            "_model_module_version": "1.2.0",
            "_model_name": "LayoutModel",
            "_view_count": null,
            "_view_module": "@jupyter-widgets/base",
            "_view_module_version": "1.2.0",
            "_view_name": "LayoutView",
            "align_content": null,
            "align_items": null,
            "align_self": null,
            "border": null,
            "bottom": null,
            "display": null,
            "flex": null,
            "flex_flow": null,
            "grid_area": null,
            "grid_auto_columns": null,
            "grid_auto_flow": null,
            "grid_auto_rows": null,
            "grid_column": null,
            "grid_gap": null,
            "grid_row": null,
            "grid_template_areas": null,
            "grid_template_columns": null,
            "grid_template_rows": null,
            "height": null,
            "justify_content": null,
            "justify_items": null,
            "left": null,
            "margin": null,
            "max_height": null,
            "max_width": null,
            "min_height": null,
            "min_width": null,
            "object_fit": null,
            "object_position": null,
            "order": null,
            "overflow": null,
            "overflow_x": null,
            "overflow_y": null,
            "padding": null,
            "right": null,
            "top": null,
            "visibility": null,
            "width": null
          }
        },
        "768bae25b0d6428c87bc65a3a0a9e208": {
          "model_module": "@jupyter-widgets/controls",
          "model_module_version": "1.5.0",
          "model_name": "ProgressStyleModel",
          "state": {
            "_model_module": "@jupyter-widgets/controls",
            "_model_module_version": "1.5.0",
            "_model_name": "ProgressStyleModel",
            "_view_count": null,
            "_view_module": "@jupyter-widgets/base",
            "_view_module_version": "1.2.0",
            "_view_name": "StyleView",
            "bar_color": null,
            "description_width": ""
          }
        },
        "76e12bfad3ac4158932e1dd1b8f59781": {
          "model_module": "@jupyter-widgets/controls",
          "model_module_version": "1.5.0",
          "model_name": "FloatProgressModel",
          "state": {
            "_dom_classes": [],
            "_model_module": "@jupyter-widgets/controls",
            "_model_module_version": "1.5.0",
            "_model_name": "FloatProgressModel",
            "_view_count": null,
            "_view_module": "@jupyter-widgets/controls",
            "_view_module_version": "1.5.0",
            "_view_name": "ProgressView",
            "bar_style": "success",
            "description": "",
            "description_tooltip": null,
            "layout": "IPY_MODEL_bbd34b0b011145dba0c58025c8b26715",
            "max": 366,
            "min": 0,
            "orientation": "horizontal",
            "style": "IPY_MODEL_768bae25b0d6428c87bc65a3a0a9e208",
            "value": 366
          }
        },
        "7cf84b7e83004f1db426ce23b74f6e4c": {
          "model_module": "@jupyter-widgets/controls",
          "model_module_version": "1.5.0",
          "model_name": "DescriptionStyleModel",
          "state": {
            "_model_module": "@jupyter-widgets/controls",
            "_model_module_version": "1.5.0",
            "_model_name": "DescriptionStyleModel",
            "_view_count": null,
            "_view_module": "@jupyter-widgets/base",
            "_view_module_version": "1.2.0",
            "_view_name": "StyleView",
            "description_width": ""
          }
        },
        "7e4215d55fa644afa9b182e3de5f725f": {
          "model_module": "@jupyter-widgets/base",
          "model_module_version": "1.2.0",
          "model_name": "LayoutModel",
          "state": {
            "_model_module": "@jupyter-widgets/base",
            "_model_module_version": "1.2.0",
            "_model_name": "LayoutModel",
            "_view_count": null,
            "_view_module": "@jupyter-widgets/base",
            "_view_module_version": "1.2.0",
            "_view_name": "LayoutView",
            "align_content": null,
            "align_items": null,
            "align_self": null,
            "border": null,
            "bottom": null,
            "display": null,
            "flex": null,
            "flex_flow": null,
            "grid_area": null,
            "grid_auto_columns": null,
            "grid_auto_flow": null,
            "grid_auto_rows": null,
            "grid_column": null,
            "grid_gap": null,
            "grid_row": null,
            "grid_template_areas": null,
            "grid_template_columns": null,
            "grid_template_rows": null,
            "height": null,
            "justify_content": null,
            "justify_items": null,
            "left": null,
            "margin": null,
            "max_height": null,
            "max_width": null,
            "min_height": null,
            "min_width": null,
            "object_fit": null,
            "object_position": null,
            "order": null,
            "overflow": null,
            "overflow_x": null,
            "overflow_y": null,
            "padding": null,
            "right": null,
            "top": null,
            "visibility": null,
            "width": null
          }
        },
        "7fe30403abd24a7ebd510be23ae35395": {
          "model_module": "@jupyter-widgets/controls",
          "model_module_version": "1.5.0",
          "model_name": "FloatProgressModel",
          "state": {
            "_dom_classes": [],
            "_model_module": "@jupyter-widgets/controls",
            "_model_module_version": "1.5.0",
            "_model_name": "FloatProgressModel",
            "_view_count": null,
            "_view_module": "@jupyter-widgets/controls",
            "_view_module_version": "1.5.0",
            "_view_name": "ProgressView",
            "bar_style": "success",
            "description": "",
            "description_tooltip": null,
            "layout": "IPY_MODEL_a769e2fd5d4e4b309c24b7a5ba6a7e36",
            "max": 366,
            "min": 0,
            "orientation": "horizontal",
            "style": "IPY_MODEL_0d68ae84e866476187036dc9db3df374",
            "value": 366
          }
        },
        "883e28e261c040adb92186035deeded2": {
          "model_module": "@jupyter-widgets/controls",
          "model_module_version": "1.5.0",
          "model_name": "HTMLModel",
          "state": {
            "_dom_classes": [],
            "_model_module": "@jupyter-widgets/controls",
            "_model_module_version": "1.5.0",
            "_model_name": "HTMLModel",
            "_view_count": null,
            "_view_module": "@jupyter-widgets/controls",
            "_view_module_version": "1.5.0",
            "_view_name": "HTMLView",
            "description": "",
            "description_tooltip": null,
            "layout": "IPY_MODEL_8b43cdcc8a7d40ccaf29a76d9a864bbe",
            "placeholder": "​",
            "style": "IPY_MODEL_5715092bcfee4e58a0fc87e109ee6303",
            "value": " 366/366 [00:00&lt;00:00, 1648.82 examples/s]"
          }
        },
        "8b43cdcc8a7d40ccaf29a76d9a864bbe": {
          "model_module": "@jupyter-widgets/base",
          "model_module_version": "1.2.0",
          "model_name": "LayoutModel",
          "state": {
            "_model_module": "@jupyter-widgets/base",
            "_model_module_version": "1.2.0",
            "_model_name": "LayoutModel",
            "_view_count": null,
            "_view_module": "@jupyter-widgets/base",
            "_view_module_version": "1.2.0",
            "_view_name": "LayoutView",
            "align_content": null,
            "align_items": null,
            "align_self": null,
            "border": null,
            "bottom": null,
            "display": null,
            "flex": null,
            "flex_flow": null,
            "grid_area": null,
            "grid_auto_columns": null,
            "grid_auto_flow": null,
            "grid_auto_rows": null,
            "grid_column": null,
            "grid_gap": null,
            "grid_row": null,
            "grid_template_areas": null,
            "grid_template_columns": null,
            "grid_template_rows": null,
            "height": null,
            "justify_content": null,
            "justify_items": null,
            "left": null,
            "margin": null,
            "max_height": null,
            "max_width": null,
            "min_height": null,
            "min_width": null,
            "object_fit": null,
            "object_position": null,
            "order": null,
            "overflow": null,
            "overflow_x": null,
            "overflow_y": null,
            "padding": null,
            "right": null,
            "top": null,
            "visibility": null,
            "width": null
          }
        },
        "8f65c8bdc5e44d83a40ce79ba49edfc4": {
          "model_module": "@jupyter-widgets/base",
          "model_module_version": "1.2.0",
          "model_name": "LayoutModel",
          "state": {
            "_model_module": "@jupyter-widgets/base",
            "_model_module_version": "1.2.0",
            "_model_name": "LayoutModel",
            "_view_count": null,
            "_view_module": "@jupyter-widgets/base",
            "_view_module_version": "1.2.0",
            "_view_name": "LayoutView",
            "align_content": null,
            "align_items": null,
            "align_self": null,
            "border": null,
            "bottom": null,
            "display": null,
            "flex": null,
            "flex_flow": null,
            "grid_area": null,
            "grid_auto_columns": null,
            "grid_auto_flow": null,
            "grid_auto_rows": null,
            "grid_column": null,
            "grid_gap": null,
            "grid_row": null,
            "grid_template_areas": null,
            "grid_template_columns": null,
            "grid_template_rows": null,
            "height": null,
            "justify_content": null,
            "justify_items": null,
            "left": null,
            "margin": null,
            "max_height": null,
            "max_width": null,
            "min_height": null,
            "min_width": null,
            "object_fit": null,
            "object_position": null,
            "order": null,
            "overflow": null,
            "overflow_x": null,
            "overflow_y": null,
            "padding": null,
            "right": null,
            "top": null,
            "visibility": null,
            "width": null
          }
        },
        "91084b9745954a4fa50bbf8098f706e4": {
          "model_module": "@jupyter-widgets/controls",
          "model_module_version": "1.5.0",
          "model_name": "DescriptionStyleModel",
          "state": {
            "_model_module": "@jupyter-widgets/controls",
            "_model_module_version": "1.5.0",
            "_model_name": "DescriptionStyleModel",
            "_view_count": null,
            "_view_module": "@jupyter-widgets/base",
            "_view_module_version": "1.2.0",
            "_view_name": "StyleView",
            "description_width": ""
          }
        },
        "9181e8eaedee4cea92363bb69fb3a504": {
          "model_module": "@jupyter-widgets/base",
          "model_module_version": "1.2.0",
          "model_name": "LayoutModel",
          "state": {
            "_model_module": "@jupyter-widgets/base",
            "_model_module_version": "1.2.0",
            "_model_name": "LayoutModel",
            "_view_count": null,
            "_view_module": "@jupyter-widgets/base",
            "_view_module_version": "1.2.0",
            "_view_name": "LayoutView",
            "align_content": null,
            "align_items": null,
            "align_self": null,
            "border": null,
            "bottom": null,
            "display": null,
            "flex": null,
            "flex_flow": null,
            "grid_area": null,
            "grid_auto_columns": null,
            "grid_auto_flow": null,
            "grid_auto_rows": null,
            "grid_column": null,
            "grid_gap": null,
            "grid_row": null,
            "grid_template_areas": null,
            "grid_template_columns": null,
            "grid_template_rows": null,
            "height": null,
            "justify_content": null,
            "justify_items": null,
            "left": null,
            "margin": null,
            "max_height": null,
            "max_width": null,
            "min_height": null,
            "min_width": null,
            "object_fit": null,
            "object_position": null,
            "order": null,
            "overflow": null,
            "overflow_x": null,
            "overflow_y": null,
            "padding": null,
            "right": null,
            "top": null,
            "visibility": null,
            "width": null
          }
        },
        "9c38ac4311b240fa859b51483ee59ce9": {
          "model_module": "@jupyter-widgets/base",
          "model_module_version": "1.2.0",
          "model_name": "LayoutModel",
          "state": {
            "_model_module": "@jupyter-widgets/base",
            "_model_module_version": "1.2.0",
            "_model_name": "LayoutModel",
            "_view_count": null,
            "_view_module": "@jupyter-widgets/base",
            "_view_module_version": "1.2.0",
            "_view_name": "LayoutView",
            "align_content": null,
            "align_items": null,
            "align_self": null,
            "border": null,
            "bottom": null,
            "display": null,
            "flex": null,
            "flex_flow": null,
            "grid_area": null,
            "grid_auto_columns": null,
            "grid_auto_flow": null,
            "grid_auto_rows": null,
            "grid_column": null,
            "grid_gap": null,
            "grid_row": null,
            "grid_template_areas": null,
            "grid_template_columns": null,
            "grid_template_rows": null,
            "height": null,
            "justify_content": null,
            "justify_items": null,
            "left": null,
            "margin": null,
            "max_height": null,
            "max_width": null,
            "min_height": null,
            "min_width": null,
            "object_fit": null,
            "object_position": null,
            "order": null,
            "overflow": null,
            "overflow_x": null,
            "overflow_y": null,
            "padding": null,
            "right": null,
            "top": null,
            "visibility": null,
            "width": null
          }
        },
        "9d85263290be4f89824f1a847292dc58": {
          "model_module": "@jupyter-widgets/controls",
          "model_module_version": "1.5.0",
          "model_name": "HTMLModel",
          "state": {
            "_dom_classes": [],
            "_model_module": "@jupyter-widgets/controls",
            "_model_module_version": "1.5.0",
            "_model_name": "HTMLModel",
            "_view_count": null,
            "_view_module": "@jupyter-widgets/controls",
            "_view_module_version": "1.5.0",
            "_view_name": "HTMLView",
            "description": "",
            "description_tooltip": null,
            "layout": "IPY_MODEL_2fad8d1620f84e3caf14549131b35b4d",
            "placeholder": "​",
            "style": "IPY_MODEL_727d70451c1d4153b99713ad64fe73ff",
            "value": " 31.2k/? [00:00&lt;00:00, 3.38MB/s]"
          }
        },
        "a1740f3993fc4751852961586e04c343": {
          "model_module": "@jupyter-widgets/controls",
          "model_module_version": "1.5.0",
          "model_name": "HBoxModel",
          "state": {
            "_dom_classes": [],
            "_model_module": "@jupyter-widgets/controls",
            "_model_module_version": "1.5.0",
            "_model_name": "HBoxModel",
            "_view_count": null,
            "_view_module": "@jupyter-widgets/controls",
            "_view_module_version": "1.5.0",
            "_view_name": "HBoxView",
            "box_style": "",
            "children": [
              "IPY_MODEL_41c8f49f0ae3430e8eb8d2aea09d9abe",
              "IPY_MODEL_e36a5e3bed784205b304040dbf1c040c",
              "IPY_MODEL_a48f222da37f48f8b624b74db101fb7b"
            ],
            "layout": "IPY_MODEL_c6174a1080ec4dca9227db489d1d02ba"
          }
        },
        "a1fda800841146f3a14fef5738e43a47": {
          "model_module": "@jupyter-widgets/base",
          "model_module_version": "1.2.0",
          "model_name": "LayoutModel",
          "state": {
            "_model_module": "@jupyter-widgets/base",
            "_model_module_version": "1.2.0",
            "_model_name": "LayoutModel",
            "_view_count": null,
            "_view_module": "@jupyter-widgets/base",
            "_view_module_version": "1.2.0",
            "_view_name": "LayoutView",
            "align_content": null,
            "align_items": null,
            "align_self": null,
            "border": null,
            "bottom": null,
            "display": null,
            "flex": null,
            "flex_flow": null,
            "grid_area": null,
            "grid_auto_columns": null,
            "grid_auto_flow": null,
            "grid_auto_rows": null,
            "grid_column": null,
            "grid_gap": null,
            "grid_row": null,
            "grid_template_areas": null,
            "grid_template_columns": null,
            "grid_template_rows": null,
            "height": null,
            "justify_content": null,
            "justify_items": null,
            "left": null,
            "margin": null,
            "max_height": null,
            "max_width": null,
            "min_height": null,
            "min_width": null,
            "object_fit": null,
            "object_position": null,
            "order": null,
            "overflow": null,
            "overflow_x": null,
            "overflow_y": null,
            "padding": null,
            "right": null,
            "top": null,
            "visibility": null,
            "width": null
          }
        },
        "a2a7473cb24a4709b25bae7da2e5c8ed": {
          "model_module": "@jupyter-widgets/controls",
          "model_module_version": "1.5.0",
          "model_name": "DescriptionStyleModel",
          "state": {
            "_model_module": "@jupyter-widgets/controls",
            "_model_module_version": "1.5.0",
            "_model_name": "DescriptionStyleModel",
            "_view_count": null,
            "_view_module": "@jupyter-widgets/base",
            "_view_module_version": "1.2.0",
            "_view_name": "StyleView",
            "description_width": ""
          }
        },
        "a45ee3bfc99d451e9767a7aca0bb76b3": {
          "model_module": "@jupyter-widgets/controls",
          "model_module_version": "1.5.0",
          "model_name": "ProgressStyleModel",
          "state": {
            "_model_module": "@jupyter-widgets/controls",
            "_model_module_version": "1.5.0",
            "_model_name": "ProgressStyleModel",
            "_view_count": null,
            "_view_module": "@jupyter-widgets/base",
            "_view_module_version": "1.2.0",
            "_view_name": "StyleView",
            "bar_color": null,
            "description_width": ""
          }
        },
        "a48f222da37f48f8b624b74db101fb7b": {
          "model_module": "@jupyter-widgets/controls",
          "model_module_version": "1.5.0",
          "model_name": "HTMLModel",
          "state": {
            "_dom_classes": [],
            "_model_module": "@jupyter-widgets/controls",
            "_model_module_version": "1.5.0",
            "_model_name": "HTMLModel",
            "_view_count": null,
            "_view_module": "@jupyter-widgets/controls",
            "_view_module_version": "1.5.0",
            "_view_name": "HTMLView",
            "description": "",
            "description_tooltip": null,
            "layout": "IPY_MODEL_63f84b6a642c4660ac5392292c56688a",
            "placeholder": "​",
            "style": "IPY_MODEL_bcecbe178f584f1bb17ccb30e91cea2b",
            "value": " 25.6k/? [00:00&lt;00:00, 1.96MB/s]"
          }
        },
        "a6690b34fb914b9e843048116aafced2": {
          "model_module": "@jupyter-widgets/controls",
          "model_module_version": "1.5.0",
          "model_name": "HTMLModel",
          "state": {
            "_dom_classes": [],
            "_model_module": "@jupyter-widgets/controls",
            "_model_module_version": "1.5.0",
            "_model_name": "HTMLModel",
            "_view_count": null,
            "_view_module": "@jupyter-widgets/controls",
            "_view_module_version": "1.5.0",
            "_view_name": "HTMLView",
            "description": "",
            "description_tooltip": null,
            "layout": "IPY_MODEL_d3f850bef08b4d0a8f312c2f9a937b75",
            "placeholder": "​",
            "style": "IPY_MODEL_1b6b07ab4dc242e5a69e1d84da1db430",
            "value": "Generating validation split: 100%"
          }
        },
        "a769e2fd5d4e4b309c24b7a5ba6a7e36": {
          "model_module": "@jupyter-widgets/base",
          "model_module_version": "1.2.0",
          "model_name": "LayoutModel",
          "state": {
            "_model_module": "@jupyter-widgets/base",
            "_model_module_version": "1.2.0",
            "_model_name": "LayoutModel",
            "_view_count": null,
            "_view_module": "@jupyter-widgets/base",
            "_view_module_version": "1.2.0",
            "_view_name": "LayoutView",
            "align_content": null,
            "align_items": null,
            "align_self": null,
            "border": null,
            "bottom": null,
            "display": null,
            "flex": null,
            "flex_flow": null,
            "grid_area": null,
            "grid_auto_columns": null,
            "grid_auto_flow": null,
            "grid_auto_rows": null,
            "grid_column": null,
            "grid_gap": null,
            "grid_row": null,
            "grid_template_areas": null,
            "grid_template_columns": null,
            "grid_template_rows": null,
            "height": null,
            "justify_content": null,
            "justify_items": null,
            "left": null,
            "margin": null,
            "max_height": null,
            "max_width": null,
            "min_height": null,
            "min_width": null,
            "object_fit": null,
            "object_position": null,
            "order": null,
            "overflow": null,
            "overflow_x": null,
            "overflow_y": null,
            "padding": null,
            "right": null,
            "top": null,
            "visibility": null,
            "width": null
          }
        },
        "aa336d40741343289e83ea7df5408144": {
          "model_module": "@jupyter-widgets/controls",
          "model_module_version": "1.5.0",
          "model_name": "DescriptionStyleModel",
          "state": {
            "_model_module": "@jupyter-widgets/controls",
            "_model_module_version": "1.5.0",
            "_model_name": "DescriptionStyleModel",
            "_view_count": null,
            "_view_module": "@jupyter-widgets/base",
            "_view_module_version": "1.2.0",
            "_view_name": "StyleView",
            "description_width": ""
          }
        },
        "abe46c88cf1045f0ae8f3e264045672a": {
          "model_module": "@jupyter-widgets/controls",
          "model_module_version": "1.5.0",
          "model_name": "DescriptionStyleModel",
          "state": {
            "_model_module": "@jupyter-widgets/controls",
            "_model_module_version": "1.5.0",
            "_model_name": "DescriptionStyleModel",
            "_view_count": null,
            "_view_module": "@jupyter-widgets/base",
            "_view_module_version": "1.2.0",
            "_view_name": "StyleView",
            "description_width": ""
          }
        },
        "ad01991f9d5f4e63861f51afb6f2f26b": {
          "model_module": "@jupyter-widgets/base",
          "model_module_version": "1.2.0",
          "model_name": "LayoutModel",
          "state": {
            "_model_module": "@jupyter-widgets/base",
            "_model_module_version": "1.2.0",
            "_model_name": "LayoutModel",
            "_view_count": null,
            "_view_module": "@jupyter-widgets/base",
            "_view_module_version": "1.2.0",
            "_view_name": "LayoutView",
            "align_content": null,
            "align_items": null,
            "align_self": null,
            "border": null,
            "bottom": null,
            "display": null,
            "flex": null,
            "flex_flow": null,
            "grid_area": null,
            "grid_auto_columns": null,
            "grid_auto_flow": null,
            "grid_auto_rows": null,
            "grid_column": null,
            "grid_gap": null,
            "grid_row": null,
            "grid_template_areas": null,
            "grid_template_columns": null,
            "grid_template_rows": null,
            "height": null,
            "justify_content": null,
            "justify_items": null,
            "left": null,
            "margin": null,
            "max_height": null,
            "max_width": null,
            "min_height": null,
            "min_width": null,
            "object_fit": null,
            "object_position": null,
            "order": null,
            "overflow": null,
            "overflow_x": null,
            "overflow_y": null,
            "padding": null,
            "right": null,
            "top": null,
            "visibility": null,
            "width": "20px"
          }
        },
        "ad122840f3f242bbadf0f3c2f3d453d6": {
          "model_module": "@jupyter-widgets/controls",
          "model_module_version": "1.5.0",
          "model_name": "FloatProgressModel",
          "state": {
            "_dom_classes": [],
            "_model_module": "@jupyter-widgets/controls",
            "_model_module_version": "1.5.0",
            "_model_name": "FloatProgressModel",
            "_view_count": null,
            "_view_module": "@jupyter-widgets/controls",
            "_view_module_version": "1.5.0",
            "_view_name": "ProgressView",
            "bar_style": "success",
            "description": "",
            "description_tooltip": null,
            "layout": "IPY_MODEL_13485402761c45058a7a99df29113806",
            "max": 199791,
            "min": 0,
            "orientation": "horizontal",
            "style": "IPY_MODEL_73f9b57798aa4b34a7f34c50e67fcb67",
            "value": 199791
          }
        },
        "b0eb19393e5d4f1fa26bca2c6d2c5493": {
          "model_module": "@jupyter-widgets/base",
          "model_module_version": "1.2.0",
          "model_name": "LayoutModel",
          "state": {
            "_model_module": "@jupyter-widgets/base",
            "_model_module_version": "1.2.0",
            "_model_name": "LayoutModel",
            "_view_count": null,
            "_view_module": "@jupyter-widgets/base",
            "_view_module_version": "1.2.0",
            "_view_name": "LayoutView",
            "align_content": null,
            "align_items": null,
            "align_self": null,
            "border": null,
            "bottom": null,
            "display": null,
            "flex": null,
            "flex_flow": null,
            "grid_area": null,
            "grid_auto_columns": null,
            "grid_auto_flow": null,
            "grid_auto_rows": null,
            "grid_column": null,
            "grid_gap": null,
            "grid_row": null,
            "grid_template_areas": null,
            "grid_template_columns": null,
            "grid_template_rows": null,
            "height": null,
            "justify_content": null,
            "justify_items": null,
            "left": null,
            "margin": null,
            "max_height": null,
            "max_width": null,
            "min_height": null,
            "min_width": null,
            "object_fit": null,
            "object_position": null,
            "order": null,
            "overflow": null,
            "overflow_x": null,
            "overflow_y": null,
            "padding": null,
            "right": null,
            "top": null,
            "visibility": null,
            "width": null
          }
        },
        "b34232b36c7146779dd4b626087d5deb": {
          "model_module": "@jupyter-widgets/controls",
          "model_module_version": "1.5.0",
          "model_name": "HBoxModel",
          "state": {
            "_dom_classes": [],
            "_model_module": "@jupyter-widgets/controls",
            "_model_module_version": "1.5.0",
            "_model_name": "HBoxModel",
            "_view_count": null,
            "_view_module": "@jupyter-widgets/controls",
            "_view_module_version": "1.5.0",
            "_view_name": "HBoxView",
            "box_style": "",
            "children": [
              "IPY_MODEL_a6690b34fb914b9e843048116aafced2",
              "IPY_MODEL_7fe30403abd24a7ebd510be23ae35395",
              "IPY_MODEL_883e28e261c040adb92186035deeded2"
            ],
            "layout": "IPY_MODEL_72b4e29eced94d898c203960da19f994"
          }
        },
        "b8b974b1d23a42d499b7b4c29090fe5d": {
          "model_module": "@jupyter-widgets/controls",
          "model_module_version": "1.5.0",
          "model_name": "DescriptionStyleModel",
          "state": {
            "_model_module": "@jupyter-widgets/controls",
            "_model_module_version": "1.5.0",
            "_model_name": "DescriptionStyleModel",
            "_view_count": null,
            "_view_module": "@jupyter-widgets/base",
            "_view_module_version": "1.2.0",
            "_view_name": "StyleView",
            "description_width": ""
          }
        },
        "bbd34b0b011145dba0c58025c8b26715": {
          "model_module": "@jupyter-widgets/base",
          "model_module_version": "1.2.0",
          "model_name": "LayoutModel",
          "state": {
            "_model_module": "@jupyter-widgets/base",
            "_model_module_version": "1.2.0",
            "_model_name": "LayoutModel",
            "_view_count": null,
            "_view_module": "@jupyter-widgets/base",
            "_view_module_version": "1.2.0",
            "_view_name": "LayoutView",
            "align_content": null,
            "align_items": null,
            "align_self": null,
            "border": null,
            "bottom": null,
            "display": null,
            "flex": null,
            "flex_flow": null,
            "grid_area": null,
            "grid_auto_columns": null,
            "grid_auto_flow": null,
            "grid_auto_rows": null,
            "grid_column": null,
            "grid_gap": null,
            "grid_row": null,
            "grid_template_areas": null,
            "grid_template_columns": null,
            "grid_template_rows": null,
            "height": null,
            "justify_content": null,
            "justify_items": null,
            "left": null,
            "margin": null,
            "max_height": null,
            "max_width": null,
            "min_height": null,
            "min_width": null,
            "object_fit": null,
            "object_position": null,
            "order": null,
            "overflow": null,
            "overflow_x": null,
            "overflow_y": null,
            "padding": null,
            "right": null,
            "top": null,
            "visibility": null,
            "width": null
          }
        },
        "bcecbe178f584f1bb17ccb30e91cea2b": {
          "model_module": "@jupyter-widgets/controls",
          "model_module_version": "1.5.0",
          "model_name": "DescriptionStyleModel",
          "state": {
            "_model_module": "@jupyter-widgets/controls",
            "_model_module_version": "1.5.0",
            "_model_name": "DescriptionStyleModel",
            "_view_count": null,
            "_view_module": "@jupyter-widgets/base",
            "_view_module_version": "1.2.0",
            "_view_name": "StyleView",
            "description_width": ""
          }
        },
        "c205288669c84aee85c134a625a497d8": {
          "model_module": "@jupyter-widgets/controls",
          "model_module_version": "1.5.0",
          "model_name": "FloatProgressModel",
          "state": {
            "_dom_classes": [],
            "_model_module": "@jupyter-widgets/controls",
            "_model_module_version": "1.5.0",
            "_model_name": "FloatProgressModel",
            "_view_count": null,
            "_view_module": "@jupyter-widgets/controls",
            "_view_module_version": "1.5.0",
            "_view_name": "ProgressView",
            "bar_style": "success",
            "description": "",
            "description_tooltip": null,
            "layout": "IPY_MODEL_efe371479bf9498ba76c6607675d71ba",
            "max": 1,
            "min": 0,
            "orientation": "horizontal",
            "style": "IPY_MODEL_f9fa200b1d02400ab28ffdf0ce877bfa",
            "value": 1
          }
        },
        "c4e65e69b59e4e428a2c4e3df4cbc3ae": {
          "model_module": "@jupyter-widgets/base",
          "model_module_version": "1.2.0",
          "model_name": "LayoutModel",
          "state": {
            "_model_module": "@jupyter-widgets/base",
            "_model_module_version": "1.2.0",
            "_model_name": "LayoutModel",
            "_view_count": null,
            "_view_module": "@jupyter-widgets/base",
            "_view_module_version": "1.2.0",
            "_view_name": "LayoutView",
            "align_content": null,
            "align_items": null,
            "align_self": null,
            "border": null,
            "bottom": null,
            "display": null,
            "flex": null,
            "flex_flow": null,
            "grid_area": null,
            "grid_auto_columns": null,
            "grid_auto_flow": null,
            "grid_auto_rows": null,
            "grid_column": null,
            "grid_gap": null,
            "grid_row": null,
            "grid_template_areas": null,
            "grid_template_columns": null,
            "grid_template_rows": null,
            "height": null,
            "justify_content": null,
            "justify_items": null,
            "left": null,
            "margin": null,
            "max_height": null,
            "max_width": null,
            "min_height": null,
            "min_width": null,
            "object_fit": null,
            "object_position": null,
            "order": null,
            "overflow": null,
            "overflow_x": null,
            "overflow_y": null,
            "padding": null,
            "right": null,
            "top": null,
            "visibility": null,
            "width": null
          }
        },
        "c6174a1080ec4dca9227db489d1d02ba": {
          "model_module": "@jupyter-widgets/base",
          "model_module_version": "1.2.0",
          "model_name": "LayoutModel",
          "state": {
            "_model_module": "@jupyter-widgets/base",
            "_model_module_version": "1.2.0",
            "_model_name": "LayoutModel",
            "_view_count": null,
            "_view_module": "@jupyter-widgets/base",
            "_view_module_version": "1.2.0",
            "_view_name": "LayoutView",
            "align_content": null,
            "align_items": null,
            "align_self": null,
            "border": null,
            "bottom": null,
            "display": null,
            "flex": null,
            "flex_flow": null,
            "grid_area": null,
            "grid_auto_columns": null,
            "grid_auto_flow": null,
            "grid_auto_rows": null,
            "grid_column": null,
            "grid_gap": null,
            "grid_row": null,
            "grid_template_areas": null,
            "grid_template_columns": null,
            "grid_template_rows": null,
            "height": null,
            "justify_content": null,
            "justify_items": null,
            "left": null,
            "margin": null,
            "max_height": null,
            "max_width": null,
            "min_height": null,
            "min_width": null,
            "object_fit": null,
            "object_position": null,
            "order": null,
            "overflow": null,
            "overflow_x": null,
            "overflow_y": null,
            "padding": null,
            "right": null,
            "top": null,
            "visibility": null,
            "width": null
          }
        },
        "ca4aa980460e4fb685a132b7e806c92b": {
          "model_module": "@jupyter-widgets/controls",
          "model_module_version": "1.5.0",
          "model_name": "HTMLModel",
          "state": {
            "_dom_classes": [],
            "_model_module": "@jupyter-widgets/controls",
            "_model_module_version": "1.5.0",
            "_model_name": "HTMLModel",
            "_view_count": null,
            "_view_module": "@jupyter-widgets/controls",
            "_view_module_version": "1.5.0",
            "_view_name": "HTMLView",
            "description": "",
            "description_tooltip": null,
            "layout": "IPY_MODEL_75ab440b45cd4bdaa5171b618f89c728",
            "placeholder": "​",
            "style": "IPY_MODEL_fcd05520e8734a99bffd7ed641c9bfd5",
            "value": "Downloading data: 100%"
          }
        },
        "ccf71b987038451ab96ced8db505d31a": {
          "model_module": "@jupyter-widgets/controls",
          "model_module_version": "1.5.0",
          "model_name": "ProgressStyleModel",
          "state": {
            "_model_module": "@jupyter-widgets/controls",
            "_model_module_version": "1.5.0",
            "_model_name": "ProgressStyleModel",
            "_view_count": null,
            "_view_module": "@jupyter-widgets/base",
            "_view_module_version": "1.2.0",
            "_view_name": "StyleView",
            "bar_color": null,
            "description_width": ""
          }
        },
        "d0807842d0b14043aaf4802008e38de7": {
          "model_module": "@jupyter-widgets/base",
          "model_module_version": "1.2.0",
          "model_name": "LayoutModel",
          "state": {
            "_model_module": "@jupyter-widgets/base",
            "_model_module_version": "1.2.0",
            "_model_name": "LayoutModel",
            "_view_count": null,
            "_view_module": "@jupyter-widgets/base",
            "_view_module_version": "1.2.0",
            "_view_name": "LayoutView",
            "align_content": null,
            "align_items": null,
            "align_self": null,
            "border": null,
            "bottom": null,
            "display": null,
            "flex": null,
            "flex_flow": null,
            "grid_area": null,
            "grid_auto_columns": null,
            "grid_auto_flow": null,
            "grid_auto_rows": null,
            "grid_column": null,
            "grid_gap": null,
            "grid_row": null,
            "grid_template_areas": null,
            "grid_template_columns": null,
            "grid_template_rows": null,
            "height": null,
            "justify_content": null,
            "justify_items": null,
            "left": null,
            "margin": null,
            "max_height": null,
            "max_width": null,
            "min_height": null,
            "min_width": null,
            "object_fit": null,
            "object_position": null,
            "order": null,
            "overflow": null,
            "overflow_x": null,
            "overflow_y": null,
            "padding": null,
            "right": null,
            "top": null,
            "visibility": null,
            "width": null
          }
        },
        "d2d6861e2eec440ebe1a08e21e257e80": {
          "model_module": "@jupyter-widgets/controls",
          "model_module_version": "1.5.0",
          "model_name": "HBoxModel",
          "state": {
            "_dom_classes": [],
            "_model_module": "@jupyter-widgets/controls",
            "_model_module_version": "1.5.0",
            "_model_name": "HBoxModel",
            "_view_count": null,
            "_view_module": "@jupyter-widgets/controls",
            "_view_module_version": "1.5.0",
            "_view_name": "HBoxView",
            "box_style": "",
            "children": [
              "IPY_MODEL_4bb0bf6f36e144f89c2b45d7101313f3",
              "IPY_MODEL_11166a36c0694e99979732f0a685969b",
              "IPY_MODEL_fecda26ace98424f8c2474b367fa2fd9"
            ],
            "layout": "IPY_MODEL_579c47f7cd074348b8f8e53b39b50054"
          }
        },
        "d3f850bef08b4d0a8f312c2f9a937b75": {
          "model_module": "@jupyter-widgets/base",
          "model_module_version": "1.2.0",
          "model_name": "LayoutModel",
          "state": {
            "_model_module": "@jupyter-widgets/base",
            "_model_module_version": "1.2.0",
            "_model_name": "LayoutModel",
            "_view_count": null,
            "_view_module": "@jupyter-widgets/base",
            "_view_module_version": "1.2.0",
            "_view_name": "LayoutView",
            "align_content": null,
            "align_items": null,
            "align_self": null,
            "border": null,
            "bottom": null,
            "display": null,
            "flex": null,
            "flex_flow": null,
            "grid_area": null,
            "grid_auto_columns": null,
            "grid_auto_flow": null,
            "grid_auto_rows": null,
            "grid_column": null,
            "grid_gap": null,
            "grid_row": null,
            "grid_template_areas": null,
            "grid_template_columns": null,
            "grid_template_rows": null,
            "height": null,
            "justify_content": null,
            "justify_items": null,
            "left": null,
            "margin": null,
            "max_height": null,
            "max_width": null,
            "min_height": null,
            "min_width": null,
            "object_fit": null,
            "object_position": null,
            "order": null,
            "overflow": null,
            "overflow_x": null,
            "overflow_y": null,
            "padding": null,
            "right": null,
            "top": null,
            "visibility": null,
            "width": null
          }
        },
        "dfd8116086ba43e7926a023831da19cb": {
          "model_module": "@jupyter-widgets/base",
          "model_module_version": "1.2.0",
          "model_name": "LayoutModel",
          "state": {
            "_model_module": "@jupyter-widgets/base",
            "_model_module_version": "1.2.0",
            "_model_name": "LayoutModel",
            "_view_count": null,
            "_view_module": "@jupyter-widgets/base",
            "_view_module_version": "1.2.0",
            "_view_name": "LayoutView",
            "align_content": null,
            "align_items": null,
            "align_self": null,
            "border": null,
            "bottom": null,
            "display": null,
            "flex": null,
            "flex_flow": null,
            "grid_area": null,
            "grid_auto_columns": null,
            "grid_auto_flow": null,
            "grid_auto_rows": null,
            "grid_column": null,
            "grid_gap": null,
            "grid_row": null,
            "grid_template_areas": null,
            "grid_template_columns": null,
            "grid_template_rows": null,
            "height": null,
            "justify_content": null,
            "justify_items": null,
            "left": null,
            "margin": null,
            "max_height": null,
            "max_width": null,
            "min_height": null,
            "min_width": null,
            "object_fit": null,
            "object_position": null,
            "order": null,
            "overflow": null,
            "overflow_x": null,
            "overflow_y": null,
            "padding": null,
            "right": null,
            "top": null,
            "visibility": null,
            "width": null
          }
        },
        "e241ce636e274cab96c5f1a127ae125a": {
          "model_module": "@jupyter-widgets/controls",
          "model_module_version": "1.5.0",
          "model_name": "HBoxModel",
          "state": {
            "_dom_classes": [],
            "_model_module": "@jupyter-widgets/controls",
            "_model_module_version": "1.5.0",
            "_model_name": "HBoxModel",
            "_view_count": null,
            "_view_module": "@jupyter-widgets/controls",
            "_view_module_version": "1.5.0",
            "_view_name": "HBoxView",
            "box_style": "",
            "children": [
              "IPY_MODEL_4a1b09c9a086482ea823fdc5542ade43",
              "IPY_MODEL_c205288669c84aee85c134a625a497d8",
              "IPY_MODEL_9d85263290be4f89824f1a847292dc58"
            ],
            "layout": "IPY_MODEL_21af52bfba4445639f48983bba304bcf"
          }
        },
        "e28a7b3cd70940099188389419e580a5": {
          "model_module": "@jupyter-widgets/controls",
          "model_module_version": "1.5.0",
          "model_name": "HBoxModel",
          "state": {
            "_dom_classes": [],
            "_model_module": "@jupyter-widgets/controls",
            "_model_module_version": "1.5.0",
            "_model_name": "HBoxModel",
            "_view_count": null,
            "_view_module": "@jupyter-widgets/controls",
            "_view_module_version": "1.5.0",
            "_view_name": "HBoxView",
            "box_style": "",
            "children": [
              "IPY_MODEL_236ccdfee92844cf87bf91a7154affab",
              "IPY_MODEL_0cb35c13bd144c1aa9d142aba609a87b",
              "IPY_MODEL_732e2c04d8184f10bb5ae8ba2bc0965f"
            ],
            "layout": "IPY_MODEL_55757f31a7c4493cad694e7853f0484a"
          }
        },
        "e36a5e3bed784205b304040dbf1c040c": {
          "model_module": "@jupyter-widgets/controls",
          "model_module_version": "1.5.0",
          "model_name": "FloatProgressModel",
          "state": {
            "_dom_classes": [],
            "_model_module": "@jupyter-widgets/controls",
            "_model_module_version": "1.5.0",
            "_model_name": "FloatProgressModel",
            "_view_count": null,
            "_view_module": "@jupyter-widgets/controls",
            "_view_module_version": "1.5.0",
            "_view_name": "ProgressView",
            "bar_style": "success",
            "description": "",
            "description_tooltip": null,
            "layout": "IPY_MODEL_ad01991f9d5f4e63861f51afb6f2f26b",
            "max": 1,
            "min": 0,
            "orientation": "horizontal",
            "style": "IPY_MODEL_ed76f4b8a66d4ea089bf28a5943420b6",
            "value": 1
          }
        },
        "e5505a103dac4a2d99e3082671414f37": {
          "model_module": "@jupyter-widgets/base",
          "model_module_version": "1.2.0",
          "model_name": "LayoutModel",
          "state": {
            "_model_module": "@jupyter-widgets/base",
            "_model_module_version": "1.2.0",
            "_model_name": "LayoutModel",
            "_view_count": null,
            "_view_module": "@jupyter-widgets/base",
            "_view_module_version": "1.2.0",
            "_view_name": "LayoutView",
            "align_content": null,
            "align_items": null,
            "align_self": null,
            "border": null,
            "bottom": null,
            "display": null,
            "flex": null,
            "flex_flow": null,
            "grid_area": null,
            "grid_auto_columns": null,
            "grid_auto_flow": null,
            "grid_auto_rows": null,
            "grid_column": null,
            "grid_gap": null,
            "grid_row": null,
            "grid_template_areas": null,
            "grid_template_columns": null,
            "grid_template_rows": null,
            "height": null,
            "justify_content": null,
            "justify_items": null,
            "left": null,
            "margin": null,
            "max_height": null,
            "max_width": null,
            "min_height": null,
            "min_width": null,
            "object_fit": null,
            "object_position": null,
            "order": null,
            "overflow": null,
            "overflow_x": null,
            "overflow_y": null,
            "padding": null,
            "right": null,
            "top": null,
            "visibility": null,
            "width": "20px"
          }
        },
        "e8bda38d34ba424bba1a4f42b7015744": {
          "model_module": "@jupyter-widgets/base",
          "model_module_version": "1.2.0",
          "model_name": "LayoutModel",
          "state": {
            "_model_module": "@jupyter-widgets/base",
            "_model_module_version": "1.2.0",
            "_model_name": "LayoutModel",
            "_view_count": null,
            "_view_module": "@jupyter-widgets/base",
            "_view_module_version": "1.2.0",
            "_view_name": "LayoutView",
            "align_content": null,
            "align_items": null,
            "align_self": null,
            "border": null,
            "bottom": null,
            "display": null,
            "flex": null,
            "flex_flow": null,
            "grid_area": null,
            "grid_auto_columns": null,
            "grid_auto_flow": null,
            "grid_auto_rows": null,
            "grid_column": null,
            "grid_gap": null,
            "grid_row": null,
            "grid_template_areas": null,
            "grid_template_columns": null,
            "grid_template_rows": null,
            "height": null,
            "justify_content": null,
            "justify_items": null,
            "left": null,
            "margin": null,
            "max_height": null,
            "max_width": null,
            "min_height": null,
            "min_width": null,
            "object_fit": null,
            "object_position": null,
            "order": null,
            "overflow": null,
            "overflow_x": null,
            "overflow_y": null,
            "padding": null,
            "right": null,
            "top": null,
            "visibility": null,
            "width": null
          }
        },
        "ed76f4b8a66d4ea089bf28a5943420b6": {
          "model_module": "@jupyter-widgets/controls",
          "model_module_version": "1.5.0",
          "model_name": "ProgressStyleModel",
          "state": {
            "_model_module": "@jupyter-widgets/controls",
            "_model_module_version": "1.5.0",
            "_model_name": "ProgressStyleModel",
            "_view_count": null,
            "_view_module": "@jupyter-widgets/base",
            "_view_module_version": "1.2.0",
            "_view_name": "StyleView",
            "bar_color": null,
            "description_width": ""
          }
        },
        "efe371479bf9498ba76c6607675d71ba": {
          "model_module": "@jupyter-widgets/base",
          "model_module_version": "1.2.0",
          "model_name": "LayoutModel",
          "state": {
            "_model_module": "@jupyter-widgets/base",
            "_model_module_version": "1.2.0",
            "_model_name": "LayoutModel",
            "_view_count": null,
            "_view_module": "@jupyter-widgets/base",
            "_view_module_version": "1.2.0",
            "_view_name": "LayoutView",
            "align_content": null,
            "align_items": null,
            "align_self": null,
            "border": null,
            "bottom": null,
            "display": null,
            "flex": null,
            "flex_flow": null,
            "grid_area": null,
            "grid_auto_columns": null,
            "grid_auto_flow": null,
            "grid_auto_rows": null,
            "grid_column": null,
            "grid_gap": null,
            "grid_row": null,
            "grid_template_areas": null,
            "grid_template_columns": null,
            "grid_template_rows": null,
            "height": null,
            "justify_content": null,
            "justify_items": null,
            "left": null,
            "margin": null,
            "max_height": null,
            "max_width": null,
            "min_height": null,
            "min_width": null,
            "object_fit": null,
            "object_position": null,
            "order": null,
            "overflow": null,
            "overflow_x": null,
            "overflow_y": null,
            "padding": null,
            "right": null,
            "top": null,
            "visibility": null,
            "width": "20px"
          }
        },
        "f9d88a73cb2c412a8e869a454e077c6d": {
          "model_module": "@jupyter-widgets/controls",
          "model_module_version": "1.5.0",
          "model_name": "DescriptionStyleModel",
          "state": {
            "_model_module": "@jupyter-widgets/controls",
            "_model_module_version": "1.5.0",
            "_model_name": "DescriptionStyleModel",
            "_view_count": null,
            "_view_module": "@jupyter-widgets/base",
            "_view_module_version": "1.2.0",
            "_view_name": "StyleView",
            "description_width": ""
          }
        },
        "f9fa200b1d02400ab28ffdf0ce877bfa": {
          "model_module": "@jupyter-widgets/controls",
          "model_module_version": "1.5.0",
          "model_name": "ProgressStyleModel",
          "state": {
            "_model_module": "@jupyter-widgets/controls",
            "_model_module_version": "1.5.0",
            "_model_name": "ProgressStyleModel",
            "_view_count": null,
            "_view_module": "@jupyter-widgets/base",
            "_view_module_version": "1.2.0",
            "_view_name": "StyleView",
            "bar_color": null,
            "description_width": ""
          }
        },
        "fcd05520e8734a99bffd7ed641c9bfd5": {
          "model_module": "@jupyter-widgets/controls",
          "model_module_version": "1.5.0",
          "model_name": "DescriptionStyleModel",
          "state": {
            "_model_module": "@jupyter-widgets/controls",
            "_model_module_version": "1.5.0",
            "_model_name": "DescriptionStyleModel",
            "_view_count": null,
            "_view_module": "@jupyter-widgets/base",
            "_view_module_version": "1.2.0",
            "_view_name": "StyleView",
            "description_width": ""
          }
        },
        "fecda26ace98424f8c2474b367fa2fd9": {
          "model_module": "@jupyter-widgets/controls",
          "model_module_version": "1.5.0",
          "model_name": "HTMLModel",
          "state": {
            "_dom_classes": [],
            "_model_module": "@jupyter-widgets/controls",
            "_model_module_version": "1.5.0",
            "_model_name": "HTMLModel",
            "_view_count": null,
            "_view_module": "@jupyter-widgets/controls",
            "_view_module_version": "1.5.0",
            "_view_name": "HTMLView",
            "description": "",
            "description_tooltip": null,
            "layout": "IPY_MODEL_e8bda38d34ba424bba1a4f42b7015744",
            "placeholder": "​",
            "style": "IPY_MODEL_f9d88a73cb2c412a8e869a454e077c6d",
            "value": " 366/366 [00:00&lt;00:00, 1389.02 examples/s]"
          }
        }
      }
    }
  },
  "nbformat": 4,
  "nbformat_minor": 5
}
