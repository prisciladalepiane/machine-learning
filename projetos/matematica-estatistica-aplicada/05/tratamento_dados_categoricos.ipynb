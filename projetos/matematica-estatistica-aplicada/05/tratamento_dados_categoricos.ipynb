{
 "cells": [
  {
   "cell_type": "markdown",
   "id": "611790f3",
   "metadata": {},
   "source": [
    "# Tratamento de dados categóricos e seu impacto na análise estatística\n",
    "\n",
    "O tratamento de variáveis categóricas constitui uma etapa fundamental na preparação de dados para análise estatística e modelagem preditiva. Tais variáveis, por representarem atributos qualitativos de natureza nominal ou ordinal, não podem ser diretamente utilizadas por algoritmos que operam em valores numéricos. A forma como são transformadas pode influenciar de maneira significativa a qualidade dos resultados e a interpretação das análises.\n",
    "\n",
    "Este script tem como propósito demonstrar, por meio de exemplos práticos, como o tratamento de variáveis categóricas impacta a análise estatística. Serão empregadas técnicas de visualização e transformação utilizando bibliotecas como pandas, matplotlib e seaborn, ressaltando as implicações metodológicas de cada abordagem e fornecendo subsídios para a escolha criteriosa da técnica mais apropriada em diferentes contextos analíticos.\n",
    "\n",
    "Entre as estratégias mais utilizadas, destacam-se o **One-Hot Encoding** e o **Ordinal (Label) Encoding**. O One-Hot Encoding consiste na criação de variáveis indicadoras (dummies), atribuindo 0 ou 1 para cada categoria, preservando a ausência de relação de ordem entre elas. Essa abordagem é adequada para variáveis nominais, mas pode aumentar substancialmente a dimensionalidade dos dados. Já o Ordinal Encoding (ou Label Encoding) atribui valores inteiros às categorias de acordo com uma ordem definida, sendo útil em variáveis ordinais ou em contextos em que a relação de hierarquia entre categorias seja relevante. Entretanto, seu uso inadequado pode induzir interpretações artificiais de distância entre categorias quando estas não possuem ordem natural.\n",
    "\n",
    "**Objetivo:** Prever o custo de entrega a partir de variáveis numéricas e categóricas,\n",
    "analisando o impacto de diferentes técnicas de codificação (One-Hot Encoding e Ordinal Encoding)\n",
    "na preparação dos dados e no desempenho dos modelos.\n",
    "\n",
    "### Pacotes utilizados:"
   ]
  },
  {
   "cell_type": "code",
   "execution_count": 2,
   "id": "f12a14f0",
   "metadata": {},
   "outputs": [],
   "source": [
    "# Imports\n",
    "import sklearn\n",
    "import numpy as np\n",
    "import pandas as pd\n",
    "import matplotlib.pyplot as plt\n",
    "import seaborn as sns\n",
    "from sklearn.model_selection import train_test_split\n",
    "from sklearn.preprocessing import OneHotEncoder, OrdinalEncoder, StandardScaler\n",
    "from sklearn.compose import ColumnTransformer\n",
    "from sklearn.pipeline import Pipeline\n",
    "from sklearn.linear_model import LinearRegression\n",
    "from sklearn.metrics import root_mean_squared_error, r2_score\n",
    "import warnings\n",
    "warnings.filterwarnings('ignore')"
   ]
  },
  {
   "cell_type": "markdown",
   "id": "afdf34ad",
   "metadata": {},
   "source": [
    "## Carrega e trata os dados"
   ]
  },
  {
   "cell_type": "code",
   "execution_count": 3,
   "id": "dfb760a1",
   "metadata": {},
   "outputs": [
    {
     "data": {
      "text/html": [
       "<div>\n",
       "<style scoped>\n",
       "    .dataframe tbody tr th:only-of-type {\n",
       "        vertical-align: middle;\n",
       "    }\n",
       "\n",
       "    .dataframe tbody tr th {\n",
       "        vertical-align: top;\n",
       "    }\n",
       "\n",
       "    .dataframe thead th {\n",
       "        text-align: right;\n",
       "    }\n",
       "</style>\n",
       "<table border=\"1\" class=\"dataframe\">\n",
       "  <thead>\n",
       "    <tr style=\"text-align: right;\">\n",
       "      <th></th>\n",
       "      <th>valor_venda_unitario</th>\n",
       "      <th>valor_venda_total</th>\n",
       "      <th>custo_entrega</th>\n",
       "      <th>status_entrega</th>\n",
       "      <th>idade_vendedor</th>\n",
       "      <th>area_urbana</th>\n",
       "      <th>cliente_local</th>\n",
       "    </tr>\n",
       "  </thead>\n",
       "  <tbody>\n",
       "    <tr>\n",
       "      <th>0</th>\n",
       "      <td>9.50</td>\n",
       "      <td>138</td>\n",
       "      <td>11</td>\n",
       "      <td>Ruim</td>\n",
       "      <td>42</td>\n",
       "      <td>Sim</td>\n",
       "      <td>Sim</td>\n",
       "    </tr>\n",
       "    <tr>\n",
       "      <th>1</th>\n",
       "      <td>11.22</td>\n",
       "      <td>111</td>\n",
       "      <td>16</td>\n",
       "      <td>Bom</td>\n",
       "      <td>65</td>\n",
       "      <td>Sim</td>\n",
       "      <td>Sim</td>\n",
       "    </tr>\n",
       "    <tr>\n",
       "      <th>2</th>\n",
       "      <td>10.06</td>\n",
       "      <td>113</td>\n",
       "      <td>10</td>\n",
       "      <td>Medio</td>\n",
       "      <td>59</td>\n",
       "      <td>Sim</td>\n",
       "      <td>Sim</td>\n",
       "    </tr>\n",
       "    <tr>\n",
       "      <th>3</th>\n",
       "      <td>7.40</td>\n",
       "      <td>117</td>\n",
       "      <td>4</td>\n",
       "      <td>Medio</td>\n",
       "      <td>55</td>\n",
       "      <td>Sim</td>\n",
       "      <td>Sim</td>\n",
       "    </tr>\n",
       "    <tr>\n",
       "      <th>4</th>\n",
       "      <td>4.15</td>\n",
       "      <td>141</td>\n",
       "      <td>3</td>\n",
       "      <td>Ruim</td>\n",
       "      <td>38</td>\n",
       "      <td>Sim</td>\n",
       "      <td>Nao</td>\n",
       "    </tr>\n",
       "  </tbody>\n",
       "</table>\n",
       "</div>"
      ],
      "text/plain": [
       "   valor_venda_unitario  valor_venda_total  custo_entrega status_entrega  \\\n",
       "0                  9.50                138             11           Ruim   \n",
       "1                 11.22                111             16            Bom   \n",
       "2                 10.06                113             10          Medio   \n",
       "3                  7.40                117              4          Medio   \n",
       "4                  4.15                141              3           Ruim   \n",
       "\n",
       "   idade_vendedor area_urbana cliente_local  \n",
       "0              42         Sim           Sim  \n",
       "1              65         Sim           Sim  \n",
       "2              59         Sim           Sim  \n",
       "3              55         Sim           Sim  \n",
       "4              38         Sim           Nao  "
      ]
     },
     "execution_count": 3,
     "metadata": {},
     "output_type": "execute_result"
    }
   ],
   "source": [
    "dados = pd.read_csv(\"/home/priscila/Downloads/1-Mat/dados/dataset_p5.csv\")\n",
    "dados.head()"
   ]
  },
  {
   "cell_type": "code",
   "execution_count": 4,
   "id": "f5003971",
   "metadata": {},
   "outputs": [
    {
     "name": "stdout",
     "output_type": "stream",
     "text": [
      "<class 'pandas.core.frame.DataFrame'>\n",
      "RangeIndex: 400 entries, 0 to 399\n",
      "Data columns (total 7 columns):\n",
      " #   Column                Non-Null Count  Dtype  \n",
      "---  ------                --------------  -----  \n",
      " 0   valor_venda_unitario  400 non-null    float64\n",
      " 1   valor_venda_total     400 non-null    int64  \n",
      " 2   custo_entrega         400 non-null    int64  \n",
      " 3   status_entrega        400 non-null    object \n",
      " 4   idade_vendedor        400 non-null    int64  \n",
      " 5   area_urbana           400 non-null    object \n",
      " 6   cliente_local         400 non-null    object \n",
      "dtypes: float64(1), int64(3), object(3)\n",
      "memory usage: 22.0+ KB\n"
     ]
    }
   ],
   "source": [
    "dados.info()"
   ]
  },
  {
   "cell_type": "code",
   "execution_count": 4,
   "id": "f91b34c6",
   "metadata": {},
   "outputs": [
    {
     "data": {
      "text/plain": [
       "(400, 7)"
      ]
     },
     "execution_count": 4,
     "metadata": {},
     "output_type": "execute_result"
    }
   ],
   "source": [
    "dados.shape"
   ]
  },
  {
   "cell_type": "markdown",
   "id": "51049055",
   "metadata": {},
   "source": [
    "### Descrição dos dados\n",
    "\n",
    "O conjunto de dados é composto por 400 observações e 7 variáveis, incluindo atributos numéricos e categóricos. As variáveis são:\n",
    "\n",
    "- valor_venda_unitario (float64): preço unitário do produto vendido.\n",
    "- valor_venda_total (int64): valor total da venda associada à transação.\n",
    "- custo_entrega (int64): variável resposta de interesse, que representa o custo associado à entrega.\n",
    "- status_entrega (object): variável categórica qualitativa que descreve a qualidade ou condição da entrega, com categorias como “Bom”, “Médio” e “Ruim”.\n",
    "idade_vendedor (int64): idade do vendedor responsável pela transação.\n",
    "- area_urbana (object): variável categórica binária que identifica se a venda ocorreu em área urbana (“Sim” ou “Não”).\n",
    "- cliente_local (object): variável categórica binária que indica se o cliente é local (“Sim” ou “Não”).\n",
    "\n",
    "Do total, três variáveis são numéricas (valor_venda_unitario, valor_venda_total, idade_vendedor), e três são categóricas (status_entrega, area_urbana, cliente_local), sendo o custo_entrega a variável-alvo para previsão.\n",
    "\n"
   ]
  },
  {
   "cell_type": "markdown",
   "id": "0d5d7de8",
   "metadata": {},
   "source": [
    "## Análise Exploratória\n",
    "\n",
    "### Para variáveis quantitativas"
   ]
  },
  {
   "cell_type": "code",
   "execution_count": 7,
   "id": "97611c4a",
   "metadata": {},
   "outputs": [
    {
     "data": {
      "image/png": "[encoded data removed]",
      "text/plain": [
       "<Figure size 600x300 with 1 Axes>"
      ]
     },
     "metadata": {},
     "output_type": "display_data"
    }
   ],
   "source": [
    "# Plot de valor_venda_unitario\n",
    "fig, axes = plt.subplots(1, 1, figsize = (6, 3))\n",
    "fig.suptitle('Distribuição do Valor de Venda Unitário')\n",
    "sns.histplot(dados['valor_venda_unitario'], kde = True);"
   ]
  },
  {
   "cell_type": "code",
   "execution_count": null,
   "id": "817c1e8b",
   "metadata": {},
   "outputs": [
    {
     "data": {
      "image/png": "[encoded data removed]",
      "text/plain": [
       "<Figure size 600x300 with 1 Axes>"
      ]
     },
     "metadata": {},
     "output_type": "display_data"
    }
   ],
   "source": [
    "fig, axes = plt.subplots(1, 1, figsize = (6, 3))\n",
    "fig.suptitle('Distribuição do Valor de Venda Total')\n",
    "sns.histplot(dados['valor_venda_total'], kde = True);"
   ]
  },
  {
   "cell_type": "code",
   "execution_count": 9,
   "id": "5b3b04e9",
   "metadata": {},
   "outputs": [
    {
     "data": {
      "image/png": "[encoded data removed]",
      "text/plain": [
       "<Figure size 600x300 with 1 Axes>"
      ]
     },
     "metadata": {},
     "output_type": "display_data"
    }
   ],
   "source": [
    "fig, axes = plt.subplots(1, 1, figsize = (6, 3))\n",
    "fig.suptitle('Distribuição do Valor de Custo de Entrega')\n",
    "sns.histplot(dados['custo_entrega'], kde = True);"
   ]
  },
  {
   "cell_type": "code",
   "execution_count": 11,
   "id": "63449f30",
   "metadata": {},
   "outputs": [
    {
     "data": {
      "image/png": "[encoded data removed]",
      "text/plain": [
       "<Figure size 600x300 with 1 Axes>"
      ]
     },
     "metadata": {},
     "output_type": "display_data"
    }
   ],
   "source": [
    "fig, axes = plt.subplots(1, 1, figsize = (6, 3))\n",
    "fig.suptitle('Distribuição da Idade do vendedor')\n",
    "sns.histplot(dados['idade_vendedor'], kde = True);"
   ]
  },
  {
   "cell_type": "markdown",
   "id": "bf4165c2",
   "metadata": {},
   "source": [
    "### Para variáveis qualitativas"
   ]
  },
  {
   "cell_type": "code",
   "execution_count": 13,
   "id": "dc3448c8",
   "metadata": {},
   "outputs": [],
   "source": [
    "sns.set_style('whitegrid')"
   ]
  },
  {
   "cell_type": "code",
   "execution_count": 17,
   "id": "ecf32f8f",
   "metadata": {},
   "outputs": [
    {
     "data": {
      "image/png": "[encoded data removed]",
      "text/plain": [
       "<Figure size 700x300 with 1 Axes>"
      ]
     },
     "metadata": {},
     "output_type": "display_data"
    }
   ],
   "source": [
    "# Plot de status_entrega\n",
    "fig, axes = plt.subplots(1, 1, figsize = (7, 3))\n",
    "fig.suptitle('Distribuição de Status de Entrega')\n",
    "sns.countplot(data = dados, x = 'status_entrega');"
   ]
  },
  {
   "cell_type": "code",
   "execution_count": 20,
   "id": "ea9a87d5",
   "metadata": {},
   "outputs": [
    {
     "data": {
      "image/png": "[encoded data removed]",
      "text/plain": [
       "<Figure size 700x300 with 1 Axes>"
      ]
     },
     "metadata": {},
     "output_type": "display_data"
    }
   ],
   "source": [
    "fig, axes = plt.subplots(1, 1, figsize = (7, 3))\n",
    "fig.suptitle('Distribuição de Área Urbana')\n",
    "sns.countplot(data = dados, x = 'area_urbana');"
   ]
  },
  {
   "cell_type": "code",
   "execution_count": 24,
   "id": "6bbba088",
   "metadata": {},
   "outputs": [
    {
     "data": {
      "image/png": "[encoded data removed]",
      "text/plain": [
       "<Figure size 600x300 with 1 Axes>"
      ]
     },
     "metadata": {},
     "output_type": "display_data"
    }
   ],
   "source": [
    "# Plot de cliente_local\n",
    "fig, axes = plt.subplots(1, 1, figsize = (6, 3))\n",
    "fig.suptitle('Distribuição de Cliente Local')\n",
    "dados['cliente_local'].value_counts().plot(kind = 'pie', autopct = '%1.1f%%');"
   ]
  },
  {
   "cell_type": "markdown",
   "id": "70fd3dee",
   "metadata": {},
   "source": [
    "## Criando Tabelas de Frequência "
   ]
  },
  {
   "cell_type": "code",
   "execution_count": 28,
   "id": "3a1108c1",
   "metadata": {},
   "outputs": [
    {
     "data": {
      "text/plain": [
       "status_entrega\n",
       "Medio    219\n",
       "Ruim      96\n",
       "Bom       85\n",
       "Name: count, dtype: int64"
      ]
     },
     "execution_count": 28,
     "metadata": {},
     "output_type": "execute_result"
    }
   ],
   "source": [
    "frequencia_status_entrega =  dados['status_entrega'].value_counts()\n",
    "frequencia_status_entrega"
   ]
  },
  {
   "cell_type": "code",
   "execution_count": 31,
   "id": "ff78596f",
   "metadata": {},
   "outputs": [
    {
     "data": {
      "text/plain": [
       "area_urbana\n",
       "Sim    282\n",
       "Nao    118\n",
       "Name: count, dtype: int64"
      ]
     },
     "execution_count": 31,
     "metadata": {},
     "output_type": "execute_result"
    }
   ],
   "source": [
    "dados['area_urbana'].value_counts() \n"
   ]
  },
  {
   "cell_type": "code",
   "execution_count": 29,
   "id": "0b923ed2",
   "metadata": {},
   "outputs": [
    {
     "data": {
      "text/plain": [
       "cliente_local\n",
       "Sim    258\n",
       "Nao    142\n",
       "Name: count, dtype: int64"
      ]
     },
     "execution_count": 29,
     "metadata": {},
     "output_type": "execute_result"
    }
   ],
   "source": [
    "dados['cliente_local'].value_counts()"
   ]
  },
  {
   "cell_type": "markdown",
   "id": "82a11989",
   "metadata": {},
   "source": [
    "## Criando Tabelas de Contingência "
   ]
  },
  {
   "cell_type": "code",
   "execution_count": 37,
   "id": "f3a80106",
   "metadata": {},
   "outputs": [
    {
     "data": {
      "text/html": [
       "<div>\n",
       "<style scoped>\n",
       "    .dataframe tbody tr th:only-of-type {\n",
       "        vertical-align: middle;\n",
       "    }\n",
       "\n",
       "    .dataframe tbody tr th {\n",
       "        vertical-align: top;\n",
       "    }\n",
       "\n",
       "    .dataframe thead th {\n",
       "        text-align: right;\n",
       "    }\n",
       "</style>\n",
       "<table border=\"1\" class=\"dataframe\">\n",
       "  <thead>\n",
       "    <tr style=\"text-align: right;\">\n",
       "      <th>area_urbana</th>\n",
       "      <th>Nao</th>\n",
       "      <th>Sim</th>\n",
       "    </tr>\n",
       "    <tr>\n",
       "      <th>status_entrega</th>\n",
       "      <th></th>\n",
       "      <th></th>\n",
       "    </tr>\n",
       "  </thead>\n",
       "  <tbody>\n",
       "    <tr>\n",
       "      <th>Bom</th>\n",
       "      <td>28</td>\n",
       "      <td>57</td>\n",
       "    </tr>\n",
       "    <tr>\n",
       "      <th>Medio</th>\n",
       "      <td>68</td>\n",
       "      <td>151</td>\n",
       "    </tr>\n",
       "    <tr>\n",
       "      <th>Ruim</th>\n",
       "      <td>22</td>\n",
       "      <td>74</td>\n",
       "    </tr>\n",
       "  </tbody>\n",
       "</table>\n",
       "</div>"
      ],
      "text/plain": [
       "area_urbana     Nao  Sim\n",
       "status_entrega          \n",
       "Bom              28   57\n",
       "Medio            68  151\n",
       "Ruim             22   74"
      ]
     },
     "execution_count": 37,
     "metadata": {},
     "output_type": "execute_result"
    }
   ],
   "source": [
    "# Com duas variáveis categóricas\n",
    "pd.crosstab(dados['status_entrega'], dados['area_urbana'])"
   ]
  },
  {
   "cell_type": "code",
   "execution_count": 38,
   "id": "5b4461eb",
   "metadata": {},
   "outputs": [
    {
     "data": {
      "text/html": [
       "<div>\n",
       "<style scoped>\n",
       "    .dataframe tbody tr th:only-of-type {\n",
       "        vertical-align: middle;\n",
       "    }\n",
       "\n",
       "    .dataframe tbody tr th {\n",
       "        vertical-align: top;\n",
       "    }\n",
       "\n",
       "    .dataframe thead th {\n",
       "        text-align: right;\n",
       "    }\n",
       "</style>\n",
       "<table border=\"1\" class=\"dataframe\">\n",
       "  <thead>\n",
       "    <tr style=\"text-align: right;\">\n",
       "      <th></th>\n",
       "      <th>cliente_local</th>\n",
       "      <th>Nao</th>\n",
       "      <th>Sim</th>\n",
       "      <th>Total</th>\n",
       "    </tr>\n",
       "    <tr>\n",
       "      <th>status_entrega</th>\n",
       "      <th>area_urbana</th>\n",
       "      <th></th>\n",
       "      <th></th>\n",
       "      <th></th>\n",
       "    </tr>\n",
       "  </thead>\n",
       "  <tbody>\n",
       "    <tr>\n",
       "      <th rowspan=\"2\" valign=\"top\">Bom</th>\n",
       "      <th>Nao</th>\n",
       "      <td>6</td>\n",
       "      <td>22</td>\n",
       "      <td>28</td>\n",
       "    </tr>\n",
       "    <tr>\n",
       "      <th>Sim</th>\n",
       "      <td>18</td>\n",
       "      <td>39</td>\n",
       "      <td>57</td>\n",
       "    </tr>\n",
       "    <tr>\n",
       "      <th rowspan=\"2\" valign=\"top\">Medio</th>\n",
       "      <th>Nao</th>\n",
       "      <td>29</td>\n",
       "      <td>39</td>\n",
       "      <td>68</td>\n",
       "    </tr>\n",
       "    <tr>\n",
       "      <th>Sim</th>\n",
       "      <td>55</td>\n",
       "      <td>96</td>\n",
       "      <td>151</td>\n",
       "    </tr>\n",
       "    <tr>\n",
       "      <th rowspan=\"2\" valign=\"top\">Ruim</th>\n",
       "      <th>Nao</th>\n",
       "      <td>11</td>\n",
       "      <td>11</td>\n",
       "      <td>22</td>\n",
       "    </tr>\n",
       "    <tr>\n",
       "      <th>Sim</th>\n",
       "      <td>23</td>\n",
       "      <td>51</td>\n",
       "      <td>74</td>\n",
       "    </tr>\n",
       "    <tr>\n",
       "      <th>Total</th>\n",
       "      <th></th>\n",
       "      <td>142</td>\n",
       "      <td>258</td>\n",
       "      <td>400</td>\n",
       "    </tr>\n",
       "  </tbody>\n",
       "</table>\n",
       "</div>"
      ],
      "text/plain": [
       "cliente_local               Nao  Sim  Total\n",
       "status_entrega area_urbana                 \n",
       "Bom            Nao            6   22     28\n",
       "               Sim           18   39     57\n",
       "Medio          Nao           29   39     68\n",
       "               Sim           55   96    151\n",
       "Ruim           Nao           11   11     22\n",
       "               Sim           23   51     74\n",
       "Total                       142  258    400"
      ]
     },
     "execution_count": 38,
     "metadata": {},
     "output_type": "execute_result"
    }
   ],
   "source": [
    "## Tabela de contigência com 3 variáveis e total\n",
    "pd.crosstab(index = [dados['status_entrega'], dados['area_urbana']], \n",
    "                             columns = dados['cliente_local'],\n",
    "                             margins = True, \n",
    "                             margins_name = \"Total\")"
   ]
  },
  {
   "cell_type": "markdown",
   "id": "4e320056",
   "metadata": {},
   "source": [
    "## Versão 1: One-Hot Encoding\n",
    "\n",
    "Ideal para variáveis qualitativas nominais."
   ]
  },
  {
   "cell_type": "code",
   "execution_count": 5,
   "id": "2bc130cb",
   "metadata": {},
   "outputs": [],
   "source": [
    "# Selecionando as variáveis independentes (X) e a dependente (y)\n",
    "X = dados.drop('custo_entrega', axis = 1)\n",
    "y = dados['custo_entrega']"
   ]
  },
  {
   "cell_type": "code",
   "execution_count": 6,
   "id": "394e973a",
   "metadata": {},
   "outputs": [
    {
     "name": "stdout",
     "output_type": "stream",
     "text": [
      "Variáveis Categóricas: ['status_entrega', 'area_urbana', 'cliente_local']\n",
      "Variáveis Numéricas: ['valor_venda_unitario', 'valor_venda_total', 'idade_vendedor']\n"
     ]
    }
   ],
   "source": [
    "# Separando variáveis categóticas e numéricas\n",
    "variaveis_categoricas = X.select_dtypes(include = 'object').columns.tolist()\n",
    "variaveis_numericas = X.select_dtypes(include = 'number').columns.tolist()\n",
    "\n",
    "print('Variáveis Categóricas:', variaveis_categoricas)\n",
    "print('Variáveis Numéricas:', variaveis_numericas)"
   ]
  },
  {
   "cell_type": "code",
   "execution_count": 7,
   "id": "9deb0679",
   "metadata": {},
   "outputs": [],
   "source": [
    "# Cria trasnformador para variáveis categóricas\n",
    "transformador_categorico = OneHotEncoder(drop = 'first')"
   ]
  },
  {
   "cell_type": "code",
   "execution_count": 8,
   "id": "b478ad4b",
   "metadata": {},
   "outputs": [],
   "source": [
    "### Cria transformador para variáveis numéricas\n",
    "transformador_numerico = StandardScaler()"
   ]
  },
  {
   "cell_type": "code",
   "execution_count": 9,
   "id": "b3182eba",
   "metadata": {},
   "outputs": [],
   "source": [
    "# Combinando os transformadores\n",
    "# Pré-processamento: Codificação One-Hot para variáveis categóricas e padronização para numéricas\n",
    "preprocessador_v1 = ColumnTransformer(\n",
    "    transformers = [\n",
    "        ('cat', transformador_categorico, variaveis_categoricas),\n",
    "        ('num', transformador_numerico, variaveis_numericas)\n",
    "    ])"
   ]
  },
  {
   "cell_type": "code",
   "execution_count": 10,
   "id": "6e3e95b1",
   "metadata": {},
   "outputs": [],
   "source": [
    "# Criando o pipeline com o processamento e com o modelo\n",
    "modelo_v1 = Pipeline(steps = [('preprocessor', preprocessador_v1), ('regressor', LinearRegression())])"
   ]
  },
  {
   "cell_type": "code",
   "execution_count": 11,
   "id": "1ea8dfa8",
   "metadata": {},
   "outputs": [],
   "source": [
    "# Dividindo os dados em treino e teste\n",
    "X_train, X_test, y_train, y_test = train_test_split(X, y, test_size = 0.2, random_state = 29)"
   ]
  },
  {
   "cell_type": "code",
   "execution_count": null,
   "id": "1c4a5075",
   "metadata": {},
   "outputs": [],
   "source": [
    "modelo_v1.fit(X_train, y_train)"
   ]
  },
  {
   "cell_type": "code",
   "execution_count": 14,
   "id": "5ae157d1",
   "metadata": {},
   "outputs": [],
   "source": [
    "y_pred = modelo_v1.predict(X_test)"
   ]
  },
  {
   "cell_type": "code",
   "execution_count": 15,
   "id": "6eae7101",
   "metadata": {},
   "outputs": [
    {
     "name": "stdout",
     "output_type": "stream",
     "text": [
      "RMSE: 4.23\n",
      "R²: 0.55\n"
     ]
    }
   ],
   "source": [
    "rmse_v1 = root_mean_squared_error(y_test, y_pred)\n",
    "r2_v1 = r2_score(y_test, y_pred)\n",
    "\n",
    "print(f'RMSE: {rmse_v1:.2f}')\n",
    "print(f'R²: {r2_v1:.2f}')"
   ]
  },
  {
   "cell_type": "markdown",
   "id": "8a79dc44",
   "metadata": {},
   "source": [
    "## Versão 2: Ordinal Label Encoding\n",
    "\n",
    "Ideal para variáveis qualitativas ordinais."
   ]
  },
  {
   "cell_type": "code",
   "execution_count": 16,
   "id": "25751526",
   "metadata": {},
   "outputs": [],
   "source": [
    "# Separa as variáveis categóricas (nominais e ordinais)\n",
    "variaveis_categoricas_nominais = ['area_urbana', 'cliente_local']\n",
    "variaveis_categoricas_ordinais = ['status_entrega']"
   ]
  },
  {
   "cell_type": "code",
   "execution_count": 17,
   "id": "a82247ac",
   "metadata": {},
   "outputs": [],
   "source": [
    "# TRansformador para variáveis categóricas ordinais\n",
    "transformador_categorico_ordinal = OrdinalEncoder(categories = [['Ruim', 'Medio', 'Bom']])\n",
    "\n",
    "# Trasnformador para variáveis categóricas nominais\n",
    "transformador_categorico_nominal = OneHotEncoder(drop = 'first')"
   ]
  },
  {
   "cell_type": "code",
   "execution_count": 18,
   "id": "b9f6df7a",
   "metadata": {},
   "outputs": [],
   "source": [
    "# Combinando os transformadores\n",
    "preprocessor_v2 = ColumnTransformer(\n",
    "    transformers = [\n",
    "        ('cat_nom', transformador_categorico_nominal, variaveis_categoricas_nominais),\n",
    "        ('cat_ord', transformador_categorico_ordinal, variaveis_categoricas_ordinais),\n",
    "        ('num', transformador_numerico, variaveis_numericas)\n",
    "    ])"
   ]
  },
  {
   "cell_type": "code",
   "execution_count": 19,
   "id": "8c668475",
   "metadata": {},
   "outputs": [],
   "source": [
    "modelo_v2 = Pipeline(steps = [('preprocessor', preprocessor_v2), ('regressor', LinearRegression())])"
   ]
  },
  {
   "cell_type": "code",
   "execution_count": null,
   "id": "3b85c44f",
   "metadata": {},
   "outputs": [],
   "source": [
    "# Fit do modelo com dados de treino\n",
    "modelo_v2.fit(X_train, y_train)"
   ]
  },
  {
   "cell_type": "code",
   "execution_count": 21,
   "id": "5cb7e846",
   "metadata": {},
   "outputs": [],
   "source": [
    "# Previsões com dados de teste\n",
    "y_pred_v2 = modelo_v2.predict(X_train)"
   ]
  },
  {
   "cell_type": "code",
   "execution_count": 23,
   "id": "1c22b017",
   "metadata": {},
   "outputs": [
    {
     "name": "stdout",
     "output_type": "stream",
     "text": [
      "RMSE v2: 4.82\n",
      "R² v2: 0.49\n"
     ]
    }
   ],
   "source": [
    "# Avaliação do modelo v2\n",
    "rmse_v2 = root_mean_squared_error(y_train, y_pred_v2)\n",
    "r2_v2 = r2_score(y_train, y_pred_v2)\n",
    "\n",
    "print(f'RMSE v2: {rmse_v2:.2f}')\n",
    "print(f'R² v2: {r2_v2:.2f}')"
   ]
  },
  {
   "cell_type": "markdown",
   "id": "885fdafd",
   "metadata": {},
   "source": [
    "## Comparação das versões\n",
    "\n",
    "As diferenças nas métricas entre os dois blocos de código (versão 1 e 2 dos modelos) podem ser atribuídas principalmente à forma como as variáveis categóricas são tratadas no pré-processamento antes de ajustar o modelo de regressão linear. Vamos analisar os principais pontos que contribuem para essa diferença:\n",
    "\n",
    "**Tratamento de Variáveis Categóricas**\n",
    "\n",
    "Versão 1: Todas as variáveis categóricas são tratadas usando OneHotEncoder com a opção drop='first'. Este método cria variáveis dummy para cada categoria, excluindo a primeira para evitar a redundância.\n",
    "\n",
    "Versão 2: Separa as variáveis categóricas em nominais e ordinais. As nominais continuam sendo tratadas com OneHotEncoder (também com drop='first'), enquanto as ordinais são tratadas com OrdinalEncoder. Esta abordagem mantém a ordem natural das variáveis categóricas ordinais, o que pode ser importante dependendo da relação entre a variável categórica e a variável dependente.\n",
    "\n",
    "**Impacto no Modelo**\n",
    "\n",
    "Representação de Dados: A principal diferença entre os blocos está na forma como as informações categóricas são representadas e inseridas no modelo. Ao tratar variáveis ordinais de maneira diferenciada, o Bloco 2 pode capturar melhor a relação ordinal inerente, o que, teoricamente, poderia levar a uma modelagem mais precisa.\n",
    "\n",
    "Resultados: Na prática, as métricas de desempenho (RMSE e R²) do Bloco 2 são ligeiramente piores do que as do Bloco 1. Isso pode indicar que, para este conjunto específico de dados e tarefa de modelagem, a informação capturada pela codificação ordinal não compensou a complexidade adicional ou a representação simplificada que ela oferece. Outra possibilidade é que a relação entre a variável categórica ordinal e a variável dependente não seja linear ou não se beneficie da representação ordinal neste contexto específico.\n",
    "\n",
    "**Considerações**\n",
    "\n",
    "Escolha do Método de Codificação: A escolha entre diferentes métodos de codificação depende da natureza das variáveis categóricas e de como elas se relacionam com a variável dependente. Nem sempre a abordagem mais complexa (separando nominais de ordinais) resulta em melhor desempenho do modelo."
   ]
  },
  {
   "cell_type": "markdown",
   "id": "b5dfb47f",
   "metadata": {},
   "source": [
    "## Interpretando a Relação das Variáveis Preditoras com a Variável Alvo"
   ]
  },
  {
   "cell_type": "code",
   "execution_count": 28,
   "id": "014d357d",
   "metadata": {},
   "outputs": [],
   "source": [
    "# Para extrair os coeficientes, precisamos acessar o regressor dentro do pipeline...\n",
    "model_regressor = modelo_v1.named_steps['regressor']"
   ]
  },
  {
   "cell_type": "code",
   "execution_count": 33,
   "id": "fdfed137",
   "metadata": {},
   "outputs": [
    {
     "data": {
      "text/plain": [
       "array(['status_entrega_Medio', 'status_entrega_Ruim', 'area_urbana_Sim',\n",
       "       'cliente_local_Sim'], dtype=object)"
      ]
     },
     "execution_count": 33,
     "metadata": {},
     "output_type": "execute_result"
    }
   ],
   "source": [
    "# e também tratar a transformação One-Hot para obter os nomes das variáveis\n",
    "atrib_cat = modelo_v1.named_steps['preprocessor'].named_transformers_['cat'].get_feature_names_out(variaveis_categoricas)\n",
    "atrib_cat"
   ]
  },
  {
   "cell_type": "code",
   "execution_count": 35,
   "id": "bdaba176",
   "metadata": {},
   "outputs": [
    {
     "data": {
      "text/plain": [
       "['valor_venda_unitario',\n",
       " 'valor_venda_total',\n",
       " 'idade_vendedor',\n",
       " 'status_entrega_Medio',\n",
       " 'status_entrega_Ruim',\n",
       " 'area_urbana_Sim',\n",
       " 'cliente_local_Sim']"
      ]
     },
     "execution_count": 35,
     "metadata": {},
     "output_type": "execute_result"
    }
   ],
   "source": [
    "# Combinando os nomes das variáveis numéricas e categóricas transformadas\n",
    "nomes_todos_atributos = variaveis_numericas + list(atrib_cat)\n",
    "\n",
    "nomes_todos_atributos"
   ]
  },
  {
   "cell_type": "code",
   "execution_count": 36,
   "id": "53d824f1",
   "metadata": {},
   "outputs": [],
   "source": [
    "# Coeficientes do modelo\n",
    "coeficientes = model_regressor.coef_"
   ]
  },
  {
   "cell_type": "code",
   "execution_count": 39,
   "id": "ef2cdd81",
   "metadata": {},
   "outputs": [
    {
     "data": {
      "text/html": [
       "<div>\n",
       "<style scoped>\n",
       "    .dataframe tbody tr th:only-of-type {\n",
       "        vertical-align: middle;\n",
       "    }\n",
       "\n",
       "    .dataframe tbody tr th {\n",
       "        vertical-align: top;\n",
       "    }\n",
       "\n",
       "    .dataframe thead th {\n",
       "        text-align: right;\n",
       "    }\n",
       "</style>\n",
       "<table border=\"1\" class=\"dataframe\">\n",
       "  <thead>\n",
       "    <tr style=\"text-align: right;\">\n",
       "      <th></th>\n",
       "      <th>Atributo</th>\n",
       "      <th>Coeficiente</th>\n",
       "    </tr>\n",
       "  </thead>\n",
       "  <tbody>\n",
       "    <tr>\n",
       "      <th>0</th>\n",
       "      <td>valor_venda_unitario</td>\n",
       "      <td>1.572001</td>\n",
       "    </tr>\n",
       "    <tr>\n",
       "      <th>1</th>\n",
       "      <td>valor_venda_total</td>\n",
       "      <td>1.711463</td>\n",
       "    </tr>\n",
       "    <tr>\n",
       "      <th>2</th>\n",
       "      <td>idade_vendedor</td>\n",
       "      <td>0.213349</td>\n",
       "    </tr>\n",
       "    <tr>\n",
       "      <th>3</th>\n",
       "      <td>status_entrega_Medio</td>\n",
       "      <td>8.848048</td>\n",
       "    </tr>\n",
       "    <tr>\n",
       "      <th>4</th>\n",
       "      <td>status_entrega_Ruim</td>\n",
       "      <td>1.678592</td>\n",
       "    </tr>\n",
       "    <tr>\n",
       "      <th>5</th>\n",
       "      <td>area_urbana_Sim</td>\n",
       "      <td>-0.185015</td>\n",
       "    </tr>\n",
       "    <tr>\n",
       "      <th>6</th>\n",
       "      <td>cliente_local_Sim</td>\n",
       "      <td>0.269747</td>\n",
       "    </tr>\n",
       "  </tbody>\n",
       "</table>\n",
       "</div>"
      ],
      "text/plain": [
       "               Atributo  Coeficiente\n",
       "0  valor_venda_unitario     1.572001\n",
       "1     valor_venda_total     1.711463\n",
       "2        idade_vendedor     0.213349\n",
       "3  status_entrega_Medio     8.848048\n",
       "4   status_entrega_Ruim     1.678592\n",
       "5       area_urbana_Sim    -0.185015\n",
       "6     cliente_local_Sim     0.269747"
      ]
     },
     "execution_count": 39,
     "metadata": {},
     "output_type": "execute_result"
    }
   ],
   "source": [
    "# Criando um DataFrame para melhor visualização\n",
    "coef_df = pd.DataFrame({'Atributo': nomes_todos_atributos, 'Coeficiente': coeficientes})\n",
    "coef_df"
   ]
  },
  {
   "cell_type": "code",
   "execution_count": 40,
   "id": "9460fdb7",
   "metadata": {},
   "outputs": [
    {
     "data": {
      "text/html": [
       "<div>\n",
       "<style scoped>\n",
       "    .dataframe tbody tr th:only-of-type {\n",
       "        vertical-align: middle;\n",
       "    }\n",
       "\n",
       "    .dataframe tbody tr th {\n",
       "        vertical-align: top;\n",
       "    }\n",
       "\n",
       "    .dataframe thead th {\n",
       "        text-align: right;\n",
       "    }\n",
       "</style>\n",
       "<table border=\"1\" class=\"dataframe\">\n",
       "  <thead>\n",
       "    <tr style=\"text-align: right;\">\n",
       "      <th></th>\n",
       "      <th>Atributo</th>\n",
       "      <th>Coeficiente</th>\n",
       "    </tr>\n",
       "  </thead>\n",
       "  <tbody>\n",
       "    <tr>\n",
       "      <th>3</th>\n",
       "      <td>status_entrega_Medio</td>\n",
       "      <td>8.848048</td>\n",
       "    </tr>\n",
       "    <tr>\n",
       "      <th>1</th>\n",
       "      <td>valor_venda_total</td>\n",
       "      <td>1.711463</td>\n",
       "    </tr>\n",
       "    <tr>\n",
       "      <th>4</th>\n",
       "      <td>status_entrega_Ruim</td>\n",
       "      <td>1.678592</td>\n",
       "    </tr>\n",
       "    <tr>\n",
       "      <th>0</th>\n",
       "      <td>valor_venda_unitario</td>\n",
       "      <td>1.572001</td>\n",
       "    </tr>\n",
       "    <tr>\n",
       "      <th>6</th>\n",
       "      <td>cliente_local_Sim</td>\n",
       "      <td>0.269747</td>\n",
       "    </tr>\n",
       "    <tr>\n",
       "      <th>2</th>\n",
       "      <td>idade_vendedor</td>\n",
       "      <td>0.213349</td>\n",
       "    </tr>\n",
       "    <tr>\n",
       "      <th>5</th>\n",
       "      <td>area_urbana_Sim</td>\n",
       "      <td>-0.185015</td>\n",
       "    </tr>\n",
       "  </tbody>\n",
       "</table>\n",
       "</div>"
      ],
      "text/plain": [
       "               Atributo  Coeficiente\n",
       "3  status_entrega_Medio     8.848048\n",
       "1     valor_venda_total     1.711463\n",
       "4   status_entrega_Ruim     1.678592\n",
       "0  valor_venda_unitario     1.572001\n",
       "6     cliente_local_Sim     0.269747\n",
       "2        idade_vendedor     0.213349\n",
       "5       area_urbana_Sim    -0.185015"
      ]
     },
     "execution_count": 40,
     "metadata": {},
     "output_type": "execute_result"
    }
   ],
   "source": [
    "# Ordenando os coeficientes por magnitude (valor absoluto)\n",
    "coef_df = coef_df.reindex(coef_df.Coeficiente.abs().sort_values(ascending = False).index)\n",
    "\n",
    "coef_df"
   ]
  }
 ],
 "metadata": {
  "kernelspec": {
   "display_name": "Python 3",
   "language": "python",
   "name": "python3"
  },
  "language_info": {
   "codemirror_mode": {
    "name": "ipython",
    "version": 3
   },
   "file_extension": ".py",
   "mimetype": "text/x-python",
   "name": "python",
   "nbconvert_exporter": "python",
   "pygments_lexer": "ipython3",
   "version": "3.10.12"
  }
 },
 "nbformat": 4,
 "nbformat_minor": 5
}
