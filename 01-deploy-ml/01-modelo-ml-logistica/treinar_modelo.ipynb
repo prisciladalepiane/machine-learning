{
 "cells": [
  {
   "cell_type": "markdown",
   "id": "14c18e2c",
   "metadata": {},
   "source": [
    "# Projeto 1 - Construção e Deploy de Modelo de Machine Learning\n",
    "\n",
    "## Exemplo de Processo para a área de logística:\n",
    "\n",
    "Problema: Uma  das  questões  cruciais  enfrentadas  pelas  empresas  de  logística  é  a  identificação rápida e precisa do conteúdo das embalagens, para garantir que sejam manuseadas de maneira adequada, evitando danos. Muitas vezes, as embalagens externas não dão indicaçõesclaras sobre o seu conteúdo, o que pode levar a tratamentos inadequados e, consequentemente, a custos adicionais e insatisfação do cliente. \n",
    "\n",
    "Solução Proposta: Desenvolver um modelo de Machine Learning que, com base em duas variáveis simples: o peso do pacote e o tipo de embalagem, seja capaz de prever o produto eletrônico contido dentro  da  embalagem.  Este  modelo  permitirá  que  os  funcionários  do  centro  logístico rapidamente identifiquem e classifiquem os pacotes, garantindo que cada produto receba o tratamento adequado durante o processo logístico.\n",
    "\n",
    "Coleta de dados: Será essencial coletar dados sobre o peso e tipo de embalagem de diferentes produtos eletrônicos. Esse dataset será a base para o treinamento do modelo.\n",
    "\n",
    "Desenvolvimento  do  Modelo:  Utilizando  técnicas  modernas  de  Machine  Learning,  o modelo será treinado para correlacionar peso e tipo de embalagem com o produto eletrônico específico.\n",
    "\n",
    "Avaliação e Otimização: Uma vez treinado, o modelo será avaliado em sua capacidade de prever  com  precisão  o  conteúdo  das  embalagens  em  um  conjunto  de  dados  de  teste. Dependendo dos resultados, ajustes e otimizações podem ser necessários.\n",
    "\n",
    "Deploy: Com o modelo treinado e otimizado, ele será implantado em uma aplicação web, permitindo que os funcionários do centro logístico insiram o peso e o tipo de embalagem e recebam uma previsão do conteúdo da embalagem em tempo real.\n",
    "\n",
    "## Construção do Modelo de Machine Learning"
   ]
  },
  {
   "cell_type": "markdown",
   "id": "fd38852a",
   "metadata": {},
   "source": [
    "### Pacotes e bibliotecas"
   ]
  },
  {
   "cell_type": "code",
   "execution_count": null,
   "id": "6b3f7776",
   "metadata": {},
   "outputs": [],
   "source": [
    "%pip install joblib\n",
    "%pip install scikit-learn\n",
    "%pip install pandas"
   ]
  },
  {
   "cell_type": "code",
   "execution_count": 2,
   "id": "9d105f8a",
   "metadata": {},
   "outputs": [],
   "source": [
    "# Imports\n",
    "import joblib\n",
    "import pandas as pd\n",
    "from sklearn.preprocessing import LabelEncoder\n",
    "from sklearn.model_selection import train_test_split\n",
    "from sklearn.tree import DecisionTreeClassifier\n",
    "from sklearn.metrics import accuracy_score\n",
    "from sklearn.metrics import classification_report"
   ]
  },
  {
   "cell_type": "markdown",
   "id": "b479704d",
   "metadata": {},
   "source": [
    "### Dados\n",
    "dados sobre o peso e tipo de embalagem de diferentes produtos eletrônicos"
   ]
  },
  {
   "cell_type": "code",
   "execution_count": 3,
   "id": "2818a7a5",
   "metadata": {},
   "outputs": [],
   "source": [
    "# Dados de de produtos\n",
    "dsa_dados = {\n",
    "    'Peso_Embalagem_Gr': [212, 215, 890, 700, 230, 240, 730, 780, 218, 750, 202, 680],\n",
    "    'Tipo_Embalagem': ['Caixa de Papelão', 'Caixa de Papelão', 'Plástico Bolha', 'Plástico Bolha', 'Caixa de Papelão', 'Caixa de Papelão', 'Plástico Bolha', 'Plástico Bolha', 'Caixa de Papelão', 'Plástico Bolha', 'Caixa de Papelão', 'Plástico Bolha'],\n",
    "    'Tipo_Produto': ['Smartphone', 'Tablet', 'Tablet', 'Tablet', 'Smartphone', 'Smartphone', 'Tablet', 'Smartphone', 'Smartphone', 'Tablet', 'Smartphone', 'Tablet']  # Alterei o segundo e o oitavo rótulo\n",
    "}\n",
    "\n",
    "\n",
    "df = pd.DataFrame(dsa_dados)"
   ]
  },
  {
   "cell_type": "markdown",
   "id": "70685635",
   "metadata": {},
   "source": [
    "### Preparação dos dados"
   ]
  },
  {
   "cell_type": "code",
   "execution_count": 4,
   "id": "979ffbbc",
   "metadata": {},
   "outputs": [],
   "source": [
    "# Separa X (entrada) e Y (saída)\n",
    "X = df[['Peso_Embalagem_Gr', 'Tipo_Embalagem']]\n",
    "y = df['Tipo_Produto']\n",
    "\n",
    "# Divide os dados em treino e teste\n",
    "X_train, X_test, y_train, y_test = train_test_split(X, y, test_size = 0.2, random_state = 1)  "
   ]
  },
  {
   "cell_type": "markdown",
   "id": "9c293a26",
   "metadata": {},
   "source": [
    "\n",
    "`LabelEncoder()` é uma classe da biblioteca scikit-learn em Python usada para transformar variáveis categóricas em números inteiros. Converte cada categoria em um número único."
   ]
  },
  {
   "cell_type": "code",
   "execution_count": 5,
   "id": "490a0fe4",
   "metadata": {},
   "outputs": [],
   "source": [
    "# Criado os codificadores para as variáveis categóricas\n",
    "le_tipo_embalagem = LabelEncoder()\n",
    "le_tipo_produto = LabelEncoder()\n",
    "\n",
    "# Ajuste do codificador aos dados\n",
    "le_tipo_embalagem.fit(X_train['Tipo_Embalagem'])\n",
    "le_tipo_produto.fit(y_train)\n",
    "\n",
    "# Aplica a transformação nos dados de treinamento e teste \n",
    "X_train['Tipo_Embalagem'] = le_tipo_embalagem.transform(X_train['Tipo_Embalagem'])\n",
    "X_test['Tipo_Embalagem'] = le_tipo_embalagem.transform(X_test['Tipo_Embalagem'])\n",
    "y_train = le_tipo_produto.transform(y_train)\n",
    "y_test = le_tipo_produto.transform(y_test)"
   ]
  },
  {
   "cell_type": "markdown",
   "id": "f09ea391",
   "metadata": {},
   "source": [
    "### Desenvolvimento do modelo"
   ]
  },
  {
   "cell_type": "code",
   "execution_count": 6,
   "id": "14c14e07",
   "metadata": {},
   "outputs": [
    {
     "name": "stdout",
     "output_type": "stream",
     "text": [
      "\n",
      "Acurácia:  0.67\n",
      "\n",
      "Relatório de Classificação:\n",
      "\n",
      "              precision    recall  f1-score   support\n",
      "\n",
      "           0       0.50      1.00      0.67         1\n",
      "           1       1.00      0.50      0.67         2\n",
      "\n",
      "    accuracy                           0.67         3\n",
      "   macro avg       0.75      0.75      0.67         3\n",
      "weighted avg       0.83      0.67      0.67         3\n",
      "\n"
     ]
    }
   ],
   "source": [
    "# Cria o modelo\n",
    "modelo = DecisionTreeClassifier()\n",
    "\n",
    "# Treina o modelo\n",
    "modelo.fit(X_train, y_train)\n",
    "\n",
    "# Faz previsão com o modelo\n",
    "y_pred = modelo.predict(X_test)\n",
    "\n",
    "# Calcula a acurácia\n",
    "acc_modelo = accuracy_score(y_test, y_pred)\n",
    "\n",
    "# Print\n",
    "print(f\"\\nAcurácia: \", round(acc_modelo,2))\n",
    "\n",
    "print(\"\\nRelatório de Classificação:\\n\")\n",
    "\n",
    "# Obtém o classification report\n",
    "report = classification_report(y_test, y_pred)\n",
    "\n",
    "# Imprimir o report\n",
    "print(report)"
   ]
  },
  {
   "cell_type": "markdown",
   "id": "7238e778",
   "metadata": {},
   "source": [
    "Primeira verão do modelo, o modelo pode melhorar."
   ]
  },
  {
   "cell_type": "code",
   "execution_count": 7,
   "id": "a3a8cf98",
   "metadata": {},
   "outputs": [
    {
     "data": {
      "text/plain": [
       "['modelos/transformador_tipo_produto.pkl']"
      ]
     },
     "execution_count": 7,
     "metadata": {},
     "output_type": "execute_result"
    }
   ],
   "source": [
    "# Salva o modelo treinado\n",
    "joblib.dump(modelo, 'modelos/modelo_logistica.pkl')\n",
    "\n",
    "# Salva os transformadores\n",
    "joblib.dump(le_tipo_embalagem, 'modelos/transformador_tipo_embalagem.pkl')\n",
    "joblib.dump(le_tipo_produto, 'modelos/transformador_tipo_produto.pkl')"
   ]
  }
 ],
 "metadata": {
  "kernelspec": {
   "display_name": "Python 3",
   "language": "python",
   "name": "python3"
  },
  "language_info": {
   "codemirror_mode": {
    "name": "ipython",
    "version": 3
   },
   "file_extension": ".py",
   "mimetype": "text/x-python",
   "name": "python",
   "nbconvert_exporter": "python",
   "pygments_lexer": "ipython3",
   "version": "3.10.12"
  }
 },
 "nbformat": 4,
 "nbformat_minor": 5
}
