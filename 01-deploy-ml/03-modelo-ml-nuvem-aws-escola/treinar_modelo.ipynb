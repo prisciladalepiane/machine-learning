{
 "cells": [
  {
   "cell_type": "markdown",
   "id": "42267421",
   "metadata": {},
   "source": [
    "# Modelo de Machine Learning na Nuvem AWS para escolas"
   ]
  },
  {
   "cell_type": "code",
   "execution_count": 2,
   "id": "633b50cd",
   "metadata": {},
   "outputs": [],
   "source": [
    "# Imports\n",
    "import sklearn\n",
    "import pickle\n",
    "import numpy as np\n",
    "import pandas as pd\n",
    "from sklearn.model_selection import train_test_split\n",
    "from sklearn.preprocessing import StandardScaler\n",
    "from sklearn.linear_model import LogisticRegression\n",
    "from sklearn.ensemble import RandomForestClassifier\n",
    "from sklearn.svm import SVC\n",
    "from sklearn.metrics import accuracy_score, roc_auc_score, classification_report"
   ]
  },
  {
   "cell_type": "markdown",
   "id": "90b2125a",
   "metadata": {},
   "source": [
    "## Dados"
   ]
  },
  {
   "cell_type": "code",
   "execution_count": 84,
   "id": "ca537240",
   "metadata": {},
   "outputs": [
    {
     "data": {
      "text/html": [
       "<div>\n",
       "<style scoped>\n",
       "    .dataframe tbody tr th:only-of-type {\n",
       "        vertical-align: middle;\n",
       "    }\n",
       "\n",
       "    .dataframe tbody tr th {\n",
       "        vertical-align: top;\n",
       "    }\n",
       "\n",
       "    .dataframe thead th {\n",
       "        text-align: right;\n",
       "    }\n",
       "</style>\n",
       "<table border=\"1\" class=\"dataframe\">\n",
       "  <thead>\n",
       "    <tr style=\"text-align: right;\">\n",
       "      <th></th>\n",
       "      <th>nota_exame_ingles</th>\n",
       "      <th>valor_qi</th>\n",
       "      <th>nota_exame_psicotecnico</th>\n",
       "      <th>admitido</th>\n",
       "    </tr>\n",
       "  </thead>\n",
       "  <tbody>\n",
       "    <tr>\n",
       "      <th>0</th>\n",
       "      <td>5.41</td>\n",
       "      <td>115</td>\n",
       "      <td>54</td>\n",
       "      <td>0</td>\n",
       "    </tr>\n",
       "    <tr>\n",
       "      <th>1</th>\n",
       "      <td>7.36</td>\n",
       "      <td>105</td>\n",
       "      <td>77</td>\n",
       "      <td>1</td>\n",
       "    </tr>\n",
       "    <tr>\n",
       "      <th>2</th>\n",
       "      <td>7.76</td>\n",
       "      <td>96</td>\n",
       "      <td>62</td>\n",
       "      <td>1</td>\n",
       "    </tr>\n",
       "    <tr>\n",
       "      <th>3</th>\n",
       "      <td>5.51</td>\n",
       "      <td>112</td>\n",
       "      <td>51</td>\n",
       "      <td>0</td>\n",
       "    </tr>\n",
       "    <tr>\n",
       "      <th>4</th>\n",
       "      <td>7.19</td>\n",
       "      <td>97</td>\n",
       "      <td>47</td>\n",
       "      <td>1</td>\n",
       "    </tr>\n",
       "  </tbody>\n",
       "</table>\n",
       "</div>"
      ],
      "text/plain": [
       "   nota_exame_ingles  valor_qi  nota_exame_psicotecnico  admitido\n",
       "0               5.41       115                       54         0\n",
       "1               7.36       105                       77         1\n",
       "2               7.76        96                       62         1\n",
       "3               5.51       112                       51         0\n",
       "4               7.19        97                       47         1"
      ]
     },
     "execution_count": 84,
     "metadata": {},
     "output_type": "execute_result"
    }
   ],
   "source": [
    "dados = pd.read_csv(\"data/dataset.csv\")\n",
    "dados.head()"
   ]
  },
  {
   "cell_type": "markdown",
   "id": "3f86cfbb",
   "metadata": {},
   "source": [
    "## Pré-processamento"
   ]
  },
  {
   "cell_type": "code",
   "execution_count": 85,
   "id": "74769d2f",
   "metadata": {},
   "outputs": [
    {
     "data": {
      "text/plain": [
       "(300, 4)"
      ]
     },
     "execution_count": 85,
     "metadata": {},
     "output_type": "execute_result"
    }
   ],
   "source": [
    "dados.shape"
   ]
  },
  {
   "cell_type": "code",
   "execution_count": 86,
   "id": "c87909ed",
   "metadata": {},
   "outputs": [],
   "source": [
    "# VAriáveis preditoras\n",
    "X = dados.drop(columns='admitido')\n",
    "y = dados['admitido']"
   ]
  },
  {
   "cell_type": "code",
   "execution_count": 87,
   "id": "e8f7bf1a",
   "metadata": {},
   "outputs": [],
   "source": [
    "X_treino, X_teste, y_treino, y_teste = train_test_split(X, y , test_size=0.2, random_state=2)"
   ]
  },
  {
   "cell_type": "code",
   "execution_count": 88,
   "id": "f0e4a187",
   "metadata": {},
   "outputs": [
    {
     "data": {
      "text/html": [
       "<div>\n",
       "<style scoped>\n",
       "    .dataframe tbody tr th:only-of-type {\n",
       "        vertical-align: middle;\n",
       "    }\n",
       "\n",
       "    .dataframe tbody tr th {\n",
       "        vertical-align: top;\n",
       "    }\n",
       "\n",
       "    .dataframe thead th {\n",
       "        text-align: right;\n",
       "    }\n",
       "</style>\n",
       "<table border=\"1\" class=\"dataframe\">\n",
       "  <thead>\n",
       "    <tr style=\"text-align: right;\">\n",
       "      <th></th>\n",
       "      <th>nota_exame_ingles</th>\n",
       "      <th>valor_qi</th>\n",
       "      <th>nota_exame_psicotecnico</th>\n",
       "    </tr>\n",
       "  </thead>\n",
       "  <tbody>\n",
       "    <tr>\n",
       "      <th>count</th>\n",
       "      <td>240.0</td>\n",
       "      <td>240.0</td>\n",
       "      <td>240.0</td>\n",
       "    </tr>\n",
       "    <tr>\n",
       "      <th>mean</th>\n",
       "      <td>7.0</td>\n",
       "      <td>103.0</td>\n",
       "      <td>60.0</td>\n",
       "    </tr>\n",
       "    <tr>\n",
       "      <th>std</th>\n",
       "      <td>1.0</td>\n",
       "      <td>8.0</td>\n",
       "      <td>15.0</td>\n",
       "    </tr>\n",
       "    <tr>\n",
       "      <th>min</th>\n",
       "      <td>5.0</td>\n",
       "      <td>83.0</td>\n",
       "      <td>23.0</td>\n",
       "    </tr>\n",
       "    <tr>\n",
       "      <th>25%</th>\n",
       "      <td>6.0</td>\n",
       "      <td>96.0</td>\n",
       "      <td>51.0</td>\n",
       "    </tr>\n",
       "    <tr>\n",
       "      <th>50%</th>\n",
       "      <td>7.0</td>\n",
       "      <td>104.0</td>\n",
       "      <td>60.0</td>\n",
       "    </tr>\n",
       "    <tr>\n",
       "      <th>75%</th>\n",
       "      <td>7.0</td>\n",
       "      <td>109.0</td>\n",
       "      <td>70.0</td>\n",
       "    </tr>\n",
       "    <tr>\n",
       "      <th>max</th>\n",
       "      <td>9.0</td>\n",
       "      <td>121.0</td>\n",
       "      <td>100.0</td>\n",
       "    </tr>\n",
       "  </tbody>\n",
       "</table>\n",
       "</div>"
      ],
      "text/plain": [
       "       nota_exame_ingles  valor_qi  nota_exame_psicotecnico\n",
       "count              240.0     240.0                    240.0\n",
       "mean                 7.0     103.0                     60.0\n",
       "std                  1.0       8.0                     15.0\n",
       "min                  5.0      83.0                     23.0\n",
       "25%                  6.0      96.0                     51.0\n",
       "50%                  7.0     104.0                     60.0\n",
       "75%                  7.0     109.0                     70.0\n",
       "max                  9.0     121.0                    100.0"
      ]
     },
     "execution_count": 88,
     "metadata": {},
     "output_type": "execute_result"
    }
   ],
   "source": [
    "X_treino.describe().round(0)"
   ]
  },
  {
   "cell_type": "code",
   "execution_count": 89,
   "id": "cf1772f6",
   "metadata": {},
   "outputs": [],
   "source": [
    "# Padronização dos dados\n",
    "scaler = StandardScaler()"
   ]
  },
  {
   "cell_type": "code",
   "execution_count": 90,
   "id": "39a4cae7",
   "metadata": {},
   "outputs": [],
   "source": [
    "X_treino_scaled = scaler.fit_transform(X_treino)\n",
    "X_teste_scaled = scaler.fit_transform(X_teste)"
   ]
  },
  {
   "cell_type": "code",
   "execution_count": 91,
   "id": "53ba97dd",
   "metadata": {},
   "outputs": [
    {
     "data": {
      "text/html": [
       "<div>\n",
       "<style scoped>\n",
       "    .dataframe tbody tr th:only-of-type {\n",
       "        vertical-align: middle;\n",
       "    }\n",
       "\n",
       "    .dataframe tbody tr th {\n",
       "        vertical-align: top;\n",
       "    }\n",
       "\n",
       "    .dataframe thead th {\n",
       "        text-align: right;\n",
       "    }\n",
       "</style>\n",
       "<table border=\"1\" class=\"dataframe\">\n",
       "  <thead>\n",
       "    <tr style=\"text-align: right;\">\n",
       "      <th></th>\n",
       "      <th>0</th>\n",
       "      <th>1</th>\n",
       "      <th>2</th>\n",
       "    </tr>\n",
       "  </thead>\n",
       "  <tbody>\n",
       "    <tr>\n",
       "      <th>count</th>\n",
       "      <td>240.0</td>\n",
       "      <td>240.0</td>\n",
       "      <td>240.0</td>\n",
       "    </tr>\n",
       "    <tr>\n",
       "      <th>mean</th>\n",
       "      <td>-0.0</td>\n",
       "      <td>0.0</td>\n",
       "      <td>-0.0</td>\n",
       "    </tr>\n",
       "    <tr>\n",
       "      <th>std</th>\n",
       "      <td>1.0</td>\n",
       "      <td>1.0</td>\n",
       "      <td>1.0</td>\n",
       "    </tr>\n",
       "    <tr>\n",
       "      <th>min</th>\n",
       "      <td>-2.0</td>\n",
       "      <td>-2.0</td>\n",
       "      <td>-2.0</td>\n",
       "    </tr>\n",
       "    <tr>\n",
       "      <th>25%</th>\n",
       "      <td>-1.0</td>\n",
       "      <td>-1.0</td>\n",
       "      <td>-1.0</td>\n",
       "    </tr>\n",
       "    <tr>\n",
       "      <th>50%</th>\n",
       "      <td>0.0</td>\n",
       "      <td>0.0</td>\n",
       "      <td>-0.0</td>\n",
       "    </tr>\n",
       "    <tr>\n",
       "      <th>75%</th>\n",
       "      <td>1.0</td>\n",
       "      <td>1.0</td>\n",
       "      <td>1.0</td>\n",
       "    </tr>\n",
       "    <tr>\n",
       "      <th>max</th>\n",
       "      <td>3.0</td>\n",
       "      <td>2.0</td>\n",
       "      <td>3.0</td>\n",
       "    </tr>\n",
       "  </tbody>\n",
       "</table>\n",
       "</div>"
      ],
      "text/plain": [
       "           0      1      2\n",
       "count  240.0  240.0  240.0\n",
       "mean    -0.0    0.0   -0.0\n",
       "std      1.0    1.0    1.0\n",
       "min     -2.0   -2.0   -2.0\n",
       "25%     -1.0   -1.0   -1.0\n",
       "50%      0.0    0.0   -0.0\n",
       "75%      1.0    1.0    1.0\n",
       "max      3.0    2.0    3.0"
      ]
     },
     "execution_count": 91,
     "metadata": {},
     "output_type": "execute_result"
    }
   ],
   "source": [
    "pd.DataFrame(X_treino_scaled).describe().round(0)"
   ]
  },
  {
   "cell_type": "markdown",
   "id": "102a430b",
   "metadata": {},
   "source": [
    "## Versão 1: Regressão Logística"
   ]
  },
  {
   "cell_type": "markdown",
   "id": "37e7a779",
   "metadata": {},
   "source": [
    "https://scikit-learn.org/stable/modules/generated/sklearn.linear_model.LogisticRegression.html"
   ]
  },
  {
   "cell_type": "code",
   "execution_count": null,
   "id": "46bde802",
   "metadata": {},
   "outputs": [],
   "source": [
    "modelo_logistico = LogisticRegression()\n",
    "modelo_logistico.fit(X_treino_scaled, y_treino)"
   ]
  },
  {
   "cell_type": "code",
   "execution_count": 93,
   "id": "ddf99ad2",
   "metadata": {},
   "outputs": [
    {
     "data": {
      "text/plain": [
       "array([0, 1, 1, 1, 1, 0, 1, 1, 0])"
      ]
     },
     "execution_count": 93,
     "metadata": {},
     "output_type": "execute_result"
    }
   ],
   "source": [
    "y_pred_v1 = modelo_logistico.predict(X_teste_scaled)\n",
    "y_pred_v1[1:10]"
   ]
  },
  {
   "cell_type": "code",
   "execution_count": 94,
   "id": "4a143330",
   "metadata": {},
   "outputs": [
    {
     "data": {
      "text/plain": [
       "array([0.00670437, 0.99529211, 0.87540493, 0.98140742, 0.86728891,\n",
       "       0.2108784 , 0.97044303, 0.99042667, 0.08188889])"
      ]
     },
     "execution_count": 94,
     "metadata": {},
     "output_type": "execute_result"
    }
   ],
   "source": [
    "# Probabilidades das previsões\n",
    "y_pred_prob_v1 = modelo_logistico.predict_proba(X_teste_scaled)[:,1]\n",
    "y_pred_prob_v1[1:10]"
   ]
  },
  {
   "cell_type": "code",
   "execution_count": 95,
   "id": "6a273853",
   "metadata": {},
   "outputs": [
    {
     "name": "stdout",
     "output_type": "stream",
     "text": [
      "Acurácia: 0.9166666666666666\n",
      "AUC: 0.9788888888888889\n",
      "Relatório de classificação:\n",
      "               precision    recall  f1-score   support\n",
      "\n",
      "           0       0.93      0.90      0.92        30\n",
      "           1       0.90      0.93      0.92        30\n",
      "\n",
      "    accuracy                           0.92        60\n",
      "   macro avg       0.92      0.92      0.92        60\n",
      "weighted avg       0.92      0.92      0.92        60\n",
      "\n"
     ]
    }
   ],
   "source": [
    "accuracy_v1 = accuracy_score(y_teste, y_pred_v1)\n",
    "auc_v1 = roc_auc_score(y_teste, y_pred_prob_v1)\n",
    "class_report_v1 = classification_report(y_teste, y_pred_v1)\n",
    "\n",
    "print(\"Acurácia:\", accuracy_v1)\n",
    "print(\"AUC:\", auc_v1)\n",
    "print(\"Relatório de classificação:\\n\", class_report_v1)"
   ]
  },
  {
   "cell_type": "markdown",
   "id": "1d1226da",
   "metadata": {},
   "source": [
    "## Versão 2: Floresta Aleatória - Random Forest\n",
    "\n",
    "https://scikit-learn.org/stable/modules/generated/sklearn.ensemble.RandomForestClassifier.html"
   ]
  },
  {
   "cell_type": "code",
   "execution_count": null,
   "id": "21fcbd64",
   "metadata": {},
   "outputs": [],
   "source": [
    "modelo_randomforest = RandomForestClassifier()\n",
    "modelo_randomforest.fit(X_treino_scaled, y_treino)"
   ]
  },
  {
   "cell_type": "code",
   "execution_count": 66,
   "id": "5872fc6e",
   "metadata": {},
   "outputs": [
    {
     "data": {
      "text/plain": [
       "array([0, 1, 1, 1, 1, 0, 1, 1, 0])"
      ]
     },
     "execution_count": 66,
     "metadata": {},
     "output_type": "execute_result"
    }
   ],
   "source": [
    "y_pred_v2 = modelo_randomforest.predict(X_teste_scaled)\n",
    "y_pred_v2[1:10]"
   ]
  },
  {
   "cell_type": "code",
   "execution_count": 67,
   "id": "d0f824f6",
   "metadata": {},
   "outputs": [
    {
     "data": {
      "text/plain": [
       "array([[1.  , 0.  ],\n",
       "       [0.  , 1.  ],\n",
       "       [0.1 , 0.9 ],\n",
       "       [0.17, 0.83],\n",
       "       [0.  , 1.  ],\n",
       "       [0.55, 0.45],\n",
       "       [0.01, 0.99],\n",
       "       [0.01, 0.99],\n",
       "       [0.92, 0.08]])"
      ]
     },
     "execution_count": 67,
     "metadata": {},
     "output_type": "execute_result"
    }
   ],
   "source": [
    "y_pred_prob_v2 = modelo_randomforest.predict_proba(X_teste_scaled)\n",
    "y_pred_prob_v2[1:10]"
   ]
  },
  {
   "cell_type": "code",
   "execution_count": 68,
   "id": "8795a2d1",
   "metadata": {},
   "outputs": [
    {
     "name": "stdout",
     "output_type": "stream",
     "text": [
      "Acurácia: 0.9166666666666666\n",
      "AUC: 0.9572222222222223\n",
      "Relatório de classificação:\n",
      "               precision    recall  f1-score   support\n",
      "\n",
      "           0       0.93      0.90      0.92        30\n",
      "           1       0.90      0.93      0.92        30\n",
      "\n",
      "    accuracy                           0.92        60\n",
      "   macro avg       0.92      0.92      0.92        60\n",
      "weighted avg       0.92      0.92      0.92        60\n",
      "\n"
     ]
    }
   ],
   "source": [
    "accuracy_v2 = accuracy_score(y_teste, y_pred_v2)\n",
    "auc_v2 = roc_auc_score(y_teste, y_pred_prob_v2[:,1])\n",
    "class_report_v2 = classification_report(y_teste, y_pred_v2)\n",
    "\n",
    "print(\"Acurácia:\", accuracy_v2)\n",
    "print(\"AUC:\", auc_v2)\n",
    "print(\"Relatório de classificação:\\n\", class_report_v2)"
   ]
  },
  {
   "cell_type": "code",
   "execution_count": 69,
   "id": "7ff2999e",
   "metadata": {},
   "outputs": [
    {
     "name": "stdout",
     "output_type": "stream",
     "text": [
      "Acurácia: 0.9166666666666666\n",
      "AUC: 0.9788888888888889\n",
      "Relatório de classificação:\n",
      "               precision    recall  f1-score   support\n",
      "\n",
      "           0       0.93      0.90      0.92        30\n",
      "           1       0.90      0.93      0.92        30\n",
      "\n",
      "    accuracy                           0.92        60\n",
      "   macro avg       0.92      0.92      0.92        60\n",
      "weighted avg       0.92      0.92      0.92        60\n",
      "\n"
     ]
    }
   ],
   "source": [
    "print(\"Acurácia:\", accuracy_v1)\n",
    "print(\"AUC:\", auc_v1)\n",
    "print(\"Relatório de classificação:\\n\", class_report_v1)"
   ]
  },
  {
   "cell_type": "markdown",
   "id": "dc80cc44",
   "metadata": {},
   "source": [
    "## Versão 3: Support Vector Machines (SVM)\n",
    "\n",
    "https://scikit-learn.org/stable/modules/generated/sklearn.svm.SVC.html"
   ]
  },
  {
   "cell_type": "code",
   "execution_count": 73,
   "id": "c718fb32",
   "metadata": {},
   "outputs": [],
   "source": [
    "modelo_svm = SVC(probability=True)"
   ]
  },
  {
   "cell_type": "code",
   "execution_count": null,
   "id": "250593cc",
   "metadata": {},
   "outputs": [],
   "source": [
    "modelo_svm.fit(X_treino_scaled, y_treino)"
   ]
  },
  {
   "cell_type": "code",
   "execution_count": 81,
   "id": "e49b3bbe",
   "metadata": {},
   "outputs": [],
   "source": [
    "y_pred_v3 = modelo_svm.predict(X_teste_scaled)\n",
    "y_pred_prob_v3 = modelo_svm.predict_proba(X_teste_scaled)[:,1]"
   ]
  },
  {
   "cell_type": "code",
   "execution_count": 83,
   "id": "c08d8161",
   "metadata": {},
   "outputs": [
    {
     "name": "stdout",
     "output_type": "stream",
     "text": [
      "Acurácia: 0.9333333333333333\n",
      "AUC: 0.97\n",
      "Relatório de classificação:\n",
      "               precision    recall  f1-score   support\n",
      "\n",
      "           0       0.93      0.93      0.93        30\n",
      "           1       0.93      0.93      0.93        30\n",
      "\n",
      "    accuracy                           0.93        60\n",
      "   macro avg       0.93      0.93      0.93        60\n",
      "weighted avg       0.93      0.93      0.93        60\n",
      "\n"
     ]
    }
   ],
   "source": [
    "accuracy_v3 = accuracy_score(y_teste, y_pred_v3)\n",
    "auc_v3 = roc_auc_score(y_teste, y_pred_prob_v3)\n",
    "class_report_v3 = classification_report(y_teste, y_pred_v3)\n",
    "\n",
    "print(\"Acurácia:\", accuracy_v3)\n",
    "print(\"AUC:\", auc_v3)\n",
    "print(\"Relatório de classificação:\\n\", class_report_v3)"
   ]
  },
  {
   "cell_type": "markdown",
   "id": "00164cc7",
   "metadata": {},
   "source": [
    "## Escolha do modelo\n",
    "\n",
    "Dado que os 3 modelos possuem acurácia próximas, e o primeiro modelo possui o melhor AUC e é mais simples que os demais, será escolhido o modelo 1: modelo Logístico."
   ]
  },
  {
   "cell_type": "code",
   "execution_count": 97,
   "id": "5fb272ce",
   "metadata": {},
   "outputs": [
    {
     "name": "stdout",
     "output_type": "stream",
     "text": [
      "Acurácia 1: 0.9166666666666666\n",
      "Acurácia 2: 0.9166666666666666\n",
      "Acurácia 3: 0.9333333333333333\n"
     ]
    }
   ],
   "source": [
    "print(\"Acurácia 1:\", accuracy_v1)\n",
    "print(\"Acurácia 2:\", accuracy_v2)\n",
    "print(\"Acurácia 3:\", accuracy_v3)"
   ]
  },
  {
   "cell_type": "code",
   "execution_count": 96,
   "id": "54ae987e",
   "metadata": {},
   "outputs": [
    {
     "name": "stdout",
     "output_type": "stream",
     "text": [
      "AUC 1: 0.9788888888888889\n",
      "AUC 2: 0.9572222222222223\n",
      "AUC 3: 0.97\n"
     ]
    }
   ],
   "source": [
    "print(\"AUC 1:\", auc_v1)\n",
    "print(\"AUC 2:\", auc_v2)\n",
    "print(\"AUC 3:\", auc_v3)"
   ]
  },
  {
   "cell_type": "markdown",
   "id": "c179a184",
   "metadata": {},
   "source": [
    "### Salvar modelo em disco\n"
   ]
  },
  {
   "cell_type": "code",
   "execution_count": 98,
   "id": "82247d08",
   "metadata": {},
   "outputs": [],
   "source": [
    "pickle.dump(modelo_logistico, open('modelo_final.pkl', 'wb'))\n",
    "pickle.dump(scaler, open('scaler_final.pkl', 'wb'))"
   ]
  }
 ],
 "metadata": {
  "kernelspec": {
   "display_name": "Python 3",
   "language": "python",
   "name": "python3"
  },
  "language_info": {
   "codemirror_mode": {
    "name": "ipython",
    "version": 3
   },
   "file_extension": ".py",
   "mimetype": "text/x-python",
   "name": "python",
   "nbconvert_exporter": "python",
   "pygments_lexer": "ipython3",
   "version": "3.10.12"
  }
 },
 "nbformat": 4,
 "nbformat_minor": 5
}
