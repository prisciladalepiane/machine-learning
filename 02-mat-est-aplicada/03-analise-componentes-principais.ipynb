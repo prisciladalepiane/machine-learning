{
 "cells": [
  {
   "cell_type": "markdown",
   "id": "71eae37f",
   "metadata": {},
   "source": [
    "# Aplicação do algoritmo PCA"
   ]
  },
  {
   "cell_type": "code",
   "execution_count": 4,
   "id": "57bca3f8",
   "metadata": {},
   "outputs": [],
   "source": [
    "import numpy as np\n",
    "import pandas as pd"
   ]
  },
  {
   "cell_type": "markdown",
   "id": "59943e77",
   "metadata": {},
   "source": [
    "Nosso trabalho aqui será reduzir a dimensionalidade de um dataset que contém as respostas de 40 alunos a um quiz com 49 perguntas. Cada resposta representa uma variável em nosso problema. Os dados são fictícios e de exemplo.\n",
    "\n",
    "A primeira coluna (que carregaremos como índice) representa ID anônimo do aluno."
   ]
  },
  {
   "cell_type": "code",
   "execution_count": 8,
   "id": "fe8f2d31",
   "metadata": {},
   "outputs": [
    {
     "data": {
      "text/html": [
       "<div>\n",
       "<style scoped>\n",
       "    .dataframe tbody tr th:only-of-type {\n",
       "        vertical-align: middle;\n",
       "    }\n",
       "\n",
       "    .dataframe tbody tr th {\n",
       "        vertical-align: top;\n",
       "    }\n",
       "\n",
       "    .dataframe thead th {\n",
       "        text-align: right;\n",
       "    }\n",
       "</style>\n",
       "<table border=\"1\" class=\"dataframe\">\n",
       "  <thead>\n",
       "    <tr style=\"text-align: right;\">\n",
       "      <th></th>\n",
       "      <th>186</th>\n",
       "      <th>295</th>\n",
       "      <th>321</th>\n",
       "      <th>337</th>\n",
       "      <th>464</th>\n",
       "      <th>469</th>\n",
       "      <th>502</th>\n",
       "      <th>506</th>\n",
       "      <th>563</th>\n",
       "      <th>931</th>\n",
       "      <th>...</th>\n",
       "      <th>1401</th>\n",
       "      <th>1402</th>\n",
       "      <th>1414</th>\n",
       "      <th>1422</th>\n",
       "      <th>1524</th>\n",
       "      <th>1551</th>\n",
       "      <th>1553</th>\n",
       "      <th>1559</th>\n",
       "      <th>1561</th>\n",
       "      <th>1568</th>\n",
       "    </tr>\n",
       "  </thead>\n",
       "  <tbody>\n",
       "    <tr>\n",
       "      <th>NSCLC_A549_1</th>\n",
       "      <td>171210.5829</td>\n",
       "      <td>1246686.524</td>\n",
       "      <td>527193.4870</td>\n",
       "      <td>411155.8781</td>\n",
       "      <td>59929.70461</td>\n",
       "      <td>49255.07973</td>\n",
       "      <td>171273.1364</td>\n",
       "      <td>159183.1286</td>\n",
       "      <td>663694.9741</td>\n",
       "      <td>35070.49713</td>\n",
       "      <td>...</td>\n",
       "      <td>95049.95991</td>\n",
       "      <td>1.719464e+06</td>\n",
       "      <td>645473.1920</td>\n",
       "      <td>89954.00002</td>\n",
       "      <td>52983.82193</td>\n",
       "      <td>1.672322e+06</td>\n",
       "      <td>6.867305e+05</td>\n",
       "      <td>259889.4715</td>\n",
       "      <td>1.563879e+06</td>\n",
       "      <td>189971.51110</td>\n",
       "    </tr>\n",
       "    <tr>\n",
       "      <th>NSCLC_H1703_2</th>\n",
       "      <td>204751.3591</td>\n",
       "      <td>1338013.461</td>\n",
       "      <td>571379.0841</td>\n",
       "      <td>486137.0920</td>\n",
       "      <td>89261.66256</td>\n",
       "      <td>72052.72202</td>\n",
       "      <td>187464.2389</td>\n",
       "      <td>180000.6140</td>\n",
       "      <td>443440.3745</td>\n",
       "      <td>89938.26439</td>\n",
       "      <td>...</td>\n",
       "      <td>131002.12740</td>\n",
       "      <td>8.290090e+05</td>\n",
       "      <td>293504.7109</td>\n",
       "      <td>42264.73772</td>\n",
       "      <td>97472.88420</td>\n",
       "      <td>1.608167e+06</td>\n",
       "      <td>9.408252e+05</td>\n",
       "      <td>363398.5823</td>\n",
       "      <td>3.043114e+05</td>\n",
       "      <td>35762.79339</td>\n",
       "    </tr>\n",
       "    <tr>\n",
       "      <th>NSCLC_H1703_1</th>\n",
       "      <td>203558.4952</td>\n",
       "      <td>1040438.105</td>\n",
       "      <td>498460.6875</td>\n",
       "      <td>411052.8868</td>\n",
       "      <td>96002.36973</td>\n",
       "      <td>0.00000</td>\n",
       "      <td>193894.4078</td>\n",
       "      <td>179518.9387</td>\n",
       "      <td>736672.9068</td>\n",
       "      <td>107041.34120</td>\n",
       "      <td>...</td>\n",
       "      <td>108827.84800</td>\n",
       "      <td>8.541730e+05</td>\n",
       "      <td>313811.6234</td>\n",
       "      <td>51125.12753</td>\n",
       "      <td>95633.56928</td>\n",
       "      <td>1.931491e+06</td>\n",
       "      <td>1.086556e+06</td>\n",
       "      <td>417606.0810</td>\n",
       "      <td>4.365568e+05</td>\n",
       "      <td>53865.65208</td>\n",
       "    </tr>\n",
       "    <tr>\n",
       "      <th>NSCLC_A549_2</th>\n",
       "      <td>245859.2006</td>\n",
       "      <td>1371135.588</td>\n",
       "      <td>153050.9373</td>\n",
       "      <td>495539.7034</td>\n",
       "      <td>81436.65785</td>\n",
       "      <td>85158.56741</td>\n",
       "      <td>0.0000</td>\n",
       "      <td>186757.1440</td>\n",
       "      <td>809830.2341</td>\n",
       "      <td>43565.82607</td>\n",
       "      <td>...</td>\n",
       "      <td>106003.59820</td>\n",
       "      <td>2.037000e+06</td>\n",
       "      <td>762600.1361</td>\n",
       "      <td>116878.29910</td>\n",
       "      <td>58497.52991</td>\n",
       "      <td>2.077164e+06</td>\n",
       "      <td>8.461167e+05</td>\n",
       "      <td>328548.1739</td>\n",
       "      <td>1.824857e+06</td>\n",
       "      <td>243842.05260</td>\n",
       "    </tr>\n",
       "    <tr>\n",
       "      <th>NSCLC_H1437_1</th>\n",
       "      <td>214448.1780</td>\n",
       "      <td>1107105.986</td>\n",
       "      <td>524333.5670</td>\n",
       "      <td>484994.8797</td>\n",
       "      <td>92368.82235</td>\n",
       "      <td>69868.54980</td>\n",
       "      <td>181168.8533</td>\n",
       "      <td>0.0000</td>\n",
       "      <td>635990.2172</td>\n",
       "      <td>51087.42828</td>\n",
       "      <td>...</td>\n",
       "      <td>83218.09256</td>\n",
       "      <td>1.269266e+06</td>\n",
       "      <td>459612.8875</td>\n",
       "      <td>64837.50435</td>\n",
       "      <td>0.00000</td>\n",
       "      <td>9.434720e+05</td>\n",
       "      <td>4.022300e+05</td>\n",
       "      <td>153070.9443</td>\n",
       "      <td>3.745915e+05</td>\n",
       "      <td>44104.41364</td>\n",
       "    </tr>\n",
       "  </tbody>\n",
       "</table>\n",
       "<p>5 rows × 49 columns</p>\n",
       "</div>"
      ],
      "text/plain": [
       "                       186          295          321          337  \\\n",
       "NSCLC_A549_1   171210.5829  1246686.524  527193.4870  411155.8781   \n",
       "NSCLC_H1703_2  204751.3591  1338013.461  571379.0841  486137.0920   \n",
       "NSCLC_H1703_1  203558.4952  1040438.105  498460.6875  411052.8868   \n",
       "NSCLC_A549_2   245859.2006  1371135.588  153050.9373  495539.7034   \n",
       "NSCLC_H1437_1  214448.1780  1107105.986  524333.5670  484994.8797   \n",
       "\n",
       "                       464          469          502          506  \\\n",
       "NSCLC_A549_1   59929.70461  49255.07973  171273.1364  159183.1286   \n",
       "NSCLC_H1703_2  89261.66256  72052.72202  187464.2389  180000.6140   \n",
       "NSCLC_H1703_1  96002.36973      0.00000  193894.4078  179518.9387   \n",
       "NSCLC_A549_2   81436.65785  85158.56741       0.0000  186757.1440   \n",
       "NSCLC_H1437_1  92368.82235  69868.54980  181168.8533       0.0000   \n",
       "\n",
       "                       563           931  ...          1401          1402  \\\n",
       "NSCLC_A549_1   663694.9741   35070.49713  ...   95049.95991  1.719464e+06   \n",
       "NSCLC_H1703_2  443440.3745   89938.26439  ...  131002.12740  8.290090e+05   \n",
       "NSCLC_H1703_1  736672.9068  107041.34120  ...  108827.84800  8.541730e+05   \n",
       "NSCLC_A549_2   809830.2341   43565.82607  ...  106003.59820  2.037000e+06   \n",
       "NSCLC_H1437_1  635990.2172   51087.42828  ...   83218.09256  1.269266e+06   \n",
       "\n",
       "                      1414          1422         1524          1551  \\\n",
       "NSCLC_A549_1   645473.1920   89954.00002  52983.82193  1.672322e+06   \n",
       "NSCLC_H1703_2  293504.7109   42264.73772  97472.88420  1.608167e+06   \n",
       "NSCLC_H1703_1  313811.6234   51125.12753  95633.56928  1.931491e+06   \n",
       "NSCLC_A549_2   762600.1361  116878.29910  58497.52991  2.077164e+06   \n",
       "NSCLC_H1437_1  459612.8875   64837.50435      0.00000  9.434720e+05   \n",
       "\n",
       "                       1553         1559          1561          1568  \n",
       "NSCLC_A549_1   6.867305e+05  259889.4715  1.563879e+06  189971.51110  \n",
       "NSCLC_H1703_2  9.408252e+05  363398.5823  3.043114e+05   35762.79339  \n",
       "NSCLC_H1703_1  1.086556e+06  417606.0810  4.365568e+05   53865.65208  \n",
       "NSCLC_A549_2   8.461167e+05  328548.1739  1.824857e+06  243842.05260  \n",
       "NSCLC_H1437_1  4.022300e+05  153070.9443  3.745915e+05   44104.41364  \n",
       "\n",
       "[5 rows x 49 columns]"
      ]
     },
     "execution_count": 8,
     "metadata": {},
     "output_type": "execute_result"
    }
   ],
   "source": [
    "# Importando o dataset\n",
    "df = pd.read_csv(\"/home/priscila/Downloads/1-Mat/dados/dataset_mat_p3.csv\", index_col=0)\n",
    "df.head()"
   ]
  },
  {
   "cell_type": "code",
   "execution_count": 12,
   "id": "c0b601b4",
   "metadata": {},
   "outputs": [],
   "source": [
    "matriz = df.to_numpy()\n"
   ]
  },
  {
   "cell_type": "markdown",
   "id": "5fdf4a7b",
   "metadata": {},
   "source": [
    "### Versão 1"
   ]
  },
  {
   "cell_type": "code",
   "execution_count": 13,
   "id": "75a7f30e",
   "metadata": {},
   "outputs": [],
   "source": [
    "input = matriz"
   ]
  },
  {
   "cell_type": "code",
   "execution_count": 33,
   "id": "b5ba1820",
   "metadata": {},
   "outputs": [
    {
     "data": {
      "text/plain": [
       "array([0.400639  +0.j, 0.54972871+0.j, 0.67969581+0.j, 0.77504452+0.j,\n",
       "       0.83944882+0.j, 0.87759586+0.j, 0.90642454+0.j, 0.92870154+0.j,\n",
       "       0.94506171+0.j, 0.95783502+0.j])"
      ]
     },
     "execution_count": 33,
     "metadata": {},
     "output_type": "execute_result"
    }
   ],
   "source": [
    "media = np.mean(input, 0)\n",
    "\n",
    "input_normalizado = np.subtract(input, media)\n",
    "\n",
    "input_normalizado_transposta = np.transpose(input_normalizado)\n",
    "\n",
    "num_amostras = input.shape[0]\n",
    "\n",
    "cov_mat = (np.dot(input_normalizado_transposta, input_normalizado)) / num_amostras \n",
    "\n",
    "valores, vetores = np.linalg.eig(cov_mat)\n",
    "\n",
    "index = np.argsort(valores)[::-1]\n",
    "valores = valores[index]\n",
    "vetores = vetores[:, index]\n",
    "\n",
    "pca_output = np.dot(input_normalizado, vetores)\n",
    "\n",
    "variancias_acumuladas = np.cumsum(valores) / np.sum(valores)\n",
    "variancias_acumuladas[:10]"
   ]
  },
  {
   "cell_type": "markdown",
   "id": "e6026b60",
   "metadata": {},
   "source": [
    "Cerca de 96% da variância é explicada pelos primeiros 10 componentes principais."
   ]
  },
  {
   "cell_type": "markdown",
   "id": "a498d005",
   "metadata": {},
   "source": [
    "### Versão 2 - mais otimizada"
   ]
  },
  {
   "cell_type": "code",
   "execution_count": 35,
   "id": "d7003a1c",
   "metadata": {},
   "outputs": [],
   "source": [
    "# Função com implementação do algoritmo PCA\n",
    "def PCA_V2(input_data):\n",
    "    \n",
    "    # Calculando a média de cada coluna\n",
    "    mean = np.mean(input_data, axis=0)\n",
    "    \n",
    "    # Subtraindo a média da matriz de entrada original\n",
    "    normalised_input = input_data - mean\n",
    "    \n",
    "    # Calculando a matriz de covariância\n",
    "    # A divisão é feita por (num_of_samples - 1) para a covariância da amostra\n",
    "    cov_mat = np.cov(normalised_input, rowvar = False)\n",
    "    \n",
    "    # Localizando autovalores e autovetores usando uma função mais adequada para matrizes simétricas\n",
    "    eigenvalues, eigenvectors = np.linalg.eigh(cov_mat)\n",
    "    \n",
    "    # Ordenando os autovetores de acordo com os autovalores em ordem decrescente\n",
    "    sorted_indices = np.argsort(eigenvalues)[::-1]\n",
    "    sorted_eigenvalues = eigenvalues[sorted_indices]\n",
    "    sorted_eigenvectors = eigenvectors[:, sorted_indices]\n",
    "    \n",
    "    # Multiplicando a matriz de componente principal com a matriz de dados de entrada para obter o PCA\n",
    "    pca_output = np.dot(normalised_input, sorted_eigenvectors)\n",
    "\n",
    "    return pca_output, sorted_eigenvalues, sorted_eigenvectors, cov_mat"
   ]
  },
  {
   "cell_type": "code",
   "execution_count": 37,
   "id": "a877b66e",
   "metadata": {},
   "outputs": [],
   "source": [
    "# Executando o PCA\n",
    "pca_out, eigenval_v2, principal_component, cov_matrix = PCA_V2(matriz)"
   ]
  },
  {
   "cell_type": "code",
   "execution_count": 39,
   "id": "348e865d",
   "metadata": {},
   "outputs": [
    {
     "data": {
      "text/plain": [
       "array([0.400639  , 0.54972871, 0.67969581, 0.77504452, 0.83944882,\n",
       "       0.87759586, 0.90642454, 0.92870154, 0.94506171, 0.95783502])"
      ]
     },
     "execution_count": 39,
     "metadata": {},
     "output_type": "execute_result"
    }
   ],
   "source": [
    "total_variance = np.sum(eigenval_v2)\n",
    "explained_variances = [(i / total_variance) for i in eigenval_v2]\n",
    "cumulative_explained_variance = np.cumsum(explained_variances)\n",
    "cumulative_explained_variance[:10]"
   ]
  },
  {
   "cell_type": "markdown",
   "id": "86b091a2",
   "metadata": {},
   "source": [
    "### Versão 3"
   ]
  },
  {
   "cell_type": "code",
   "execution_count": 40,
   "id": "1f3c1859",
   "metadata": {},
   "outputs": [],
   "source": [
    "import sklearn\n",
    "from sklearn.decomposition import PCA"
   ]
  },
  {
   "cell_type": "code",
   "execution_count": 43,
   "id": "ea6e342a",
   "metadata": {},
   "outputs": [],
   "source": [
    "pca = PCA(n_components=10)\n",
    "X_pca = pca.fit_transform(matriz)"
   ]
  },
  {
   "cell_type": "code",
   "execution_count": 44,
   "id": "a0099c2d",
   "metadata": {},
   "outputs": [
    {
     "data": {
      "text/plain": [
       "array([0.400639  , 0.54972871, 0.67969581, 0.77504452, 0.83944882,\n",
       "       0.87759586, 0.90642454, 0.92870154, 0.94506171, 0.95783502])"
      ]
     },
     "execution_count": 44,
     "metadata": {},
     "output_type": "execute_result"
    }
   ],
   "source": [
    "variancia_explicada = pca.explained_variance_ratio_\n",
    "variancia_explicada_acumulada = np.cumsum(variancia_explicada)\n",
    "variancia_explicada_acumulada[:10]"
   ]
  }
 ],
 "metadata": {
  "kernelspec": {
   "display_name": "Python 3",
   "language": "python",
   "name": "python3"
  },
  "language_info": {
   "codemirror_mode": {
    "name": "ipython",
    "version": 3
   },
   "file_extension": ".py",
   "mimetype": "text/x-python",
   "name": "python",
   "nbconvert_exporter": "python",
   "pygments_lexer": "ipython3",
   "version": "3.10.12"
  }
 },
 "nbformat": 4,
 "nbformat_minor": 5
}
