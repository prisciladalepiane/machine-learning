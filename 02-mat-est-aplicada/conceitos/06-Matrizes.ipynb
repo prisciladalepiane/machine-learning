{
 "cells": [
  {
   "cell_type": "markdown",
   "id": "44ddd8a6",
   "metadata": {},
   "source": [
    "# Matrizes"
   ]
  },
  {
   "cell_type": "markdown",
   "id": "d55057ca",
   "metadata": {},
   "source": [
    "## O Que São Matrizes?"
   ]
  },
  {
   "cell_type": "markdown",
   "id": "53f91415",
   "metadata": {},
   "source": [
    "\n",
    "Matrizes são arranjos de números, símbolos ou expressões, organizados em linhas e colunas. Elas são um conceito fundamental na Matemática, especialmente na álgebra linear, e têm diversas aplicações em ciências, engenharia, estatística e outras áreas. Abaixo, alguns pontos-chave sobre matrizes:\n",
    "\n",
    "1. **Elementos**  \n",
    "   Cada item em uma matriz é chamado de elemento. Os elementos podem ser números, mas também podem ser expressões mais complexas.\n",
    "\n",
    "2. **Dimensões**  \n",
    "   O tamanho de uma matriz é definido por suas linhas (horizontal) e colunas (vertical). Por exemplo, uma matriz de 3x2 tem 3 linhas e 2 colunas.\n",
    "\n",
    "3. **Tipos de Matrizes**  \n",
    "   Existem vários tipos, incluindo:  \n",
    "   - Matrizes quadradas (mesmo número de linhas e colunas)  \n",
    "   - Matrizes retangulares (número diferente de linhas e colunas)  \n",
    "   - Matrizes diagonais (elementos fora da diagonal principal são todos zero)  \n",
    "   - Entre outros tipos especiais\n",
    "\n",
    "4. **Operações**  \n",
    "   As matrizes podem ser somadas, subtraídas e multiplicadas entre si, seguindo regras específicas. SPor exemplo, a multiplicação de matrizes não é comutativa, ou seja, a ordem dos fatores altera o resultado.\n",
    "\n",
    "5. **Determinante e Inversa**  \n",
    "   Para algumas matrizes quadradas, pode-se calcular o determinante, uma propriedade que fornece informações importantes sobre a matriz. Matrizes com determinante diferente de zero possuem uma inversa, que é uma matriz que, ao ser multiplicada pela original, resulta na matriz identidade.\n",
    "\n",
    "6. **Aplicações**  \n",
    "   - Matrizes são usadas para resolver sistemas de equações lineares, onde cada linha pode representar uma equação e cada coluna uma variável desconhecida.  \n",
    "   - Representam transformações lineares entre espaços vetoriais, como rotações, reflexões e escalonamentos em gráficos computacionais.  \n",
    "   - São utilizadas em matemática avançada para encontrar autovalores e autovetores, úteis na análise de sistemas dinâmicos, mecânica quântica e redução de dimensionalidade em Machine Learning.  \n",
    "   - Organizam e manipulam dados com múltiplas variáveis por observação, como em pesquisas: cada linha representa uma resposta individual, cada coluna uma pergunta.  \n",
    "   - Fundamentais em modelos estatísticos lineares, como a regressão linear múltipla, representando variáveis dependentes e independentes.  \n",
    "   - Matrizes de covariância e correlação ajudam a entender como diferentes variáveis estão relacionadas entre si. Cada elemento representa a covariância ou correlação entre um par de variáveis.\n",
    "\n",
    "> Matrizes são estruturas essenciais para representar e manipular relações lineares entre variáveis, dados e transformações espaciais. Elas fornecem uma forma compacta e poderosa de resolver uma ampla variedade de problemas teóricos e práticos.\n",
    "\n"
   ]
  },
  {
   "cell_type": "markdown",
   "id": "b01129c1",
   "metadata": {},
   "source": [
    "## Trabalhando com Escalares usando NumPy"
   ]
  },
  {
   "cell_type": "code",
   "execution_count": 1,
   "id": "368f1ab9",
   "metadata": {},
   "outputs": [],
   "source": [
    "import numpy as np"
   ]
  },
  {
   "cell_type": "code",
   "execution_count": 9,
   "id": "ee6a7244",
   "metadata": {},
   "outputs": [
    {
     "data": {
      "text/plain": [
       "(int, numpy.ndarray)"
      ]
     },
     "execution_count": 9,
     "metadata": {},
     "output_type": "execute_result"
    }
   ],
   "source": [
    "escalar1 = 2\n",
    "escalar = np.array(2)\n",
    "type(escalar1), type(escalar)"
   ]
  },
  {
   "cell_type": "code",
   "execution_count": 10,
   "id": "c986c59f",
   "metadata": {},
   "outputs": [
    {
     "name": "stdout",
     "output_type": "stream",
     "text": [
      "2\n"
     ]
    }
   ],
   "source": [
    "print(escalar)"
   ]
  },
  {
   "cell_type": "code",
   "execution_count": 11,
   "id": "468d7863",
   "metadata": {},
   "outputs": [
    {
     "name": "stdout",
     "output_type": "stream",
     "text": [
      "4\n"
     ]
    },
    {
     "data": {
      "text/plain": [
       "numpy.int64"
      ]
     },
     "execution_count": 11,
     "metadata": {},
     "output_type": "execute_result"
    }
   ],
   "source": [
    "x = 2 + escalar\n",
    "print(x)\n",
    "type(x)"
   ]
  },
  {
   "cell_type": "code",
   "execution_count": 18,
   "id": "0edc5bfb",
   "metadata": {},
   "outputs": [
    {
     "data": {
      "text/plain": [
       "()"
      ]
     },
     "execution_count": 18,
     "metadata": {},
     "output_type": "execute_result"
    }
   ],
   "source": [
    "escalar.shape"
   ]
  },
  {
   "cell_type": "markdown",
   "id": "21770bfe",
   "metadata": {},
   "source": [
    "## Vetores"
   ]
  },
  {
   "cell_type": "code",
   "execution_count": 15,
   "id": "ceddafdb",
   "metadata": {},
   "outputs": [
    {
     "data": {
      "text/plain": [
       "numpy.ndarray"
      ]
     },
     "execution_count": 15,
     "metadata": {},
     "output_type": "execute_result"
    }
   ],
   "source": [
    "vetor = np.array([1, 2, 3])\n",
    "type(vetor)"
   ]
  },
  {
   "cell_type": "code",
   "execution_count": 16,
   "id": "da2a620a",
   "metadata": {},
   "outputs": [
    {
     "name": "stdout",
     "output_type": "stream",
     "text": [
      "[1 2 3]\n"
     ]
    }
   ],
   "source": [
    "print(vetor)"
   ]
  },
  {
   "cell_type": "code",
   "execution_count": 17,
   "id": "e18234cf",
   "metadata": {},
   "outputs": [
    {
     "data": {
      "text/plain": [
       "(3,)"
      ]
     },
     "execution_count": 17,
     "metadata": {},
     "output_type": "execute_result"
    }
   ],
   "source": [
    "vetor.shape"
   ]
  },
  {
   "cell_type": "markdown",
   "id": "e9d6546d",
   "metadata": {},
   "source": [
    "O shape (3,) indica 3 elementos de uma estrutura unidimensional"
   ]
  },
  {
   "cell_type": "code",
   "execution_count": 24,
   "id": "a1db1a17",
   "metadata": {},
   "outputs": [
    {
     "data": {
      "text/plain": [
       "np.int64(1)"
      ]
     },
     "execution_count": 24,
     "metadata": {},
     "output_type": "execute_result"
    }
   ],
   "source": [
    "vetor[0]"
   ]
  },
  {
   "cell_type": "markdown",
   "id": "7cb6ae7c",
   "metadata": {},
   "source": [
    "## Matrizes"
   ]
  },
  {
   "cell_type": "code",
   "execution_count": 25,
   "id": "eec574a2",
   "metadata": {},
   "outputs": [
    {
     "name": "stdout",
     "output_type": "stream",
     "text": [
      "[[1 2 3]\n",
      " [4 5 6]\n",
      " [7 8 9]]\n"
     ]
    }
   ],
   "source": [
    "m = np.array([[1, 2, 3], [4, 5, 6], [7, 8, 9]])\n",
    "type(m)\n",
    "print(m)"
   ]
  },
  {
   "cell_type": "code",
   "execution_count": 26,
   "id": "b00616db",
   "metadata": {},
   "outputs": [
    {
     "data": {
      "text/plain": [
       "(3, 3)"
      ]
     },
     "execution_count": 26,
     "metadata": {},
     "output_type": "execute_result"
    }
   ],
   "source": [
    "m.shape"
   ]
  },
  {
   "cell_type": "markdown",
   "id": "a82e0b72",
   "metadata": {},
   "source": [
    "O shape (3,3) indica que é uma matriz com 2 dimensões, cada dimensão tem 3 elementos."
   ]
  },
  {
   "cell_type": "code",
   "execution_count": 28,
   "id": "d47a3404",
   "metadata": {},
   "outputs": [
    {
     "name": "stdout",
     "output_type": "stream",
     "text": [
      "6\n"
     ]
    }
   ],
   "source": [
    "print(m[1, 2])"
   ]
  },
  {
   "cell_type": "markdown",
   "id": "3a908708",
   "metadata": {},
   "source": [
    "## Tensores\n",
    "\n",
    "Tensores são como vetores e matrizes, mas podem ter n dimensões."
   ]
  },
  {
   "cell_type": "code",
   "execution_count": 43,
   "id": "181c6f52",
   "metadata": {},
   "outputs": [
    {
     "name": "stdout",
     "output_type": "stream",
     "text": [
      "[[[ 1  2  2]\n",
      "  [ 3  4  4]]\n",
      "\n",
      " [[ 5  6  5]\n",
      "  [ 7  8  8]]\n",
      "\n",
      " [[ 9 10  9]\n",
      "  [11  8  9]]]\n"
     ]
    },
    {
     "data": {
      "text/plain": [
       "(3, 2, 3)"
      ]
     },
     "execution_count": 43,
     "metadata": {},
     "output_type": "execute_result"
    }
   ],
   "source": [
    "t = np.array([[[1, 2, 2], [3, 4, 4]],\\\n",
    "               [[5, 6, 5], [7, 8, 8]],\\\n",
    "               [[9, 10, 9], [11, 8, 9]]])\n",
    "print(t)\n",
    "t.shape"
   ]
  },
  {
   "cell_type": "markdown",
   "id": "5f7902cf",
   "metadata": {},
   "source": [
    "### Mudança de shape entre vetores, matrizes e tensores"
   ]
  },
  {
   "cell_type": "code",
   "execution_count": 46,
   "id": "5d684d10",
   "metadata": {},
   "outputs": [
    {
     "name": "stdout",
     "output_type": "stream",
     "text": [
      "[1 2 3 4 5]\n"
     ]
    },
    {
     "data": {
      "text/plain": [
       "(5,)"
      ]
     },
     "execution_count": 46,
     "metadata": {},
     "output_type": "execute_result"
    }
   ],
   "source": [
    "vec = np.array([1, 2, 3, 4, 5])\n",
    "print(vec)\n",
    "vec.shape"
   ]
  },
  {
   "cell_type": "code",
   "execution_count": 49,
   "id": "787905a4",
   "metadata": {},
   "outputs": [
    {
     "name": "stdout",
     "output_type": "stream",
     "text": [
      "[[1]\n",
      " [2]\n",
      " [3]\n",
      " [4]\n",
      " [5]]\n"
     ]
    },
    {
     "data": {
      "text/plain": [
       "(5, 1)"
      ]
     },
     "execution_count": 49,
     "metadata": {},
     "output_type": "execute_result"
    }
   ],
   "source": [
    "x = vec.reshape(5, 1)\n",
    "print(x)\n",
    "x.shape"
   ]
  },
  {
   "cell_type": "markdown",
   "id": "22df5503",
   "metadata": {},
   "source": [
    "Uso de `flatten` para transformar tensor em vetor:"
   ]
  },
  {
   "cell_type": "code",
   "execution_count": null,
   "id": "4be1e280",
   "metadata": {},
   "outputs": [
    {
     "name": "stdout",
     "output_type": "stream",
     "text": [
      "[1 2 3 4 5 6 7 8]\n"
     ]
    }
   ],
   "source": [
    "t = np.array([[[1, 2], [3, 4]],\n",
    "             [[5, 6], [7, 8]]])\n",
    "\n",
    "vetor_flat = t.flatten()\n",
    "print(vetor_flat)"
   ]
  },
  {
   "cell_type": "markdown",
   "id": "a66e6cfb",
   "metadata": {},
   "source": [
    "Cnverter em matriz"
   ]
  },
  {
   "cell_type": "code",
   "execution_count": 54,
   "id": "5af404ea",
   "metadata": {},
   "outputs": [
    {
     "name": "stdout",
     "output_type": "stream",
     "text": [
      "[[1 2 3 4]\n",
      " [5 6 7 8]]\n"
     ]
    }
   ],
   "source": [
    "matriz = t.reshape(2, 4)\n",
    "print(matriz)"
   ]
  },
  {
   "cell_type": "code",
   "execution_count": 55,
   "id": "6e9b079d",
   "metadata": {},
   "outputs": [
    {
     "name": "stdout",
     "output_type": "stream",
     "text": [
      "[[1 2]\n",
      " [3 4]\n",
      " [5 6]\n",
      " [7 8]]\n"
     ]
    }
   ],
   "source": [
    "matriz = t.reshape(4, 2)\n",
    "print(matriz)"
   ]
  },
  {
   "cell_type": "markdown",
   "id": "1eb663cf",
   "metadata": {},
   "source": [
    "## ELement-wise\n",
    "### Operações Element-wise com Vetores"
   ]
  },
  {
   "cell_type": "code",
   "execution_count": 56,
   "id": "f75556ca",
   "metadata": {},
   "outputs": [
    {
     "name": "stdout",
     "output_type": "stream",
     "text": [
      "[11 12 13 14 15]\n"
     ]
    }
   ],
   "source": [
    "valores = np.array([1, 2, 3, 4, 5])\n",
    "\n",
    "valores = valores + 10\n",
    "print(valores)"
   ]
  },
  {
   "cell_type": "code",
   "execution_count": null,
   "id": "2bed197e",
   "metadata": {},
   "outputs": [
    {
     "name": "stdout",
     "output_type": "stream",
     "text": [
      "[11 12 13 14 15]\n"
     ]
    }
   ],
   "source": [
    "valores = np.array([1, 2, 3, 4, 5])\n",
    "\n",
    "# outro método,  mais otimizado\n",
    "valores = np.add(valores, 10)\n",
    "print(valores)"
   ]
  },
  {
   "cell_type": "code",
   "execution_count": 61,
   "id": "e54dc31b",
   "metadata": {},
   "outputs": [
    {
     "name": "stdout",
     "output_type": "stream",
     "text": [
      "[0 0 0 0 0]\n"
     ]
    }
   ],
   "source": [
    "valores *= 0\n",
    "print(valores)"
   ]
  },
  {
   "cell_type": "markdown",
   "id": "3f1778b0",
   "metadata": {},
   "source": [
    "### Operações Element-wise com Matrizes"
   ]
  },
  {
   "cell_type": "code",
   "execution_count": 64,
   "id": "cf262ab0",
   "metadata": {},
   "outputs": [
    {
     "name": "stdout",
     "output_type": "stream",
     "text": [
      "[[1 2]\n",
      " [5 6]]\n"
     ]
    }
   ],
   "source": [
    "x = np.array([[1, 2], [5, 6]])\n",
    "print(x)"
   ]
  },
  {
   "cell_type": "code",
   "execution_count": 69,
   "id": "783f91f9",
   "metadata": {},
   "outputs": [
    {
     "name": "stdout",
     "output_type": "stream",
     "text": [
      "[[2 4]\n",
      " [3 7]]\n"
     ]
    }
   ],
   "source": [
    "y = np.array([[2, 4], [3, 7]])\n",
    "print(y)"
   ]
  },
  {
   "cell_type": "code",
   "execution_count": 70,
   "id": "1a0012c9",
   "metadata": {},
   "outputs": [
    {
     "data": {
      "text/plain": [
       "array([[ 3,  6],\n",
       "       [ 8, 13]])"
      ]
     },
     "execution_count": 70,
     "metadata": {},
     "output_type": "execute_result"
    }
   ],
   "source": [
    "x + y"
   ]
  },
  {
   "cell_type": "code",
   "execution_count": 72,
   "id": "c3022059",
   "metadata": {},
   "outputs": [
    {
     "data": {
      "text/plain": [
       "array([[ 7,  9],\n",
       "       [ 8, 12]])"
      ]
     },
     "execution_count": 72,
     "metadata": {},
     "output_type": "execute_result"
    }
   ],
   "source": [
    "y + 5"
   ]
  },
  {
   "cell_type": "code",
   "execution_count": 73,
   "id": "413e653f",
   "metadata": {},
   "outputs": [
    {
     "data": {
      "text/plain": [
       "array([[13, 16],\n",
       "       [18, 23]])"
      ]
     },
     "execution_count": 73,
     "metadata": {},
     "output_type": "execute_result"
    }
   ],
   "source": [
    "x + y + 10"
   ]
  },
  {
   "cell_type": "code",
   "execution_count": 75,
   "id": "afaa3353",
   "metadata": {},
   "outputs": [
    {
     "data": {
      "text/plain": [
       "array([[0.3, 0.6],\n",
       "       [0.8, 1.3]])"
      ]
     },
     "execution_count": 75,
     "metadata": {},
     "output_type": "execute_result"
    }
   ],
   "source": [
    "(x + y) / 10"
   ]
  },
  {
   "cell_type": "markdown",
   "id": "d5b76b89",
   "metadata": {},
   "source": [
    "## DIferença de MUltiplicação de matrizes"
   ]
  },
  {
   "cell_type": "markdown",
   "id": "e13506bc",
   "metadata": {},
   "source": [
    "### Multiplicação elemento a elemento (elemnt-wise)\n",
    "\n",
    "**x * y**\n",
    "multiplicando elemento a elemento:\n",
    "\n",
    "_obs: não é multiplicação de matrizes_\n",
    "\n",
    " Para que a multiplicação elemento a elemento funcione, as matrizes envolvidas devem ter o mesmo tamanho (número de linhas e colunas)"
   ]
  },
  {
   "cell_type": "code",
   "execution_count": 77,
   "id": "f40db999",
   "metadata": {},
   "outputs": [
    {
     "name": "stdout",
     "output_type": "stream",
     "text": [
      "[[1 2]\n",
      " [5 6]]\n",
      "[[2 4]\n",
      " [3 7]]\n"
     ]
    },
    {
     "data": {
      "text/plain": [
       "array([[ 2,  8],\n",
       "       [15, 42]])"
      ]
     },
     "execution_count": 77,
     "metadata": {},
     "output_type": "execute_result"
    }
   ],
   "source": [
    "print(x)\n",
    "print(y)\n",
    "x * y"
   ]
  },
  {
   "cell_type": "markdown",
   "id": "678ea737",
   "metadata": {},
   "source": [
    "### Multiplicação de Matrizes\n",
    "\n",
    "**np.matmul(x, y)** ou  **x @ y** é a multiplicação de matrizes própriamente dita."
   ]
  },
  {
   "cell_type": "code",
   "execution_count": 78,
   "id": "dee7f023",
   "metadata": {},
   "outputs": [
    {
     "data": {
      "text/plain": [
       "array([[ 8, 18],\n",
       "       [28, 62]])"
      ]
     },
     "execution_count": 78,
     "metadata": {},
     "output_type": "execute_result"
    }
   ],
   "source": [
    "np.matmul(x, y)"
   ]
  },
  {
   "cell_type": "code",
   "execution_count": 79,
   "id": "e96c1ea3",
   "metadata": {},
   "outputs": [
    {
     "data": {
      "text/plain": [
       "array([[ 8, 18],\n",
       "       [28, 62]])"
      ]
     },
     "execution_count": 79,
     "metadata": {},
     "output_type": "execute_result"
    }
   ],
   "source": [
    "x @ y"
   ]
  },
  {
   "cell_type": "markdown",
   "id": "70e68300",
   "metadata": {},
   "source": [
    "#### Produto matricial\n",
    "**np.dot(x, y)**\n",
    "\n",
    " Para matrizes **bidimensionais**, np.dot(x, y) é equivalente a np.matmul(x, y).\n",
    "  Calcula o produto matricial de x e y.\n",
    "\n",
    "https://numpy.org/doc/stable/reference/generated/numpy.dot.html\n",
    "\n",
    "O produto escalar (dot product) é a soma dos produtos dos elementos correspondentes nas duas matrizes. Para obter o produto escalar, o número de colunas da primeira matriz deve ser igual ao número de linhas da segunda matriz.\n"
   ]
  },
  {
   "cell_type": "code",
   "execution_count": 85,
   "id": "9ead3f40",
   "metadata": {},
   "outputs": [
    {
     "data": {
      "text/plain": [
       "array([[ 8, 18],\n",
       "       [28, 62]])"
      ]
     },
     "execution_count": 85,
     "metadata": {},
     "output_type": "execute_result"
    }
   ],
   "source": [
    "np.dot(x, y)"
   ]
  },
  {
   "cell_type": "markdown",
   "id": "4a5ef70c",
   "metadata": {},
   "source": [
    "\n",
    "**np.dot(x, x.T)**: Aqui, x.T é a transposta de x. Esta operação realiza o produto matricial de x com sua transposta. O resultado é uma matriz que representa, de certa forma, o \"produto escalar\" da matriz com ela mesma, mas em termos de suas linhas ou colunas, dependendo da orientação da multiplicação.\n"
   ]
  },
  {
   "cell_type": "code",
   "execution_count": 87,
   "id": "48726c8f",
   "metadata": {},
   "outputs": [
    {
     "data": {
      "text/plain": [
       "array([[ 5, 17],\n",
       "       [17, 61]])"
      ]
     },
     "execution_count": 87,
     "metadata": {},
     "output_type": "execute_result"
    }
   ],
   "source": [
    "np.dot(x, x.T)"
   ]
  },
  {
   "cell_type": "markdown",
   "id": "e6f45f6a",
   "metadata": {},
   "source": [
    "#### Magnitude da Matriz\n",
    "\n",
    "**np.sqrt(np.sum(x ** 2))**: Esta expressão calcula a norma Frobenius da matriz x. Primeiro, eleva cada elemento de x ao quadrado e soma todos esses quadrados. Em seguida, calcula a raiz quadrada do resultado. Isso dá uma medida geral da magnitude da matriz x."
   ]
  },
  {
   "cell_type": "code",
   "execution_count": 89,
   "id": "9a534ae3",
   "metadata": {},
   "outputs": [
    {
     "name": "stdout",
     "output_type": "stream",
     "text": [
      "8.12403840463596\n"
     ]
    }
   ],
   "source": [
    "mag = np.sqrt(np.sum(x ** 2))\n",
    "print(mag)"
   ]
  },
  {
   "cell_type": "markdown",
   "id": "65384b56",
   "metadata": {},
   "source": [
    "**np.cross(x, y)**: Esta operação calcula o produto vetorial (ou produto cruzado) de x e y. Como x e y são matrizes 2x2, a função np.cross tratará as linhas de cada matriz como vetores e calculará o produto vetorial linha a linha.\n"
   ]
  },
  {
   "cell_type": "code",
   "execution_count": 90,
   "id": "0a944d32",
   "metadata": {},
   "outputs": [
    {
     "name": "stderr",
     "output_type": "stream",
     "text": [
      "/tmp/ipykernel_2402442/2907437548.py:1: DeprecationWarning: Arrays of 2-dimensional vectors are deprecated. Use arrays of 3-dimensional vectors instead. (deprecated in NumPy 2.0)\n",
      "  np.cross(x, y)\n"
     ]
    },
    {
     "data": {
      "text/plain": [
       "array([ 0, 17])"
      ]
     },
     "execution_count": 90,
     "metadata": {},
     "output_type": "execute_result"
    }
   ],
   "source": [
    "np.cross(x, y)"
   ]
  },
  {
   "cell_type": "markdown",
   "id": "ac6876ae",
   "metadata": {},
   "source": [
    "## Conceitos de Broadcasting do NumPy\n",
    "Broadcasting no NumPy é um recurso que permite que operações aritméticas sejam realizadas em arrays de diferentes formas e tamanhos.\n",
    "\n",
    "Esse processo envolve automaticamente \"estender\" um ou ambos os arrays envolvidos na operação para que eles tenham a mesma forma, permitindo assim que as operações sejam realizadas de maneira elementar."
   ]
  },
  {
   "cell_type": "markdown",
   "id": "437160ec",
   "metadata": {},
   "source": [
    "### Regras de Broadcasting\n",
    "\n",
    "- Se os arrays não tiverem o mesmo número de dimensões, a forma do array com menos dimensões é preenchida com uns à esquerda.\n",
    "\n",
    "- Se o tamanho das dimensões corresponder ou se uma das dimensões for 1, o broadcasting será aplicado. Se uma dimensão de um array for 1 e a do outro array for maior que 1, o primeiro array se comportará como se tivesse o tamanho da maior dimensão.\n",
    "\n",
    "- Se em qualquer dimensão os tamanhos forem diferentes e nenhum deles for 1, ocorrerá um erro, pois o broadcasting não pode ser aplicado.\n",
    "\n",
    "\n",
    "### Exemplos de Broadcasting\n",
    "\n",
    "\n",
    "- Adicionando um escalar a um array: Se você adicionar um número (escalar) a um array, o broadcasting estende esse escalar para um array do mesmo tamanho que o original e realiza a adição.\n",
    "\n",
    "\n",
    "- Operações entre arrays de diferentes tamanhos: Por exemplo, se você tiver um array de forma (3,1) e outro de forma (1,3), o broadcasting permite que esses arrays se comportem como se ambos tivessem forma (3,3) para realizar operações elementares.\n",
    "\n",
    "https://numpy.org/doc/stable/user/basics.broadcasting.html"
   ]
  },
  {
   "cell_type": "markdown",
   "id": "ee1e6e57",
   "metadata": {},
   "source": [
    "## Matrix Product\n",
    "\n",
    "https://numpy.org/doc/stable/reference/generated/numpy.matmul.html\n",
    "\n",
    "A definição de multiplicação de matrizes indica uma multiplicação linha por coluna, onde as entradas na i-ésima linha de A são multiplicados pelas entradas correspondentes no jth coluna de B e, em seguida, somando os resultados.\n",
    "\n",
    "A multiplicação de matrizes NÃO é comutativa.\n",
    "\n",
    "Para encontrar o produto da matriz, usa-se a função `matmul()` do NUmpy.\n",
    "\n",
    "**O shape das matrizes precisa ser compatível.**\n",
    "\n",
    "**Regras para o produto das matrizes:**\n",
    "\n",
    "- O número de colunas na matriz esquerda deve ser igual ao número de linhas na matriz direita.\n",
    "- A matriz resultante da operação possui o mesmo número de linhas que a matriz esquerda e o mesmo número de colunas que a matriz direita.\n",
    "- Os dados na matriz esquerda deve ser organizafo como linhas, enquanto os dados na matriz direita devem ser organizados como colunas.\n",
    "- Ordem importa: MUltiplicar $A.B$ não é o mesmo de $B.A$"
   ]
  },
  {
   "cell_type": "code",
   "execution_count": 94,
   "id": "9cad0c8c",
   "metadata": {},
   "outputs": [
    {
     "name": "stdout",
     "output_type": "stream",
     "text": [
      "[[1 2 3 4]\n",
      " [5 6 7 8]]\n"
     ]
    }
   ],
   "source": [
    "a = np.array([[1, 2, 3, 4], [5, 6, 7, 8]])\n",
    "print(a)"
   ]
  },
  {
   "cell_type": "code",
   "execution_count": 99,
   "id": "dff359aa",
   "metadata": {},
   "outputs": [
    {
     "data": {
      "text/plain": [
       "(2, 4)"
      ]
     },
     "execution_count": 99,
     "metadata": {},
     "output_type": "execute_result"
    }
   ],
   "source": [
    "a.shape"
   ]
  },
  {
   "cell_type": "code",
   "execution_count": 96,
   "id": "0b559da3",
   "metadata": {},
   "outputs": [
    {
     "name": "stdout",
     "output_type": "stream",
     "text": [
      "[[ 1  2  3]\n",
      " [ 4  5  6]\n",
      " [ 7  8  9]\n",
      " [10 11 12]]\n"
     ]
    }
   ],
   "source": [
    "b = np.array([[1,2,3], [4,5,6], [7,8,9], [10, 11, 12]])\n",
    "print(b)"
   ]
  },
  {
   "cell_type": "code",
   "execution_count": 98,
   "id": "9b5f3a40",
   "metadata": {},
   "outputs": [
    {
     "data": {
      "text/plain": [
       "(4, 3)"
      ]
     },
     "execution_count": 98,
     "metadata": {},
     "output_type": "execute_result"
    }
   ],
   "source": [
    "b.shape"
   ]
  },
  {
   "cell_type": "markdown",
   "id": "2fa963f0",
   "metadata": {},
   "source": [
    "O número de colunas da matriz $a$ é iguial ao número de linhas da matriz $b$"
   ]
  },
  {
   "cell_type": "code",
   "execution_count": 100,
   "id": "13801581",
   "metadata": {},
   "outputs": [
    {
     "name": "stdout",
     "output_type": "stream",
     "text": [
      "[[ 70  80  90]\n",
      " [158 184 210]]\n"
     ]
    }
   ],
   "source": [
    "prod = np.matmul(a, b)\n",
    "print(prod)"
   ]
  },
  {
   "cell_type": "code",
   "execution_count": 101,
   "id": "4c879e74",
   "metadata": {},
   "outputs": [
    {
     "data": {
      "text/plain": [
       "(2, 3)"
      ]
     },
     "execution_count": 101,
     "metadata": {},
     "output_type": "execute_result"
    }
   ],
   "source": [
    "prod.shape"
   ]
  },
  {
   "cell_type": "markdown",
   "id": "e26b60fc",
   "metadata": {},
   "source": [
    "### Produto Escalar de matrizes"
   ]
  },
  {
   "cell_type": "code",
   "execution_count": 102,
   "id": "3864117e",
   "metadata": {},
   "outputs": [
    {
     "data": {
      "text/plain": [
       "array([[ 70,  80,  90],\n",
       "       [158, 184, 210]])"
      ]
     },
     "execution_count": 102,
     "metadata": {},
     "output_type": "execute_result"
    }
   ],
   "source": [
    "np.dot(a, b)"
   ]
  },
  {
   "cell_type": "markdown",
   "id": "e5e84953",
   "metadata": {},
   "source": [
    "Dot product com escalares:"
   ]
  },
  {
   "cell_type": "code",
   "execution_count": 104,
   "id": "8f645a49",
   "metadata": {},
   "outputs": [
    {
     "name": "stdout",
     "output_type": "stream",
     "text": [
      "10\n"
     ]
    }
   ],
   "source": [
    "k = 5\n",
    "j = 2\n",
    "\n",
    "print(np.dot(k, j))"
   ]
  },
  {
   "cell_type": "markdown",
   "id": "36e8c97b",
   "metadata": {},
   "source": [
    "Dot product com vetores:"
   ]
  },
  {
   "cell_type": "code",
   "execution_count": 105,
   "id": "6c679b5a",
   "metadata": {},
   "outputs": [
    {
     "name": "stdout",
     "output_type": "stream",
     "text": [
      "32\n"
     ]
    }
   ],
   "source": [
    "c = np.array([1, 2, 3])\n",
    "d = np.array([4, 5, 6])\n",
    "\n",
    "print(np.dot(c, d))"
   ]
  },
  {
   "cell_type": "markdown",
   "id": "37b34553",
   "metadata": {},
   "source": [
    "Dot product com matrizes:"
   ]
  },
  {
   "cell_type": "code",
   "execution_count": 114,
   "id": "81874b9b",
   "metadata": {},
   "outputs": [
    {
     "name": "stdout",
     "output_type": "stream",
     "text": [
      "[[ 9 12]\n",
      " [33 42]]\n",
      "O inverso:\n",
      "[[39 54]\n",
      " [ 9 12]]\n"
     ]
    }
   ],
   "source": [
    "m1 = [[1, 2], [4, 5]]\n",
    "m2 = [[7, 8], [1, 2]]\n",
    "\n",
    "print(np.dot(m1, m2))\n",
    "print(\"O inverso:\")\n",
    "print(np.dot(m2, m1))"
   ]
  },
  {
   "cell_type": "code",
   "execution_count": 115,
   "id": "e5aa3fe3",
   "metadata": {},
   "outputs": [
    {
     "data": {
      "text/plain": [
       "array([[ 9, 12],\n",
       "       [33, 42]])"
      ]
     },
     "execution_count": 115,
     "metadata": {},
     "output_type": "execute_result"
    }
   ],
   "source": [
    "# Outra forma\n",
    "m1 = np.array(m1)\n",
    "m2 = np.array(m2)\n",
    "\n",
    "m1.dot(m2)"
   ]
  },
  {
   "cell_type": "code",
   "execution_count": 116,
   "id": "3840e6e9",
   "metadata": {},
   "outputs": [
    {
     "data": {
      "text/plain": [
       "array([[ 9, 12],\n",
       "       [33, 42]])"
      ]
     },
     "execution_count": 116,
     "metadata": {},
     "output_type": "execute_result"
    }
   ],
   "source": [
    "np.matmul(m1, m2)"
   ]
  },
  {
   "cell_type": "markdown",
   "id": "c509a53b",
   "metadata": {},
   "source": [
    "Desde que a e b são bidimensionais, np.dot(a, b) e np.matmul(a, b) realizam a mesma operação de multiplicação de matrizes e, portanto, produzem o mesmo resultado."
   ]
  },
  {
   "cell_type": "markdown",
   "id": "a8845b34",
   "metadata": {},
   "source": [
    "## Multiplicação com Arrays Multidimensionais"
   ]
  },
  {
   "cell_type": "code",
   "execution_count": 120,
   "id": "e1778bef",
   "metadata": {},
   "outputs": [
    {
     "data": {
      "text/plain": [
       "(2, 3, 3)"
      ]
     },
     "execution_count": 120,
     "metadata": {},
     "output_type": "execute_result"
    }
   ],
   "source": [
    "a = np.random.rand(2,3,3)\n",
    "b = np.random.rand(2,3,3)\n",
    "a.shape"
   ]
  },
  {
   "cell_type": "markdown",
   "id": "bd386a26",
   "metadata": {},
   "source": [
    "Em caso de Arrays multidimensionais dot e matmul não produzem o mesmo resultado"
   ]
  },
  {
   "cell_type": "code",
   "execution_count": 123,
   "id": "d6ad86ad",
   "metadata": {},
   "outputs": [
    {
     "name": "stdout",
     "output_type": "stream",
     "text": [
      "[[[0.13215516 0.31561791 0.53889325]\n",
      "  [0.10097144 0.21523238 0.40999805]\n",
      "  [0.29698353 0.34013694 0.32471013]]\n",
      "\n",
      " [[0.19292383 0.93027634 1.13792439]\n",
      "  [0.36713023 1.02611164 1.15316647]\n",
      "  [0.23003357 1.02834652 1.23356842]]] (2, 3, 3)\n"
     ]
    }
   ],
   "source": [
    "c = np.matmul(a, b)\n",
    "print(c, c.shape)"
   ]
  },
  {
   "cell_type": "code",
   "execution_count": 124,
   "id": "e6a44191",
   "metadata": {},
   "outputs": [
    {
     "name": "stdout",
     "output_type": "stream",
     "text": [
      "[[[[0.13215516 0.31561791 0.53889325]\n",
      "   [0.15770139 0.50832693 0.44815978]]\n",
      "\n",
      "  [[0.10097144 0.21523238 0.40999805]\n",
      "   [0.14833005 0.39272443 0.29858683]]\n",
      "\n",
      "  [[0.29698353 0.34013694 0.32471013]\n",
      "   [0.11017575 0.35648178 0.64744572]]]\n",
      "\n",
      "\n",
      " [[[0.33544612 0.73278418 0.98575969]\n",
      "   [0.19292383 0.93027634 1.13792439]]\n",
      "\n",
      "  [[0.47135392 0.70414323 1.02220598]\n",
      "   [0.36713023 1.02611164 1.15316647]]\n",
      "\n",
      "  [[0.37369009 0.79400687 1.0847261 ]\n",
      "   [0.23003357 1.02834652 1.23356842]]]] (2, 3, 2, 3)\n"
     ]
    }
   ],
   "source": [
    "d = np.dot(a, b)\n",
    "print(d, d.shape)"
   ]
  },
  {
   "cell_type": "markdown",
   "id": "01e9a49d",
   "metadata": {},
   "source": [
    "**Atenção:**\n",
    "\n",
    "- A função `matmul()` usa o array como uma pilha de matrizes como elementos que residem nos dois últimos índices, respectivamente. \n",
    "\n",
    "- A função `dot()`, por outro lado, realiza a multiplicação como a soma dos produtos sobre o último eixo da primeira matriz e o penúltimo da segunda.\n",
    "\n",
    "- Outra diferença entre `matmul()` e a função `numpy.dot` é que a primeira não pode realizar multiplicação de array com valores escalares."
   ]
  },
  {
   "cell_type": "markdown",
   "id": "b42e1fec",
   "metadata": {},
   "source": [
    "### Cálculo da Norma"
   ]
  },
  {
   "cell_type": "code",
   "execution_count": 125,
   "id": "d152c976",
   "metadata": {},
   "outputs": [
    {
     "data": {
      "text/plain": [
       "np.float64(1.9300561836404126)"
      ]
     },
     "execution_count": 125,
     "metadata": {},
     "output_type": "execute_result"
    }
   ],
   "source": [
    "np.sqrt(np.sum(a ** 2))"
   ]
  },
  {
   "cell_type": "markdown",
   "id": "e276c5a3",
   "metadata": {},
   "source": [
    "# Exercícios"
   ]
  },
  {
   "cell_type": "markdown",
   "id": "ed8c9d52",
   "metadata": {},
   "source": [
    "### Exercício 1: Soma de Matrizes\n",
    "Escreva  um  programa  em  Python  que  soma  duas  matrizes  de mesmo  tamanho.  As matrizes devem ser lidas como listas de listas e o resultado deve ser exibido na tela. Apresente a solução com e sem o uso do NumPy. \n"
   ]
  },
  {
   "cell_type": "code",
   "execution_count": 215,
   "id": "5cf3a808",
   "metadata": {},
   "outputs": [
    {
     "data": {
      "text/plain": [
       "[[8, 10, 12], [14, 16, 18]]"
      ]
     },
     "execution_count": 215,
     "metadata": {},
     "output_type": "execute_result"
    }
   ],
   "source": [
    "l1 = [[1, 2, 3], [4, 5, 6]]\n",
    "l2 = [[7, 8, 9], [10, 11, 12]]\n",
    "\n",
    "soma = [[i + j for i, j in zip(l1[0], l2[0])]]\n",
    "\n",
    "for n in range(1, len(l1)):\n",
    "    soma.append([i + j for i, j in zip(l1[1], l2[1])])\n",
    "\n",
    "soma"
   ]
  },
  {
   "cell_type": "code",
   "execution_count": 212,
   "id": "472169cb",
   "metadata": {},
   "outputs": [
    {
     "data": {
      "text/plain": [
       "array([[ 8, 10, 12],\n",
       "       [14, 16, 18]])"
      ]
     },
     "execution_count": 212,
     "metadata": {},
     "output_type": "execute_result"
    }
   ],
   "source": [
    "np.array(l1) + np.array(l2)"
   ]
  },
  {
   "cell_type": "code",
   "execution_count": 162,
   "id": "7149a99f",
   "metadata": {},
   "outputs": [],
   "source": [
    "def multiplica_matrizes(l1, l2):\n",
    "    if len(l1[0]) != len(l2):\n",
    "        raise ValueError(\"As matrizes não podem ser multiplicadas, pois o número de colunas da primeira matriz não é igual ao número de linhas da segunda matriz.\")\n",
    "    else:\n",
    "        resultado = []\n",
    "        for i in range(len(l1)):\n",
    "            linha = []\n",
    "            for j in range(len(l2[0])):\n",
    "                soma = 0\n",
    "                for k in range(len(l2)):\n",
    "                    soma += l1[i][k] * l2[k][j]\n",
    "                linha.append(soma)\n",
    "            resultado.append(linha)\n",
    "        return resultado"
   ]
  },
  {
   "cell_type": "code",
   "execution_count": 163,
   "id": "b0ba03ad",
   "metadata": {},
   "outputs": [
    {
     "name": "stdout",
     "output_type": "stream",
     "text": [
      "[[28, 34], [79, 94]]\n"
     ]
    }
   ],
   "source": [
    "# matriz 2x3\n",
    "l1 = [[1, 2, 3], \n",
    "      [4, 5, 6]]\n",
    "\n",
    "#matriz 3x2\n",
    "l2 = [[7, 8], \n",
    "      [9, 10],\n",
    "      [1, 2]]\n",
    "\n",
    "try:  \n",
    "    print(multiplica_matrizes(l1, l2))\n",
    "except ValueError as e:\n",
    "    print(\"Erro\", e)"
   ]
  },
  {
   "cell_type": "code",
   "execution_count": 164,
   "id": "9fc00db0",
   "metadata": {},
   "outputs": [
    {
     "data": {
      "text/plain": [
       "array([[28, 34],\n",
       "       [79, 94]])"
      ]
     },
     "execution_count": 164,
     "metadata": {},
     "output_type": "execute_result"
    }
   ],
   "source": [
    "np.array(l1) @ np.array(l2)"
   ]
  },
  {
   "cell_type": "markdown",
   "id": "6f009df0",
   "metadata": {},
   "source": [
    "\n",
    "### Exercício 3: Transposição de Matriz\n",
    "Crie um programa que calcula a transposta de uma matriz. A matriz deve ser inserida pelo usuário e o programa deve exibir a matriz transposta. Apresente a solução com e sem o uso do NumPy."
   ]
  },
  {
   "cell_type": "code",
   "execution_count": 169,
   "id": "a2e887fa",
   "metadata": {},
   "outputs": [
    {
     "data": {
      "text/plain": [
       "[[1, 4], [2, 5], [3, 6]]"
      ]
     },
     "execution_count": 169,
     "metadata": {},
     "output_type": "execute_result"
    }
   ],
   "source": [
    "a = [[1,2,3],\n",
    "     [4,5,6]]\n",
    "\n",
    "t = []\n",
    "for i in range(len(a[0])):\n",
    "    linha = []\n",
    "    for j in range(len(a)):\n",
    "        linha.append(a[j][i])\n",
    "    t.append(linha)\n",
    "t\n"
   ]
  },
  {
   "cell_type": "code",
   "execution_count": 221,
   "id": "f1e601a1",
   "metadata": {},
   "outputs": [
    {
     "data": {
      "text/plain": [
       "[[1, 4], [2, 5], [3, 6]]"
      ]
     },
     "execution_count": 221,
     "metadata": {},
     "output_type": "execute_result"
    }
   ],
   "source": [
    "[[a[j][i] for j in range(len(a))] for i in range(len(a[0]))]"
   ]
  },
  {
   "cell_type": "code",
   "execution_count": 222,
   "id": "f1f05bd0",
   "metadata": {},
   "outputs": [
    {
     "data": {
      "text/plain": [
       "array([[1, 4],\n",
       "       [2, 5],\n",
       "       [3, 6]])"
      ]
     },
     "execution_count": 222,
     "metadata": {},
     "output_type": "execute_result"
    }
   ],
   "source": [
    "np.array(a).T"
   ]
  },
  {
   "cell_type": "markdown",
   "id": "daa0f607",
   "metadata": {},
   "source": [
    "\n",
    "### Exercício 4: Traço de uma Matriz\n",
    "\n",
    "Desenvolva um script em Python que calcula o traço de uma matriz (soma dos elementos da  diagonal  principal).  O  programa  deve  funcionar  para  matrizes  quadradas  de  qualquer tamanho.  Apresente  a  solução  com  e  sem  o  uso  do  NumPy.\n"
   ]
  },
  {
   "cell_type": "code",
   "execution_count": 233,
   "id": "0463870b",
   "metadata": {},
   "outputs": [],
   "source": [
    "def traco_matriz(a):\n",
    "    if not all(len(row) == len(a) for row in a):\n",
    "        print(\"A matriz deve ser quadrada para calcular o traço.\")\n",
    "        return None\n",
    "    soma = 0\n",
    "    for i in range(len(a)):\n",
    "        for j in range(len(a[i])):\n",
    "            if i == j:\n",
    "              soma += a[i][j]\n",
    "    return soma"
   ]
  },
  {
   "cell_type": "code",
   "execution_count": 232,
   "id": "00d8ceeb",
   "metadata": {},
   "outputs": [
    {
     "data": {
      "text/plain": [
       "15"
      ]
     },
     "execution_count": 232,
     "metadata": {},
     "output_type": "execute_result"
    }
   ],
   "source": [
    "matriz = [[1, 2, 3],\n",
    "          [4, 5, 6],\n",
    "          [7, 8, 9]]\n",
    "\n",
    "traco_matriz(matriz)"
   ]
  },
  {
   "cell_type": "code",
   "execution_count": 224,
   "id": "61c0135f",
   "metadata": {},
   "outputs": [
    {
     "data": {
      "text/plain": [
       "[15]"
      ]
     },
     "execution_count": 224,
     "metadata": {},
     "output_type": "execute_result"
    }
   ],
   "source": [
    "[sum(matriz[i][j] for i in range(len(matriz)) for j in range(len(matriz[i])) if i == j)]"
   ]
  },
  {
   "cell_type": "code",
   "execution_count": 197,
   "id": "7732beff",
   "metadata": {},
   "outputs": [
    {
     "data": {
      "text/plain": [
       "np.int64(15)"
      ]
     },
     "execution_count": 197,
     "metadata": {},
     "output_type": "execute_result"
    }
   ],
   "source": [
    "np.array(matriz).trace()"
   ]
  },
  {
   "cell_type": "markdown",
   "id": "6cf18ddd",
   "metadata": {},
   "source": [
    "\n",
    "### Exercício 5: Determinante de uma Matriz\n",
    "\n",
    "Escreva  uma  função  que  calcula  o  determinante  de  uma  matriz  quadrada.  Utilize  a recursividade ou o método de Laplace para calcular o determinante. Apresente a solução com e sem o uso do NumPy.\n"
   ]
  },
  {
   "cell_type": "code",
   "execution_count": 229,
   "id": "18bf04da",
   "metadata": {},
   "outputs": [
    {
     "data": {
      "text/plain": [
       "0"
      ]
     },
     "execution_count": 229,
     "metadata": {},
     "output_type": "execute_result"
    }
   ],
   "source": [
    "# Determinante de uma matriz (Desafio)\n",
    "def determinante(matriz):\n",
    "    if not all(len(row) == len(matriz) for row in matriz):\n",
    "        print(\"A matriz deve ser quadrada.\")\n",
    "        return None\n",
    "    elif len(matriz) == 1:\n",
    "        return matriz[0][0]\n",
    "    elif len(matriz) == 2:\n",
    "        return matriz[0][0] * matriz[1][1] - matriz[0][1] * matriz[1][0]\n",
    "    else:\n",
    "        det = 0\n",
    "        for c in range(len(matriz)):\n",
    "            submatriz = [row[:c] + row[c+1:] for row in matriz[1:]]\n",
    "            det += ((-1) ** c) * matriz[0][c] * determinante(submatriz)\n",
    "        return det\n",
    "\n",
    "determinante(matriz)  "
   ]
  },
  {
   "cell_type": "code",
   "execution_count": 230,
   "id": "f915cfcd",
   "metadata": {},
   "outputs": [
    {
     "data": {
      "text/plain": [
       "np.float64(0.0)"
      ]
     },
     "execution_count": 230,
     "metadata": {},
     "output_type": "execute_result"
    }
   ],
   "source": [
    "m = np.array(matriz) \n",
    "np.linalg.det(m)"
   ]
  }
 ],
 "metadata": {
  "kernelspec": {
   "display_name": "Python 3",
   "language": "python",
   "name": "python3"
  },
  "language_info": {
   "codemirror_mode": {
    "name": "ipython",
    "version": 3
   },
   "file_extension": ".py",
   "mimetype": "text/x-python",
   "name": "python",
   "nbconvert_exporter": "python",
   "pygments_lexer": "ipython3",
   "version": "3.10.12"
  }
 },
 "nbformat": 4,
 "nbformat_minor": 5
}
