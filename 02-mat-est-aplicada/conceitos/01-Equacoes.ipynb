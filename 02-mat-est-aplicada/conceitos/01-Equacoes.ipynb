{
 "cells": [
  {
   "cell_type": "markdown",
   "id": "6d678af4",
   "metadata": {},
   "source": [
    "# Repesentação de Equações Matemáticas via programação"
   ]
  },
  {
   "cell_type": "markdown",
   "id": "2aa38355",
   "metadata": {},
   "source": [
    "## Conceitos"
   ]
  },
  {
   "cell_type": "markdown",
   "id": "c20ffde9",
   "metadata": {},
   "source": [
    "### Equações simples\n",
    "\n",
    "Considere a seguinte equação:\n",
    "\n",
    "\\begin{equation}x + 10 = 20\\end{equation}\n",
    "\n",
    "Podemos resolver isolando a variável x:\n",
    "\n",
    "\\begin{equation}\n",
    "\\begin{split}\n",
    "& x = 20 - 10 \\\\\n",
    "& x = 10    \n",
    "\\end{split}\n",
    "\\end{equation}\n",
    "\n",
    "Verificando o resuldado com python:"
   ]
  },
  {
   "cell_type": "code",
   "execution_count": 1,
   "id": "ecb38110",
   "metadata": {},
   "outputs": [
    {
     "data": {
      "text/plain": [
       "True"
      ]
     },
     "execution_count": 1,
     "metadata": {},
     "output_type": "execute_result"
    }
   ],
   "source": [
    "x = 10\n",
    "x + 10 == 20"
   ]
  },
  {
   "cell_type": "markdown",
   "id": "18e48e7e",
   "metadata": {},
   "source": [
    "### Resolvendo Equações Combinando Termos\n",
    "\n",
    "Termos semelhantes são elementos de uma expressão que se relacionam com a mesma variável ou constante Por exemplo, considere a seguinte equação:\n",
    "\n",
    "$$\\textbf{5x} + 1 \\textbf{- 2x} = 22 $$\n",
    "\n",
    "Nesta equação, o lado esquerdo inclui os termos **5x** e **- 2x**, ambos representando a variável **x** multiplicada por um coeficiente. \n",
    "\n",
    "Podemos reescrever a equação para combinar estes termos semelhantes:\n",
    "\n",
    "$$\\textbf{5x - 2x} + 1 = 22 $$\n",
    "\n",
    "Podemos então simplesmente realizar as operações necessárias nos termos semelhantes para consolidá-los em um único termo:\n",
    "\n",
    "$$\\textbf{3x} + 1 = 22 $$\n",
    "\n",
    "Agora, podemos resolver isso como qualquer outra equação de duas etapas. Primeiro vamos remover as constantes do lado esquerdo - neste caso, há uma expressão constante que adiciona 1, então vamos usar a operação oposta para removê-la e fazer o mesmo do outro lado:\n",
    "\n",
    "$$3x  = 22 - 1 $$\n",
    "\n",
    "Isso nos dá:\n",
    "\n",
    "$$3x = 21 $$\n",
    "\n",
    "Então vamos lidar com os coeficientes - neste caso x é multiplicado por 3, então vamos dividir por 3 em ambos os lados para remover o coeficiente:\n",
    "\n",
    "$$x = \\frac{21}{3} $$\n",
    "\n",
    "Isso nos dá como resposta:\n",
    "\n",
    "$$x = 7 $$\n",
    "\n",
    "Representando em python:"
   ]
  },
  {
   "cell_type": "code",
   "execution_count": 2,
   "id": "dc271832",
   "metadata": {},
   "outputs": [
    {
     "data": {
      "text/plain": [
       "True"
      ]
     },
     "execution_count": 2,
     "metadata": {},
     "output_type": "execute_result"
    }
   ],
   "source": [
    "# Atribuindo valor a x\n",
    "x = 7\n",
    "# Comparando as expressões\n",
    "5 * x + 1 - 2 * x == 22"
   ]
  },
  {
   "cell_type": "markdown",
   "id": "0ed98f60",
   "metadata": {},
   "source": [
    "### Usando a Propriedade Distributiva\n",
    "\n",
    "A propriedade distributiva é uma lei matemática que nos permite distribuir a mesma operação para termos entre parênteses. Por exemplo,:\n",
    "\n",
    "$$\\textbf{4(x + 2)} + \\textbf{3(x - 2)} = 16 $$\n",
    "\n",
    "A equação inclui duas operações entre parênteses: **4(*x* + 2)** e **3(*x* - 2)**. Cada uma dessas operações consiste em uma constante pela qual o conteúdo entre parênteses deve ser multiplicado: por exemplo, 4 vezes (*x* + 2). \n",
    "\n",
    "A propriedade distributiva significa que podemos obter o mesmo resultado multiplicando cada termo entre parênteses e somando os resultados, então para a primeira operação entre parênteses, podemos multiplicar 4 por *x* e somar 4 vezes +2; e para a segunda operação entre parênteses, podemos calcular 3 vezes *x* + 3 vezes -2). Observe que as constantes entre parênteses incluem o sinal (+ ou -) que as precede:\n",
    "\n",
    "$$4x + 8 + 3x - 6 = 16 $$\n",
    "\n",
    "Agora podemos agrupar nossos termos semelhantes:\n",
    "\n",
    "$$7x + 2 = 16 $$\n",
    "\n",
    "Em seguida, movemos a constante para o outro lado:\n",
    "\n",
    "$$7x = 14 $$\n",
    "\n",
    "E agora podemos lidar com o coeficiente:\n",
    "\n",
    "$$x = \\frac{14}{7} $$\n",
    "\n",
    "O que nos dá a resposta:\n",
    "\n",
    "$$x = 2 $$"
   ]
  },
  {
   "cell_type": "code",
   "execution_count": 3,
   "id": "a177ab2a",
   "metadata": {},
   "outputs": [
    {
     "data": {
      "text/plain": [
       "True"
      ]
     },
     "execution_count": 3,
     "metadata": {},
     "output_type": "execute_result"
    }
   ],
   "source": [
    "x = 2\n",
    "# Comparando as expressões\n",
    "4 * (x + 2) + 3 * (x - 2) == 16"
   ]
  },
  {
   "cell_type": "markdown",
   "id": "68d9a669",
   "metadata": {},
   "source": [
    "## Exercícios"
   ]
  },
  {
   "cell_type": "markdown",
   "id": "34d4527c",
   "metadata": {},
   "source": [
    "### Exercício 1: Cálculo de Área de um Círculo\n",
    "\n",
    "Escreva um programa que calcula a área de um círculo. O usuário deve fornecer o raio e o programa deve retornar a área."
   ]
  },
  {
   "cell_type": "code",
   "execution_count": null,
   "id": "4371d74d",
   "metadata": {},
   "outputs": [],
   "source": [
    "import math\n",
    "\n",
    "raio = 5\n",
    "#raio = float(input(\"Digite o raio do círculo: \"))\n",
    "\n",
    "area = math.pi * raio ** 2\n",
    "print(f\"A área do círculo com raio {raio} é: {area:.2f}\")"
   ]
  },
  {
   "cell_type": "markdown",
   "id": "c420a08a",
   "metadata": {},
   "source": [
    "### Exercício 2: Conversão de Temperatura\n",
    "\n",
    "Crie uma função que converte a temperatura de Celsius para Fahrenheit e vice-versa. O usuário deve informar a temperatura e a escala de origem."
   ]
  },
  {
   "cell_type": "code",
   "execution_count": 2,
   "id": "574ab773",
   "metadata": {},
   "outputs": [
    {
     "name": "stdout",
     "output_type": "stream",
     "text": [
      "A temperatura de 40°C é equivalente a 104.00°F\n",
      "A temperatura de 104.0°F é equivalente a 40.00°C\n"
     ]
    }
   ],
   "source": [
    "temperatura_celsis = 40\n",
    "\n",
    "#temperatura_celsis = float(input(\"Digite a temperatura em Celsius: \"))\n",
    "temperatura_fahrenheit = (temperatura_celsis * 9/5) + 32\n",
    "print(f\"A temperatura de {temperatura_celsis}°C é equivalente a {temperatura_fahrenheit:.2f}°F\")\n",
    "\n",
    "temperatura_celsius = (temperatura_fahrenheit - 32) * 5/9\n",
    "print(f\"A temperatura de {temperatura_fahrenheit}°F é equivalente a {temperatura_celsius:.2f}°C\")"
   ]
  },
  {
   "cell_type": "markdown",
   "id": "e073fe1e",
   "metadata": {},
   "source": [
    "### Exercício 3: Resolver uma Equação Linear\n",
    "\n",
    "Faça um programa que resolve uma equação linear do tipo ax + b = 0. Os valores de a e b são fornecidos pelo usuário."
   ]
  },
  {
   "cell_type": "code",
   "execution_count": 6,
   "id": "c3773c50",
   "metadata": {},
   "outputs": [
    {
     "name": "stdout",
     "output_type": "stream",
     "text": [
      "O valor de x é: -1.50\n"
     ]
    }
   ],
   "source": [
    "a = 2\n",
    "b = 3\n",
    "\n",
    "x = -b/a\n",
    "\n",
    "print(f\"O valor de x é: {x:.2f}\")"
   ]
  },
  {
   "cell_type": "code",
   "execution_count": 8,
   "id": "53237bf5",
   "metadata": {},
   "outputs": [
    {
     "data": {
      "text/plain": [
       "True"
      ]
     },
     "execution_count": 8,
     "metadata": {},
     "output_type": "execute_result"
    }
   ],
   "source": [
    "# conferir se a equação é verdadeira e x está correto\n",
    "a*x + b == 0"
   ]
  },
  {
   "cell_type": "markdown",
   "id": "4befac1b",
   "metadata": {},
   "source": [
    "### Exercício 4: Cálculo de Média Aritmética\n",
    "\n",
    "Escreva um programa que calcula a média aritmética de uma lista de números fornecida pelo usuário."
   ]
  },
  {
   "cell_type": "code",
   "execution_count": 9,
   "id": "8500cd59",
   "metadata": {},
   "outputs": [
    {
     "name": "stdout",
     "output_type": "stream",
     "text": [
      "A média da lista [1, 2, 3, 4, 5] é: 3.00\n"
     ]
    }
   ],
   "source": [
    "lista = [1, 2, 3, 4, 5]\n",
    "\n",
    "\n",
    "def media_lista(lista):\n",
    "    return sum(lista) / len(lista)\n",
    "media = media_lista(lista)\n",
    "\n",
    "print(f\"A média da lista {lista} é: {media:.2f}\")"
   ]
  },
  {
   "cell_type": "markdown",
   "id": "83aaf9aa",
   "metadata": {},
   "source": [
    "### Exercício 5: Determinar as Raízes de uma Equação Quadrática\n",
    "\n",
    "Crie um programa que encontra as raízes de uma equação quadrática do tipo ax^2 + bx + c = 0. O programa deve lidar com todos os tipos de raízes (reais e complexas)."
   ]
  },
  {
   "cell_type": "code",
   "execution_count": null,
   "id": "96826f3e-2521-4d2d-b155-2cf28170ce8e",
   "metadata": {},
   "outputs": [],
   "source": [
    "import cmath \n",
    "\n",
    "def raizes_equacao_quadratica(a,b,c):\n",
    "    delta = cmath.sqrt(b**2 - 4*a*c)\n",
    "    x1 = (-b + delta) / 2*a\n",
    "    x2 = (-b - delta) / 2*a\n",
    "\n",
    "    return (x1, x2)\n",
    "\n",
    "a = float(input(\"Informe o valor de a:\"))\n",
    "b = float(input(\"Informe o valor de b:\"))\n",
    "c = float(input(\"Informe o valor de c\"))\n",
    "\n",
    "raizes = raizes_equacao_quadratica(a,b,c)\n",
    "print(\"As raizes da equação são:\", raizes)"
   ]
  },
  {
   "cell_type": "markdown",
   "id": "b58349c2",
   "metadata": {},
   "source": [
    "### Exercício 6: Calcular o Fatorial de um Número\n",
    "\n",
    "Escreva uma função que calcula o fatorial de um número inteiro fornecido pelo usuário."
   ]
  },
  {
   "cell_type": "code",
   "execution_count": null,
   "id": "b1611fa1",
   "metadata": {},
   "outputs": [],
   "source": [
    "def fatorial(n):\n",
    "    if n == 0 or n == 1:\n",
    "        return 1\n",
    "    else: #função recursiva\n",
    "        return n * fatorial(n - 1)\n",
    "n = int(input(\"Digite um número para calcular o fatorial: \"))\n",
    "resultado_fatorial = fatorial(n)\n",
    "print(f\"O fatorial de {n} é: {fatorial(n):.2f}\")"
   ]
  },
  {
   "cell_type": "markdown",
   "id": "c5a52e0b",
   "metadata": {},
   "source": [
    "### Exercício 7: Sequência de Fibonacci\n",
    "\n",
    "Crie um programa que gera a sequência de Fibonacci até um determinado número n fornecido pelo usuário."
   ]
  },
  {
   "cell_type": "code",
   "execution_count": null,
   "id": "5c748744",
   "metadata": {},
   "outputs": [],
   "source": [
    "def fibbonacci(n):\n",
    "    if n <= 0:\n",
    "        return []\n",
    "    elif n == 1:\n",
    "        return [0]\n",
    "    elif n == 2:\n",
    "        return [0, 1]\n",
    "    else:\n",
    "        fib = [0, 1]\n",
    "        for i in range(2, n):\n",
    "            fib.append(fib[i-1] + fib[i-2])\n",
    "        return fib\n",
    "n = int(input(\"Digite o número de termos da sequência de Fibonacci: \"))\n",
    "print(f\"A sequência de Fibonacci com {n} termos é: {fibbonacci(n)}\")"
   ]
  },
  {
   "cell_type": "markdown",
   "id": "4f2a027f",
   "metadata": {},
   "source": [
    "### Exercício 8: Cálculo de Juros Compostos\n",
    "\n",
    "Faça um programa que calcula o montante final de um investimento com juros compostos. O usuário deve fornecer o capital inicial, a taxa de juros anual, e o número de anos."
   ]
  },
  {
   "cell_type": "code",
   "execution_count": null,
   "id": "54fd7aef",
   "metadata": {},
   "outputs": [],
   "source": [
    "def juros_compostos(capital_inicial, taxa_juros, tempo):\n",
    "    montante = capital_inicial * (1 + taxa_juros) ** tempo\n",
    "    return montante\n",
    "capital_inicial = float(input(\"Informe o capital inicial: \"))\n",
    "taxa_juros = float(input(\"Informe a taxa de juros (em decimal): \"))\n",
    "tempo = int(input(\"Informe o tempo (em anos): \"))\n",
    "montante = juros_compostos(capital_inicial, taxa_juros, tempo)\n",
    "print(f\"O montante após {tempo} anos é: {montante:.2f}\")"
   ]
  },
  {
   "cell_type": "markdown",
   "id": "7dda3d7e",
   "metadata": {},
   "source": [
    "### Exercício 9: Conversão de Moedas\n",
    "\n",
    "Escreva um programa que converte uma quantidade de uma moeda (como dólar) para outra (como euro), considerando uma taxa de câmbio fornecida pelo usuário."
   ]
  },
  {
   "cell_type": "code",
   "execution_count": null,
   "id": "85ba9ac1",
   "metadata": {},
   "outputs": [],
   "source": [
    "def euro_para_real(valor_em_euro, taxa_cambio):\n",
    "    return valor_em_euro * taxa_cambio\n",
    "valor_em_euro = float(input(\"Informe o valor em Euro: \"))\n",
    "taxa_cambio = float(input(\"Informe a taxa de câmbio Euro/Real: \"))\n",
    "valor_em_real = euro_para_real(valor_em_euro, taxa_cambio)\n",
    "print(f\"O valor de {valor_em_euro} Euro é equivalente a {valor_em_real:.2f} Reais.\")"
   ]
  },
  {
   "cell_type": "markdown",
   "id": "814f158a",
   "metadata": {},
   "source": [
    "### Exercício 10: Verificar se um Número é Primo\n",
    "\n",
    "Crie uma função que verifica se um número fornecido pelo usuário é primo ou não."
   ]
  },
  {
   "cell_type": "code",
   "execution_count": null,
   "id": "b32fc43a",
   "metadata": {},
   "outputs": [],
   "source": [
    "def verifica_primo(n):\n",
    "    if n <= 1:\n",
    "        return False\n",
    "    for i in range(2, int(n/2) + 1):\n",
    "        if n % i == 0:\n",
    "            return False\n",
    "    return True\n",
    "numero = int(input(\"Digite um número para verificar se é primo: \"))\n",
    "if verifica_primo(numero):\n",
    "    print(f\"{numero} é um número primo.\")\n",
    "else:\n",
    "    print(f\"{numero} não é um número primo.\")"
   ]
  }
 ],
 "metadata": {
  "kernelspec": {
   "display_name": "Python 3",
   "language": "python",
   "name": "python3"
  },
  "language_info": {
   "codemirror_mode": {
    "name": "ipython",
    "version": 3
   },
   "file_extension": ".py",
   "mimetype": "text/x-python",
   "name": "python",
   "nbconvert_exporter": "python",
   "pygments_lexer": "ipython3",
   "version": "3.10.12"
  }
 },
 "nbformat": 4,
 "nbformat_minor": 5
}
