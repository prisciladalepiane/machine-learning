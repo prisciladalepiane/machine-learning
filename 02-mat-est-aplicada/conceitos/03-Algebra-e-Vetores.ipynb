{
 "cells": [
  {
   "cell_type": "markdown",
   "id": "8c97cffb",
   "metadata": {},
   "source": [
    "# Álgebra e Vetores"
   ]
  },
  {
   "cell_type": "code",
   "execution_count": 258,
   "id": "0fd02e30",
   "metadata": {},
   "outputs": [],
   "source": [
    "import math\n",
    "import numpy as np"
   ]
  },
  {
   "cell_type": "markdown",
   "id": "0fefb79e",
   "metadata": {},
   "source": [
    "## Regras Básicas da Álgebra"
   ]
  },
  {
   "cell_type": "markdown",
   "id": "94783051",
   "metadata": {
    "vscode": {
     "languageId": "plaintext"
    }
   },
   "source": [
    "### Propriedades da Igualdade\n"
   ]
  },
  {
   "cell_type": "markdown",
   "id": "9a222186",
   "metadata": {},
   "source": [
    "1. **Reflexiva**  \n",
    "   Qualquer valor é igual a si mesmo:  \n",
    "   $ a = a $\n",
    "\n",
    "2. **Simétrica**  \n",
    "   Se $a = b$, então $b = a$\n",
    "   A ordem dos lados pode ser invertida.\n",
    "\n",
    "3. **Transitiva**  \n",
    "   Se $a = b$ e $b = c$, então $ a = c $"
   ]
  },
  {
   "cell_type": "code",
   "execution_count": 259,
   "id": "27981079",
   "metadata": {},
   "outputs": [
    {
     "name": "stdout",
     "output_type": "stream",
     "text": [
      "True\n"
     ]
    }
   ],
   "source": [
    "# Reflexiva\n",
    "a = 5\n",
    "print(a==a)"
   ]
  },
  {
   "cell_type": "code",
   "execution_count": 260,
   "id": "2122586e",
   "metadata": {},
   "outputs": [
    {
     "name": "stdout",
     "output_type": "stream",
     "text": [
      "True\n",
      "True\n"
     ]
    }
   ],
   "source": [
    "# Simetrica\n",
    "a = 10\n",
    "b = 10\n",
    "print(a==b) \n",
    "print(b==a)"
   ]
  },
  {
   "cell_type": "code",
   "execution_count": 261,
   "id": "3d83baec",
   "metadata": {},
   "outputs": [
    {
     "name": "stdout",
     "output_type": "stream",
     "text": [
      "True\n",
      "True\n"
     ]
    }
   ],
   "source": [
    "# Trasitiva\n",
    "a = 5 \n",
    "b = 5\n",
    "c = 5\n",
    "print(a==b and b==c)\n",
    "print(a==c)"
   ]
  },
  {
   "cell_type": "markdown",
   "id": "1437400f",
   "metadata": {},
   "source": [
    "### Propriedades das Operações\n"
   ]
  },
  {
   "cell_type": "markdown",
   "id": "c3fe7a7e",
   "metadata": {},
   "source": [
    "1. **Propriedade Comutativa**\n",
    "   - A ordem dos termos não altera o resultado (válido para soma e multiplicação).\n",
    "   - Exemplo:  \n",
    "     $a + b = b + a$  \n",
    "     $a \\cdot b = b \\cdot a$\n",
    "\n",
    "2. **Propriedade Associativa**\n",
    "   - A forma de agrupar os termos não altera o resultado (válido para soma e multiplicação).\n",
    "   - Exemplo:  \n",
    "     $(a + b) + c = a + (b + c)$  \n",
    "     $(a \\cdot b) \\cdot c = a \\cdot (b \\cdot c)$\n",
    "\n",
    "3. **Propriedade Distributiva**\n",
    "   - Multiplicar um número por uma soma ou subtração é o mesmo que multiplicar cada parcela separadamente e depois somar.\n",
    "   - Exemplo:  \n",
    "     $a \\cdot (b + c) = a \\cdot b + a \\cdot c$\n",
    "\n",
    "4. **Elemento Neutro**\n",
    "   - Soma: o número 0 é o neutro (não altera o valor).  \n",
    "     $a + 0 = a$\n",
    "   - Multiplicação: o número 1 é o neutro.  \n",
    "     $a \\cdot 1 = a$\n",
    "\n",
    "5. **Elemento Inverso**\n",
    "   - Soma: o inverso de $a$ é $-a$ (sua soma dá 0).  \n",
    "     $a + (-a) = 0$\n",
    "   - Multiplicação: o inverso de $a$ (≠ 0) é $\\frac{1}{a}$.  \n",
    "     $a \\cdot \\frac{1}{a} = 1$\n"
   ]
  },
  {
   "cell_type": "markdown",
   "id": "3d9b4317",
   "metadata": {},
   "source": [
    "### Regras da Exponenciação"
   ]
  },
  {
   "cell_type": "markdown",
   "id": "ed3778eb",
   "metadata": {},
   "source": [
    "1. **Produto de potências com mesma base**  \n",
    "   Some os expoentes:  \n",
    "   $a^m \\cdot a^n = a^{m+n}$\n",
    "\n",
    "2. **Divisão de potências com mesma base**  \n",
    "   Subtraia os expoentes:  \n",
    "   $\\frac{a^m}{a^n} = a^{m-n}$\n",
    "\n",
    "3. **Potência de uma potência**  \n",
    "   Multiplique os expoentes:  \n",
    "   $(a^m)^n = a^{m \\cdot n}$\n",
    "\n",
    "4. **Potência de um produto**  \n",
    "   A potência se distribui entre os fatores:  \n",
    "   $(a \\cdot b)^n = a^n \\cdot b^n$\n",
    "\n",
    "5. **Potência de um quociente**  \n",
    "   A potência se distribui entre numerador e denominador:  \n",
    "   $\\left(\\frac{a}{b}\\right)^n = \\frac{a^n}{b^n}$\n",
    "\n",
    "6. **Expoente zero**  \n",
    "   Qualquer número diferente de zero elevado a zero é 1:  \n",
    "   $a^0 = 1 \\quad (a \\neq 0)$\n",
    "\n",
    "7. **Expoente negativo**  \n",
    "   Torna-se o inverso da base elevada ao expoente positivo:  \n",
    "   $a^{-n} = \\frac{1}{a^n} \\quad (a \\neq 0)$\n",
    "\n",
    "8. **Base 1 ou 0**  \n",
    "   - $1^n = 1$ para qualquer $n$  \n",
    "   - $0^n = 0$ para $n > 0$\n"
   ]
  },
  {
   "cell_type": "markdown",
   "id": "24ac7db2",
   "metadata": {},
   "source": [
    "### Regras dos Radicais"
   ]
  },
  {
   "cell_type": "markdown",
   "id": "6b675516",
   "metadata": {},
   "source": [
    "\n",
    "1. **Produto de radicais com o mesmo índice**  \n",
    "   $\\sqrt[n]{a} \\cdot \\sqrt[n]{b} = \\sqrt[n]{a \\cdot b}$\n",
    "\n",
    "2. **Quociente de radicais com o mesmo índice**  \n",
    "   $\\frac{\\sqrt[n]{a}}{\\sqrt[n]{b}} = \\sqrt[n]{\\frac{a}{b}} \\quad (b \\neq 0)$\n",
    "\n",
    "3. **Radiciação de uma potência**  \n",
    "   $\\sqrt[n]{a^m} = a^{\\frac{m}{n}}$\n",
    "\n",
    "4. **Potência de um radical**  \n",
    "   $(\\sqrt[n]{a})^m = a^{\\frac{m}{n}}$\n",
    "\n",
    "5. **Radical de radical (radiciação composta)**  \n",
    "   $\\sqrt[m]{\\sqrt[n]{a}} = \\sqrt[m \\cdot n]{a} = a^{\\frac{1}{mn}}$\n",
    "\n",
    "6. **Radical de 1**  \n",
    "   $\\sqrt[n]{1} = 1$ para qualquer $n \\neq 0$\n",
    "\n",
    "7. **Simplificação de radicais (se possível)**  \n",
    "   $\\sqrt{a^2} = |a|$ (raiz quadrada sempre retorna valor positivo)\n",
    "\n",
    "Onde:  \n",
    " - $a, b > 0$  \n",
    " - $n, m$ são naturais com $n, m \\geq 2$\n"
   ]
  },
  {
   "cell_type": "markdown",
   "id": "c1ad53c3",
   "metadata": {},
   "source": [
    "#### Problema: ponto flutuante\n",
    "\n",
    "A manipulação algebra abaixo deveria resultar em True, porém existe o problema do ponto flutuante, onde o arredondamento pode mudar de computador para computador."
   ]
  },
  {
   "cell_type": "code",
   "execution_count": 262,
   "id": "e2c235ec",
   "metadata": {},
   "outputs": [
    {
     "name": "stdout",
     "output_type": "stream",
     "text": [
      "False\n"
     ]
    }
   ],
   "source": [
    "print(math.sqrt(2*8) == math.sqrt(2) * math.sqrt(8))"
   ]
  },
  {
   "cell_type": "code",
   "execution_count": 263,
   "id": "f73fc665",
   "metadata": {},
   "outputs": [
    {
     "name": "stdout",
     "output_type": "stream",
     "text": [
      "4.0\n",
      "4.000000000000001\n"
     ]
    }
   ],
   "source": [
    "print(math.sqrt(2*8))\n",
    "print(math.sqrt(2)*math.sqrt(8))"
   ]
  },
  {
   "cell_type": "code",
   "execution_count": 264,
   "id": "b44ed552",
   "metadata": {},
   "outputs": [
    {
     "name": "stdout",
     "output_type": "stream",
     "text": [
      "True\n"
     ]
    }
   ],
   "source": [
    "# Adicionar uma tolerancia, ou seja a diferença entre os dois valores deve ser menor que uma tolerância\n",
    "tolerance = 1e-10\n",
    "a  = math.sqrt(2*8)\n",
    "b = math.sqrt(2) * math.sqrt(8)\n",
    "print(abs(a - b) < tolerance)"
   ]
  },
  {
   "cell_type": "markdown",
   "id": "52178d36",
   "metadata": {},
   "source": [
    "## Vetores"
   ]
  },
  {
   "cell_type": "markdown",
   "id": "bedbf1c8",
   "metadata": {},
   "source": [
    "### Conceito e Aplicações"
   ]
  },
  {
   "cell_type": "markdown",
   "id": "b5f86070",
   "metadata": {},
   "source": [
    "\n",
    "Vetores são objetos matemáticos que possuem **magnitude** (tamanho) e **direção**, diferindo dos escalares, que têm apenas magnitude. Eles são representados graficamente por **setas**, onde:\n",
    "- O comprimento da seta representa a magnitude.\n",
    "- A direção da seta mostra para onde o vetor aponta.\n",
    "\n",
    "#### Representação\n",
    "- Em 2D: dois componentes (X, Y).\n",
    "- Em 3D: três componentes (X, Y, Z).\n",
    "- Em espaços de dimensão maior: usados em álgebra linear e aprendizado de máquina.\n",
    "\n",
    "#### Operações com Vetores\n",
    "- **Soma e subtração**: combinam vetores.\n",
    "- **Multiplicação por escalar**: altera o tamanho, mas mantém a direção.\n",
    "- **Produto interno**: mede semelhança entre vetores (útil em ML).\n",
    "\n",
    "#### Aplicações\n",
    "- **Física**: representação de forças, velocidades, acelerações.\n",
    "- **Engenharia**: análise de estruturas e sistemas.\n",
    "- **Matemática e Álgebra Linear**: resolução de sistemas e transformações.\n",
    "- **Ciência de Dados**: cada vetor pode representar um exemplo (como um paciente), com componentes indicando variáveis (ex: idade, peso, exames).\n",
    "- **Machine Learning**: vetores representam amostras, atributos e são usados em algoritmos como regressão, clustering, redes neurais, etc.\n",
    "\n",
    "Vetores são fundamentais para representar dados, realizar transformações e identificar padrões em grandes volumes de informação.\n"
   ]
  },
  {
   "cell_type": "markdown",
   "id": "ac66c61e",
   "metadata": {},
   "source": [
    "#### Dimensões de Vetores\n",
    "\n",
    "As dimensões de um vetor correspondem ao número de componentes que ele possui, e determinam o tipo de espaço em que ele existe ou é aplicado. Essas dimensões têm grande importância em matemática, física e ciência de dados.\n",
    "\n",
    "**Vetores Bidimensionais (2D)**\n",
    "- Representados como $(x, y)$.\n",
    "- Aplicados em geometria plana.\n",
    "- Possuem dois componentes: um no eixo X e outro no eixo Y.\n",
    "- Podem ser visualizados facilmente como setas no plano.\n",
    "\n",
    "**Vetores Tridimensionais (3D)**\n",
    "- Representados como $(x, y, z)$.\n",
    "- Usados para representar movimentos ou forças no espaço físico.\n",
    "- Utilizados em física e gráficos computacionais.\n",
    "- Incluem um terceiro componente no eixo Z.\n",
    "\n",
    "**Vetores em Espaços de Dimensões Superiores**\n",
    "- Exemplo: $(x_1, x_2, x_3, x_4, x_5)$.\n",
    "- Aplicados em álgebra linear, estatística e aprendizado de máquina.\n",
    "- Cada componente representa uma variável ou atributo distinto.\n",
    "- São fundamentais para representar dados em problemas com muitas variáveis.\n",
    "\n",
    "**Aplicações e Visualização**\n",
    "- Em **ciência de dados**, cada vetor pode representar uma amostra, com cada dimensão indicando uma variável (idade, peso, altura, etc.).\n",
    "- Vetores de 2D e 3D podem ser visualizados graficamente.\n",
    "- Vetores de 4D ou mais são interpretados conceitualmente ou projetados para 2D/3D.\n",
    "\n",
    "**Operações com Vetores em Qualquer Dimensão**\n",
    "- A adição, subtração e multiplicação por escalar funcionam da mesma forma independentemente da dimensão.\n",
    "- As regras são universais e aplicam-se a vetores de qualquer tamanho.\n",
    "\n",
    "**Resumo:**  \n",
    "As dimensões de um vetor determinam quantas variáveis ele pode representar e em que tipo de espaço ele atua. Vetores de dimensão superior são amplamente usados em análise de dados e machine learning para representar pontos em espaços de muitas variáveis.\n"
   ]
  },
  {
   "cell_type": "markdown",
   "id": "7fb5077f",
   "metadata": {},
   "source": [
    "### Operações com Vetores "
   ]
  },
  {
   "cell_type": "markdown",
   "id": "0bfd9252",
   "metadata": {},
   "source": [
    "#### Adição e subtração \n",
    "\n",
    "Vetores unidimensionais"
   ]
  },
  {
   "cell_type": "markdown",
   "id": "524dedc1",
   "metadata": {},
   "source": [
    "A **soma ou subtração de vetores** consiste em somar ou subtrair seus componentes correspondentes. A operação é feita **componente a componente**, e o resultado é um novo vetor.\n",
    "\n",
    "\n",
    "$$\n",
    "\\vec{u} = (u_1, u_2), \\quad \\vec{v} = (v_1, v_2)\n",
    "$$\n",
    "\n",
    "A soma é dada por:\n",
    "\n",
    "$$\n",
    "\\vec{u} + \\vec{v} = (u_1 + v_1, \\ u_2 + v_2)\n",
    "$$\n",
    "\n",
    "A subtração é dada por:\n",
    "\n",
    "$$\n",
    "\\vec{u} - \\vec{v} = (u_1 - v_1, \\ u_2 - v_2)\n",
    "$$\n",
    "\n",
    "Observações:\n",
    "\n",
    "- A soma de vetores **só pode ser feita entre vetores de mesma dimensão**.\n",
    "- A operação é **comutativa**:  \n",
    "  $$\n",
    "  \\vec{u} + \\vec{v} = \\vec{v} + \\vec{u}\n",
    "  $$\n",
    "- E **associativa**:  \n",
    "  $$\n",
    "  (\\vec{u} + \\vec{v}) + \\vec{w} = \\vec{u} + (\\vec{v} + \\vec{w})\n",
    "  $$"
   ]
  },
  {
   "cell_type": "markdown",
   "id": "6847a040",
   "metadata": {},
   "source": [
    "**Exemplo** \n",
    "\n",
    "$\n",
    "\\vec{u} = (3, 2), \\quad \\vec{v} = (1, 4)\n",
    "$\n",
    "\n",
    "**Soma:**\n",
    "$\n",
    "\\vec{u} + \\vec{v} = (3 + 1,\\ 2 + 4) = (4, 6)\n",
    "$\n"
   ]
  },
  {
   "cell_type": "code",
   "execution_count": 265,
   "id": "2d51dad9",
   "metadata": {},
   "outputs": [],
   "source": [
    "vetor_u = [3, 2]\n",
    "vetor_v = [1, 4]"
   ]
  },
  {
   "cell_type": "code",
   "execution_count": 266,
   "id": "4c53520b",
   "metadata": {},
   "outputs": [
    {
     "data": {
      "text/plain": [
       "[4, 6]"
      ]
     },
     "execution_count": 266,
     "metadata": {},
     "output_type": "execute_result"
    }
   ],
   "source": [
    "def somar_vetores(a, b):\n",
    "    return[a[i] + b[i] for i in range(len(a))]\n",
    "\n",
    "somar_vetores(vetor_u, vetor_v)"
   ]
  },
  {
   "cell_type": "markdown",
   "id": "ac3b4045",
   "metadata": {},
   "source": [
    "**Subtração:**\n",
    "\n",
    "$\n",
    "\\vec{u} = (3, 2), \\quad \\vec{v} = (1, 4)\n",
    "$\n",
    "\n",
    "$\n",
    "\\vec{u} - \\vec{v} = (3 - 1,\\ 2 - 4) = (2, -2)\n",
    "$\n"
   ]
  },
  {
   "cell_type": "code",
   "execution_count": 267,
   "id": "cd6830aa",
   "metadata": {},
   "outputs": [
    {
     "data": {
      "text/plain": [
       "[2, -2]"
      ]
     },
     "execution_count": 267,
     "metadata": {},
     "output_type": "execute_result"
    }
   ],
   "source": [
    "def subtrair_vetores(a, b):\n",
    "    return[a[i] - b[i] for i in range(len(a))]\n",
    "\n",
    "subtrair_vetores(vetor_u, vetor_v)"
   ]
  },
  {
   "cell_type": "markdown",
   "id": "d0275f6a",
   "metadata": {},
   "source": [
    "#### Produto Vetorial (Cross Product)\n",
    "Operação com vetores que resulta em um vetor.\n",
    "\n",
    "https://www.wolframalpha.com/input?i=cross+product+calculator\n",
    "\n",
    "https://www.mathsisfun.com/algebra/vectors-cross-product.html"
   ]
  },
  {
   "cell_type": "markdown",
   "id": "4b60b9d0",
   "metadata": {},
   "source": [
    "##### Fórmula Geral"
   ]
  },
  {
   "cell_type": "markdown",
   "id": "1ddd4568",
   "metadata": {},
   "source": [
    "Sejam os vetores:\n",
    "\n",
    "$$\n",
    "\\vec{u} = (u_1, u_2, u_3), \\quad \\vec{v} = (v_1, v_2, v_3)\n",
    "$$\n",
    "\n",
    "\n",
    "$$\n",
    "\\vec{u} \\times \\vec{v} = \n",
    "(u_2 v_3 - u_3 v_2,\\ \n",
    "u_3 v_1 - u_1 v_3,\\ \n",
    "u_1 v_2 - u_2 v_1)\n",
    "$$\n",
    "\n",
    "##### Exemplo Numérico\n",
    "\n",
    "Seja:\n",
    "\n",
    "$\n",
    "\\vec{u} = (2, 3, 4), \\quad \\vec{v} = (5, 6, 7)\n",
    "$\n",
    "\n",
    "Calculamos:\n",
    "\n",
    "- Componente $x$: $3 \\cdot 7 - 4 \\cdot 6 = 21 - 24 = -3$\n",
    "- Componente $y$: $4 \\cdot 5 - 2 \\cdot 7 = 20 - 14 = 6$\n",
    "- Componente $z$: $2 \\cdot 6 - 3 \\cdot 5 = 12 - 15 = -3$\n",
    "\n",
    "Resultado:\n",
    "\n",
    "$$\n",
    "\\vec{u} \\times \\vec{v} = (-3,\\ 6,\\ -3)\n",
    "$$\n",
    "\n",
    "\n",
    "##### Propriedades Importantes\n",
    "\n",
    "- $\\vec{u} \\times \\vec{v} = - (\\vec{v} \\times \\vec{u})$ (não comutativo)\n",
    "- $\\vec{u} \\times \\vec{u} = \\vec{0}$\n",
    "- O resultado é sempre **perpendicular** a $\\vec{u}$ e $\\vec{v}$\n",
    "\n"
   ]
  },
  {
   "cell_type": "code",
   "execution_count": 268,
   "id": "5647850b",
   "metadata": {},
   "outputs": [],
   "source": [
    "# Calculando o produto vetorial entre 2 vetores\n",
    "def produto_vetorial(u, v):\n",
    "    return [\n",
    "        u[1] * v[2] - u[2] * v[1],\n",
    "        u[2] * v[0] - u[0] * v[2],\n",
    "        u[0] * v[1] - u[1] * v[0]\n",
    "    ]"
   ]
  },
  {
   "cell_type": "code",
   "execution_count": 269,
   "id": "c825a8c3",
   "metadata": {},
   "outputs": [
    {
     "data": {
      "text/plain": [
       "[-3, 6, -3]"
      ]
     },
     "execution_count": 269,
     "metadata": {},
     "output_type": "execute_result"
    }
   ],
   "source": [
    "u = [2,3,4]\n",
    "v = [5,6,7]\n",
    "produto_vetorial(u, v)"
   ]
  },
  {
   "cell_type": "markdown",
   "id": "ffe1a3dc",
   "metadata": {},
   "source": [
    "##### Representação gráfica"
   ]
  },
  {
   "cell_type": "code",
   "execution_count": 270,
   "id": "67478bbe",
   "metadata": {},
   "outputs": [
    {
     "data": {
      "image/png": "[encoded data removed]",
      "text/plain": [
       "<Figure size 500x300 with 1 Axes>"
      ]
     },
     "metadata": {},
     "output_type": "display_data"
    }
   ],
   "source": [
    "import matplotlib.pyplot as plt\n",
    "from mpl_toolkits.mplot3d import Axes3D\n",
    "\n",
    "u = np.array([1, 0, 0])   # Eixo x\n",
    "v = np.array([0, 1, 0])   # Eixo y\n",
    "\n",
    "# Produto vetorial: u x v\n",
    "w = np.cross(u, v)\n",
    "\n",
    "# Criar gráfico 3D\n",
    "fig = plt.figure(figsize=(5, 3))\n",
    "ax = fig.add_subplot(111, projection='3d')\n",
    "\n",
    "origin = np.array([[0, 0, 0]]).T\n",
    "\n",
    "# Desenhar vetores u, v e u x v (w)\n",
    "ax.quiver(*origin, *u, color='g', label='u', linewidth=2)\n",
    "ax.quiver(*origin, *v, color='b', label='v', linewidth=2)\n",
    "ax.quiver(*origin, *w, color='r', label='u x v', linewidth=2)\n",
    "\n",
    "ax.set_xlim([0, 1.2])\n",
    "ax.set_ylim([0, 1.2])\n",
    "ax.set_zlim([0, 1.2])\n",
    "\n",
    "ax.set_xlabel('X')\n",
    "ax.set_ylabel('Y')\n",
    "ax.set_zlabel('Z')\n",
    "ax.set_title('Produto Vetorial: u x v')\n",
    "ax.legend()\n",
    "\n",
    "plt.show()"
   ]
  },
  {
   "cell_type": "markdown",
   "id": "fac33a6b",
   "metadata": {},
   "source": [
    "#### Produto Escalar (Dot Product)\n",
    "Operação com vetores que resulta em um único número.\n",
    "\n",
    "https://www.wolframalpha.com/input?i=dot+product+calculator\n",
    "\n",
    "https://www.mathsisfun.com/algebra/vectors-dot-product.html"
   ]
  },
  {
   "cell_type": "markdown",
   "id": "51e848da",
   "metadata": {},
   "source": [
    "$$\n",
    "\\vec{u} = (u_1, u_2, u_3), \\quad \\vec{v} = (v_1, v_2, v_3)\n",
    "$$\n",
    "\n",
    "O produto escalar é calculado como:\n",
    "\n",
    "$$\n",
    "\\vec{u} \\cdot \\vec{v} = u_1 v_1 + u_2 v_2 + u_3 v_3\n",
    "$$\n",
    "\n",
    "\n",
    "Também pode ser definido como:\n",
    "\n",
    "$$\n",
    "\\vec{u} \\cdot \\vec{v} = \\|\\vec{u}\\| \\cdot \\|\\vec{v}\\| \\cdot \\cos(\\theta)\n",
    "$$\n",
    "\n",
    "Onde:\n",
    "\n",
    "- $\\|\\vec{u}\\|$ e $\\|\\vec{v}\\|$ são os módulos (normas) dos vetores\n",
    "- $\\theta$ é o ângulo entre os vetores\n",
    "\n",
    "\n",
    " Exemplo Numérico\n",
    "\n",
    "Dado:\n",
    "\n",
    "$$\n",
    "\\vec{u} = (1, 2, 3), \\quad \\vec{v} = (4, -5, 6)\n",
    "$$\n",
    "\n",
    "Calculamos:\n",
    "\n",
    "$$\n",
    "\\vec{u} \\cdot \\vec{v} = (1)(4) + (2)(-5) + (3)(6) = 4 - 10 + 18 = 12\n",
    "$$\n",
    " Interpretação\n",
    "\n",
    "- Se $\\vec{u} \\cdot \\vec{v} > 0$, os vetores apontam em **direções semelhantes**\n",
    "- Se $\\vec{u} \\cdot \\vec{v} = 0$, os vetores são **ortogonais** (ângulo de 90°)\n",
    "- Se $\\vec{u} \\cdot \\vec{v} < 0$, os vetores apontam em **direções opostas**\n",
    "\n",
    " Aplicações Reais\n",
    "\n",
    "- **Física**: cálculo de trabalho: $W = \\vec{F} \\cdot \\vec{d}$\n",
    "- **Machine Learning**: similaridade entre vetores de características\n",
    "- **Gráficos computacionais**: detectar ângulo entre superfícies\n",
    "- **Processamento de linguagem natural**: semelhança entre vetores de palavras"
   ]
  },
  {
   "cell_type": "code",
   "execution_count": 271,
   "id": "56c308ee",
   "metadata": {},
   "outputs": [],
   "source": [
    "def produto_escalar(u, v):\n",
    "    return sum(u[i] * v[i] for i in range(len(u)))"
   ]
  },
  {
   "cell_type": "code",
   "execution_count": 272,
   "id": "7a136d7c",
   "metadata": {},
   "outputs": [
    {
     "data": {
      "text/plain": [
       "12"
      ]
     },
     "execution_count": 272,
     "metadata": {},
     "output_type": "execute_result"
    }
   ],
   "source": [
    "u = [1, 2, 3]\n",
    "v = [4, -5, 6]\n",
    "\n",
    "produto_escalar(u, v)"
   ]
  },
  {
   "cell_type": "markdown",
   "id": "b93154d0",
   "metadata": {},
   "source": [
    "## Machine Learning com Operações Matemáticas\n",
    "\n",
    "Exemplo com uma relação linear \n",
    "\n",
    "$$\n",
    "y = 50 + 30 \\times X + \\varepsilon\n",
    "$$\n",
    "\n",
    "\n",
    "onde:\n",
    "\n",
    "- $ 50 $ é o intercepto,\n",
    "- $ 30 $ é o coeficiente angular (inclinação),\n",
    "- $ X $ é a variável independente,\n",
    "- $ \\varepsilon \\sim \\mathcal{N}(0, \\sigma^2) $ é o termo de ruído aleatório, normalmente distribuído com média zero e variância $ \\sigma^2 $.\n",
    "\n"
   ]
  },
  {
   "cell_type": "code",
   "execution_count": 273,
   "id": "7a8a6f75",
   "metadata": {},
   "outputs": [],
   "source": [
    "np.random.seed(29)  \n",
    "\n",
    "X = np.random.randint(1, 10, size=(100, 1)) # 100 amostras de 1 a 10\n",
    "\n",
    "# Relação linear:\n",
    "y = 50 + 30 * X + np.random.randn(100, 1)  * 10 # ruído"
   ]
  },
  {
   "cell_type": "code",
   "execution_count": 274,
   "id": "63fef317",
   "metadata": {},
   "outputs": [],
   "source": [
    "X_b = np.c_[np.ones((100, 1)), X]  # Adiciona intercepto"
   ]
  },
  {
   "cell_type": "markdown",
   "id": "f9307de0",
   "metadata": {},
   "source": [
    "`dot` é uma função do NumPy que faz o **produto escalar** (ou produto matricial) entre dois vetores ou matrizes."
   ]
  },
  {
   "cell_type": "code",
   "execution_count": 275,
   "id": "e3080bc1",
   "metadata": {},
   "outputs": [],
   "source": [
    "theta = np.array([50, 30]) # Possíveis valores de theta\n",
    "\n",
    "y_pred = X_b.dot(theta)  # Previsões"
   ]
  },
  {
   "cell_type": "markdown",
   "id": "d867b04b",
   "metadata": {},
   "source": [
    "**Representação Matemática da Regressão Linear via Produto Escalar**\n",
    "\n",
    "Dado:\n",
    "\n",
    "- Vetor de parâmetros (coeficientes):\n",
    "\n",
    "$\n",
    "\\boldsymbol{\\theta} = \n",
    "\\begin{bmatrix}\n",
    "\\theta_0 \\\\\n",
    "\\theta_1\n",
    "\\end{bmatrix}\n",
    "$"
   ]
  },
  {
   "cell_type": "code",
   "execution_count": 276,
   "id": "75d177c6",
   "metadata": {},
   "outputs": [
    {
     "name": "stdout",
     "output_type": "stream",
     "text": [
      "theta: [50 30]\n"
     ]
    }
   ],
   "source": [
    "print(\"theta:\", theta)"
   ]
  },
  {
   "cell_type": "markdown",
   "id": "f55c08b6",
   "metadata": {},
   "source": [
    "- Vetor de características (com termo de intercepto incluído):\n",
    "\n",
    "$\n",
    "\\mathbf{x}^{(i)} = \n",
    "\\begin{bmatrix}\n",
    "1 \\\\\n",
    "x^{(i)}\n",
    "\\end{bmatrix}\n",
    "$"
   ]
  },
  {
   "cell_type": "code",
   "execution_count": 277,
   "id": "12f6236c",
   "metadata": {},
   "outputs": [
    {
     "name": "stdout",
     "output_type": "stream",
     "text": [
      "X_b: [[1. 1. 1. 1. 1.]\n",
      " [6. 4. 3. 9. 1.]]\n"
     ]
    }
   ],
   "source": [
    "print(\"X_b:\", X_b[:5].T)"
   ]
  },
  {
   "cell_type": "markdown",
   "id": "02dc011c",
   "metadata": {},
   "source": [
    "\n",
    "Para a i-ésima amostra, a previsão do modelo $\\hat{y}^{(i)}$ é calculada como o **produto escalar** entre $\\boldsymbol{\\theta}$ e $\\mathbf{x}^{(i)}$:\n",
    "\n",
    "$$\\hat{y}^{(i)} = \\boldsymbol{\\theta}^\\top \\mathbf{x}^{(i)} $$\n",
    "\n",
    "$ = \\theta_0 \\cdot 1 + \\theta_1 \\cdot x^{(i)}$\n"
   ]
  },
  {
   "cell_type": "code",
   "execution_count": 278,
   "id": "2222d8a9",
   "metadata": {},
   "outputs": [
    {
     "name": "stdout",
     "output_type": "stream",
     "text": [
      "y_pred: [230. 170. 140. 320.  80.]\n"
     ]
    }
   ],
   "source": [
    "y_pred = X_b.dot(theta)  # Previsões\n",
    "print(\"y_pred:\", y_pred[:5])"
   ]
  },
  {
   "cell_type": "markdown",
   "id": "e7e26234",
   "metadata": {},
   "source": [
    "**Em forma matricial para todas as amostras:**\n",
    "\n",
    "Sejam\n",
    "\n",
    "$$\n",
    "X = \n",
    "\\begin{bmatrix}\n",
    "1 & x^{(1)} \\\\\n",
    "1 & x^{(2)} \\\\\n",
    "\\vdots & \\vdots \\\\\n",
    "1 & x^{(m)}\n",
    "\\end{bmatrix}\n",
    "\\quad \\text{e} \\quad\n",
    "\\boldsymbol{\\theta} = \n",
    "\\begin{bmatrix}\n",
    "\\theta_0 \\\\\n",
    "\\theta_1\n",
    "\\end{bmatrix}\n",
    "$$\n",
    "\n",
    "As previsões para todas as $m$ amostras são dadas por:\n",
    "\n",
    "$$\n",
    "\\hat{\\mathbf{y}} = X \\boldsymbol{\\theta}\n",
    "$$\n",
    "\n",
    "onde $\\hat{\\mathbf{y}}$ é o vetor coluna das previsões $\\left[\\hat{y}^{(1)}, \\hat{y}^{(2)}, \\ldots, \\hat{y}^{(m)}\\right]^\\top$.\n",
    "\n",
    "Exemplo numérico:\n",
    "\n",
    "Se \n",
    "\n",
    "$$\n",
    "\\boldsymbol{\\theta} = \n",
    "\\begin{bmatrix}\n",
    "50 \\\\\n",
    "30\n",
    "\\end{bmatrix}\n",
    "\\quad \\text{e} \\quad\n",
    "X = \n",
    "\\begin{bmatrix}\n",
    "1 & 6 \\\\\n",
    "1 & 4 \\\\\n",
    "1 & 3 \\\\\n",
    "1 & 9 \\\\\n",
    "1 & 1\n",
    "\\end{bmatrix}\n",
    "$$\n",
    "\n",
    "Então a previsão para a primeira amostra é:\n",
    "\n",
    "$$\n",
    "\\hat{y}^{(1)} = 50 \\times 1 + 30 \\times 6 = 230\n",
    "$$\n",
    "\n",
    "E para todas as amostras:\n",
    "\n",
    "$$\n",
    "\\hat{\\mathbf{y}} = X \\boldsymbol{\\theta} = \n",
    "\\begin{bmatrix}\n",
    "230 \\\\\n",
    "170 \\\\\n",
    "140 \\\\\n",
    "320 \\\\\n",
    "80\n",
    "\\end{bmatrix}\n",
    "$$\n"
   ]
  },
  {
   "cell_type": "markdown",
   "id": "2ce4afdb",
   "metadata": {},
   "source": [
    "### Função de Custo MSE com Operações entre vetores"
   ]
  },
  {
   "cell_type": "markdown",
   "id": "a7c4f956",
   "metadata": {},
   "source": [
    "A função de custo de erro quadrático médio é amplamente usada em regressão linear. O objetivo dessa função é medir quão bem o modelo de regressão está desempenhando em relação ao conjunto de dados.\n",
    "Um custo mais baixo indica que o modelo está fazendo previsões mais precisas.\n",
    "\n",
    "Erro quadrático médio (MSE - Mean Squared Error)\n",
    "A função de custo MSE calcula a média dos quadrados das diferenças entre os valores reais e os valores previstos pelo modelo."
   ]
  },
  {
   "cell_type": "code",
   "execution_count": 279,
   "id": "30d9a0bc",
   "metadata": {},
   "outputs": [],
   "source": [
    "def funcao_custo(X, y, theta):\n",
    "    m = len(y)\n",
    "    y_pred = X.dot(theta)  # Previsões\n",
    "    erro = y_pred - y  # Erro\n",
    "    custo = (1 / (2 * m)) * np.sum(erro ** 2)  #Cálculo do custo\n",
    "    return custo"
   ]
  },
  {
   "cell_type": "markdown",
   "id": "d7eb7212",
   "metadata": {},
   "source": [
    "**Erro e Cálculo do Custo na Regressão Linear**\n",
    "\n",
    "Dado:\n",
    "\n",
    "- $\\hat{y}$: Vetor de previsões do modelo\n",
    "- $y$: Vetor de valores reais observados\n",
    "- $m$: Número de amostras (observações)\n",
    "\n",
    "\n",
    "**Erro (resíduo):**\n",
    "\n",
    "O erro é calculado como a **diferença entre a previsão e o valor real**:\n",
    "\n",
    "$$\n",
    "\\text{erro} = \\hat{y} - y\n",
    "$$\n",
    "\n",
    "Esse vetor de erros indica o **quanto o modelo está errando** em cada previsão.\n",
    "\n"
   ]
  },
  {
   "cell_type": "code",
   "execution_count": 280,
   "id": "5071401b",
   "metadata": {},
   "outputs": [],
   "source": [
    "erro = y_pred - y"
   ]
  },
  {
   "cell_type": "markdown",
   "id": "7f13ba98",
   "metadata": {},
   "source": [
    "**Função de custo (erro quadrático médio):**\n",
    "\n",
    "\n",
    "A função de custo mede a qualidade do ajuste do modelo. É calculada como a **média dos quadrados dos erros**, com um fator de escala $ \\frac{1}{2} $ para simplificar a derivada durante a otimização:\n",
    "\n",
    "$$\n",
    "J(\\theta) = \\frac{1}{2m} \\sum_{i=1}^{m} \\left( \\hat{y}^{(i)} - y^{(i)} \\right)^2\n",
    "$$\n",
    "\n",
    "Ou, em notação vetorial compacta:\n",
    "\n",
    "$$\n",
    "J(\\theta) = \\frac{1}{2m} \\sum (\\hat{y} - y)^2\n",
    "$$"
   ]
  },
  {
   "cell_type": "code",
   "execution_count": 281,
   "id": "e21394ee",
   "metadata": {},
   "outputs": [],
   "source": [
    "m = len(y)\n",
    "custo = (1 / (2 * m)) * np.sum(erro ** 2)"
   ]
  },
  {
   "cell_type": "code",
   "execution_count": 282,
   "id": "277732ea",
   "metadata": {},
   "outputs": [
    {
     "name": "stdout",
     "output_type": "stream",
     "text": [
      "Custo: 547960.5613799522\n"
     ]
    }
   ],
   "source": [
    "custo = funcao_custo(X_b, y, theta)\n",
    "print(\"Custo:\", custo)"
   ]
  },
  {
   "cell_type": "markdown",
   "id": "f5580b10",
   "metadata": {},
   "source": [
    "### Algoritmo Gradiente Descendente com Operações Entre Vetores\n",
    "O algoritmo de **gradiente descendente** é utilizado para **minimizar a função de custo** e encontrar os melhores parâmetros $\\theta$ da regressão linear.\n"
   ]
  },
  {
   "cell_type": "code",
   "execution_count": 283,
   "id": "0ba8f8a7",
   "metadata": {},
   "outputs": [],
   "source": [
    "def gradient_descent(X, y, theta, learning_rate, iterations):\n",
    "    \n",
    "    m = len(y)\n",
    "\n",
    "    cost_history = np.zeros(iterations)\n",
    "\n",
    "    # Loop para realizar o número especificado de iterações\n",
    "    for i in range(iterations):\n",
    "        \n",
    "        # Calcula o gradiente da função de custo em relação a theta\n",
    "        # O gradiente é a média dos produtos dos erros e as características de entrada\n",
    "        gradients = 1/m * X.T.dot(X.dot(theta) - y)\n",
    "\n",
    "        # Atualiza os parâmetros theta subtraindo o produto da taxa de aprendizado e o gradiente\n",
    "        # Esta é a etapa de descida do gradiente, movendo-se em direção ao mínimo da função de custo\n",
    "        theta = theta - learning_rate * gradients\n",
    "\n",
    "        cost_history[i] = funcao_custo(X, y, theta)\n",
    "\n",
    "    return theta, cost_history"
   ]
  },
  {
   "cell_type": "code",
   "execution_count": 284,
   "id": "8f9f6b81",
   "metadata": {},
   "outputs": [
    {
     "name": "stdout",
     "output_type": "stream",
     "text": [
      "theta inicial: [[ 0.07159586]\n",
      " [-0.29511184]]\n"
     ]
    }
   ],
   "source": [
    "# Parâmetros iniciais\n",
    "\n",
    "# Inicializa os parâmetros randomicamente\n",
    "theta_inicial = np.random.randn(2, 1)\n",
    "\n",
    "print(\"theta inicial:\",theta_inicial)"
   ]
  },
  {
   "cell_type": "code",
   "execution_count": 285,
   "id": "90bd5b88",
   "metadata": {},
   "outputs": [
    {
     "data": {
      "text/plain": [
       "array([[41.87890699],\n",
       "       [31.46795097]])"
      ]
     },
     "execution_count": 285,
     "metadata": {},
     "output_type": "execute_result"
    }
   ],
   "source": [
    "# Treinando o modelo\n",
    "theta_final, cost_history = gradient_descent(X_b, y, theta_inicial, learning_rate = 0.01, iterations = 1000)\n",
    "theta_final"
   ]
  },
  {
   "cell_type": "code",
   "execution_count": 286,
   "id": "ed0c9855",
   "metadata": {},
   "outputs": [
    {
     "data": {
      "text/plain": [
       "np.float64(48.645770296028466)"
      ]
     },
     "execution_count": 286,
     "metadata": {},
     "output_type": "execute_result"
    }
   ],
   "source": [
    "funcao_custo(X_b, y, theta_final)"
   ]
  },
  {
   "cell_type": "markdown",
   "id": "6514877a",
   "metadata": {},
   "source": [
    "#### Previsão com novos dados"
   ]
  },
  {
   "cell_type": "code",
   "execution_count": 287,
   "id": "2f504d82",
   "metadata": {},
   "outputs": [
    {
     "data": {
      "text/plain": [
       "array([[214.95263734]])"
      ]
     },
     "execution_count": 287,
     "metadata": {},
     "output_type": "execute_result"
    }
   ],
   "source": [
    "X_new = np.array([[1, 5.5]])  # Novos dados com intercepto\n",
    "y_predict = X_new.dot(theta_final)  # Previsões\n",
    "\n",
    "y_predict"
   ]
  },
  {
   "cell_type": "markdown",
   "id": "e417e1d1",
   "metadata": {},
   "source": [
    "## Exercícios\n"
   ]
  },
  {
   "cell_type": "markdown",
   "id": "2e754979",
   "metadata": {},
   "source": [
    "#### Exercício 1: Soma de Vetores \n",
    "\n",
    " Escreva  uma  função  em  Python  que  some  dois  vetores.  Suponha  que  os vetores  têm  o  mesmo  tamanho.  Resolva  o  exercício  de  forma  diferentes."
   ]
  },
  {
   "cell_type": "code",
   "execution_count": 288,
   "id": "c812fa94",
   "metadata": {},
   "outputs": [
    {
     "name": "stdout",
     "output_type": "stream",
     "text": [
      "[5, 7, 9]\n"
     ]
    },
    {
     "data": {
      "text/plain": [
       "list"
      ]
     },
     "execution_count": 288,
     "metadata": {},
     "output_type": "execute_result"
    }
   ],
   "source": [
    "\n",
    "def somar_vetores(vetor_u, vetor_v):\n",
    "    if len(vetor_u) != len(vetor_v):\n",
    "        raise ValueError(\"Os vetores devem ter o mesmo tamanho.\")\n",
    "    return [vetor_u[i] + vetor_v[i] for i in range(len(vetor_u))]\n",
    "\n",
    "vetor_a = [1, 2, 3]\n",
    "vetor_b = [4, 5, 6]\n",
    "soma = somar_vetores(vetor_a, vetor_b)\n",
    "print(soma)\n",
    "type(soma)"
   ]
  },
  {
   "cell_type": "code",
   "execution_count": 289,
   "id": "ff474076",
   "metadata": {},
   "outputs": [
    {
     "name": "stdout",
     "output_type": "stream",
     "text": [
      "[5 7 9]\n"
     ]
    }
   ],
   "source": [
    "# Utilizando Numpy\n",
    "import numpy as np\n",
    "\n",
    "v1 = np.array([1, 2, 3])\n",
    "v2 = np.array([4, 5, 6])\n",
    "\n",
    "soma1 = v1 + v2\n",
    "\n",
    "print(soma1)"
   ]
  },
  {
   "cell_type": "code",
   "execution_count": 290,
   "id": "b20de098",
   "metadata": {},
   "outputs": [
    {
     "name": "stdout",
     "output_type": "stream",
     "text": [
      "[5 7 9]\n"
     ]
    }
   ],
   "source": [
    "soma2 = np.add(v1, v2)\n",
    "\n",
    "print(soma2)"
   ]
  },
  {
   "cell_type": "code",
   "execution_count": 291,
   "id": "d99ff1cf",
   "metadata": {},
   "outputs": [
    {
     "name": "stdout",
     "output_type": "stream",
     "text": [
      "tensor([5, 7, 9])\n"
     ]
    }
   ],
   "source": [
    "# Com PyTorch \n",
    "import torch\n",
    "\n",
    "v1 = torch.tensor([1, 2, 3])\n",
    "v2 = torch.tensor([4, 5, 6])\n",
    "\n",
    "soma3 = v1 + v2\n",
    "print(soma3) "
   ]
  },
  {
   "cell_type": "code",
   "execution_count": 318,
   "id": "57eae07f",
   "metadata": {},
   "outputs": [
    {
     "name": "stdout",
     "output_type": "stream",
     "text": [
      "[5, 7, 9]\n"
     ]
    }
   ],
   "source": [
    "lista1 = [1, 2, 3]\n",
    "lista2 = [4, 5, 6]\n",
    "\n",
    "def somar_listas(lista1, lista2):\n",
    "    resultado = []\n",
    "    for i in range(len(lista1)):\n",
    "        resultado.append(lista1[i] + lista2[i])\n",
    "    return resultado\n",
    "\n",
    "soma_listas = somar_listas(lista1, lista2)\n",
    "print(soma_listas)"
   ]
  },
  {
   "cell_type": "code",
   "execution_count": 319,
   "id": "4a9e52e9",
   "metadata": {},
   "outputs": [
    {
     "data": {
      "text/plain": [
       "[5, 7, 9]"
      ]
     },
     "execution_count": 319,
     "metadata": {},
     "output_type": "execute_result"
    }
   ],
   "source": [
    "[lista1[i] + lista2[i] for i in range(len(lista1))]"
   ]
  },
  {
   "cell_type": "code",
   "execution_count": 321,
   "id": "169874ee",
   "metadata": {},
   "outputs": [
    {
     "name": "stdout",
     "output_type": "stream",
     "text": [
      "[5, 7, 9]\n"
     ]
    }
   ],
   "source": [
    "zip(lista1, lista2)\n",
    "soma_zip = [a + b for a, b in zip(lista1, lista2)]\n",
    "print(soma_zip)"
   ]
  },
  {
   "cell_type": "markdown",
   "id": "12ffd929",
   "metadata": {},
   "source": [
    "### Exercício 2: Produto Escalar\n",
    "\n",
    "Implemente  uma  função  que  calcule  o  produto  escalar  entre  dois  vetores. Resolva o exercício de forma diferente"
   ]
  },
  {
   "cell_type": "code",
   "execution_count": 292,
   "id": "08b26407",
   "metadata": {},
   "outputs": [
    {
     "data": {
      "text/plain": [
       "32"
      ]
     },
     "execution_count": 292,
     "metadata": {},
     "output_type": "execute_result"
    }
   ],
   "source": [
    "def produto_escalar(vetor_a, vetor_b):\n",
    "    if len(vetor_a) != len(vetor_b):\n",
    "        raise ValueError(\"Os vetores devem ter o mesmo tamanho.\")\n",
    "    return sum(vetor_a[i] * vetor_b[i] for i in range(len(vetor_a)))\n",
    "\n",
    "\n",
    "vetor_a = [1, 2, 3]\n",
    "vetor_b = [4, 5, 6]\n",
    "\n",
    "produto_escalar(vetor_a, vetor_b)"
   ]
  },
  {
   "cell_type": "code",
   "execution_count": 293,
   "id": "f9c7c856",
   "metadata": {},
   "outputs": [
    {
     "data": {
      "text/plain": [
       "np.int64(32)"
      ]
     },
     "execution_count": 293,
     "metadata": {},
     "output_type": "execute_result"
    }
   ],
   "source": [
    "# Produto Escalar com numpy\n",
    "\n",
    "v1 = np.array(vetor_a)\n",
    "v2 = np.array(vetor_b)\n",
    "\n",
    "# Usando o método dot \n",
    "v1.dot(v2)"
   ]
  },
  {
   "cell_type": "code",
   "execution_count": 325,
   "id": "e3f48ea1",
   "metadata": {},
   "outputs": [
    {
     "data": {
      "text/plain": [
       "32"
      ]
     },
     "execution_count": 325,
     "metadata": {},
     "output_type": "execute_result"
    }
   ],
   "source": [
    "sum([a * b for a, b in zip(vetor_a, vetor_b)])"
   ]
  },
  {
   "cell_type": "code",
   "execution_count": 340,
   "id": "85a81ad8",
   "metadata": {},
   "outputs": [
    {
     "name": "stdout",
     "output_type": "stream",
     "text": [
      "32\n"
     ]
    }
   ],
   "source": [
    "resultado = 0\n",
    "for i in range(len(vetor_a)):\n",
    "    resultado += vetor_a[i] * vetor_b[i]\n",
    "print(resultado)"
   ]
  },
  {
   "cell_type": "code",
   "execution_count": 326,
   "id": "6c29c610",
   "metadata": {},
   "outputs": [
    {
     "data": {
      "text/plain": [
       "32"
      ]
     },
     "execution_count": 326,
     "metadata": {},
     "output_type": "execute_result"
    }
   ],
   "source": [
    "def produto_escalar_zip(vetor_a, vetor_b):\n",
    "    return sum(a * b for a, b in zip(vetor_a, vetor_b))\n",
    "\n",
    "produto_escalar_zip(vetor_a, vetor_b)"
   ]
  },
  {
   "cell_type": "markdown",
   "id": "34fc8fc1",
   "metadata": {},
   "source": [
    "### Exercício 3: Norma de um Vetor\n",
    "\n",
    "Escreva uma função que calcule a norma (ou comprimento) de um vetor.\n",
    "\n",
    "A **norma Euclidiana** (ou comprimento) de um vetor \n",
    "$$\n",
    "\\mathbf{v} = [v_1, v_2, \\dots, v_n]\n",
    "$$\n",
    "é definida como:\n",
    "\n",
    "$$\n",
    "\\|\\mathbf{v}\\| = \\sqrt{v_1^2 + v_2^2 + \\dots + v_n^2}\n",
    "$$\n"
   ]
  },
  {
   "cell_type": "code",
   "execution_count": 307,
   "id": "80e6dc1f",
   "metadata": {},
   "outputs": [
    {
     "name": "stdout",
     "output_type": "stream",
     "text": [
      "5.0\n"
     ]
    }
   ],
   "source": [
    "def norma(v):\n",
    "    return sum(x**2 for x in v) ** 0.5\n",
    "\n",
    "\n",
    "v = [3, 4]\n",
    "print(norma(v)) "
   ]
  },
  {
   "cell_type": "code",
   "execution_count": 308,
   "id": "ca0f8cc1",
   "metadata": {},
   "outputs": [
    {
     "name": "stdout",
     "output_type": "stream",
     "text": [
      "5.0\n"
     ]
    }
   ],
   "source": [
    "# Usando numpy para calcular a norma\n",
    "\n",
    "norma = np.linalg.norm(v)\n",
    "\n",
    "print(norma)"
   ]
  },
  {
   "cell_type": "code",
   "execution_count": 306,
   "id": "1d7deb4d",
   "metadata": {},
   "outputs": [
    {
     "data": {
      "text/plain": [
       "5.0"
      ]
     },
     "execution_count": 306,
     "metadata": {},
     "output_type": "execute_result"
    }
   ],
   "source": [
    "# usando pytorch\n",
    "\n",
    "v = torch.tensor([ 3.0, 4.0])\n",
    "\n",
    "torch.norm(v).item()\n"
   ]
  },
  {
   "cell_type": "markdown",
   "id": "6a523d40",
   "metadata": {},
   "source": [
    "### Exercício 4: Ângulo entre Dois Vetores\n",
    "Implemente uma função que calcule o ângulo (em graus) entre dois vetores.\n",
    "\n",
    " O ângulo entre dois vetores é calculado com base no produto escalar e nas normas dos vetores."
   ]
  },
  {
   "cell_type": "markdown",
   "id": "e7b8bf07",
   "metadata": {},
   "source": [
    "Sejam dois vetores:\n",
    "\n",
    "$$\n",
    "\\mathbf{u} = [u_1, u_2, \\dots, u_n], \\quad \\mathbf{v} = [v_1, v_2, \\dots, v_n]\n",
    "$$\n",
    "\n",
    "O **ângulo** $ \\theta $ entre $ \\mathbf{u} $ e $ \\mathbf{v} $ é dado por:\n",
    "\n",
    "$$\n",
    "\\cos(\\theta) = \\frac{\\mathbf{u} \\cdot \\mathbf{v}}{\\|\\mathbf{u}\\| \\cdot \\|\\mathbf{v}\\|}\n",
    "$$\n",
    "\n",
    "Isolando o ângulo, para encontrar o valor do ângulo diretamente:\n",
    "\n",
    "$$\n",
    "\\theta = \\cos^{-1}\\left( \\frac{\\mathbf{u} \\cdot \\mathbf{v}}{\\|\\mathbf{u}\\| \\cdot \\|\\mathbf{v}\\|} \\right)\n",
    "$$\n",
    "\n",
    "O valor está em radiano, para transformar em grau:\n",
    "\n",
    "$$\n",
    "\\theta_{\\text{graus}} = \\theta_{\\text{radianos}} \\cdot \\left( \\frac{180}{\\pi} \\right)\n",
    "$$"
   ]
  },
  {
   "cell_type": "code",
   "execution_count": 3,
   "id": "dc6e9b09",
   "metadata": {},
   "outputs": [],
   "source": [
    "import numpy as np\n",
    "import math\n",
    "\n",
    "def calcular_angulo(u, v):\n",
    "    \"\"\"\n",
    "    Calcula o ângulo entre dois vetores u e v usando produto escalar e norma.\n",
    "    Retorna o ângulo em radianos e graus.\n",
    "    \"\"\"\n",
    "    # Produto escalar: u · v\n",
    "    # produto_escalar = np.dot(u, v)\n",
    "    produto_escalar = sum(x * y for x, y in zip(u, v)) \n",
    "\n",
    "    # Normas: ||u|| e ||v||\n",
    "    #norma_u = np.linalg.norm(u)\n",
    "    #norma_v = np.linalg.norm(v)\n",
    "    norma_u = math.sqrt(sum(x**2 for x in u))\n",
    "    norma_v = math.sqrt(sum(x**2 for x in v))\n",
    "\n",
    "    # Cosseno do ângulo\n",
    "    cos_theta = produto_escalar / (norma_u * norma_v)\n",
    "\n",
    "    # Corrige pequenos desvios numéricos fora de [-1, 1]\n",
    "    cos_theta = np.clip(cos_theta, -1.0, 1.0)\n",
    "\n",
    "    # Ângulo em radianos\n",
    "    theta_rad = np.arccos(cos_theta)\n",
    "\n",
    "    # Ângulo em graus\n",
    "    theta_deg = np.degrees(theta_rad)\n",
    "\n",
    "    return theta_rad, theta_deg\n"
   ]
  },
  {
   "cell_type": "code",
   "execution_count": 5,
   "id": "440c9893",
   "metadata": {},
   "outputs": [
    {
     "name": "stdout",
     "output_type": "stream",
     "text": [
      "Ângulo em radianos: 1.5708\n",
      "Ângulo em graus: 90.00°\n"
     ]
    }
   ],
   "source": [
    "u = [1, 2, 3]\n",
    "v = [4, 5, 6]\n",
    "\n",
    "u = [1, 0]\n",
    "v = [0, 1]\n",
    "\n",
    "rad, deg = calcular_angulo(u, v)\n",
    "\n",
    "print(f\"Ângulo em radianos: {rad:.4f}\")\n",
    "print(f\"Ângulo em graus: {deg:.2f}°\")"
   ]
  },
  {
   "cell_type": "markdown",
   "id": "53b59760",
   "metadata": {},
   "source": [
    "### Exercício 5: Projeção de um Vetor sobre Outro\n",
    "\n",
    "Escreva uma função que encontre a projeção de um vetor sobre outro vetor."
   ]
  },
  {
   "cell_type": "markdown",
   "id": "3af1e1cc",
   "metadata": {},
   "source": [
    "Projeção de um vetor sobre outro\n",
    "\n",
    "Sejam dois vetores:\n",
    "\n",
    "$\n",
    "\\mathbf{a}, \\mathbf{b} \\in \\mathbb{R}^n\n",
    "$\n",
    "\n",
    "A **projeção de** $\\mathbf{a}$ **sobre** $\\mathbf{b}$ é dada por:\n",
    "\n",
    "$$\n",
    "\\text{proj}_{\\mathbf{b}}(\\mathbf{a}) = \\left( \\frac{\\mathbf{a} \\cdot \\mathbf{b}}{\\|\\mathbf{b}\\|^2} \\right) \\mathbf{b}\n",
    "$$\n",
    "\n",
    " Onde:\n",
    "\n",
    "- $\\mathbf{a} \\cdot \\mathbf{b}$ é o produto escalar entre os vetores\n",
    "- $\\|\\mathbf{b}\\|^2$ é o quadrado da norma de $\\mathbf{b}$\n",
    "- O fator escalar representa **quanto de $\\mathbf{a}$ está na direção de $\\mathbf{b}$**\n",
    "- O resultado é um **vetor na direção de $\\mathbf{b}$**, proporcional à \"sombra\" de $\\mathbf{a}$ sobre ele\n"
   ]
  },
  {
   "cell_type": "code",
   "execution_count": 361,
   "id": "c85268ec",
   "metadata": {},
   "outputs": [
    {
     "data": {
      "text/plain": [
       "array([3., 0.])"
      ]
     },
     "execution_count": 361,
     "metadata": {},
     "output_type": "execute_result"
    }
   ],
   "source": [
    "def projecao_vetor(vetor_a, vetor_b):\n",
    "    produto_escalar = sum(a*b for a, b in zip(vetor_a, vetor_b))\n",
    "    norma_b = sum(b**2 for b in vetor_b) \n",
    "    escalar = produto_escalar/norma_b\n",
    "    proj = escalar * b\n",
    "    return proj\n",
    "\n",
    "# Vetores\n",
    "a = np.array([3, 4])\n",
    "b = np.array([1, 0])\n",
    "\n",
    "# Projeção de a sobre b\n",
    "projecao_vetor(a, b)"
   ]
  },
  {
   "cell_type": "code",
   "execution_count": 360,
   "id": "d55555b5",
   "metadata": {},
   "outputs": [
    {
     "data": {
      "text/plain": [
       "array([3., 0.])"
      ]
     },
     "execution_count": 360,
     "metadata": {},
     "output_type": "execute_result"
    }
   ],
   "source": [
    "def projecao_vetor(a, b):\n",
    "    escalar = np.dot(a, b) / np.dot(b, b)  # np.dot(b, b) é a norma de b ao quadrado\n",
    "    proj = escalar * b\n",
    "    return proj\n",
    "\n",
    "# Projeção de a sobre b\n",
    "projecao_vetor(a, b)"
   ]
  }
 ],
 "metadata": {
  "kernelspec": {
   "display_name": "Python 3",
   "language": "python",
   "name": "python3"
  },
  "language_info": {
   "codemirror_mode": {
    "name": "ipython",
    "version": 3
   },
   "file_extension": ".py",
   "mimetype": "text/x-python",
   "name": "python",
   "nbconvert_exporter": "python",
   "pygments_lexer": "ipython3",
   "version": "3.10.12"
  }
 },
 "nbformat": 4,
 "nbformat_minor": 5
}
