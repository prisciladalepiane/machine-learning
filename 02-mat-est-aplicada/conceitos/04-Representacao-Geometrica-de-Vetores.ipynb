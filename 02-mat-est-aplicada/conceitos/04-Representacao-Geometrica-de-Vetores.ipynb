{
 "cells": [
  {
   "cell_type": "markdown",
   "id": "c57285e6",
   "metadata": {},
   "source": [
    "# Representação Geométrica de Vetores e Álgebra Linear"
   ]
  },
  {
   "cell_type": "code",
   "execution_count": 1,
   "id": "cb4990dc",
   "metadata": {},
   "outputs": [
    {
     "name": "stdout",
     "output_type": "stream",
     "text": [
      "Note: you may need to restart the kernel to use updated packages.\n"
     ]
    }
   ],
   "source": [
    "%pip install -q pandas_datareader"
   ]
  },
  {
   "cell_type": "code",
   "execution_count": 2,
   "id": "cff6d679",
   "metadata": {},
   "outputs": [],
   "source": [
    "import pandas as pd\n",
    "import numpy as np\n",
    "import matplotlib.pyplot as plt\n",
    "from pandas_datareader import wb"
   ]
  },
  {
   "cell_type": "markdown",
   "id": "72212e77",
   "metadata": {},
   "source": [
    "## Estrutura de dados para criação de vetores em python"
   ]
  },
  {
   "cell_type": "code",
   "execution_count": 8,
   "id": "97f5ef00",
   "metadata": {},
   "outputs": [
    {
     "data": {
      "text/plain": [
       "list"
      ]
     },
     "execution_count": 8,
     "metadata": {},
     "output_type": "execute_result"
    }
   ],
   "source": [
    "vetor1 = [1, 2, 3]\n",
    "type(vetor1)"
   ]
  },
  {
   "cell_type": "code",
   "execution_count": 9,
   "id": "94da7033",
   "metadata": {},
   "outputs": [
    {
     "data": {
      "text/plain": [
       "(3,)"
      ]
     },
     "execution_count": 9,
     "metadata": {},
     "output_type": "execute_result"
    }
   ],
   "source": [
    "np.shape(vetor1)"
   ]
  },
  {
   "cell_type": "code",
   "execution_count": 10,
   "id": "802f72d6",
   "metadata": {},
   "outputs": [
    {
     "data": {
      "text/plain": [
       "numpy.ndarray"
      ]
     },
     "execution_count": 10,
     "metadata": {},
     "output_type": "execute_result"
    }
   ],
   "source": [
    "vetor2 = np.array(vetor1)\n",
    "type(vetor2)"
   ]
  },
  {
   "cell_type": "code",
   "execution_count": null,
   "id": "5e518754",
   "metadata": {},
   "outputs": [
    {
     "data": {
      "text/plain": [
       "(3,)"
      ]
     },
     "execution_count": 12,
     "metadata": {},
     "output_type": "execute_result"
    }
   ],
   "source": [
    "# vetor com uma dimensão\n",
    "vetor2.shape"
   ]
  },
  {
   "cell_type": "code",
   "execution_count": 13,
   "id": "43203426",
   "metadata": {},
   "outputs": [
    {
     "data": {
      "text/plain": [
       "numpy.ndarray"
      ]
     },
     "execution_count": 13,
     "metadata": {},
     "output_type": "execute_result"
    }
   ],
   "source": [
    "vetor3 = np.array([[1, 2, 3]])\n",
    "type(vetor3)"
   ]
  },
  {
   "cell_type": "code",
   "execution_count": 16,
   "id": "947f1e59",
   "metadata": {},
   "outputs": [
    {
     "data": {
      "text/plain": [
       "(1, 3)"
      ]
     },
     "execution_count": 16,
     "metadata": {},
     "output_type": "execute_result"
    }
   ],
   "source": [
    "# vetor com uma linha e três colunas\n",
    "vetor3.shape"
   ]
  },
  {
   "cell_type": "code",
   "execution_count": 19,
   "id": "dca4521b",
   "metadata": {},
   "outputs": [
    {
     "data": {
      "text/plain": [
       "(3, 1)"
      ]
     },
     "execution_count": 19,
     "metadata": {},
     "output_type": "execute_result"
    }
   ],
   "source": [
    "# vetor com uma coluna e três linhas\n",
    "vetor4 = np.array([[1], [2], [3]])\n",
    "vetor4.shape"
   ]
  },
  {
   "cell_type": "markdown",
   "id": "6c5d0f11",
   "metadata": {},
   "source": [
    "## Geometria de vetores e representação em python"
   ]
  },
  {
   "cell_type": "code",
   "execution_count": 47,
   "id": "78b49a10",
   "metadata": {},
   "outputs": [
    {
     "name": "stdout",
     "output_type": "stream",
     "text": [
      "[-3  3]\n"
     ]
    }
   ],
   "source": [
    "u = np.array([-3, 3])\n",
    "print(u)"
   ]
  },
  {
   "cell_type": "code",
   "execution_count": 48,
   "id": "5856cf3c",
   "metadata": {},
   "outputs": [
    {
     "data": {
      "image/png": "[encoded data removed]",
      "text/plain": [
       "<Figure size 500x500 with 1 Axes>"
      ]
     },
     "metadata": {},
     "output_type": "display_data"
    }
   ],
   "source": [
    "plt.figure(figsize=(5, 5))\n",
    "\n",
    "vetor1 = plt.arrow(0, 0, \n",
    "                   u[0], \n",
    "                   u[1], \n",
    "                   head_width=0.3,\n",
    "                   width=0.1,\n",
    "                   color='blue')\n",
    "\n",
    "plt.plot(0,0, 'ko', markerfacecolor = 'yellow', markersize = 8)  # ponto de origem\n",
    "plt.grid(linestyle = '--', linewidth = 0.5)\n",
    "plt.axis('square')\n",
    "plt.axis([-4,4,-4,4])\n",
    "plt.legend([vetor1], ['u'], loc='upper right')\n",
    "plt.title('Representação do vetor u')\n",
    "plt.show()\n"
   ]
  },
  {
   "cell_type": "code",
   "execution_count": 63,
   "id": "a649933c",
   "metadata": {},
   "outputs": [
    {
     "name": "stdout",
     "output_type": "stream",
     "text": [
      "Vetores:\n",
      "[[ 3 -2]\n",
      " [-1  4]\n",
      " [ 2 -3]]\n",
      "\n",
      "Origens:\n",
      "[[ 0 -1 -2]\n",
      " [ 0 -2 -1]]\n"
     ]
    },
    {
     "data": {
      "image/png": "[encoded data removed]",
      "text/plain": [
       "<Figure size 400x400 with 1 Axes>"
      ]
     },
     "metadata": {},
     "output_type": "display_data"
    }
   ],
   "source": [
    "# Exemplo 2\n",
    "\n",
    "# Cria a figura\n",
    "plt.figure(figsize = (4, 4))\n",
    "\n",
    "# Cria um array de vetores\n",
    "vetores = np.array([ [3, -2], [-1, 4], [2, -3] ])\n",
    "print('Vetores:')\n",
    "print(vetores)\n",
    "\n",
    "# Cria um array de vetores para as origens\n",
    "origens = np.array([[0, -1, -2], [0, -2, -1]]) \n",
    "print('\\nOrigens:')\n",
    "print(origens)\n",
    "\n",
    "# Plot\n",
    "plt.quiver(*origens, vetores[:,0], vetores[:,1], color = ['r','b','g'], scale = 15)\n",
    "plt.grid(linestyle = '--', linewidth = 0.5)\n",
    "# Escala\n",
    "plt.axis([-5, 5, -5, 5])\n",
    "\n",
    "# Plot\n",
    "plt.show()"
   ]
  },
  {
   "cell_type": "code",
   "execution_count": 61,
   "id": "84a6aeda",
   "metadata": {},
   "outputs": [
    {
     "name": "stdout",
     "output_type": "stream",
     "text": [
      "[ 3 -1  2]\n",
      "[-2  4 -3]\n"
     ]
    }
   ],
   "source": [
    "print(vetores[:,0])\n",
    "print(vetores[:,1])"
   ]
  },
  {
   "cell_type": "markdown",
   "id": "9f7bddff",
   "metadata": {},
   "source": [
    "`plt.quiver(*origens, vetores[:,0], vetores[:,1], color = ['r','b','g'], scale = 15)`\n",
    "\n",
    "`plt.quiver(...)`: Esta é a chamada da função quiver do matplotlib.pyplot. Ela cria um gráfico de vetores (setas) que podem ser úteis para visualizar campos vetoriais ou outros dados vetoriais.\n",
    "\n",
    "`*origens`: Este é um argumento descompactado (*) de uma variável chamada origens.Espera-se que origens seja uma sequência de pares de coordenadas (x, y), representando os pontos de origem de cada vetor. O asterisco * é usado para desempacotar a sequência, de modo que cada elemento da sequência seja passado como um argumento separado.\n",
    "\n",
    "`vetores[:,0]`, `vetores[:,1]`: Estes são os componentes x e y dos vetores a serem plotados. A notação vetores[:,0] seleciona todos os elementos da primeira coluna da matriz vetores (assumindo que é uma matriz 2D), que representam os componentes x de cada vetor. Similarmente, vetores[:,1] seleciona todos os elementos da segunda coluna, representando os componentes y."
   ]
  },
  {
   "cell_type": "markdown",
   "id": "3cd5e67b",
   "metadata": {},
   "source": [
    "### Adição de Vetores no Espaço Vetorial"
   ]
  },
  {
   "cell_type": "code",
   "execution_count": 92,
   "id": "52d4d2a9",
   "metadata": {},
   "outputs": [
    {
     "name": "stdout",
     "output_type": "stream",
     "text": [
      "\n",
      "Vetor u:\n",
      "[0 2]\n",
      "Vetor v:\n",
      "[ 1 -1]\n"
     ]
    }
   ],
   "source": [
    "u = np.array([0, 2])\n",
    "v = np.array([1, -1])\n",
    "\n",
    "print('\\nVetor u:')\n",
    "print(u)\n",
    "print('Vetor v:')\n",
    "print(v)"
   ]
  },
  {
   "cell_type": "code",
   "execution_count": 93,
   "id": "f3c67b4f",
   "metadata": {},
   "outputs": [
    {
     "name": "stdout",
     "output_type": "stream",
     "text": [
      "Soma dos vetores u e v:\n",
      "[1 1]\n"
     ]
    }
   ],
   "source": [
    "soma = u + v\n",
    "\n",
    "print('Soma dos vetores u e v:')\n",
    "print(soma)"
   ]
  },
  {
   "cell_type": "code",
   "execution_count": 94,
   "id": "385d225c",
   "metadata": {},
   "outputs": [
    {
     "data": {
      "image/png": "[encoded data removed]",
      "text/plain": [
       "<Figure size 400x400 with 1 Axes>"
      ]
     },
     "metadata": {},
     "output_type": "display_data"
    }
   ],
   "source": [
    "# Plot dos 3 vetores\n",
    "def plotar_vetores(u, v, soma):\n",
    "    plt.figure(figsize=(4, 4))\n",
    "    \n",
    "    # Vetor u\n",
    "    plt.arrow(0, 0, u[0], u[1], head_width=0.3, width=0.1, color='blue', length_includes_head=True)\n",
    "    \n",
    "    # Vetor v\n",
    "    plt.arrow(0, 0, v[0], v[1], head_width=0.3, width=0.1, color='green', length_includes_head=True)\n",
    "    \n",
    "    # Vetor resultante da soma dos vetores u e v\n",
    "    plt.arrow(0, 0, soma[0], soma[1], head_width=0.3, width=0.1, color='red', length_includes_head=True)\n",
    "    \n",
    "    # Ponto de início do vetor\n",
    "    plt.plot(0, 0, 'ko', markerfacecolor='yellow', markersize=8)\n",
    "    \n",
    "    # Formatação do plot\n",
    "    plt.grid(linestyle='--', linewidth=0.6)\n",
    "    plt.axis('square')\n",
    "    plt.axis([-5, 5, -5, 5])\n",
    "    plt.legend(['u', 'v', 'u + v'])\n",
    "    plt.title('Vetores $\\mathbf{u}$, $\\mathbf{v}$ e $\\mathbf{u + v}$')\n",
    "    plt.show()\n",
    "\n",
    "# Plotando os vetores u, v e a soma deles\n",
    "plotar_vetores(u, v, soma)"
   ]
  },
  {
   "cell_type": "markdown",
   "id": "e32e5684",
   "metadata": {},
   "source": [
    "#### Propriedades:\n",
    "\n",
    "O vetor resultante da soma de dois vetores não necessariamente tem a mesma direção de um dos vetores originais. A direção do vetor resultante depende das magnitudes e direções dos vetores originais. Aqui estão alguns cenários para ilustrar isso:\n",
    "\n",
    "**Mesma Direção e Sentido**: \n",
    "\n",
    "Se dois vetores estão na mesma direção e têm o mesmo sentido (ou seja, não são opostos), o vetor resultante também terá a mesma direção e sentido, mas com uma magnitude maior. Por exemplo, somar [2, 2] e [1, 1] resulta em [3, 3], que está na mesma direção e sentido.\n"
   ]
  },
  {
   "cell_type": "code",
   "execution_count": 95,
   "id": "5047bda0",
   "metadata": {},
   "outputs": [
    {
     "data": {
      "image/png": "[encoded data removed]",
      "text/plain": [
       "<Figure size 400x400 with 1 Axes>"
      ]
     },
     "metadata": {},
     "output_type": "display_data"
    }
   ],
   "source": [
    "u = np.array([2, 2])\n",
    "v = np.array([1, 1])\n",
    "soma = u + v\n",
    "plotar_vetores(u, v, soma)"
   ]
  },
  {
   "cell_type": "markdown",
   "id": "fe5ad77b",
   "metadata": {},
   "source": [
    "\n",
    "**Direções Diferentes**:\n",
    "\n",
    " Se os vetores estão em direções diferentes, o vetor resultante terá uma direção que é uma \"média\" ponderada das direções originais, dependendo das magnitudes dos vetores. Por exemplo, somar [2, 0] e [0, 2] resulta em [2, 2], que está em uma nova direção.\n"
   ]
  },
  {
   "cell_type": "code",
   "execution_count": 97,
   "id": "dbf49597",
   "metadata": {},
   "outputs": [
    {
     "data": {
      "image/png": "[encoded data removed]",
      "text/plain": [
       "<Figure size 400x400 with 1 Axes>"
      ]
     },
     "metadata": {},
     "output_type": "display_data"
    }
   ],
   "source": [
    "u = np.array([2, 0])\n",
    "v = np.array([0, 2])\n",
    "plotar_vetores(u, v, u + v)"
   ]
  },
  {
   "cell_type": "markdown",
   "id": "acfe9cb7",
   "metadata": {},
   "source": [
    "\n",
    "**Vetores Opostos**: \n",
    "\n",
    "Se os vetores são exatamente opostos (mesma magnitude, direções opostas), a soma resultará no vetor zero, o qual tecnicamente não tem uma direção definida. Por exemplo, somar [2, 0] e [-2, 0] resulta em [0, 0]."
   ]
  },
  {
   "cell_type": "code",
   "execution_count": 98,
   "id": "fb2cc43d",
   "metadata": {},
   "outputs": [
    {
     "data": {
      "image/png": "[encoded data removed]",
      "text/plain": [
       "<Figure size 400x400 with 1 Axes>"
      ]
     },
     "metadata": {},
     "output_type": "display_data"
    }
   ],
   "source": [
    "u = np.array([2, 0])\n",
    "v = np.array([-2, 0])\n",
    "plotar_vetores(u, v, u + v)"
   ]
  },
  {
   "cell_type": "markdown",
   "id": "1edf1cf1",
   "metadata": {},
   "source": [
    "\n",
    "**Um Vetor é Múltiplo do Outro**: \n",
    "\n",
    "Se um vetor é um múltiplo escalar do outro, a soma resultará em um vetor que tem a mesma direção de ambos os vetores originais, mas com uma magnitude que é a soma (ou diferença, dependendo do sinal do escalar) das magnitudes. Por exemplo, somar [1, 1] e [-2, -2] resultará em [-1, -1], que está na mesma direção, mas com uma magnitude e sentido diferentes.\n"
   ]
  },
  {
   "cell_type": "code",
   "execution_count": 99,
   "id": "3f3791b9",
   "metadata": {},
   "outputs": [
    {
     "data": {
      "image/png": "[encoded data removed]",
      "text/plain": [
       "<Figure size 400x400 with 1 Axes>"
      ]
     },
     "metadata": {},
     "output_type": "display_data"
    }
   ],
   "source": [
    "u = np.array([1, 1])\n",
    "v = np.array([-2, -2])\n",
    "plotar_vetores(u, v, u + v)"
   ]
  },
  {
   "cell_type": "markdown",
   "id": "d399fad8",
   "metadata": {},
   "source": [
    "\n",
    "Portanto, a direção do vetor resultante da soma de dois vetores depende de suas magnitudes e direções relativas."
   ]
  },
  {
   "cell_type": "markdown",
   "id": "49384cbc",
   "metadata": {},
   "source": [
    "### Subtração de vetores"
   ]
  },
  {
   "cell_type": "code",
   "execution_count": 115,
   "id": "bbf7f09e",
   "metadata": {},
   "outputs": [
    {
     "name": "stdout",
     "output_type": "stream",
     "text": [
      "Vetor u: [-2 -2]\n",
      "Vetor v: [1 1]\n",
      "Diferença (u - v): [-3 -3]\n"
     ]
    },
    {
     "data": {
      "image/png": "[encoded data removed]",
      "text/plain": [
       "<Figure size 400x400 with 1 Axes>"
      ]
     },
     "metadata": {},
     "output_type": "display_data"
    }
   ],
   "source": [
    "u = np.array([-2,-2])\n",
    "v = np.array([1, 1])\n",
    "diff = u - v\n",
    "\n",
    "def plotar_vetores_subtracao(u, v, diff):\n",
    "    plt.figure(figsize=(4, 4))\n",
    "    \n",
    "    # Vetor u\n",
    "    plt.arrow(0, 0, u[0], u[1], head_width=0.3, width=0.1, color='blue', length_includes_head=True)\n",
    "    \n",
    "    # Vetor v\n",
    "    plt.arrow(0, 0, v[0], v[1], head_width=0.3, width=0.1, color='green', length_includes_head=True)\n",
    "    \n",
    "    # Vetor resultante da subtração\n",
    "    plt.arrow(0, 0, diff[0], diff[1], head_width=0.3, width=0.1, color='red', length_includes_head=True)\n",
    "    \n",
    "    # Ponto de início do vetor\n",
    "    plt.plot(0, 0, 'ko', markerfacecolor='yellow', markersize=8)\n",
    "    \n",
    "    # Formatação do plot\n",
    "    plt.grid(linestyle='--', linewidth=0.6)\n",
    "    plt.axis('square')\n",
    "    plt.axis([-5, 5, -5, 5])\n",
    "    plt.legend(['u', 'v', 'u - v'])\n",
    "    plt.title('Vetores $\\mathbf{u}$, $\\mathbf{v}$ e $\\mathbf{u - v}$')\n",
    "    plt.show()\n",
    "\n",
    "print(f'Vetor u: {u}')\n",
    "print(f'Vetor v: {v}')\n",
    "print(f'Diferença (u - v): {diff}')\n",
    "plotar_vetores_subtracao(u, v, diff)"
   ]
  },
  {
   "cell_type": "markdown",
   "id": "626a65f4",
   "metadata": {},
   "source": [
    "#### Propriedades:\n",
    "\n",
    "O vetor resultante da subtração de dois vetores pode ou não ter a mesma direção de um dos vetores originais. A direção e magnitude do vetor resultante dependem das relações entre os vetores que estão sendo subtraídos. Aqui estão alguns cenários possíveis:\n",
    "\n",
    "**Vetores com a Mesma Direção e Sentido**: \n",
    "\n",
    "Se você subtrair um vetor de outro vetor na mesma direção e sentido, mas de magnitude diferente, o vetor resultante terá a mesma direção e sentido que os vetores originais. Por exemplo, subtraindo [1, 1] de [3, 3] resulta em [2, 2], que tem a mesma direção e sentido.\n",
    "\n",
    "**Vetores com Direções Diferentes**: \n",
    "\n",
    "Se os vetores têm direções diferentes, o vetor resultante terá uma direção que depende da diferença entre as direções e magnitudes dos vetores originais. Por exemplo, subtraindo [1, 0] de [0, 1] resulta em [-1, 1], que é uma nova direção.\n",
    "\n",
    "**Vetores Opostos**: \n",
    "\n",
    "Se os vetores são opostos (mesma magnitude, direções opostas), a subtração resultará em um vetor com o dobro da magnitude de um dos vetores e na direção do vetor do qual você está subtraindo. Por exemplo, subtraindo [-1, 0] de [1, 0] resulta em [2, 0], que tem a mesma direção que o vetor [1, 0].\n",
    "\n",
    "**Um Vetor é Múltiplo do Outro**: \n",
    "\n",
    "Se um vetor é um múltiplo escalar do outro, a subtração resultará em um vetor que tem a mesma direção que os vetores originais, mas com uma magnitude que é a diferença das magnitudes. Por exemplo, subtraindo [-2, -2] de [1, 1] resultará em [3, 3], que está na mesma direção."
   ]
  },
  {
   "cell_type": "markdown",
   "id": "8e0793ab",
   "metadata": {},
   "source": [
    "## Multiplicação Escalar no Espaço Vetorial"
   ]
  },
  {
   "cell_type": "code",
   "execution_count": 120,
   "id": "6e34eafa",
   "metadata": {},
   "outputs": [
    {
     "name": "stdout",
     "output_type": "stream",
     "text": [
      "Vetor original: [5 4]\n",
      "Valor Escalar: 3:\n",
      "Resultado: [15 12]\n"
     ]
    }
   ],
   "source": [
    "\n",
    "valor_escalar = 3\n",
    "\n",
    "vetor = np.array([5,4])\n",
    "\n",
    "resultado = valor_escalar * vetor\n",
    "\n",
    "print(f'Vetor original: {vetor}')\n",
    "print(f'Valor Escalar: {valor_escalar}:')\n",
    "print(f'Resultado: {resultado}') "
   ]
  },
  {
   "cell_type": "markdown",
   "id": "481c3ef2",
   "metadata": {},
   "source": [
    "Também podemos fazer outras operações escalares"
   ]
  },
  {
   "cell_type": "code",
   "execution_count": 126,
   "id": "b513113f",
   "metadata": {},
   "outputs": [
    {
     "name": "stdout",
     "output_type": "stream",
     "text": [
      "[7 6]\n"
     ]
    }
   ],
   "source": [
    "num = 2\n",
    "print(vetor + num)"
   ]
  },
  {
   "cell_type": "code",
   "execution_count": 122,
   "id": "c7c6536d",
   "metadata": {},
   "outputs": [
    {
     "name": "stdout",
     "output_type": "stream",
     "text": [
      "[3 2]\n"
     ]
    }
   ],
   "source": [
    "num = 2\n",
    "print(vetor - num)"
   ]
  },
  {
   "cell_type": "code",
   "execution_count": 128,
   "id": "18ebf8e4",
   "metadata": {},
   "outputs": [
    {
     "name": "stdout",
     "output_type": "stream",
     "text": [
      "[1, 2, 0.5, -1, -2]\n",
      "[0.9 1.2]\n"
     ]
    },
    {
     "data": {
      "image/png": "[encoded data removed]",
      "text/plain": [
       "<Figure size 1400x500 with 5 Axes>"
      ]
     },
     "metadata": {},
     "output_type": "display_data"
    }
   ],
   "source": [
    "# Efeito de diferentes valores escalares\n",
    "\n",
    "# Lista de escalaraes\n",
    "valores_escalares = [ 1, 2, 1/2, -1, -2 ]\n",
    "print(valores_escalares)\n",
    "\n",
    "# Vetor\n",
    "vetor_inicial = np.array([ .9, 1.2 ])\n",
    "print(vetor_inicial)\n",
    "\n",
    "# Cria a figura\n",
    "fig, axs = plt.subplots(1, len(valores_escalares), figsize = (14,5))\n",
    "\n",
    "# Contador para os subplots\n",
    "i = 0 \n",
    "\n",
    "for valor in valores_escalares:\n",
    "    \n",
    "    # Multiplicação escalar\n",
    "    vetor_resultante = valor * vetor_inicial\n",
    "\n",
    "    # Plot do vetor inicial\n",
    "    axs[i].arrow(0, \n",
    "                 0, \n",
    "                 vetor_inicial[0], \n",
    "                 vetor_inicial[1], \n",
    "                 head_width = .3,\n",
    "                 width = .1, \n",
    "                 color = 'blue',\n",
    "                 length_includes_head = True)\n",
    "    \n",
    "    # Plot do vetor resultante\n",
    "    axs[i].arrow(0.1, \n",
    "                 0, \n",
    "                 vetor_resultante[0], \n",
    "                 vetor_resultante[1], \n",
    "                 head_width = .3,\n",
    "                 width = .1,\n",
    "                 color = 'red',\n",
    "                 length_includes_head = True)\n",
    "    \n",
    "    # Grid\n",
    "    axs[i].grid(linestyle = '--')\n",
    "    \n",
    "    # Formato\n",
    "    axs[i].axis('square')\n",
    "    \n",
    "    # Eixos\n",
    "    axs[i].axis([-2.5, 2.5, -2.5, 2.5])\n",
    "    \n",
    "    # Limites\n",
    "    axs[i].set(xticks = np.arange(-2,3), yticks = np.arange(-2,3))\n",
    "    \n",
    "    # Título\n",
    "    axs[i].set_title(f'$\\sigma$ = {valor:.2f}')\n",
    "    \n",
    "    # Contador\n",
    "    i += 1\n",
    "\n",
    "plt.tight_layout()\n",
    "plt.show()"
   ]
  },
  {
   "cell_type": "markdown",
   "id": "150a78fc",
   "metadata": {},
   "source": [
    "#### Propriedades:\n",
    "\n",
    "A direção do vetor resultante de uma multiplicação escalar em um espaço vetorial é diretamente relacionada à direção do vetor original antes da multiplicação. Quando um vetor é multiplicado por um escalar, apenas a magnitude do vetor é alterada (aumentada ou diminuída, dependendo do valor absoluto do escalar), enquanto a direção permanece a mesma ou se inverte, dependendo do sinal do escalar. Aqui estão as possibilidades:\n",
    "\n",
    "**Multiplicação por um Escalar Positivo**: Se o vetor é multiplicado por um escalar positivo, a direção do vetor resultante é a mesma do vetor original. O vetor resultante é uma versão \"esticada\" ou \"comprimida\" do vetor original, dependendo se o escalar é maior ou menor que um, respectivamente.\n",
    "\n",
    "**Multiplicação por Zero**: Se o vetor é multiplicado por zero, o vetor resultante é o vetor zero, que tecnicamente não tem direção definida.\n",
    "\n",
    "**Multiplicação por um Escalar Negativo**: Se o vetor é multiplicado por um escalar negativo, a direção do vetor resultante é oposta à do vetor original. O vetor resultante ainda é uma versão \"esticada\" ou \"comprimida\" do vetor original, mas aponta na direção oposta."
   ]
  },
  {
   "cell_type": "markdown",
   "id": "701f66cc",
   "metadata": {},
   "source": [
    "## Cross product (Produto Vetorial) entre vetores no ESpaço vetorial"
   ]
  },
  {
   "cell_type": "code",
   "execution_count": 4,
   "id": "108254cc",
   "metadata": {},
   "outputs": [],
   "source": [
    "import numpy as np\n",
    "\n",
    "A = np.array([5, 2, 3])\n",
    "B = np.array([3, 2, 4])"
   ]
  },
  {
   "cell_type": "code",
   "execution_count": 5,
   "id": "517ee879",
   "metadata": {},
   "outputs": [
    {
     "name": "stdout",
     "output_type": "stream",
     "text": [
      "Vetor A: [5 2 3]\n",
      "Vetor B: [3 2 4]\n",
      "Produto Vetorial (A x B): [  2 -11   4]\n"
     ]
    }
   ],
   "source": [
    "resultado = np.cross(A, B)\n",
    "print(f'Vetor A: {A}')\n",
    "print(f'Vetor B: {B}')\n",
    "print(f'Produto Vetorial (A x B): {resultado}')"
   ]
  },
  {
   "cell_type": "code",
   "execution_count": 8,
   "id": "6bad5781",
   "metadata": {},
   "outputs": [
    {
     "data": {
      "image/png": "[encoded data removed]",
      "text/plain": [
       "<Figure size 500x500 with 1 Axes>"
      ]
     },
     "metadata": {},
     "output_type": "display_data"
    }
   ],
   "source": [
    "import matplotlib.pyplot as plt\n",
    "\n",
    "# Plot dos vetores no cross product\n",
    "\n",
    "# Configurando o gráfico\n",
    "plt.figure(figsize = (5, 5))\n",
    "\n",
    "# Plotando os vetores (apenas componentes x e y)\n",
    "plt.quiver(0, 0, A[0], A[1], color='r', angles='xy', scale_units='xy', scale=1, label='A')\n",
    "plt.quiver(0, 0, B[0], B[1], color='g', angles='xy', scale_units='xy', scale=1, label='B')\n",
    "plt.quiver(0, 0, resultado[0], resultado[1], color='b', angles='xy', scale_units='xy', scale=1, label='Resultado')\n",
    "\n",
    "# Definindo limites e características do gráfico\n",
    "plt.xlim(-15, 15)\n",
    "plt.ylim(-15, 15)\n",
    "plt.grid()\n",
    "plt.legend()\n",
    "plt.title('Cross Product')\n",
    "\n",
    "plt.show()"
   ]
  },
  {
   "cell_type": "markdown",
   "id": "33ba62ba",
   "metadata": {},
   "source": [
    "## Dot product (Produto Escalar)"
   ]
  },
  {
   "cell_type": "code",
   "execution_count": 11,
   "id": "6df742f6",
   "metadata": {},
   "outputs": [
    {
     "name": "stdout",
     "output_type": "stream",
     "text": [
      "Vetor A: [5 2 3]\n",
      "Vetor B: [3 2 4]\n",
      "Produto Escalar (A . B): 31\n"
     ]
    }
   ],
   "source": [
    "A = np.array([5, 2, 3])\n",
    "B = np.array([3, 2, 4])\n",
    "\n",
    "resultado = np.dot(A, B)\n",
    "\n",
    "print(f'Vetor A: {A}')\n",
    "print(f'Vetor B: {B}')\n",
    "print(f'Produto Escalar (A . B): {resultado}')"
   ]
  },
  {
   "cell_type": "code",
   "execution_count": 15,
   "id": "f092af76",
   "metadata": {},
   "outputs": [],
   "source": [
    "u = np.array([1, 5])\n",
    "v = np.array([6, 2])\n",
    "w = np.array([19, 4])"
   ]
  },
  {
   "cell_type": "code",
   "execution_count": 16,
   "id": "524b65ed",
   "metadata": {},
   "outputs": [
    {
     "name": "stdout",
     "output_type": "stream",
     "text": [
      "55\n"
     ]
    }
   ],
   "source": [
    "# Opcao 1 decalcular dot product de 3 vetores\n",
    "resultado = np.dot(u, v + w)\n",
    "print(resultado)"
   ]
  },
  {
   "cell_type": "code",
   "execution_count": 18,
   "id": "8e576085",
   "metadata": {},
   "outputs": [
    {
     "name": "stdout",
     "output_type": "stream",
     "text": [
      "55\n"
     ]
    }
   ],
   "source": [
    "# Opcao 2 de calcular dot product de 3 vetores\n",
    "resultado = np.dot(u, v) + np.dot(u, w)\n",
    "print(resultado)"
   ]
  },
  {
   "cell_type": "code",
   "execution_count": 19,
   "id": "d92d2e79",
   "metadata": {},
   "outputs": [
    {
     "data": {
      "image/png": "[encoded data removed]",
      "text/plain": [
       "<Figure size 640x480 with 1 Axes>"
      ]
     },
     "metadata": {},
     "output_type": "display_data"
    }
   ],
   "source": [
    "# Definindo os vetores\n",
    "u = np.array([1, 5])\n",
    "v = np.array([6, 2])\n",
    "w = np.array([19, 4])\n",
    "\n",
    "# Calculando a soma de v e w\n",
    "vw_sum = v + w\n",
    "\n",
    "# Configurando o gráfico\n",
    "plt.figure()\n",
    "\n",
    "# Adicionando os vetores u, v, w e vw_sum ao gráfico\n",
    "plt.quiver(0, 0, u[0], u[1], color = 'r', scale = 1, scale_units = 'xy', angles = 'xy', label = 'u')\n",
    "plt.quiver(0, 0, v[0], v[1], color = 'b', scale = 1, scale_units = 'xy', angles = 'xy', label = 'v')\n",
    "plt.quiver(0, 0, w[0], w[1], color = 'g', scale = 1, scale_units = 'xy', angles = 'xy', label = 'w')\n",
    "plt.quiver(0, 0, vw_sum[0], vw_sum[1], color = 'orange', scale = 1, scale_units = 'xy', angles = 'xy', label = 'v+w')\n",
    "\n",
    "# Definindo limites do gráfico\n",
    "plt.xlim(-10, 30)\n",
    "plt.ylim(-10, 30)\n",
    "\n",
    "plt.grid()\n",
    "plt.legend()\n",
    "plt.show()"
   ]
  },
  {
   "cell_type": "markdown",
   "id": "5bcc5bf2",
   "metadata": {},
   "source": [
    "## Transposta do vetor"
   ]
  },
  {
   "cell_type": "code",
   "execution_count": 38,
   "id": "2b1efacd",
   "metadata": {},
   "outputs": [
    {
     "data": {
      "text/plain": [
       "(1, 3)"
      ]
     },
     "execution_count": 38,
     "metadata": {},
     "output_type": "execute_result"
    }
   ],
   "source": [
    "vec = np.array([[1,2,3]])\n",
    "\n",
    "vec.shape"
   ]
  },
  {
   "cell_type": "code",
   "execution_count": 29,
   "id": "3889e955",
   "metadata": {},
   "outputs": [
    {
     "name": "stdout",
     "output_type": "stream",
     "text": [
      "[[1 2 3]]\n"
     ]
    }
   ],
   "source": [
    "print(vec)"
   ]
  },
  {
   "cell_type": "code",
   "execution_count": 32,
   "id": "2ef0c94e",
   "metadata": {},
   "outputs": [
    {
     "name": "stdout",
     "output_type": "stream",
     "text": [
      "(3, 1)\n"
     ]
    }
   ],
   "source": [
    "vect = vec.T\n",
    "print(vect.shape)"
   ]
  },
  {
   "cell_type": "code",
   "execution_count": 33,
   "id": "018ceabd",
   "metadata": {},
   "outputs": [
    {
     "name": "stdout",
     "output_type": "stream",
     "text": [
      "[[1]\n",
      " [2]\n",
      " [3]]\n"
     ]
    }
   ],
   "source": [
    "print(vect)"
   ]
  },
  {
   "cell_type": "code",
   "execution_count": 43,
   "id": "15b41983",
   "metadata": {},
   "outputs": [
    {
     "data": {
      "image/png": "[encoded data removed]",
      "text/plain": [
       "<Figure size 500x500 with 1 Axes>"
      ]
     },
     "metadata": {},
     "output_type": "display_data"
    }
   ],
   "source": [
    "# Definindo o vetor original (apenas as duas primeiras componentes para representação gráfica)\n",
    "vec = np.array([2, 3])\n",
    "transposta = vec.T\n",
    "\n",
    "# Configurando o gráfico\n",
    "plt.figure(figsize = (5, 5))\n",
    "\n",
    "# Adicionando o vetor original ao gráfico\n",
    "plt.quiver(0, \n",
    "           0, \n",
    "           vec[0], \n",
    "           vec[1], \n",
    "           color = 'r', \n",
    "           scale = 1, \n",
    "           scale_units = 'xy', \n",
    "           angles = 'xy', \n",
    "           label = 'vec (original)')\n",
    "\n",
    "# Adicionando a transposta do vetor ao gráfico (mesmas coordenadas, cor diferente para ilustração)\n",
    "plt.quiver(0.1, \n",
    "           0, \n",
    "           transposta[0], \n",
    "           transposta[1], \n",
    "           color = 'b', \n",
    "           scale = 1, \n",
    "           scale_units = 'xy', \n",
    "           angles = 'xy', \n",
    "           label = 'vec.T (transposta)')\n",
    "\n",
    "# Definindo limites do gráfico\n",
    "plt.xlim(-1, 5)\n",
    "plt.ylim(-1, 5)\n",
    "\n",
    "plt.grid()\n",
    "plt.legend()\n",
    "plt.show()"
   ]
  },
  {
   "cell_type": "markdown",
   "id": "7f2deb21",
   "metadata": {},
   "source": [
    "Para representar graficamente tanto o vetor original quanto a sua transposta, é importante entender que a operação de transposição em um vetor individual, especialmente um vetor coluna transformando-se em vetor linha (ou vice-versa), não altera seus componentes. Isso significa que, em termos de representação gráfica, o vetor e sua transposta são indistinguíveis."
   ]
  },
  {
   "cell_type": "markdown",
   "id": "85b458ec",
   "metadata": {},
   "source": [
    "## Exercícios"
   ]
  },
  {
   "cell_type": "code",
   "execution_count": 51,
   "id": "9a636d38",
   "metadata": {},
   "outputs": [],
   "source": [
    "import numpy as np\n",
    "import scipy"
   ]
  },
  {
   "cell_type": "markdown",
   "id": "3a9e0f96",
   "metadata": {},
   "source": [
    "### Exercício 1: Produto Escalar em Aplicação Prática\n",
    "Dados  dois  vetores  que  representam  preferências  de  usuários  em  três categorias diferentes \n",
    "user1 = [4, 3, 2] e user2 = [1, 5, 4], \n",
    "calcule a similaridade entre esses usuários usando o produto escalar."
   ]
  },
  {
   "cell_type": "code",
   "execution_count": 50,
   "id": "5fdae4ed",
   "metadata": {},
   "outputs": [
    {
     "name": "stdout",
     "output_type": "stream",
     "text": [
      "Produto escalar entre user1 e user2: 27\n"
     ]
    }
   ],
   "source": [
    "user1 = np.array([4, 3, 2])\n",
    "user2 = np.array([1, 5, 4])\n",
    "\n",
    "# Calculando o produto escalar\n",
    "produto_escalar = np.dot(user1, user2)\n",
    "print(f'Produto escalar entre user1 e user2: {produto_escalar}')"
   ]
  },
  {
   "cell_type": "markdown",
   "id": "ef5f07d7",
   "metadata": {},
   "source": [
    "**Magnitude da similaridade**: O valor absoluto (27) indica a magnitude da similaridade. QUanto maior esse número, maior a similaridade sob a métrica específica que o produto escalar representa.\n",
    "\n",
    "**DIreção e orientação**: O produto escalar é positivo quando os vetores apontam na mesma direção geral e negativo quando apontam em direçẽos opostas. UM valor de 27, sendo positivo, sugere que user1 e user2 tem uma orientação geral semelhante no espaço vetorial considerado.\n",
    "\n",
    "**COntexto específico**: A interpretação mais precisa depende do contexto onde esses vetores são aplicados. \n",
    "Por exempo, se esses vetores representam preferências ou características em um sistema de recomendação, um valor alto pode indicar uma alta similaridade nessas preferências ou características.\n",
    "\n",
    "**Normalização**: É importante considerar a magnitude dos vetores originais. Se os vetores dorem muito grandes, até mesmo vetores relativamente diferentes podem ter escalar alto. EM muitos casos, é útil normalizar os vetores antes de calcular o produto escalar para obter uma medica de similaridade mais significativa."
   ]
  },
  {
   "cell_type": "markdown",
   "id": "5a42b238",
   "metadata": {},
   "source": [
    "### Exercício 2: Multiplicação de Escalar por Vetor em Dados \n",
    "\n",
    "Dada uma série de preços de ações prices= [120, 125, 130, 128, 135], ajuste os preços em 15% e calcule o novo preço das ações"
   ]
  },
  {
   "cell_type": "code",
   "execution_count": 52,
   "id": "26bc3527",
   "metadata": {},
   "outputs": [
    {
     "name": "stdout",
     "output_type": "stream",
     "text": [
      "Preços ajustados: [138.   143.75 149.5  147.2  155.25]\n"
     ]
    }
   ],
   "source": [
    "prices = np.array([120, 125, 130, 128, 135])\n",
    "# Ajustando os preços em 15%\n",
    "ajuste = 1.15\n",
    "precos_ajustados = prices * ajuste\n",
    "print(f'Preços ajustados: {precos_ajustados}')"
   ]
  },
  {
   "cell_type": "markdown",
   "id": "9b7aab0b",
   "metadata": {},
   "source": [
    "### Exercício 3: Otimização de Produto Escalar\n",
    "Encontre o vetor unitário que maximiza o produto escalar com o vetor v = [3, 4, 5]. Use técnicas de otimização para encontrar a solução.\n",
    "\n",
    "O objetivo é encontrar um vetor que maximize o produto escalar com um vetor dado v, sob a restrição de que o vetor seja unitario (tenha norma igual a 1)\n",
    "\n",
    "No SciPy, **minimize** é uma função geral para otimização numérica de funções escalares."
   ]
  },
  {
   "cell_type": "code",
   "execution_count": null,
   "id": "5a8ea3cd",
   "metadata": {},
   "outputs": [],
   "source": [
    "from scipy.optimize import minimize\n",
    "\n",
    "# Array\n",
    "v = np.array([3, 4, 5])\n",
    "\n",
    "# Função objetivo\n",
    "\n",
    "def funcao_objetivo(x):\n",
    "    return -np.dot(v, x)\n",
    "\n"
   ]
  },
  {
   "cell_type": "markdown",
   "id": "96c0fa06",
   "metadata": {},
   "source": [
    "A função `funcao_objetivo` é a função objetivo a ser otimizada. Ela calcula o produto escalar negativo do vetor v com um vetor x. O sinal negativo é usado porque a função minimize procura minimizar o valor da função objetivo. Neste caso, minimizar o negativo do produto escalar é o mesmo que maximizar o produto escalar."
   ]
  },
  {
   "cell_type": "code",
   "execution_count": null,
   "id": "3328a37f",
   "metadata": {},
   "outputs": [],
   "source": [
    "\n",
    "# Restrição para garantir que o vetor seja unitário\n",
    "constraint = {'type': 'eq', 'fun': lambda x: np.linalg.norm(x) - 1}"
   ]
  },
  {
   "cell_type": "markdown",
   "id": "f8be3350",
   "metadata": {},
   "source": [
    "A variável **constraint** é a restrição que exige que a norma (ou magnitude) do vetor x seja 1, tornando-o um vetor unitário. A chave 'type': 'eq' indica que é uma restrição de igualdade, ou seja, a função deve resultar em zero.\n",
    "- Tipo de restrição: 'eq' → igualdade (a função tem que ser zero)\n",
    "- Função: $∥x∥-1$→ a norma de $x$ deve ser igual a 1"
   ]
  },
  {
   "cell_type": "code",
   "execution_count": null,
   "id": "856f6781",
   "metadata": {},
   "outputs": [],
   "source": [
    "# Solução de otimização\n",
    "resultado = minimize(funcao_objetivo, np.ones(3), constraints = constraint)"
   ]
  },
  {
   "cell_type": "markdown",
   "id": "c8692b22",
   "metadata": {},
   "source": [
    "resultado chama a função minimize, passando a função objetivo, um vetor inicial de [1, 1, 1] (três uns) e a restrição definida. A função minimize irá ajustar o vetor inicial para encontrar o vetor que maximiza o produto escalar com v enquanto mantém sua norma igual a 1.\n",
    "\n",
    "Após a otimização, o vetor resultante é armazenado na propriedade x do objeto resultado. Este vetor é o vetor unitário que maximiza o produto escalar com v sob a restrição dada.\n",
    "\n",
    "O código usa otimização numérica para encontrar um vetor unitário que tenha o máximo produto escalar possível com o vetor [3, 4, 5]."
   ]
  },
  {
   "cell_type": "code",
   "execution_count": 55,
   "id": "4b91b3d8",
   "metadata": {},
   "outputs": [
    {
     "name": "stdout",
     "output_type": "stream",
     "text": [
      "[0.42427197 0.56568183 0.70710492]\n"
     ]
    }
   ],
   "source": [
    "\n",
    "vetor_otimizado = resultado.x\n",
    "\n",
    "print(vetor_otimizado)\n"
   ]
  },
  {
   "cell_type": "markdown",
   "id": "79bb6368",
   "metadata": {},
   "source": [
    "A otimização chegou numericamente ao que já sabemos analiticamente: o vetor na mesma direção de $v$, mas de norma 1."
   ]
  },
  {
   "cell_type": "code",
   "execution_count": null,
   "id": "df010498",
   "metadata": {},
   "outputs": [
    {
     "data": {
      "text/plain": [
       "np.float64(1.0)"
      ]
     },
     "execution_count": 58,
     "metadata": {},
     "output_type": "execute_result"
    }
   ],
   "source": [
    "# Norma do vetor otimizado\n",
    "np.linalg.norm(vetor_otimizado).round(2)"
   ]
  },
  {
   "cell_type": "code",
   "execution_count": 56,
   "id": "b733ab71",
   "metadata": {},
   "outputs": [
    {
     "data": {
      "text/plain": [
       "np.float64(7.0710678347924105)"
      ]
     },
     "execution_count": 56,
     "metadata": {},
     "output_type": "execute_result"
    }
   ],
   "source": [
    "\n",
    "# Calculando o produto escalar entre o vetor inicial e o vetor resultante\n",
    "produto_escalar = np.dot(v, vetor_otimizado)\n",
    "produto_escalar\n"
   ]
  },
  {
   "cell_type": "markdown",
   "id": "64eedae9",
   "metadata": {},
   "source": [
    "O produto escalar entre o vetor inicial e o vetor resultante da otimização é aproximadamente \n",
    "7.1. \n",
    "\n",
    "Este resultado indica a máxima similaridade alcançada entre o vetor inicial e um vetor unitário sob as condições definidas na otimização. "
   ]
  },
  {
   "cell_type": "code",
   "execution_count": 66,
   "id": "3202ebc0",
   "metadata": {},
   "outputs": [
    {
     "data": {
      "text/plain": [
       "array([0.42426407, 0.56568542, 0.70710678])"
      ]
     },
     "execution_count": 66,
     "metadata": {},
     "output_type": "execute_result"
    }
   ],
   "source": [
    "# OUtra forma de calcular\n",
    "v/np.sqrt(sum(u**2 for u in v))"
   ]
  },
  {
   "cell_type": "markdown",
   "id": "1b198752",
   "metadata": {},
   "source": [
    "### Exercício 4: Produto Vetorial e Direção Normal\n",
    "Dados  três  pontos  no  espaço  3D \n",
    "A  =  [1,  2,  3],  B  =  [4,  5,  6],  e  C  =  [7,  8,  9], \n",
    "encontre um vetor normal ao plano definido por esses três pontos"
   ]
  },
  {
   "cell_type": "code",
   "execution_count": 69,
   "id": "5f1e10a7",
   "metadata": {},
   "outputs": [
    {
     "name": "stdout",
     "output_type": "stream",
     "text": [
      "Vetor normal: [0 0 0]\n"
     ]
    }
   ],
   "source": [
    "A = np.array([1,2,3])\n",
    "B = np.array([4,5,6])\n",
    "C = np.array([7,8,9])\n",
    "\n",
    "# Cálculo dos vetores direcionais\n",
    "AB = B - A\n",
    "AC = C - A\n",
    "\n",
    "#calculo do produto vetorial para encontrar o vetor normal\n",
    "vetor_normal = np.cross(AB, AC)\n",
    "print(f'Vetor normal: {vetor_normal}')"
   ]
  },
  {
   "cell_type": "markdown",
   "id": "96beb34f",
   "metadata": {},
   "source": [
    "### Exercício 5: Produto Vetorial em Análise de Dados\n",
    "\n",
    "Em um conjunto de dados 3D com pontos p1 = [1, 2, 3], p2 = [4, 5, 6], e p3 = [7, 8, 9], encontre o vetor normal ao plano formado por esses três pontos e interprete seu significado em termos de orientação do plano.\n",
    "\n",
    "Resposta:\n",
    "O vetor normal ao plano definido pelos pontos A = [1, 2, 3], B = [4, 5, 6], e C = [7, 8, 9] resultou em [0, 0, 0]. Isso ocorre porque os pontos A, B, e C são colineares no espaço 3D, ou seja, eles estão alinhados em uma única linha reta. Portanto, não formam um plano distinto no qual um vetor normal único possa ser definido.\n",
    "\n",
    "Em termos geométricos, quando três pontos são colineares, os vetores que os conectam (neste caso, AB e AC) são paralelos ou antiparalelos. O produto vetorial de dois vetores paralelos ou antiparalelos é sempre zero, o que explica o resultado obtido. "
   ]
  }
 ],
 "metadata": {
  "kernelspec": {
   "display_name": "Python 3",
   "language": "python",
   "name": "python3"
  },
  "language_info": {
   "codemirror_mode": {
    "name": "ipython",
    "version": 3
   },
   "file_extension": ".py",
   "mimetype": "text/x-python",
   "name": "python",
   "nbconvert_exporter": "python",
   "pygments_lexer": "ipython3",
   "version": "3.10.12"
  }
 },
 "nbformat": 4,
 "nbformat_minor": 5
}
