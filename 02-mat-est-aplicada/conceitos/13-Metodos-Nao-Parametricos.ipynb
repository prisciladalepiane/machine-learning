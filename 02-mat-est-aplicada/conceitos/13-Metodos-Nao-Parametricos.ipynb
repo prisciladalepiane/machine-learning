{
 "cells": [
  {
   "cell_type": "markdown",
   "id": "c8c01da9",
   "metadata": {},
   "source": [
    "# Métodos Não Paramétricos\n",
    "\n",
    "Neste   capítulo   vamos estudarmétodos estatísticos   não paramétricos, que   são alternativas quando as suposições dos métodos paramétricos não são atendidas.\n",
    "\n",
    "### O que são testes Não Paramétricos?\n",
    "\n",
    "Testes estatísticos não paramétricos são métodos de análise que não assumem uma distribuição específica dos dados, como a normalidade, que é frequentemente uma suposição em testes paramétricos.\n",
    "\n",
    "Eles são particularmente úteis quando você tem dados que não atendem às suposições necessárias para os testes paramétricos, como dados com distribuições desconhecidas, dados ordinais ou dados com muitos valores atípicos.\n",
    "\n",
    "Esses testes são baseados na ordem ou no ranking dos dados, em vez de seus valores exatos. Isso os torna robustos contra desvios de distribuições específicas e minimiza o impacto de outliers.\n",
    "\n",
    "Alguns dos testes não paramétricos mais conhecidos incluem o teste de Wilcoxon, o teste de Mann-Whitney, o teste de Kruskal-Wallis e o teste de Friedman, além do coeficiente de correlação de Spearman. Esses testes são aplicados em diversas situações, como comparar medianas de dois ou mais grupos, testar hipóteses sobre a associação entre variáveis categóricas, entre outras aplicações.\n",
    "\n",
    "## Quando Usar Testes Não Paramétricos?\n",
    "\n",
    "Testes não paramétricos são uma ferramenta estatística essencial que você pode usar em diversas situações onde os testes paramétricos podem não ser adequados. Aqui estão alguns dos principais cenários e considerações para decidir quando usar testes não paramétricos:\n",
    "\n",
    "**1. Distribuição dos Dados**\n",
    "\n",
    "Quando os dados não seguem uma distribuição normal (ou qualquer outra distribuição específica assumida por testes paramétricos), os testes não paramétricos são uma opção viável. Isso é comum com amostras pequenas, onde é difícil verificar a normalidade, ou com dados que são claramente assimétricos ou têm outliers significativos.\n",
    "\n",
    "**2. Tamanho da Amostra**\n",
    "\n",
    "Testes não paramétricos são particularmente úteis em situações com amostras pequenas. Eles não dependem do Teorema Central do Limite, que é a base para muitos testes paramétricos que assumem uma distribuição normal nas amostras maiores. Assim, para amostras pequenas, testes não paramétricos podem fornecer análises mais confiáveis.\n",
    "\n",
    "**3. Nível de Medida dos Dados**\n",
    "\n",
    "Quando os dados são ordinais ou nominais (categóricos), os testes não paramétricos são geralmente necessários, pois os testes paramétricos geralmente requerem dados de intervalo ou de razão (numéricos) que suportem operações aritméticas como média e desvio padrão.\n",
    "\n",
    "**4. Robustez contra Violações de Suposições**\n",
    "\n",
    "Testes não paramétricos não são tão sensíveis a outliers e outros tipos de violações de suposições como homogeneidade de variâncias (homocedasticidade) que são críticas para testes paramétricos. Se você suspeita que seus dados podem violar essas suposições, os testes não paramétricos podem fornecer resultados mais confiáveis.\n",
    "\n",
    "**5. Modelagem de Dados**\n",
    "\n",
    "Em análises onde a forma funcional da relação entre variáveis não é conhecida ou é muito complexa, os métodos não paramétricos podem fornecer modelos flexíveis sem a necessidade de especificar uma forma funcional a priori, como é o caso da regressão não paramétrica (que aplicaremos no Projeto 9 do curso)."
   ]
  },
  {
   "cell_type": "code",
   "execution_count": 3,
   "id": "2a9a48fb",
   "metadata": {},
   "outputs": [],
   "source": [
    "!pip install -q scikit-posthocs"
   ]
  },
  {
   "cell_type": "code",
   "execution_count": 4,
   "id": "4a8f3990",
   "metadata": {},
   "outputs": [],
   "source": [
    "# Imports\n",
    "import numpy as np\n",
    "import pandas as pd\n",
    "import matplotlib.pyplot as plt\n",
    "import scikit_posthocs as sp\n",
    "from scipy.stats import wilcoxon\n",
    "from scipy.stats import mannwhitneyu\n",
    "from scipy.stats import kruskal\n",
    "from scipy.stats import friedmanchisquare\n",
    "from scipy.stats import spearmanr\n",
    "from scipy.stats import shapiro"
   ]
  },
  {
   "cell_type": "markdown",
   "id": "1a73e9e4",
   "metadata": {},
   "source": [
    "## Teste de Wilcoxon\n",
    "\n",
    "O teste de Wilcoxon é uma alternativa não paramétrica ao teste t. Ele é usado para comparar duas amostras relacionadas quando não se pode assumir que a diferença entre as amostras segue uma distribuição normal. \n",
    "\n",
    "Vejamos um exemplo. Temos amostras de tamanhos de plantas antes e depois do uso de fertilizantes. Não conhecemos a distribuição dos dados."
   ]
  },
  {
   "cell_type": "code",
   "execution_count": 18,
   "id": "a04b8cf6",
   "metadata": {},
   "outputs": [],
   "source": [
    "# Gerando dados que não seguem uma distribuição normal\n",
    "\n",
    "# Para reprodutibilidade\n",
    "np.random.seed(297)  \n",
    "\n",
    "# Dados antes de usar fertilizante\n",
    "# Utilizando uma distribuição exponencial, comumente usada para modelar tempos de espera\n",
    "dados_antes = np.random.exponential(scale = 10, size = 10) + 15  \n",
    "\n",
    "# Dados depois de usar fertilizante\n",
    "# Utilizando uma mistura de distribuições para aumentar a assimetria\n",
    "dados_depois = np.concatenate([np.random.exponential(scale = 15, size = 5),  \n",
    "                               np.random.exponential(scale = 5, size = 5)]) + 20  \n",
    "\n",
    "# Adicionando um pequeno ruído para evitar zeros nas diferenças\n",
    "ruido = np.random.normal(0, 0.01, size = dados_antes.shape)\n",
    "dados_depois_modificados = dados_depois + ruido"
   ]
  },
  {
   "cell_type": "code",
   "execution_count": 19,
   "id": "6b3036c8",
   "metadata": {},
   "outputs": [
    {
     "name": "stdout",
     "output_type": "stream",
     "text": [
      "Amostra A - Estatística: 0.7869, p-valor: 0.0101\n",
      "Amostra B- Estatística: 0.6200, p-valor: 0.0001\n"
     ]
    }
   ],
   "source": [
    "# Teste de Shapiro-Wilk para verificar a normalidade\n",
    "stat_A, p_A = shapiro(dados_antes)\n",
    "stat_B, p_B = shapiro(dados_depois_modificados)\n",
    "\n",
    "print(f\"Amostra A - Estatística: {stat_A:.4f}, p-valor: {p_A:.4f}\")\n",
    "print(f\"Amostra B- Estatística: {stat_B:.4f}, p-valor: {p_B:.4f}\")"
   ]
  },
  {
   "cell_type": "code",
   "execution_count": 20,
   "id": "042a2892",
   "metadata": {},
   "outputs": [
    {
     "name": "stdout",
     "output_type": "stream",
     "text": [
      "Há evidências suficientes para rejeitar a hipótese de normalidade para a amostra A.\n",
      "Há evidências suficientes para rejeitar a hipótese de normalidade para a amostra B.\n"
     ]
    }
   ],
   "source": [
    "# Interpretando os resultados do Teste de Shapiro-Wilk\n",
    "\n",
    "nivel_significancia = 0.05\n",
    "\n",
    "if p_A > nivel_significancia:\n",
    "    print(\"Não há evidências suficientes para rejeitar a hipótese de normalidade para a amostra A.\")\n",
    "else:\n",
    "    print(\"Há evidências suficientes para rejeitar a hipótese de normalidade para a amostra A.\")\n",
    "\n",
    "if p_B > nivel_significancia:\n",
    "    print(\"Não há evidências suficientes para rejeitar a hipótese de normalidade para a amostra B.\")\n",
    "else:\n",
    "    print(\"Há evidências suficientes para rejeitar a hipótese de normalidade para a amostra B.\")"
   ]
  },
  {
   "cell_type": "code",
   "execution_count": 21,
   "id": "27aa4fc9",
   "metadata": {},
   "outputs": [],
   "source": [
    "# Aplicação do teste de Wilcoxon\n",
    "stat, p = wilcoxon(dados_antes, dados_depois_modificados)"
   ]
  },
  {
   "cell_type": "markdown",
   "id": "51483ef3",
   "metadata": {},
   "source": [
    "O teste de Wilcoxon testa duas hipóteses sobre as diferenças entre os pares de observações nas duas amostras relacionadas. Aqui estão as hipóteses:\n",
    "\n",
    "**Hipótese Nula (H0)**: Não há diferença mediana entre os pares de grupos. Isso significa que a mediana das diferenças entre os pares de amostras é zero. Em termos mais técnicos, a hipótese nula afirma que a distribuição da diferença entre os pares é simétrica em torno de zero.\n",
    "\n",
    "**Hipótese Alternativa (H1 ou Ha)**: Existe uma diferença mediana entre os pares de grupos. A mediana das diferenças entre os pares de amostras não é zero, indicando que uma das amostras tende a ter valores maiores ou menores que a outra. Esta hipótese pode ser bidirecional (simplesmente indicando que as medianas são diferentes) ou unidirecional (especificando se a mediana da primeira amostra é maior ou menor que a da segunda)."
   ]
  },
  {
   "cell_type": "code",
   "execution_count": 22,
   "id": "12e87327",
   "metadata": {},
   "outputs": [
    {
     "name": "stdout",
     "output_type": "stream",
     "text": [
      "Estatística do Teste: 21.0\n",
      "Valor-p: 0.556640625\n"
     ]
    }
   ],
   "source": [
    "print(\"Estatística do Teste:\", stat)\n",
    "print(\"Valor-p:\", p)"
   ]
  },
  {
   "cell_type": "code",
   "execution_count": null,
   "id": "e1a88960",
   "metadata": {},
   "outputs": [
    {
     "name": "stdout",
     "output_type": "stream",
     "text": [
      "Não há evidências suficientes para rejeitar a hipótese nula (as medianas provavelmente são iguais).\n",
      "Logo, não há diferença significativa no tamanho das amostras.\n"
     ]
    }
   ],
   "source": [
    "# Interpretação do resultado\n",
    "if p > 0.05:\n",
    "    print(\"Não há evidências suficientes para rejeitar a hipótese nula (as medianas provavelmente são iguais).\")\n",
    "    print(\"Logo, não há difSerença significativa no tamanho das amostras.\")\n",
    "else:\n",
    "    print(\"Rejeita-se a hipótese nula (as medianas provavelmente são diferentes).\")"
   ]
  },
  {
   "cell_type": "markdown",
   "id": "ccd35337",
   "metadata": {},
   "source": [
    "## Teste Mann-Whitney\n",
    "\n",
    "O Teste Mann-Whitney, também conhecido como Teste U de Mann-Whitney, é um teste estatístico  não  paramétrico  que  é  utilizado  para  comparar  duas  amostras  independentes.\n",
    "Alternativa a ANOVA.\n",
    "\n",
    "### Exemplo 1\n",
    "\n",
    "Neste exemplo, geramos duas amostras hipotéticas (amostra1 e amostra2) e aplicamos o Teste Mann-Whitney utilizando a função mannwhitneyu da biblioteca SciPy. O resultado inclui a estatística U e o valor-p. O valor-p é utilizado para determinar se há diferença significativa entre as distribuições das duas amostras. \n",
    "\n",
    "Se o valor-p for menor que o nível de significância estabelecido (geralmente 0,05), rejeita-se a hipótese nula e conclui-se que as distribuições das duas amostras são significativamente diferentes. Caso contrário, não se pode rejeitar a hipótese nula.\n",
    "\n",
    "Hipóteses:\n",
    "- H0: Não há diferença significativa entre as distribuições das amostras\n",
    "- H1: As distribuições das amostras são significativamente diferentes"
   ]
  },
  {
   "cell_type": "code",
   "execution_count": 35,
   "id": "3b18245f",
   "metadata": {},
   "outputs": [
    {
     "name": "stdout",
     "output_type": "stream",
     "text": [
      "Estatística U: 38.0\n",
      "Valor-p: 0.5737373737373737\n"
     ]
    }
   ],
   "source": [
    "# Exemplo de duas amostras independentes\n",
    "amostra1 = np.array([3, 5, 7, 9, 11, 15, 18, 21])\n",
    "amostra2 = np.array([1, 4, 6, 8, 10, 12, 14, 16])\n",
    "\n",
    "# Realiza o Teste Mann-Whitney\n",
    "resultado = mannwhitneyu(amostra1, amostra2)\n",
    "\n",
    "# Exibe o resultado\n",
    "print(\"Estatística U:\", resultado.statistic)\n",
    "print(\"Valor-p:\", resultado.pvalue)"
   ]
  },
  {
   "cell_type": "markdown",
   "id": "ffcaf871",
   "metadata": {},
   "source": [
    "**Conclusão:** O valor-p é maior que o nível de significância (0,05), logo falhamos em rejeitar a H0. Não há diferença significativa entre as distribuições das amostras."
   ]
  },
  {
   "cell_type": "markdown",
   "id": "c3ca4c24",
   "metadata": {},
   "source": [
    "### Exemplo 2\n",
    "\n",
    "Neste exemplo, geramos duas amostras com distribuições normais distintas: amostra1 possui média 10 e desvio padrão 3, enquanto amostra 2 possui média 14 e desvio padrão 2.\n",
    "Em seguida, aplicamos o **Teste Mann-Whitney** utilizando a função `mannwhitneyu` e exibimos os resultados.\n",
    "\n",
    "O valor-p resultante do Teste Mann-Whitney pode ser usado para avaliar se as duas amostras têm distribuições significativamente diferentes, considerando um nível de significância pré-estabelecido (como 0,05). Se o valor-p for menor que o nível de significância, rejeita-se a hipótese nula e conclui-se que as distribuições são significativamente diferentes.\n",
    "\n",
    "Hipóteses:\n",
    " - H0: Não há diferença significativa entre as distribuições das amostras\n",
    " - H1: As distribuições das amostras são significativamente diferentes"
   ]
  },
  {
   "cell_type": "code",
   "execution_count": null,
   "id": "5947f621",
   "metadata": {},
   "outputs": [
    {
     "name": "stdout",
     "output_type": "stream",
     "text": [
      "Estatística U: 530.0\n",
      "Valor-p: 5.887908229286127e-09\n"
     ]
    }
   ],
   "source": [
    "# Gera duas amostras com distribuições diferentes\n",
    "np.random.seed(29)\n",
    "amostra1 = np.random.normal(loc = 10, scale = 3, size = 50)\n",
    "amostra2 = np.random.normal(loc = 14, scale = 2, size = 60)\n",
    "\n",
    "# Realiza o Teste Mann-Whitney\n",
    "resultado = mannwhitneyu(amostra1, amostra2)\n",
    "\n",
    "# Exibe o resultado\n",
    "print(\"Estatística U:\", resultado.statistic)\n",
    "print(\"Valor-p:\", resultado.pvalue)"
   ]
  },
  {
   "cell_type": "code",
   "execution_count": 34,
   "id": "5d3a2fbf",
   "metadata": {},
   "outputs": [
    {
     "data": {
      "image/png": "[encoded data removed]",
      "text/plain": [
       "<Figure size 640x480 with 1 Axes>"
      ]
     },
     "metadata": {},
     "output_type": "display_data"
    }
   ],
   "source": [
    "# Visualiza as distribuições das amostras\n",
    "plt.hist(amostra1, bins = 10, alpha = 0.5, label = \"Amostra 1\")\n",
    "plt.hist(amostra2, bins = 10, alpha = 0.5, label = \"Amostra 2\")\n",
    "plt.xlabel(\"Valores\")\n",
    "plt.ylabel(\"Frequência\")\n",
    "plt.legend(loc=\"upper right\")\n",
    "plt.show()"
   ]
  },
  {
   "cell_type": "markdown",
   "id": "65ec5ef8",
   "metadata": {},
   "source": [
    "**Conclusão:** O valor-p é menor que o nível de significância, logo podemos rejeitar a H0. As distribuições das amostras são significativamente diferentes."
   ]
  },
  {
   "cell_type": "markdown",
   "id": "63b39482",
   "metadata": {},
   "source": [
    "## Teste Kruskal-Wallis\n",
    "\n",
    "O teste de Kruskal-Wallis é um exemplo de teste não paramétrico usado como alternativa à ANOVA. Ele compara as distribuições de três ou mais grupos independentes, semelhante ao teste de Mann-Whitney. O teste de Kruskal-Wallis não assume normalidade dos dados nem homocedasticidade, tornando-se uma opção mais robusta em comparação à ANOVA quando as suposições não são atendidas.\n",
    "\n",
    "### Exemplo 1\n",
    "\n",
    "Neste exemplo, utilizamos três amostras hipotéticas e aplicamos o Teste de Kruskal-Wallis usando a função kruskal da biblioteca SciPy. O resultado inclui a estatística H e o valor-p. O valor-p é utilizado para determinar se há diferença significativa entre as distribuições das amostras. Se o valor-p for menor que o nível de significância estabelecido (geralmente 0,05), rejeita-se a hipótese nula e conclui-se que as distribuições das amostras são significativamente diferentes. Caso contrário, não se pode rejeitar a hipótese nula.\n",
    "\n",
    "Hipóteses:\n",
    " - H0: Não há diferença significativa entre as distribuições das amostras\n",
    " - H1: As distribuições das amostras são significativamente diferentes"
   ]
  },
  {
   "cell_type": "code",
   "execution_count": 36,
   "id": "ec306120",
   "metadata": {},
   "outputs": [
    {
     "name": "stdout",
     "output_type": "stream",
     "text": [
      "Estatística H: 0.48584494773519105\n",
      "Valor-p: 0.784332317665689\n"
     ]
    }
   ],
   "source": [
    "# Exemplo de três amostras independentes\n",
    "amostra1 = np.array([3, 5, 7, 9, 11, 15, 18, 21])\n",
    "amostra2 = np.array([1, 4, 6, 8, 10, 12, 14, 16])\n",
    "amostra3 = np.array([2, 3, 5, 7, 11, 13, 17, 19])\n",
    "\n",
    "# Realiza o Teste de Kruskal-Wallis\n",
    "resultado = kruskal(amostra1, amostra2, amostra3)\n",
    "\n",
    "# Exibe o resultado\n",
    "print(\"Estatística H:\", resultado.statistic)\n",
    "print(\"Valor-p:\", resultado.pvalue)"
   ]
  },
  {
   "cell_type": "markdown",
   "id": "999a8661",
   "metadata": {},
   "source": [
    "**Conclusão:** O valor-p é maior que o nível de significância, logo não podemos rejeitar a H0. Não há diferença significativa entre as distribuições das amostras."
   ]
  },
  {
   "cell_type": "markdown",
   "id": "190380bf",
   "metadata": {},
   "source": [
    "### Exemplo 2\n",
    "\n",
    "Neste exemplo, geramos três amostras com distribuições normais distintas: amostra1 possui média 10 e desvio padrão 3, amostra2 possui média 15 e desvio padrão 2, e amostra3 possui média 18 e desvio padrão 4. Em seguida, aplicamos o Teste de Kruskal-Wallis utilizando a função kruskal e exibimos os resultados.\n",
    "\n",
    "Além disso, usamos a biblioteca Matplotlib para criar um histograma das três amostras, a fim de visualizar as distribuições e verificar se são distintas.\n",
    "\n",
    "O valor-p resultante do Teste de Kruskal-Wallis pode ser usado para avaliar se as três amostras têm distribuições significativamente diferentes, considerando um nível de significância preestabelecido (como 0,05). Se o valor-p for menor que o nível de significância, rejeita-se a hipótese nula e conclui-se que as distribuições são significativamente diferentes."
   ]
  },
  {
   "cell_type": "code",
   "execution_count": 37,
   "id": "e39c6231",
   "metadata": {},
   "outputs": [
    {
     "name": "stdout",
     "output_type": "stream",
     "text": [
      "Estatística H: 46.29962264150947\n",
      "Valor-p: 8.834148315319018e-11\n"
     ]
    },
    {
     "data": {
      "image/png": "[encoded data removed]",
      "text/plain": [
       "<Figure size 640x480 with 1 Axes>"
      ]
     },
     "metadata": {},
     "output_type": "display_data"
    }
   ],
   "source": [
    "# Gera três amostras com distribuições diferentes\n",
    "np.random.seed(29)\n",
    "amostra1 = np.random.normal(loc = 10, scale = 3, size = 30)\n",
    "amostra2 = np.random.normal(loc = 15, scale = 2, size = 35)\n",
    "amostra3 = np.random.normal(loc = 18, scale = 4, size = 40)\n",
    "\n",
    "# Realiza o Teste de Kruskal-Wallis\n",
    "resultado = kruskal(amostra1, amostra2, amostra3)\n",
    "\n",
    "# Exibe o resultado\n",
    "print(\"Estatística H:\", resultado.statistic)\n",
    "print(\"Valor-p:\", resultado.pvalue)\n",
    "\n",
    "# Visualiza as distribuições das amostras\n",
    "plt.hist(amostra1, bins = 10, alpha = 0.5, label = \"Amostra 1\")\n",
    "plt.hist(amostra2, bins = 10, alpha = 0.5, label = \"Amostra 2\")\n",
    "plt.hist(amostra3, bins = 10, alpha = 0.5, label = \"Amostra 3\")\n",
    "plt.xlabel(\"Valores\")\n",
    "plt.ylabel(\"Frequência\")\n",
    "plt.legend(loc = \"upper right\")\n",
    "plt.show()"
   ]
  },
  {
   "cell_type": "markdown",
   "id": "bf429f2f",
   "metadata": {},
   "source": [
    "**Conclusão 2:** O valor-p é menor que o nível de significância, logo podemos rejeitar a H0. As distribuições das amostras, provavelmente, são diferentes."
   ]
  },
  {
   "cell_type": "markdown",
   "id": "cc608ff3",
   "metadata": {},
   "source": [
    "## Teste de Dunn\n",
    "\n",
    "O teste de Dunn é um teste estatístico não paramétrico usado para análise post-hoc após um teste de Kruskal-Wallis. Quando o teste de Kruskal-Wallis rejeita a hipótese nula, indicando diferenças significativas entre três ou mais grupos, o teste de Dunn é usado para identificar quais pares de grupos têm diferenças significativas. O teste de Dunn é uma alternativa ao teste de comparações múltiplas de Tukey (HSD) usado na análise post-hoc após ANOVA.\n",
    "\n",
    "### Exemplo\n",
    "\n",
    "Neste exemplo, geramos três amostras com distribuições normais distintas e realizamos o Teste de Kruskal-Wallis. Se o resultado do Teste de Kruskal-Wallis rejeitar a hipótese nula (valor-p < 0,05), prosseguimos com o Teste de Dunn usando a função posthoc_dunn da biblioteca scikit-posthocs.\n",
    "\n",
    "O resultado do teste de Dunn é uma matriz que mostra os valores-p corrigidos para cada par de comparações entre os grupos. A correção de Bonferroni é aplicada para ajustar os valores-p, levando em consideração o problema das comparações múltiplas. Se o valor-p corrigido para uma comparação específica for menor que o nível de significância estabelecido (geralmente 0,05), conclui-se que há uma diferença."
   ]
  },
  {
   "cell_type": "code",
   "execution_count": 39,
   "id": "b2b9d78d",
   "metadata": {},
   "outputs": [
    {
     "name": "stdout",
     "output_type": "stream",
     "text": [
      "Estatística H: 64.19345911949694\n",
      "Valor-p: 1.1496548215758738e-14\n",
      "\n",
      "Resultados do Teste de Dunn:\n",
      "              Amostra 1  Amostra 2     Amostra 3\n",
      "Amostra 1  1.000000e+00   0.000013  3.446265e-15\n",
      "Amostra 2  1.258889e-05   1.000000  1.935620e-03\n",
      "Amostra 3  3.446265e-15   0.001936  1.000000e+00\n"
     ]
    }
   ],
   "source": [
    "# Gera três amostras com distribuições diferentes\n",
    "np.random.seed(42)\n",
    "amostra1 = np.random.normal(loc = 10, scale = 3, size = 30)\n",
    "amostra2 = np.random.normal(loc = 15, scale = 2, size = 35)\n",
    "amostra3 = np.random.normal(loc = 18, scale = 4, size = 40)\n",
    "\n",
    "# Realiza o Teste de Kruskal-Wallis\n",
    "resultado = kruskal(amostra1, amostra2, amostra3)\n",
    "print(\"Estatística H:\", resultado.statistic)\n",
    "print(\"Valor-p:\", resultado.pvalue)\n",
    "\n",
    "# Se o Teste de Kruskal-Wallis rejeitar a hipótese nula, realiza o Teste de Dunn\n",
    "if resultado.pvalue < 0.05:\n",
    "    \n",
    "    # Combina as amostras em um único DataFrame\n",
    "    df1 = pd.DataFrame({\"Valores\": amostra1, \"Grupo\": \"Amostra 1\"})\n",
    "    df2 = pd.DataFrame({\"Valores\": amostra2, \"Grupo\": \"Amostra 2\"})\n",
    "    df3 = pd.DataFrame({\"Valores\": amostra3, \"Grupo\": \"Amostra 3\"})\n",
    "    dados = pd.concat([df1, df2, df3])\n",
    "\n",
    "    # Realiza o Teste de Dunn\n",
    "    resultado_dunn = sp.posthoc_dunn(dados, val_col = \"Valores\", group_col = \"Grupo\", p_adjust = \"bonferroni\")\n",
    "    print(\"\\nResultados do Teste de Dunn:\")\n",
    "    print(resultado_dunn)"
   ]
  },
  {
   "cell_type": "markdown",
   "id": "142c1607",
   "metadata": {},
   "source": [
    "O Teste de Dunn avalia as seguintes hipóteses para cada par de grupos:\n",
    "\n",
    "- Hipótese Nula (H0): A mediana dos dois grupos sendo comparados é igual. Não há diferença significativa entre os grupos.\n",
    "- Hipótese Alternativa (H1): A mediana dos dois grupos não é igual. Há uma diferença significativa entre os grupos.\n",
    "\n",
    "Interpretação:\n",
    "\n",
    "- Amostra 1 vs Amostra 2: Rejeitamos a H0. O valor-p indica que há uma diferença significativa entre as medianas da Amostra 1 e da Amostra 2.\n",
    "\n",
    "- Amostra 1 vs Amostra 3: Rejeitamos a H0. O valor-p é extremamente baixo, indicando uma diferença altamente significativa entre as medianas da Amostra 1 e da Amostra 3.\n",
    "\n",
    "- Amostra 2 vs Amostra 3: Rejeitamos a H0. O valor-p também sugere uma diferença significativa entre as medianas da Amostra 2 e da Amostra 3.\n",
    "\n",
    "Portanto, todas as comparações entre os grupos mostraram diferenças significativas entre suas medianas, com os valores-p muito abaixo do nível típico de significância (0.05), mesmo após o ajuste de Bonferroni. Isso confirma que as diferenças observadas no Teste de Kruskal-Wallis são estatisticamente robustas e que cada grupo tem uma mediana distinta dos outros.\n",
    "\n",
    "Nota: O ajuste de Bonferroni é uma técnica usada em estatística para controlar o problema do aumento da taxa de erro do tipo I que ocorre quando múltiplos testes de hipóteses são realizados simultaneamente. O erro do tipo I acontece quando uma hipótese nula verdadeira é incorretamente rejeitada, isto é, quando se conclui que existe um efeito quando, na verdade, ele não existe."
   ]
  }
 ],
 "metadata": {
  "kernelspec": {
   "display_name": "Python 3",
   "language": "python",
   "name": "python3"
  },
  "language_info": {
   "codemirror_mode": {
    "name": "ipython",
    "version": 3
   },
   "file_extension": ".py",
   "mimetype": "text/x-python",
   "name": "python",
   "nbconvert_exporter": "python",
   "pygments_lexer": "ipython3",
   "version": "3.10.12"
  }
 },
 "nbformat": 4,
 "nbformat_minor": 5
}
