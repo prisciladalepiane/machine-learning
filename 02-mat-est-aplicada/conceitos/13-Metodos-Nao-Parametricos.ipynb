{
 "cells": [
  {
   "cell_type": "markdown",
   "id": "c8c01da9",
   "metadata": {},
   "source": [
    "# Métodos Não Paramétricos\n",
    "\n",
    "Neste   capítulo   vamos estudarmétodos estatísticos   não paramétricos, que   são alternativas quando as suposições dos métodos paramétricos não são atendidas.\n",
    "\n",
    "### O que são testes Não Paramétricos?\n",
    "\n",
    "Testes estatísticos não paramétricos são métodos de análise que não assumem uma distribuição específica dos dados, como a normalidade, que é frequentemente uma suposição em testes paramétricos.\n",
    "\n",
    "Eles são particularmente úteis quando você tem dados que não atendem às suposições necessárias para os testes paramétricos, como dados com distribuições desconhecidas, dados ordinais ou dados com muitos valores atípicos.\n",
    "\n",
    "\n",
    "\n",
    "Esses testes são baseados na ordem ou no ranking dos dados, em vez de seus valores exatos. Isso os torna robustos contra desvios de distribuições específicas e minimiza o impacto de outliers.\n",
    "\n",
    "Alguns dos testes não paramétricos mais conhecidos incluem o teste de Wilcoxon, o teste de Mann-Whitney, o teste de Kruskal-Wallis e o teste de Friedman, além do coeficiente de correlação de Spearman. Esses testes são aplicados em diversas situações, como comparar medianas de dois ou mais grupos, testar hipóteses sobre a associação entre variáveis categóricas, entre outras aplicações."
   ]
  }
 ],
 "metadata": {
  "language_info": {
   "name": "python"
  }
 },
 "nbformat": 4,
 "nbformat_minor": 5
}
