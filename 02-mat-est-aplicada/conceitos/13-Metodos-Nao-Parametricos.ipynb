{
 "cells": [
  {
   "cell_type": "markdown",
   "id": "c8c01da9",
   "metadata": {},
   "source": [
    "# Métodos Não Paramétricos\n",
    "\n",
    "Neste   capítulo   vamos estudarmétodos estatísticos   não paramétricos, que   são alternativas quando as suposições dos métodos paramétricos não são atendidas.\n",
    "\n",
    "### O que são testes Não Paramétricos?\n",
    "\n",
    "Testes estatísticos não paramétricos são métodos de análise que não assumem uma distribuição específica dos dados, como a normalidade, que é frequentemente uma suposição em testes paramétricos.\n",
    "\n",
    "Eles são particularmente úteis quando você tem dados que não atendem às suposições necessárias para os testes paramétricos, como dados com distribuições desconhecidas, dados ordinais ou dados com muitos valores atípicos.\n",
    "\n",
    "Esses testes são baseados na ordem ou no ranking dos dados, em vez de seus valores exatos. Isso os torna robustos contra desvios de distribuições específicas e minimiza o impacto de outliers.\n",
    "\n",
    "Alguns dos testes não paramétricos mais conhecidos incluem o teste de Wilcoxon, o teste de Mann-Whitney, o teste de Kruskal-Wallis e o teste de Friedman, além do coeficiente de correlação de Spearman. Esses testes são aplicados em diversas situações, como comparar medianas de dois ou mais grupos, testar hipóteses sobre a associação entre variáveis categóricas, entre outras aplicações.\n",
    "\n",
    "## Quando Usar Testes Não Paramétricos?\n",
    "\n",
    "Testes não paramétricos são uma ferramenta estatística essencial que você pode usar em diversas situações onde os testes paramétricos podem não ser adequados. Aqui estão alguns dos principais cenários e considerações para decidir quando usar testes não paramétricos:\n",
    "\n",
    "**1. Distribuição dos Dados**\n",
    "\n",
    "Quando os dados não seguem uma distribuição normal (ou qualquer outra distribuição específica assumida por testes paramétricos), os testes não paramétricos são uma opção viável. Isso é comum com amostras pequenas, onde é difícil verificar a normalidade, ou com dados que são claramente assimétricos ou têm outliers significativos.\n",
    "\n",
    "**2. Tamanho da Amostra**\n",
    "\n",
    "Testes não paramétricos são particularmente úteis em situações com amostras pequenas. Eles não dependem do Teorema Central do Limite, que é a base para muitos testes paramétricos que assumem uma distribuição normal nas amostras maiores. Assim, para amostras pequenas, testes não paramétricos podem fornecer análises mais confiáveis.\n",
    "\n",
    "**3. Nível de Medida dos Dados**\n",
    "\n",
    "Quando os dados são ordinais ou nominais (categóricos), os testes não paramétricos são geralmente necessários, pois os testes paramétricos geralmente requerem dados de intervalo ou de razão (numéricos) que suportem operações aritméticas como média e desvio padrão.\n",
    "\n",
    "**4. Robustez contra Violações de Suposições**\n",
    "\n",
    "Testes não paramétricos não são tão sensíveis a outliers e outros tipos de violações de suposições como homogeneidade de variâncias (homocedasticidade) que são críticas para testes paramétricos. Se você suspeita que seus dados podem violar essas suposições, os testes não paramétricos podem fornecer resultados mais confiáveis.\n",
    "\n",
    "**5. Modelagem de Dados**\n",
    "\n",
    "Em análises onde a forma funcional da relação entre variáveis não é conhecida ou é muito complexa, os métodos não paramétricos podem fornecer modelos flexíveis sem a necessidade de especificar uma forma funcional a priori, como é o caso da regressão não paramétrica (que aplicaremos no Projeto 9 do curso)."
   ]
  },
  {
   "cell_type": "code",
   "execution_count": 3,
   "id": "2a9a48fb",
   "metadata": {},
   "outputs": [],
   "source": [
    "!pip install -q scikit-posthocs"
   ]
  },
  {
   "cell_type": "code",
   "execution_count": 4,
   "id": "4a8f3990",
   "metadata": {},
   "outputs": [],
   "source": [
    "# Imports\n",
    "import numpy as np\n",
    "import pandas as pd\n",
    "import matplotlib.pyplot as plt\n",
    "import scikit_posthocs as sp\n",
    "from scipy.stats import wilcoxon\n",
    "from scipy.stats import mannwhitneyu\n",
    "from scipy.stats import kruskal\n",
    "from scipy.stats import friedmanchisquare\n",
    "from scipy.stats import spearmanr\n",
    "from scipy.stats import shapiro"
   ]
  },
  {
   "cell_type": "markdown",
   "id": "1a73e9e4",
   "metadata": {},
   "source": [
    "## Teste de Wilcoxon\n",
    "\n",
    "O teste de Wilcoxon é uma alternativa não paramétrica ao teste t. Ele é usado para comparar duas amostras relacionadas quando não se pode assumir que a diferença entre as amostras segue uma distribuição normal. \n",
    "\n",
    "Vejamos um exemplo. Temos amostras de tamanhos de plantas antes e depois do uso de fertilizantes. Não conhecemos a distribuição dos dados."
   ]
  },
  {
   "cell_type": "code",
   "execution_count": 18,
   "id": "a04b8cf6",
   "metadata": {},
   "outputs": [],
   "source": [
    "# Gerando dados que não seguem uma distribuição normal\n",
    "\n",
    "# Para reprodutibilidade\n",
    "np.random.seed(297)  \n",
    "\n",
    "# Dados antes de usar fertilizante\n",
    "# Utilizando uma distribuição exponencial, comumente usada para modelar tempos de espera\n",
    "dados_antes = np.random.exponential(scale = 10, size = 10) + 15  \n",
    "\n",
    "# Dados depois de usar fertilizante\n",
    "# Utilizando uma mistura de distribuições para aumentar a assimetria\n",
    "dados_depois = np.concatenate([np.random.exponential(scale = 15, size = 5),  \n",
    "                               np.random.exponential(scale = 5, size = 5)]) + 20  \n",
    "\n",
    "# Adicionando um pequeno ruído para evitar zeros nas diferenças\n",
    "ruido = np.random.normal(0, 0.01, size = dados_antes.shape)\n",
    "dados_depois_modificados = dados_depois + ruido"
   ]
  },
  {
   "cell_type": "code",
   "execution_count": 19,
   "id": "6b3036c8",
   "metadata": {},
   "outputs": [
    {
     "name": "stdout",
     "output_type": "stream",
     "text": [
      "Amostra A - Estatística: 0.7869, p-valor: 0.0101\n",
      "Amostra B- Estatística: 0.6200, p-valor: 0.0001\n"
     ]
    }
   ],
   "source": [
    "# Teste de Shapiro-Wilk para verificar a normalidade\n",
    "stat_A, p_A = shapiro(dados_antes)\n",
    "stat_B, p_B = shapiro(dados_depois_modificados)\n",
    "\n",
    "print(f\"Amostra A - Estatística: {stat_A:.4f}, p-valor: {p_A:.4f}\")\n",
    "print(f\"Amostra B- Estatística: {stat_B:.4f}, p-valor: {p_B:.4f}\")"
   ]
  },
  {
   "cell_type": "code",
   "execution_count": 20,
   "id": "042a2892",
   "metadata": {},
   "outputs": [
    {
     "name": "stdout",
     "output_type": "stream",
     "text": [
      "Há evidências suficientes para rejeitar a hipótese de normalidade para a amostra A.\n",
      "Há evidências suficientes para rejeitar a hipótese de normalidade para a amostra B.\n"
     ]
    }
   ],
   "source": [
    "# Interpretando os resultados do Teste de Shapiro-Wilk\n",
    "\n",
    "nivel_significancia = 0.05\n",
    "\n",
    "if p_A > nivel_significancia:\n",
    "    print(\"Não há evidências suficientes para rejeitar a hipótese de normalidade para a amostra A.\")\n",
    "else:\n",
    "    print(\"Há evidências suficientes para rejeitar a hipótese de normalidade para a amostra A.\")\n",
    "\n",
    "if p_B > nivel_significancia:\n",
    "    print(\"Não há evidências suficientes para rejeitar a hipótese de normalidade para a amostra B.\")\n",
    "else:\n",
    "    print(\"Há evidências suficientes para rejeitar a hipótese de normalidade para a amostra B.\")"
   ]
  },
  {
   "cell_type": "code",
   "execution_count": 21,
   "id": "27aa4fc9",
   "metadata": {},
   "outputs": [],
   "source": [
    "# Aplicação do teste de Wilcoxon\n",
    "stat, p = wilcoxon(dados_antes, dados_depois_modificados)"
   ]
  },
  {
   "cell_type": "markdown",
   "id": "51483ef3",
   "metadata": {},
   "source": [
    "O teste de Wilcoxon testa duas hipóteses sobre as diferenças entre os pares de observações nas duas amostras relacionadas. Aqui estão as hipóteses:\n",
    "\n",
    "**Hipótese Nula (H0)**: Não há diferença mediana entre os pares de grupos. Isso significa que a mediana das diferenças entre os pares de amostras é zero. Em termos mais técnicos, a hipótese nula afirma que a distribuição da diferença entre os pares é simétrica em torno de zero.\n",
    "\n",
    "**Hipótese Alternativa (H1 ou Ha)**: Existe uma diferença mediana entre os pares de grupos. A mediana das diferenças entre os pares de amostras não é zero, indicando que uma das amostras tende a ter valores maiores ou menores que a outra. Esta hipótese pode ser bidirecional (simplesmente indicando que as medianas são diferentes) ou unidirecional (especificando se a mediana da primeira amostra é maior ou menor que a da segunda)."
   ]
  },
  {
   "cell_type": "code",
   "execution_count": 22,
   "id": "12e87327",
   "metadata": {},
   "outputs": [
    {
     "name": "stdout",
     "output_type": "stream",
     "text": [
      "Estatística do Teste: 21.0\n",
      "Valor-p: 0.556640625\n"
     ]
    }
   ],
   "source": [
    "print(\"Estatística do Teste:\", stat)\n",
    "print(\"Valor-p:\", p)"
   ]
  },
  {
   "cell_type": "code",
   "execution_count": 24,
   "id": "e1a88960",
   "metadata": {},
   "outputs": [
    {
     "name": "stdout",
     "output_type": "stream",
     "text": [
      "Não há evidências suficientes para rejeitar a hipótese nula (as medianas provavelmente são iguais).\n",
      "Logo, não há diferença significativa no tamanho das amostras.\n"
     ]
    }
   ],
   "source": [
    "# Interpretação do resultado\n",
    "if p > 0.05:\n",
    "    print(\"Não há evidências suficientes para rejeitar a hipótese nula (as medianas provavelmente são iguais).\")\n",
    "    print(\"Logo, não há diferença significativa no tamanho das amostras.\")\n",
    "else:\n",
    "    print(\"Rejeita-se a hipótese nula (as medianas provavelmente são diferentes).\")"
   ]
  }
 ],
 "metadata": {
  "kernelspec": {
   "display_name": "Python 3",
   "language": "python",
   "name": "python3"
  },
  "language_info": {
   "codemirror_mode": {
    "name": "ipython",
    "version": 3
   },
   "file_extension": ".py",
   "mimetype": "text/x-python",
   "name": "python",
   "nbconvert_exporter": "python",
   "pygments_lexer": "ipython3",
   "version": "3.10.12"
  }
 },
 "nbformat": 4,
 "nbformat_minor": 5
}
