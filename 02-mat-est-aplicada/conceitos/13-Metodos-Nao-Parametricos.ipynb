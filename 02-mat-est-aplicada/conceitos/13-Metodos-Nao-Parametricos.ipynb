{
 "cells": [
  {
   "cell_type": "markdown",
   "id": "c8c01da9",
   "metadata": {},
   "source": [
    "# Métodos Não Paramétricos\n",
    "\n",
    "Neste   capítulo   vamos estudarmétodos estatísticos   não paramétricos, que   são alternativas quando as suposições dos métodos paramétricos não são atendidas.\n",
    "\n",
    "### O que são testes Não Paramétricos?\n",
    "\n",
    "Testes estatísticos não paramétricos são métodos de análise que não assumem uma distribuição específica dos dados, como a normalidade, que é frequentemente uma suposição em testes paramétricos.\n",
    "\n",
    "Eles são particularmente úteis quando você tem dados que não atendem às suposições necessárias para os testes paramétricos, como dados com distribuições desconhecidas, dados ordinais ou dados com muitos valores atípicos.\n",
    "\n",
    "Esses testes são baseados na ordem ou no ranking dos dados, em vez de seus valores exatos. Isso os torna robustos contra desvios de distribuições específicas e minimiza o impacto de outliers.\n",
    "\n",
    "Alguns dos testes não paramétricos mais conhecidos incluem o teste de Wilcoxon, o teste de Mann-Whitney, o teste de Kruskal-Wallis e o teste de Friedman, além do coeficiente de correlação de Spearman. Esses testes são aplicados em diversas situações, como comparar medianas de dois ou mais grupos, testar hipóteses sobre a associação entre variáveis categóricas, entre outras aplicações.\n",
    "\n",
    "## Quando Usar Testes Não Paramétricos?\n",
    "\n",
    "Testes não paramétricos são uma ferramenta estatística essencial que você pode usar em diversas situações onde os testes paramétricos podem não ser adequados. Aqui estão alguns dos principais cenários e considerações para decidir quando usar testes não paramétricos:\n",
    "\n",
    "**1. Distribuição dos Dados**\n",
    "\n",
    "Quando os dados não seguem uma distribuição normal (ou qualquer outra distribuição específica assumida por testes paramétricos), os testes não paramétricos são uma opção viável. Isso é comum com amostras pequenas, onde é difícil verificar a normalidade, ou com dados que são claramente assimétricos ou têm outliers significativos.\n",
    "\n",
    "**2. Tamanho da Amostra**\n",
    "\n",
    "Testes não paramétricos são particularmente úteis em situações com amostras pequenas. Eles não dependem do Teorema Central do Limite, que é a base para muitos testes paramétricos que assumem uma distribuição normal nas amostras maiores. Assim, para amostras pequenas, testes não paramétricos podem fornecer análises mais confiáveis.\n",
    "\n",
    "**3. Nível de Medida dos Dados**\n",
    "\n",
    "Quando os dados são ordinais ou nominais (categóricos), os testes não paramétricos são geralmente necessários, pois os testes paramétricos geralmente requerem dados de intervalo ou de razão (numéricos) que suportem operações aritméticas como média e desvio padrão.\n",
    "\n",
    "**4. Robustez contra Violações de Suposições**\n",
    "\n",
    "Testes não paramétricos não são tão sensíveis a outliers e outros tipos de violações de suposições como homogeneidade de variâncias (homocedasticidade) que são críticas para testes paramétricos. Se você suspeita que seus dados podem violar essas suposições, os testes não paramétricos podem fornecer resultados mais confiáveis.\n",
    "\n",
    "**5. Modelagem de Dados**\n",
    "\n",
    "Em análises onde a forma funcional da relação entre variáveis não é conhecida ou é muito complexa, os métodos não paramétricos podem fornecer modelos flexíveis sem a necessidade de especificar uma forma funcional a priori, como é o caso da regressão não paramétrica (que aplicaremos no Projeto 9 do curso)."
   ]
  },
  {
   "cell_type": "code",
   "execution_count": 3,
   "id": "2a9a48fb",
   "metadata": {},
   "outputs": [],
   "source": [
    "!pip install -q scikit-posthocs"
   ]
  },
  {
   "cell_type": "code",
   "execution_count": 4,
   "id": "4a8f3990",
   "metadata": {},
   "outputs": [],
   "source": [
    "# Imports\n",
    "import numpy as np\n",
    "import pandas as pd\n",
    "import matplotlib.pyplot as plt\n",
    "import scikit_posthocs as sp\n",
    "from scipy.stats import wilcoxon\n",
    "from scipy.stats import mannwhitneyu\n",
    "from scipy.stats import kruskal\n",
    "from scipy.stats import friedmanchisquare\n",
    "from scipy.stats import spearmanr\n",
    "from scipy.stats import shapiro"
   ]
  },
  {
   "cell_type": "markdown",
   "id": "1a73e9e4",
   "metadata": {},
   "source": [
    "## Teste de Wilcoxon\n",
    "\n",
    "O teste de Wilcoxon é uma alternativa não paramétrica ao teste t. Ele é usado para comparar duas amostras relacionadas quando não se pode assumir que a diferença entre as amostras segue uma distribuição normal. \n",
    "\n",
    "Vejamos um exemplo. Temos amostras de tamanhos de plantas antes e depois do uso de fertilizantes. Não conhecemos a distribuição dos dados."
   ]
  },
  {
   "cell_type": "code",
   "execution_count": 18,
   "id": "a04b8cf6",
   "metadata": {},
   "outputs": [],
   "source": [
    "# Gerando dados que não seguem uma distribuição normal\n",
    "\n",
    "# Para reprodutibilidade\n",
    "np.random.seed(297)  \n",
    "\n",
    "# Dados antes de usar fertilizante\n",
    "# Utilizando uma distribuição exponencial, comumente usada para modelar tempos de espera\n",
    "dados_antes = np.random.exponential(scale = 10, size = 10) + 15  \n",
    "\n",
    "# Dados depois de usar fertilizante\n",
    "# Utilizando uma mistura de distribuições para aumentar a assimetria\n",
    "dados_depois = np.concatenate([np.random.exponential(scale = 15, size = 5),  \n",
    "                               np.random.exponential(scale = 5, size = 5)]) + 20  \n",
    "\n",
    "# Adicionando um pequeno ruído para evitar zeros nas diferenças\n",
    "ruido = np.random.normal(0, 0.01, size = dados_antes.shape)\n",
    "dados_depois_modificados = dados_depois + ruido"
   ]
  },
  {
   "cell_type": "code",
   "execution_count": 19,
   "id": "6b3036c8",
   "metadata": {},
   "outputs": [
    {
     "name": "stdout",
     "output_type": "stream",
     "text": [
      "Amostra A - Estatística: 0.7869, p-valor: 0.0101\n",
      "Amostra B- Estatística: 0.6200, p-valor: 0.0001\n"
     ]
    }
   ],
   "source": [
    "# Teste de Shapiro-Wilk para verificar a normalidade\n",
    "stat_A, p_A = shapiro(dados_antes)\n",
    "stat_B, p_B = shapiro(dados_depois_modificados)\n",
    "\n",
    "print(f\"Amostra A - Estatística: {stat_A:.4f}, p-valor: {p_A:.4f}\")\n",
    "print(f\"Amostra B- Estatística: {stat_B:.4f}, p-valor: {p_B:.4f}\")"
   ]
  },
  {
   "cell_type": "code",
   "execution_count": 20,
   "id": "042a2892",
   "metadata": {},
   "outputs": [
    {
     "name": "stdout",
     "output_type": "stream",
     "text": [
      "Há evidências suficientes para rejeitar a hipótese de normalidade para a amostra A.\n",
      "Há evidências suficientes para rejeitar a hipótese de normalidade para a amostra B.\n"
     ]
    }
   ],
   "source": [
    "# Interpretando os resultados do Teste de Shapiro-Wilk\n",
    "\n",
    "nivel_significancia = 0.05\n",
    "\n",
    "if p_A > nivel_significancia:\n",
    "    print(\"Não há evidências suficientes para rejeitar a hipótese de normalidade para a amostra A.\")\n",
    "else:\n",
    "    print(\"Há evidências suficientes para rejeitar a hipótese de normalidade para a amostra A.\")\n",
    "\n",
    "if p_B > nivel_significancia:\n",
    "    print(\"Não há evidências suficientes para rejeitar a hipótese de normalidade para a amostra B.\")\n",
    "else:\n",
    "    print(\"Há evidências suficientes para rejeitar a hipótese de normalidade para a amostra B.\")"
   ]
  },
  {
   "cell_type": "code",
   "execution_count": 21,
   "id": "27aa4fc9",
   "metadata": {},
   "outputs": [],
   "source": [
    "# Aplicação do teste de Wilcoxon\n",
    "stat, p = wilcoxon(dados_antes, dados_depois_modificados)"
   ]
  },
  {
   "cell_type": "markdown",
   "id": "51483ef3",
   "metadata": {},
   "source": [
    "O teste de Wilcoxon testa duas hipóteses sobre as diferenças entre os pares de observações nas duas amostras relacionadas. Aqui estão as hipóteses:\n",
    "\n",
    "**Hipótese Nula (H0)**: Não há diferença mediana entre os pares de grupos. Isso significa que a mediana das diferenças entre os pares de amostras é zero. Em termos mais técnicos, a hipótese nula afirma que a distribuição da diferença entre os pares é simétrica em torno de zero.\n",
    "\n",
    "**Hipótese Alternativa (H1 ou Ha)**: Existe uma diferença mediana entre os pares de grupos. A mediana das diferenças entre os pares de amostras não é zero, indicando que uma das amostras tende a ter valores maiores ou menores que a outra. Esta hipótese pode ser bidirecional (simplesmente indicando que as medianas são diferentes) ou unidirecional (especificando se a mediana da primeira amostra é maior ou menor que a da segunda)."
   ]
  },
  {
   "cell_type": "code",
   "execution_count": 22,
   "id": "12e87327",
   "metadata": {},
   "outputs": [
    {
     "name": "stdout",
     "output_type": "stream",
     "text": [
      "Estatística do Teste: 21.0\n",
      "Valor-p: 0.556640625\n"
     ]
    }
   ],
   "source": [
    "print(\"Estatística do Teste:\", stat)\n",
    "print(\"Valor-p:\", p)"
   ]
  },
  {
   "cell_type": "code",
   "execution_count": 24,
   "id": "e1a88960",
   "metadata": {},
   "outputs": [
    {
     "name": "stdout",
     "output_type": "stream",
     "text": [
      "Não há evidências suficientes para rejeitar a hipótese nula (as medianas provavelmente são iguais).\n",
      "Logo, não há diferença significativa no tamanho das amostras.\n"
     ]
    }
   ],
   "source": [
    "# Interpretação do resultado\n",
    "if p > 0.05:\n",
    "    print(\"Não há evidências suficientes para rejeitar a hipótese nula (as medianas provavelmente são iguais).\")\n",
    "    print(\"Logo, não há difSerença significativa no tamanho das amostras.\")\n",
    "else:\n",
    "    print(\"Rejeita-se a hipótese nula (as medianas provavelmente são diferentes).\")"
   ]
  },
  {
   "cell_type": "markdown",
   "id": "ccd35337",
   "metadata": {},
   "source": [
    "## Teste Mann-Whitney\n",
    "\n",
    "O Teste Mann-Whitney, também conhecido como Teste U de Mann-Whitney, é um teste estatístico  não  paramétrico  que  é  utilizado  para  comparar  duas  amostras  independentes.\n",
    "Alternativa a ANOVA.\n",
    "\n",
    "### Exemplo 1\n",
    "\n",
    "Neste exemplo, geramos duas amostras hipotéticas (amostra1 e amostra2) e aplicamos o Teste Mann-Whitney utilizando a função mannwhitneyu da biblioteca SciPy. O resultado inclui a estatística U e o valor-p. O valor-p é utilizado para determinar se há diferença significativa entre as distribuições das duas amostras. \n",
    "\n",
    "Se o valor-p for menor que o nível de significância estabelecido (geralmente 0,05), rejeita-se a hipótese nula e conclui-se que as distribuições das duas amostras são significativamente diferentes. Caso contrário, não se pode rejeitar a hipótese nula.\n",
    "\n",
    "Hipóteses:\n",
    "- H0: Não há diferença significativa entre as distribuições das amostras\n",
    "- H1: As distribuições das amostras são significativamente diferentes"
   ]
  },
  {
   "cell_type": "code",
   "execution_count": 35,
   "id": "3b18245f",
   "metadata": {},
   "outputs": [
    {
     "name": "stdout",
     "output_type": "stream",
     "text": [
      "Estatística U: 38.0\n",
      "Valor-p: 0.5737373737373737\n"
     ]
    }
   ],
   "source": [
    "# Exemplo de duas amostras independentes\n",
    "amostra1 = np.array([3, 5, 7, 9, 11, 15, 18, 21])\n",
    "amostra2 = np.array([1, 4, 6, 8, 10, 12, 14, 16])\n",
    "\n",
    "# Realiza o Teste Mann-Whitney\n",
    "resultado = mannwhitneyu(amostra1, amostra2)\n",
    "\n",
    "# Exibe o resultado\n",
    "print(\"Estatística U:\", resultado.statistic)\n",
    "print(\"Valor-p:\", resultado.pvalue)"
   ]
  },
  {
   "cell_type": "markdown",
   "id": "ffcaf871",
   "metadata": {},
   "source": [
    "**Conclusão:** O valor-p é maior que o nível de significância (0,05), logo falhamos em rejeitar a H0. Não há diferença significativa entre as distribuições das amostras."
   ]
  },
  {
   "cell_type": "markdown",
   "id": "c3ca4c24",
   "metadata": {},
   "source": [
    "### Exemplo 2\n",
    "\n",
    "Neste exemplo, geramos duas amostras com distribuições normais distintas: amostra1 possui média 10 e desvio padrão 3, enquanto amostra 2 possui média 14 e desvio padrão 2.\n",
    "Em seguida, aplicamos o **Teste Mann-Whitney** utilizando a função `mannwhitneyu` e exibimos os resultados.\n",
    "\n",
    "O valor-p resultante do Teste Mann-Whitney pode ser usado para avaliar se as duas amostras têm distribuições significativamente diferentes, considerando um nível de significância pré-estabelecido (como 0,05). Se o valor-p for menor que o nível de significância, rejeita-se a hipótese nula e conclui-se que as distribuições são significativamente diferentes.\n",
    "\n",
    "Hipóteses:\n",
    " - H0: Não há diferença significativa entre as distribuições das amostras\n",
    " - H1: As distribuições das amostras são significativamente diferentes"
   ]
  },
  {
   "cell_type": "code",
   "execution_count": 33,
   "id": "5947f621",
   "metadata": {},
   "outputs": [
    {
     "name": "stdout",
     "output_type": "stream",
     "text": [
      "Estatística U: 530.0\n",
      "Valor-p: 5.887908229286127e-09\n"
     ]
    }
   ],
   "source": [
    "# Gera duas amostras com distribuições diferentes\n",
    "np.random.seed(29)\n",
    "amostra1 = np.random.normal(loc = 10, scale = 3, size = 50)\n",
    "amostra2 = np.random.normal(loc = 14, scale = 2, size = 60)\n",
    "\n",
    "# Realiza o Teste Mann-Whitney\n",
    "resultado = mannwhitneyu(amostra1, amostra2)\n",
    "\n",
    "# Exibe o resultado\n",
    "print(\"Estatística U:\", resultado.statistic)\n",
    "print(\"Valor-p:\", resultado.pvalue)"
   ]
  },
  {
   "cell_type": "code",
   "execution_count": 34,
   "id": "5d3a2fbf",
   "metadata": {},
   "outputs": [
    {
     "data": {
      "image/png": "[encoded data removed]",
      "text/plain": [
       "<Figure size 640x480 with 1 Axes>"
      ]
     },
     "metadata": {},
     "output_type": "display_data"
    }
   ],
   "source": [
    "# Visualiza as distribuições das amostras\n",
    "plt.hist(amostra1, bins = 10, alpha = 0.5, label = \"Amostra 1\")\n",
    "plt.hist(amostra2, bins = 10, alpha = 0.5, label = \"Amostra 2\")\n",
    "plt.xlabel(\"Valores\")\n",
    "plt.ylabel(\"Frequência\")\n",
    "plt.legend(loc=\"upper right\")\n",
    "plt.show()"
   ]
  },
  {
   "cell_type": "markdown",
   "id": "65ec5ef8",
   "metadata": {},
   "source": [
    "**Conclusão:** O valor-p é menor que o nível de significância, logo podemos rejeitar a H0. As distribuições das amostras são significativamente diferentes."
   ]
  },
  {
   "cell_type": "markdown",
   "id": "63b39482",
   "metadata": {},
   "source": [
    "## Teste Kruskal-Wallis\n",
    "\n",
    "O teste de Kruskal-Wallis é um exemplo de teste não paramétrico usado como alternativa à ANOVA. Ele compara as distribuições de três ou mais grupos independentes, semelhante ao teste de Mann-Whitney. O teste de Kruskal-Wallis não assume normalidade dos dados nem homocedasticidade, tornando-se uma opção mais robusta em comparação à ANOVA quando as suposições não são atendidas.\n",
    "\n",
    "### Exemplo 1\n",
    "\n",
    "Neste exemplo, utilizamos três amostras hipotéticas e aplicamos o Teste de Kruskal-Wallis usando a função kruskal da biblioteca SciPy. O resultado inclui a estatística H e o valor-p. O valor-p é utilizado para determinar se há diferença significativa entre as distribuições das amostras. Se o valor-p for menor que o nível de significância estabelecido (geralmente 0,05), rejeita-se a hipótese nula e conclui-se que as distribuições das amostras são significativamente diferentes. Caso contrário, não se pode rejeitar a hipótese nula.\n",
    "\n",
    "Hipóteses:\n",
    " - H0: Não há diferença significativa entre as distribuições das amostras\n",
    " - H1: As distribuições das amostras são significativamente diferentes"
   ]
  },
  {
   "cell_type": "code",
   "execution_count": 36,
   "id": "ec306120",
   "metadata": {},
   "outputs": [
    {
     "name": "stdout",
     "output_type": "stream",
     "text": [
      "Estatística H: 0.48584494773519105\n",
      "Valor-p: 0.784332317665689\n"
     ]
    }
   ],
   "source": [
    "# Exemplo de três amostras independentes\n",
    "amostra1 = np.array([3, 5, 7, 9, 11, 15, 18, 21])\n",
    "amostra2 = np.array([1, 4, 6, 8, 10, 12, 14, 16])\n",
    "amostra3 = np.array([2, 3, 5, 7, 11, 13, 17, 19])\n",
    "\n",
    "# Realiza o Teste de Kruskal-Wallis\n",
    "resultado = kruskal(amostra1, amostra2, amostra3)\n",
    "\n",
    "# Exibe o resultado\n",
    "print(\"Estatística H:\", resultado.statistic)\n",
    "print(\"Valor-p:\", resultado.pvalue)"
   ]
  },
  {
   "cell_type": "markdown",
   "id": "999a8661",
   "metadata": {},
   "source": [
    "**Conclusão:** O valor-p é maior que o nível de significância, logo não podemos rejeitar a H0. Não há diferença significativa entre as distribuições das amostras."
   ]
  },
  {
   "cell_type": "markdown",
   "id": "190380bf",
   "metadata": {},
   "source": [
    "### Exemplo 2\n",
    "\n",
    "Neste exemplo, geramos três amostras com distribuições normais distintas: amostra1 possui média 10 e desvio padrão 3, amostra2 possui média 15 e desvio padrão 2, e amostra3 possui média 18 e desvio padrão 4. Em seguida, aplicamos o Teste de Kruskal-Wallis utilizando a função kruskal e exibimos os resultados.\n",
    "\n",
    "Além disso, usamos a biblioteca Matplotlib para criar um histograma das três amostras, a fim de visualizar as distribuições e verificar se são distintas.\n",
    "\n",
    "O valor-p resultante do Teste de Kruskal-Wallis pode ser usado para avaliar se as três amostras têm distribuições significativamente diferentes, considerando um nível de significância preestabelecido (como 0,05). Se o valor-p for menor que o nível de significância, rejeita-se a hipótese nula e conclui-se que as distribuições são significativamente diferentes."
   ]
  },
  {
   "cell_type": "code",
   "execution_count": 37,
   "id": "e39c6231",
   "metadata": {},
   "outputs": [
    {
     "name": "stdout",
     "output_type": "stream",
     "text": [
      "Estatística H: 46.29962264150947\n",
      "Valor-p: 8.834148315319018e-11\n"
     ]
    },
    {
     "data": {
      "image/png": "[encoded data removed]",
      "text/plain": [
       "<Figure size 640x480 with 1 Axes>"
      ]
     },
     "metadata": {},
     "output_type": "display_data"
    }
   ],
   "source": [
    "# Gera três amostras com distribuições diferentes\n",
    "np.random.seed(29)\n",
    "amostra1 = np.random.normal(loc = 10, scale = 3, size = 30)\n",
    "amostra2 = np.random.normal(loc = 15, scale = 2, size = 35)\n",
    "amostra3 = np.random.normal(loc = 18, scale = 4, size = 40)\n",
    "\n",
    "# Realiza o Teste de Kruskal-Wallis\n",
    "resultado = kruskal(amostra1, amostra2, amostra3)\n",
    "\n",
    "# Exibe o resultado\n",
    "print(\"Estatística H:\", resultado.statistic)\n",
    "print(\"Valor-p:\", resultado.pvalue)\n",
    "\n",
    "# Visualiza as distribuições das amostras\n",
    "plt.hist(amostra1, bins = 10, alpha = 0.5, label = \"Amostra 1\")\n",
    "plt.hist(amostra2, bins = 10, alpha = 0.5, label = \"Amostra 2\")\n",
    "plt.hist(amostra3, bins = 10, alpha = 0.5, label = \"Amostra 3\")\n",
    "plt.xlabel(\"Valores\")\n",
    "plt.ylabel(\"Frequência\")\n",
    "plt.legend(loc = \"upper right\")\n",
    "plt.show()"
   ]
  },
  {
   "cell_type": "markdown",
   "id": "bf429f2f",
   "metadata": {},
   "source": [
    "**Conclusão 2:** O valor-p é menor que o nível de significância, logo podemos rejeitar a H0. As distribuições das amostras, provavelmente, são diferentes."
   ]
  },
  {
   "cell_type": "markdown",
   "id": "cc608ff3",
   "metadata": {},
   "source": [
    "## Teste de Dunn\n",
    "\n",
    "O teste de Dunn é um teste estatístico não paramétrico usado para análise post-hoc após um teste de Kruskal-Wallis. Quando o teste de Kruskal-Wallis rejeita a hipótese nula, indicando diferenças significativas entre três ou mais grupos, o teste de Dunn é usado para identificar quais pares de grupos têm diferenças significativas. O teste de Dunn é uma alternativa ao teste de comparações múltiplas de Tukey (HSD) usado na análise post-hoc após ANOVA.\n",
    "\n",
    "### Exemplo\n",
    "\n",
    "Neste exemplo, geramos três amostras com distribuições normais distintas e realizamos o Teste de Kruskal-Wallis. Se o resultado do Teste de Kruskal-Wallis rejeitar a hipótese nula (valor-p < 0,05), prosseguimos com o Teste de Dunn usando a função posthoc_dunn da biblioteca scikit-posthocs.\n",
    "\n",
    "O resultado do teste de Dunn é uma matriz que mostra os valores-p corrigidos para cada par de comparações entre os grupos. A correção de Bonferroni é aplicada para ajustar os valores-p, levando em consideração o problema das comparações múltiplas. Se o valor-p corrigido para uma comparação específica for menor que o nível de significância estabelecido (geralmente 0,05), conclui-se que há uma diferença."
   ]
  },
  {
   "cell_type": "code",
   "execution_count": 39,
   "id": "b2b9d78d",
   "metadata": {},
   "outputs": [
    {
     "name": "stdout",
     "output_type": "stream",
     "text": [
      "Estatística H: 64.19345911949694\n",
      "Valor-p: 1.1496548215758738e-14\n",
      "\n",
      "Resultados do Teste de Dunn:\n",
      "              Amostra 1  Amostra 2     Amostra 3\n",
      "Amostra 1  1.000000e+00   0.000013  3.446265e-15\n",
      "Amostra 2  1.258889e-05   1.000000  1.935620e-03\n",
      "Amostra 3  3.446265e-15   0.001936  1.000000e+00\n"
     ]
    }
   ],
   "source": [
    "# Gera três amostras com distribuições diferentes\n",
    "np.random.seed(42)\n",
    "amostra1 = np.random.normal(loc = 10, scale = 3, size = 30)\n",
    "amostra2 = np.random.normal(loc = 15, scale = 2, size = 35)\n",
    "amostra3 = np.random.normal(loc = 18, scale = 4, size = 40)\n",
    "\n",
    "# Realiza o Teste de Kruskal-Wallis\n",
    "resultado = kruskal(amostra1, amostra2, amostra3)\n",
    "print(\"Estatística H:\", resultado.statistic)\n",
    "print(\"Valor-p:\", resultado.pvalue)\n",
    "\n",
    "# Se o Teste de Kruskal-Wallis rejeitar a hipótese nula, realiza o Teste de Dunn\n",
    "if resultado.pvalue < 0.05:\n",
    "    \n",
    "    # Combina as amostras em um único DataFrame\n",
    "    df1 = pd.DataFrame({\"Valores\": amostra1, \"Grupo\": \"Amostra 1\"})\n",
    "    df2 = pd.DataFrame({\"Valores\": amostra2, \"Grupo\": \"Amostra 2\"})\n",
    "    df3 = pd.DataFrame({\"Valores\": amostra3, \"Grupo\": \"Amostra 3\"})\n",
    "    dados = pd.concat([df1, df2, df3])\n",
    "\n",
    "    # Realiza o Teste de Dunn\n",
    "    resultado_dunn = sp.posthoc_dunn(dados, val_col = \"Valores\", group_col = \"Grupo\", p_adjust = \"bonferroni\")\n",
    "    print(\"\\nResultados do Teste de Dunn:\")\n",
    "    print(resultado_dunn)"
   ]
  },
  {
   "cell_type": "markdown",
   "id": "142c1607",
   "metadata": {},
   "source": [
    "O Teste de Dunn avalia as seguintes hipóteses para cada par de grupos:\n",
    "\n",
    "- Hipótese Nula (H0): A mediana dos dois grupos sendo comparados é igual. Não há diferença significativa entre os grupos.\n",
    "- Hipótese Alternativa (H1): A mediana dos dois grupos não é igual. Há uma diferença significativa entre os grupos.\n",
    "\n",
    "Interpretação:\n",
    "\n",
    "- Amostra 1 vs Amostra 2: Rejeitamos a H0. O valor-p indica que há uma diferença significativa entre as medianas da Amostra 1 e da Amostra 2.\n",
    "\n",
    "- Amostra 1 vs Amostra 3: Rejeitamos a H0. O valor-p é extremamente baixo, indicando uma diferença altamente significativa entre as medianas da Amostra 1 e da Amostra 3.\n",
    "\n",
    "- Amostra 2 vs Amostra 3: Rejeitamos a H0. O valor-p também sugere uma diferença significativa entre as medianas da Amostra 2 e da Amostra 3.\n",
    "\n",
    "Portanto, todas as comparações entre os grupos mostraram diferenças significativas entre suas medianas, com os valores-p muito abaixo do nível típico de significância (0.05), mesmo após o ajuste de Bonferroni. Isso confirma que as diferenças observadas no Teste de Kruskal-Wallis são estatisticamente robustas e que cada grupo tem uma mediana distinta dos outros.\n",
    "\n",
    "Nota: O ajuste de Bonferroni é uma técnica usada em estatística para controlar o problema do aumento da taxa de erro do tipo I que ocorre quando múltiplos testes de hipóteses são realizados simultaneamente. O erro do tipo I acontece quando uma hipótese nula verdadeira é incorretamente rejeitada, isto é, quando se conclui que existe um efeito quando, na verdade, ele não existe."
   ]
  },
  {
   "cell_type": "markdown",
   "id": "c280854e",
   "metadata": {},
   "source": [
    "# O que são Amostras Pareadas?\n",
    "\n",
    "Amostras pareadas, também conhecidas como amostras dependentes, referem-se a um design de coleta de dados no qual as mesmas unidades experimentais são submetidas a mais de uma condição ou medida. Isso permite que os pesquisadores comparem diferentes tratamentos ou condições dentro dos mesmos indivíduos, controlando assim as variáveis de confusão que podem variar entre sujeitos diferentes.\n",
    "\n",
    "Há algumas situações típicas onde amostras pareadas são comumente utilizadas:\n",
    "\n",
    "**Medidas Repetidas**: Um único grupo de participantes é testado mais de uma vez sob diferentes condições ou em diferentes momentos. Por exemplo, medindo o desempenho de estudantes em um teste antes e depois de um programa de treinamento.\n",
    "\n",
    "**Pares Combinados**: Dois grupos de participantes são formados de modo que cada par seja o mais semelhante possível em termos de características relevantes (como idade, gênero, diagnóstico), exceto pelo tratamento que será testado. Cada par recebe tratamentos diferentes para comparar os efeitos.\n",
    "\n",
    "**Desenhos Cruzados**: Participantes recebem múltiplos tratamentos em sequências diferentes. Por exemplo, um grupo de pacientes pode receber o tratamento A seguido do tratamento B, enquanto outro grupo recebe os tratamentos na ordem inversa.\n",
    "\n",
    "Utilizar amostras pareadas permite uma análise mais eficaz dos dados, já que as diferenças individuais entre os participantes são minimizadas, permitindo que o foco esteja nas mudanças causadas pelos tratamentos ou condições experimentais. Este método é muito útil para aumentar a sensibilidade estatística e reduzir a variabilidade causada por diferenças entre sujeitos.\n",
    "\n",
    "## Teste de Friedman \n",
    "\n",
    "Teste de Friedman é um teste estatístico não paramétrico usado para detectar diferenças nas distribuições de três ou mais amostras pareadas. É útil especialmente quando os dados não cumprem as premissas de normalidade. Este teste é frequentemente usado em análises de dados provenientes de experimentos de medidas repetidas."
   ]
  },
  {
   "cell_type": "code",
   "execution_count": 40,
   "id": "33c27b45",
   "metadata": {},
   "outputs": [
    {
     "name": "stdout",
     "output_type": "stream",
     "text": [
      "Estatística do teste: 9.578947368421062\n",
      "P-valor: 0.00831683351100441\n",
      "Rejeita-se a hipótese nula (as medianas provavelmente são diferentes).\n"
     ]
    }
   ],
   "source": [
    "# Dados de exemplo: três grupos com medidas pareadas\n",
    "# Cada coluna representa um grupo, e cada linha representa um indivído, por exemplo\n",
    "data = np.array([\n",
    "    [7, 6, 8],\n",
    "    [6, 5, 7],\n",
    "    [8, 7, 9],\n",
    "    [5, 4, 6],\n",
    "    [6, 6, 8]\n",
    "])\n",
    "\n",
    "# Separando os dados por grupos\n",
    "group1 = data[:, 0]\n",
    "group2 = data[:, 1]\n",
    "group3 = data[:, 2]\n",
    "\n",
    "# Realizando o Teste de Friedman\n",
    "stat, p = friedmanchisquare(group1, group2, group3)\n",
    "\n",
    "print('Estatística do teste:', stat)\n",
    "print('P-valor:', p)\n",
    "\n",
    "# Interpretando o resultado\n",
    "if p > 0.05:\n",
    "    print('Falhamos em rejeitar a H0. Não há diferença significativa entre as medianas.')\n",
    "else:\n",
    "    print('Rejeita-se a hipótese nula (as medianas provavelmente são diferentes).')"
   ]
  },
  {
   "cell_type": "markdown",
   "id": "6d3da68f",
   "metadata": {},
   "source": [
    "## Estatística Spearman Rank\n",
    "\n",
    "A estatística Spearman Rank, ou coeficiente de correlação de postos de Spearman, é uma medida não paramétrica da correlação entre duas variáveis. Ela avalia o quão bem a relação entre as duas variáveis pode ser descrita usando uma função monotônica, ou seja, se uma variável aumenta, a outra também aumenta, e se uma diminui, a outra também diminui.\n",
    "\n",
    "### Exemplo 1\n",
    "\n",
    "Neste exemplo, criamos duas variáveis x e y, e utilizamos a função spearmanr da biblioteca SciPy para calcular o coeficiente de correlação de Spearman e o valor-p associado. O valor-p pode ser usado para testar a hipótese nula de que a correlação de Spearman entre as duas variáveis é zero. Se o valor-p for menor que o nível de significância estabelecido (geralmente 0,05), rejeita-se a hipótese nula e conclui-se que existe uma correlação significativa entre as variáveis."
   ]
  },
  {
   "cell_type": "code",
   "execution_count": 42,
   "id": "7d0065e2",
   "metadata": {},
   "outputs": [
    {
     "name": "stdout",
     "output_type": "stream",
     "text": [
      "Coeficiente de correlação de Spearman: 1.0\n",
      "Valor-p: 0.0\n"
     ]
    }
   ],
   "source": [
    "# Exemplo de dados\n",
    "x = np.array([1, 2, 3, 4, 5, 6, 7, 8, 9])\n",
    "y = np.array([2, 3, 4, 5, 6, 7, 8, 9, 10])\n",
    "\n",
    "# Calcula a correlação de Spearman\n",
    "coeficiente, p_valor = spearmanr(x, y)\n",
    "\n",
    "# Exibe o resultado\n",
    "print(\"Coeficiente de correlação de Spearman:\", coeficiente)\n",
    "print(\"Valor-p:\", p_valor)"
   ]
  },
  {
   "cell_type": "markdown",
   "id": "159ff0b8",
   "metadata": {},
   "source": [
    "O valor-p reportado como 0.0 (pode ser um valor muito pequeno que é arredondado para zero) sugere que a probabilidade de obter uma correlação de Spearman tão extrema como 1.0 sob a hipótese nula (que não há associação entre as variáveis) é extremamente baixa. Este resultado é estatisticamente significativo, o que significa que você pode rejeitar a hipótese nula de que não existe uma correlação monotônica entre x e y."
   ]
  },
  {
   "cell_type": "markdown",
   "id": "4f09bb56",
   "metadata": {},
   "source": [
    "### Exemplo 2\n",
    "\n",
    "Neste exemplo, geramos duas variáveis x e y, onde y é uma função linear de x com ruído gaussiano adicionado. Além disso, adicionamos um ruído não linear usando a função seno para tornar a relação entre x e y menos linear.\n",
    "\n",
    "Calculamos a correlação de Spearman entre as variáveis usando a função spearmanr da biblioteca SciPy e exibimos o coeficiente de correlação e o valor-p. Em seguida, usamos a biblioteca Matplotlib para criar um gráfico de dispersão das variáveis, mostrando a relação entre elas.\n",
    "\n",
    "A correlação de Spearman neste exemplo será capaz de capturar a relação monotônica entre as variáveis, apesar da relação não ser estritamente linear."
   ]
  },
  {
   "cell_type": "code",
   "execution_count": 44,
   "id": "82c9e128",
   "metadata": {},
   "outputs": [
    {
     "name": "stdout",
     "output_type": "stream",
     "text": [
      "Coeficiente de correlação de Spearman: 0.30741074107410743\n",
      "Valor-p: 0.0018635411537042518\n"
     ]
    },
    {
     "data": {
      "image/png": "[encoded data removed]",
      "text/plain": [
       "<Figure size 640x480 with 1 Axes>"
      ]
     },
     "metadata": {},
     "output_type": "display_data"
    }
   ],
   "source": [
    "# Gera dados aleatórios\n",
    "np.random.seed(42)\n",
    "x = np.random.normal(loc = 10, scale = 3, size = 100)\n",
    "y = 2 * x + 3 + np.random.normal(loc = 0, scale = 5, size = 100)\n",
    "\n",
    "# Adiciona ruído não linear para tornar a relação menos linear\n",
    "y = y + 10 * np.sin(x)\n",
    "\n",
    "# Calcula a correlação de Spearman\n",
    "coeficiente, p_valor = spearmanr(x, y)\n",
    "\n",
    "# Exibe o resultado\n",
    "print(\"Coeficiente de correlação de Spearman:\", coeficiente)\n",
    "print(\"Valor-p:\", p_valor)\n",
    "\n",
    "# Visualiza a relação entre as variáveis\n",
    "plt.scatter(x, y, alpha=0.5)\n",
    "plt.xlabel(\"X\")\n",
    "plt.ylabel(\"Y\")\n",
    "plt.title(\"Relação entre X e Y com correlação de Spearman {:.2f}\".format(coeficiente))\n",
    "plt.show()"
   ]
  },
  {
   "cell_type": "markdown",
   "id": "3dada3a0",
   "metadata": {},
   "source": [
    "O valor-p de aproximadamente 0.0019 é muito baixo e, tipicamente, um resultado como este seria considerado estatisticamente significativo (normalmente, compara-se com um nível de significância de 0.05 ou 0.01). Isso significa que há evidências estatísticas suficientes para rejeitar a hipótese nula de que não existe correlação monotônica entre as variáveis."
   ]
  },
  {
   "cell_type": "markdown",
   "id": "ecf1a68c",
   "metadata": {},
   "source": [
    "# Métodos de Bootstrapping\n",
    "\n",
    "O bootstrapping é uma técnica estatística poderosa e versátil que usa a reamostragem com reposição para estimar a distribuição de uma estatística em uma população a partir de uma amostra de dados. Foi introduzida por Bradley Efron na década de 1970 e é usada principalmente para avaliar a variabilidade de uma estimativa (como médias, medianas, proporções) ou para construir intervalos de confiança e testes de hipóteses quando os métodos tradicionais são ineficazes ou inaplicáveis.\n",
    "\n",
    "Resumo de como a técnica de bootstrapping geralmente funciona:\n",
    "\n",
    "**Seleção de Amostras**: Dado um conjunto de dados original, amostras repetidas são geradas a partir deste conjunto, selecionando-se aleatoriamente observações com reposição. Isso significa que a mesma observação pode aparecer mais de uma vez na mesma amostra reamostrada.\n",
    "\n",
    "**Cálculo de Estatísticas:** Para cada amostra reamostrada, uma estatística de interesse é calculada (por exemplo, a média, a mediana, a variância).\n",
    "\n",
    "**Repetição**: Este processo é repetido um grande número de vezes (tipicamente milhares ou mais) para gerar uma distribuição das estatísticas calculadas.\n",
    "\n",
    "**Análise de Resultados:** A distribuição das estatísticas reamostradas é então usada para fazer inferências sobre a estatística original. Por exemplo, pode-se estimar o erro padrão da média ou construir um intervalo de confiança.\n",
    "\n",
    "## Aplicações do Bootstrapping\n",
    "\n",
    "\n",
    "**Intervalos de Confiança**: Construção de intervalos de confiança para estimativas de parâmetros quando a distribuição da estatística de interesse é desconhecida ou difícil de derivar matematicamente.\n",
    "\n",
    "**Testes de Hipóteses**: Avaliação da significância estatística de uma estatística sem depender de pressupostos de distribuição.\n",
    "\n",
    "**Modelo de Avaliação**: Avaliação da robustez e da estabilidade de modelos estatísticos.\n",
    "\n",
    "\n",
    "## Vantagens e Limitações\n",
    "\n",
    "\n",
    "**Vantagens**:\n",
    "\n",
    "- Não requer suposições sobre a forma da distribuição dos dados, o que a torna particularmente útil para dados não normais ou para amostras pequenas.\n",
    "\n",
    "- Simples de implementar e aplicável a uma ampla variedade de situações estatísticas.\n",
    "\n",
    "**Limitações**:\n",
    "\n",
    "- Pode ser computacionalmente intensivo, especialmente para grandes conjuntos de dados ou estatísticas complexas.\n",
    "\n",
    "- O desempenho do método pode depender do tamanho da amostra original: amostras muito pequenas podem não fornecer uma reamostragem eficaz.\n",
    "\n",
    "O bootstrapping é uma ferramenta extremamente flexível e útil em estatística, especialmente em casos onde métodos paramétricos tradicionais falham ou são inadequados para aplicação.\n",
    "\n",
    "# Testes de Adequação de Ajuste Não Paramétricos\n",
    "\n",
    "Os testes de adequação de ajuste não paramétricos são usados para avaliar se uma amostra de dados segue uma distribuição específica sem assumir previamente uma forma específica para essa distribuição. Diferente dos testes paramétricos, que assumem que os dados seguem uma distribuição conhecida (como a normal) e avaliam os parâmetros dessa distribuição, os testes não paramétricos focam em propriedades gerais dos dados, como a ordem ou os rankings.\n",
    "\n",
    "Esses testes são particularmente úteis quando você não pode fazer suposições seguras sobre a distribuição dos dados ou quando a amostra é pequena ou inclui dados atípicos que poderiam distorcer os resultados de testes paramétricos.\n",
    "\n",
    "Aqui estão alguns exemplos comuns de testes de adequação de ajuste não paramétricos:\n",
    "\n",
    "**Teste de Kolmogorov-Smirnov**: Este teste compara a distribuição empírica de uma amostra com uma distribuição de referência contínua especificada para verificar se ambas as distribuições são equivalentes. Ele é usado tanto para uma amostra (testando contra uma distribuição específica) quanto para duas amostras (comparando se duas amostras independentes são da mesma distribuição).\n",
    "\n",
    "**Teste de Anderson-Darling**: Semelhante ao teste de Kolmogorov-Smirnov, este teste também compara a distribuição empírica de uma amostra com uma distribuição teórica, mas dá mais peso às caudas da distribuição. Isso o torna mais sensível às diferenças nas extremidades da distribuição.\n",
    "\n",
    "**Teste de Cramer-von Mises**: Outro teste que compara a função de distribuição cumulativa empírica de uma amostra com a de uma distribuição esperada. Este teste é menos conhecido mas útil para avaliar o ajuste geral dos dados a uma distribuição.\n",
    "\n",
    "**Teste de Chi-quadrado para Adequação de Ajuste**: Embora possa ser usado como teste paramétrico, também é frequentemente aplicado de forma não paramétrica para avaliar se as frequências observadas em categorias discretas se ajustam a um modelo esperado, sem assumir uma distribuição específica dos dados numéricos."
   ]
  },
  {
   "cell_type": "markdown",
   "id": "0f28ddd6",
   "metadata": {},
   "source": [
    "# Métodos Não Paramétricos de Regressão\n",
    "\n",
    "Os métodos de regressão não paramétrica são técnicas estatísticas que permitem modelar a relação entre variáveis dependentes e independentes sem assumir uma forma funcional fixa para essa relação. Em outras palavras, eles não especificam a priori a forma matemática da função de regressão, permitindo assim uma modelagem mais flexível que pode se adaptar a qualquer padrão de dados observado. Esses métodos são especialmente úteis quando a relação entre as variáveis é complexa ou desconhecida.\n",
    "\n",
    "Aqui estão alguns dos métodos de regressão não paramétricos mais comuns:\n",
    "\n",
    "**Regressão por Kernel**: Este método estima a função de regressão \"alisando\" os dados. Ele usa uma função chamada kernel para ponderar as observações próximas ao ponto onde a função de regressão é estimada. A largura da banda do kernel, que controla a suavidade da estimativa, é um parâmetro fundamental neste método.\n",
    "\n",
    "**Regressão de Splines (incluindo Splines Cúbicos)**: Splines são funções definidas por pedaços que são polinômios em cada intervalo e são suaves nas junções entre esses intervalos. A regressão spline envolve a construção de uma função que é um spline e que se ajusta bem aos dados. Splines cúbicos, que usam polinômios de terceiro grau, são particularmente populares.\n",
    "\n",
    "**Regressão LOESS/LOWESS (Localmente Ponderada de Dispersão Suavizada)**: Este é um método de regressão que combina múltiplas regressões em um enfoque localizado. Para cada ponto de estimativa, a regressão LOESS ajusta uma função de regressão ponderada localmente usando um subconjunto de dados que estão próximos ao ponto de interesse.\n",
    "\n",
    "**MARS (Modelos Aditivos de Splines Multivariados)**: MARS é uma forma de regressão não paramétrica que automaticamente modela não-linearidades e interações entre variáveis. Ele usa segmentos de linha que são ajustados e combinados de maneira adaptativa para modelar complexidades nos dados.\n",
    "\n",
    "**Redes Neurais Artificiais**: Estas são técnicas de aprendizado de máquina que podem modelar relações complexas e não-lineares entre as variáveis. Embora não sejam tradicionalmente classificadas como métodos não paramétricos na estatística clássica, elas se enquadram na categoria devido à sua flexibilidade em formar a função de regressão sem uma forma funcional predefinida.\n",
    "\n",
    "Cada um desses métodos tem suas próprias vantagens e limitações, e a escolha entre eles depende do problema específico, da natureza dos dados e dos objetivos da análise. Os métodos não paramétricos são geralmente mais flexíveis e menos suscetíveis a suposições incorretas sobre a forma da relação entre variáveis, mas podem requerer mais dados e ser computacionalmente mais intensivos.\n",
    "\n",
    "### Hipóteses Nula e Alternativa\n",
    "\n",
    "A hipótese nula e a hipótese alternativa são componentes essenciais de um teste de hipóteses, servindo como as afirmações que são testadas com base nos dados coletados.\n",
    "\n",
    "#### Hipótese Nula (H₀)\n",
    "\n",
    "A hipótese nula é uma afirmação de que não há diferença ou efeito, ou que qualquer observação é resultado do acaso. Ela representa o cenário de \"status quo\" ou a afirmação de que a variável independente não tem impacto na variável dependente.\n",
    "Exemplos de hipótese nula:\n",
    "Não há diferença na média de salários entre homens e mulheres no mesmo cargo.\n",
    "Um novo medicamento não tem efeito diferente do placebo no tratamento de uma doença.\n",
    "A taxa de cliques em um website não varia entre diferentes versões de design.\n",
    "\n",
    "> A hipótese nula é geralmente a hipótese que o pesquisador tenta refutar ou provar ser improvável com base nos dados. A rejeição da hipótese nula sugere que há evidências estatísticas suficientes para apoiar a hipótese alternativa.\n",
    "\n",
    "#### Hipótese Alternativa (H₁ ou Ha)\n",
    "\n",
    "A hipótese alternativa é uma afirmação que contradiz a hipótese nula e é o que o pesquisador realmente deseja provar. Ela indica a presença de um efeito, diferença ou relação.\n",
    "\n",
    "Exemplos de hipótese alternativa:\n",
    "- Há uma diferença significativa na média de salários entre homens e mulheres no mesmo cargo.\n",
    "- Um novo medicamento é mais eficaz que um placebo no tratamento de uma doença.\n",
    "- A taxa de cliques em um website aumenta com a nova versão do design.\n",
    "\n",
    "> A hipótese alternativa é aceita quando há evidências suficientes para rejeitar a hipótese nula. Isso não necessariamente \"prova\" a hipótese alternativa de maneira definitiva, mas indica que os dados são consistentes com essa hipótese sendo verdadeira, dadas as condições do teste.\n",
    "\n",
    "### Importância no Teste de Hipóteses\n",
    "\n",
    "A escolha e formulação das hipóteses afetam diretamente a interpretação dos resultados do teste estatístico.\n",
    "\n",
    "Normalmente, um resultado de teste que leva à rejeição da hipótese nula é considerado um indicativo de um efeito estatisticamente significativo, enquanto que a falha em rejeitar a hipótese nula pode indicar que não há evidência suficiente para suportar a hipótese alternativa, dado o tamanho da amostra e o poder do teste.\n",
    "\n",
    "### O processo de teste de hipóteses envolve:\n",
    "\n",
    "- **Coleta de dados**: Realizar experimentos ou coletar dados relevantes.\n",
    "Escolha do teste estatístico: Dependendo do tipo de dados e da natureza da hipótese, escolhe-se um teste estatístico adequado (como t-teste, ANOVA, teste de qui-quadrado, etc.).\n",
    "\n",
    "**Definição do nível de significância:** Geralmente, um nível de significância (alfa) de 0.05 é usado, significando que há 5% de probabilidade de rejeitar a hipótese nula quando ela é verdadeira.\n",
    "\n",
    "- **Cálculo e decisão**: Calcular a estatística do teste a partir dos dados e comparar com um valor crítico para decidir se rejeita ou não a hipótese nula.\n",
    "\n",
    "> A escolha de aceitar a hipótese nula ou adotar a hipótese alternativa baseia-se na evidência fornecida pelos dados coletados e no nível de significância estabelecido para o teste. A rejeição da hipótese nula não prova a hipótese alternativa, mas indica que os dados são suficientemente fortes para favorecer a hipótese alternativa sobre a nula dentro do nível de confiança estabelecido."
   ]
  }
 ],
 "metadata": {
  "kernelspec": {
   "display_name": "Python 3",
   "language": "python",
   "name": "python3"
  },
  "language_info": {
   "codemirror_mode": {
    "name": "ipython",
    "version": 3
   },
   "file_extension": ".py",
   "mimetype": "text/x-python",
   "name": "python",
   "nbconvert_exporter": "python",
   "pygments_lexer": "ipython3",
   "version": "3.10.12"
  }
 },
 "nbformat": 4,
 "nbformat_minor": 5
}
