{
 "cells": [
  {
   "cell_type": "markdown",
   "id": "259ad057",
   "metadata": {},
   "source": [
    "# Análise de Teste A/B em Campanha de Marketing Digital\n",
    "\n",
    "Testes  A/B  são  uma  metodologia  usada  para  comparar  duas  versões  de  uma  variável (como uma página da web, um aplicativo ou uma campanha publicitária) para determinar qual delas apresenta um desempenho melhor em termos de uma métrica definida.\n",
    "\n",
    "Basicamente, o público é dividido aleatoriamente em dois grupos: o grupo A(controle)recebe a versão original e o grupo B(tratamento)recebe a versão modificada. O desempenho de cada grupo é então medido e comparado para ver qual versão é mais eficaz. Esse tipo de teste é muito útil para tomar decisões baseadas em dados, permitindo que as empresas otimizem suas estratégias de marketing.\n",
    "\n",
    "\n",
    "## Importar bibliotecas"
   ]
  },
  {
   "cell_type": "code",
   "execution_count": 3,
   "id": "1875b688",
   "metadata": {},
   "outputs": [],
   "source": [
    "import random\n",
    "import numpy as np\n",
    "import pandas as pd\n",
    "import matplotlib.pyplot as plt\n",
    "import seaborn as sns\n",
    "import statsmodels.api as sm\n",
    "from scipy import stats\n",
    "%matplotlib inline\n",
    "import warnings\n",
    "warnings.filterwarnings('ignore')"
   ]
  },
  {
   "cell_type": "markdown",
   "id": "5a5d1757",
   "metadata": {},
   "source": [
    "## Carregar dados"
   ]
  },
  {
   "cell_type": "code",
   "execution_count": 4,
   "id": "77f9ec07",
   "metadata": {},
   "outputs": [
    {
     "data": {
      "text/html": [
       "<div>\n",
       "<style scoped>\n",
       "    .dataframe tbody tr th:only-of-type {\n",
       "        vertical-align: middle;\n",
       "    }\n",
       "\n",
       "    .dataframe tbody tr th {\n",
       "        vertical-align: top;\n",
       "    }\n",
       "\n",
       "    .dataframe thead th {\n",
       "        text-align: right;\n",
       "    }\n",
       "</style>\n",
       "<table border=\"1\" class=\"dataframe\">\n",
       "  <thead>\n",
       "    <tr style=\"text-align: right;\">\n",
       "      <th></th>\n",
       "      <th>id_usuario</th>\n",
       "      <th>timestamp</th>\n",
       "      <th>grupo</th>\n",
       "      <th>pagina</th>\n",
       "      <th>converteu</th>\n",
       "    </tr>\n",
       "  </thead>\n",
       "  <tbody>\n",
       "    <tr>\n",
       "      <th>0</th>\n",
       "      <td>847721</td>\n",
       "      <td>2024-01-17 14:01:00.090575</td>\n",
       "      <td>tratamento</td>\n",
       "      <td>pagina_com_cta</td>\n",
       "      <td>0</td>\n",
       "    </tr>\n",
       "    <tr>\n",
       "      <th>1</th>\n",
       "      <td>888545</td>\n",
       "      <td>2024-01-08 06:37:26.332945</td>\n",
       "      <td>controle</td>\n",
       "      <td>pagina_sem_cta</td>\n",
       "      <td>1</td>\n",
       "    </tr>\n",
       "    <tr>\n",
       "      <th>2</th>\n",
       "      <td>851104</td>\n",
       "      <td>2024-01-21 22:11:48.556739</td>\n",
       "      <td>tratamento</td>\n",
       "      <td>pagina_com_cta</td>\n",
       "      <td>0</td>\n",
       "    </tr>\n",
       "    <tr>\n",
       "      <th>3</th>\n",
       "      <td>804228</td>\n",
       "      <td>2024-01-12 08:01:45.159739</td>\n",
       "      <td>tratamento</td>\n",
       "      <td>pagina_com_cta</td>\n",
       "      <td>0</td>\n",
       "    </tr>\n",
       "    <tr>\n",
       "      <th>4</th>\n",
       "      <td>892356</td>\n",
       "      <td>2024-01-05 09:35:14.904865</td>\n",
       "      <td>controle</td>\n",
       "      <td>pagina_sem_cta</td>\n",
       "      <td>1</td>\n",
       "    </tr>\n",
       "  </tbody>\n",
       "</table>\n",
       "</div>"
      ],
      "text/plain": [
       "   id_usuario                   timestamp       grupo          pagina  \\\n",
       "0      847721  2024-01-17 14:01:00.090575  tratamento  pagina_com_cta   \n",
       "1      888545  2024-01-08 06:37:26.332945    controle  pagina_sem_cta   \n",
       "2      851104  2024-01-21 22:11:48.556739  tratamento  pagina_com_cta   \n",
       "3      804228  2024-01-12 08:01:45.159739  tratamento  pagina_com_cta   \n",
       "4      892356  2024-01-05 09:35:14.904865    controle  pagina_sem_cta   \n",
       "\n",
       "   converteu  \n",
       "0          0  \n",
       "1          1  \n",
       "2          0  \n",
       "3          0  \n",
       "4          1  "
      ]
     },
     "execution_count": 4,
     "metadata": {},
     "output_type": "execute_result"
    }
   ],
   "source": [
    "df = pd.read_csv('/home/priscila/Downloads/1-Mat/dados/dataset_testeAB.csv')\n",
    "df.head()"
   ]
  },
  {
   "cell_type": "markdown",
   "id": "1bbc217d",
   "metadata": {},
   "source": [
    "## Análise Exploratória"
   ]
  },
  {
   "cell_type": "code",
   "execution_count": 6,
   "id": "32a164b0",
   "metadata": {},
   "outputs": [
    {
     "data": {
      "text/plain": [
       "id_usuario    0\n",
       "timestamp     0\n",
       "grupo         0\n",
       "pagina        0\n",
       "converteu     0\n",
       "dtype: int64"
      ]
     },
     "execution_count": 6,
     "metadata": {},
     "output_type": "execute_result"
    }
   ],
   "source": [
    "df.isnull().sum()"
   ]
  },
  {
   "cell_type": "code",
   "execution_count": 7,
   "id": "c60fbe8e",
   "metadata": {},
   "outputs": [
    {
     "data": {
      "text/plain": [
       "grupo\n",
       "controle      147270\n",
       "tratamento    147190\n",
       "Name: count, dtype: int64"
      ]
     },
     "execution_count": 7,
     "metadata": {},
     "output_type": "execute_result"
    }
   ],
   "source": [
    "df['grupo'].value_counts()"
   ]
  },
  {
   "cell_type": "markdown",
   "id": "84e11b34",
   "metadata": {},
   "source": [
    "É importante ter um equilibrio entre o número de observações em cada grupo."
   ]
  },
  {
   "cell_type": "code",
   "execution_count": 11,
   "id": "411c06d3",
   "metadata": {},
   "outputs": [
    {
     "data": {
      "text/html": [
       "<div>\n",
       "<style scoped>\n",
       "    .dataframe tbody tr th:only-of-type {\n",
       "        vertical-align: middle;\n",
       "    }\n",
       "\n",
       "    .dataframe tbody tr th {\n",
       "        vertical-align: top;\n",
       "    }\n",
       "\n",
       "    .dataframe thead th {\n",
       "        text-align: right;\n",
       "    }\n",
       "</style>\n",
       "<table border=\"1\" class=\"dataframe\">\n",
       "  <thead>\n",
       "    <tr style=\"text-align: right;\">\n",
       "      <th>converteu</th>\n",
       "      <th>0</th>\n",
       "      <th>1</th>\n",
       "      <th>All</th>\n",
       "    </tr>\n",
       "    <tr>\n",
       "      <th>grupo</th>\n",
       "      <th></th>\n",
       "      <th></th>\n",
       "      <th></th>\n",
       "    </tr>\n",
       "  </thead>\n",
       "  <tbody>\n",
       "    <tr>\n",
       "      <th>controle</th>\n",
       "      <td>129756</td>\n",
       "      <td>17514</td>\n",
       "      <td>147270</td>\n",
       "    </tr>\n",
       "    <tr>\n",
       "      <th>tratamento</th>\n",
       "      <td>129467</td>\n",
       "      <td>17723</td>\n",
       "      <td>147190</td>\n",
       "    </tr>\n",
       "    <tr>\n",
       "      <th>All</th>\n",
       "      <td>259223</td>\n",
       "      <td>35237</td>\n",
       "      <td>294460</td>\n",
       "    </tr>\n",
       "  </tbody>\n",
       "</table>\n",
       "</div>"
      ],
      "text/plain": [
       "converteu        0      1     All\n",
       "grupo                            \n",
       "controle    129756  17514  147270\n",
       "tratamento  129467  17723  147190\n",
       "All         259223  35237  294460"
      ]
     },
     "execution_count": 11,
     "metadata": {},
     "output_type": "execute_result"
    }
   ],
   "source": [
    "pd.crosstab(df['grupo'], df['converteu'], margins=True)"
   ]
  },
  {
   "cell_type": "code",
   "execution_count": 12,
   "id": "352b1b8b",
   "metadata": {},
   "outputs": [
    {
     "data": {
      "image/png": "[encoded data removed]",
      "text/plain": [
       "<Figure size 640x480 with 1 Axes>"
      ]
     },
     "metadata": {},
     "output_type": "display_data"
    }
   ],
   "source": [
    "# Visualiza a distribuição de conversões nos grupos\n",
    "sns.countplot(data = df, x = 'grupo', hue = 'converteu')\n",
    "plt.show()"
   ]
  },
  {
   "cell_type": "code",
   "execution_count": 17,
   "id": "85663ac0",
   "metadata": {},
   "outputs": [
    {
     "name": "stdout",
     "output_type": "stream",
     "text": [
      "pagina      pagina_com_cta  pagina_sem_cta\n",
      "grupo                                     \n",
      "controle              1965          145305\n",
      "tratamento          145262            1928\n"
     ]
    }
   ],
   "source": [
    "print(pd.crosstab(df['grupo'], df['pagina']))"
   ]
  },
  {
   "cell_type": "markdown",
   "id": "49c41e32",
   "metadata": {},
   "source": [
    "A página sem cta é a página de controle e a página com é o grupo tratamento, há observações que estão no grupo errado, portanto serão removidas da análise. "
   ]
  },
  {
   "cell_type": "code",
   "execution_count": 5,
   "id": "489adde3",
   "metadata": {},
   "outputs": [
    {
     "data": {
      "text/plain": [
       "(290567, 5)"
      ]
     },
     "execution_count": 5,
     "metadata": {},
     "output_type": "execute_result"
    }
   ],
   "source": [
    "df2 = df[((df['grupo'] == 'controle') & (df['pagina'] == 'pagina_sem_cta')) |\n",
    "         ((df['grupo'] == 'tratamento') & (df['pagina'] == 'pagina_com_cta'))]\n",
    "\n",
    "df2.shape"
   ]
  },
  {
   "cell_type": "code",
   "execution_count": 43,
   "id": "c493595b",
   "metadata": {},
   "outputs": [
    {
     "name": "stdout",
     "output_type": "stream",
     "text": [
      "grupo\n",
      "controle      0.118812\n",
      "tratamento    0.120396\n",
      "Name: converteu, dtype: float64\n"
     ]
    }
   ],
   "source": [
    "taxa_conversao = df2.groupby('grupo')['converteu'].mean()\n",
    "print(taxa_conversao)"
   ]
  },
  {
   "cell_type": "markdown",
   "id": "0c49e5d4",
   "metadata": {},
   "source": [
    "## Analisando Teste A/B com Teste do Qui-Quadrado\n",
    "\n",
    "O Teste do Qui-Quadrado (ou Chi-quadrado) é uma técnica estatística usada para determinar se há uma associação significativa entre duas variáveis categóricas. É amplamente utilizado em pesquisa para testar hipóteses sobre a independência de variáveis em tabelas de contingência (tabelas que mostram a distribuição de frequências de variáveis).\n",
    "\n",
    "Existem vários tipos de Testes do Qui-Quadrado, mas os mais comuns são:\n",
    "\n",
    "- Teste de Independência: Usado para avaliar se duas variáveis categóricas são independentes uma da outra. Por exemplo, pode-se usar esse teste para determinar se há uma relação entre gênero (masculino e feminino) e preferência por um produto (gosta ou não gosta).\n",
    "\n",
    "- Teste de Adequação ao Modelo: Usado para ver se uma distribuição observada de dados se ajusta a uma distribuição teórica esperada. Por exemplo, ele pode ser usado para verificar se o número de acidentes em diferentes dias da semana se encaixa em uma distribuição uniforme.\n",
    "\n",
    "Vamos realizar um Teste do Qui-Quadrado de independência usando uma tabela de contingência entre duas variáveis categóricas ('grupo' e 'converteu'). As hipóteses seriam formuladas da seguinte maneira:\n",
    "\n",
    "**Hipótese Nula (H0)**: Não existe associação entre as variáveis 'grupo' e 'converteu'. Isso significa que o usuário pertencer a um grupo ou outro não afeta a probabilidade de conversão.\n",
    "\n",
    "**Hipótese Alternativa (H1)**: Existe uma associação entre as variáveis 'grupo' e 'converteu'. Em outras palavras, o usuário pertencer a um grupo ou outro influencia a probabilidade de conversão.\n",
    "\n",
    "Se o valor-p do teste for menor que o nível de significância estabelecido (geralmente 0,05), você rejeitaria a hipótese nula, concluindo que há evidências estatísticas suficientes para afirmar que existe uma associação entre pertencer a um grupo específico e a probabilidade de conversão. Se o valor-p for maior que 0.05, você não rejeitaria a hipótese nula, indicando que não há evidências suficientes para afirmar que há uma associação significativa."
   ]
  },
  {
   "cell_type": "code",
   "execution_count": 44,
   "id": "7bb26924",
   "metadata": {},
   "outputs": [],
   "source": [
    "from scipy.stats import chi2_contingency"
   ]
  },
  {
   "cell_type": "code",
   "execution_count": 45,
   "id": "10475987",
   "metadata": {},
   "outputs": [
    {
     "name": "stdout",
     "output_type": "stream",
     "text": [
      "converteu        0      1\n",
      "grupo                    \n",
      "controle    128041  17264\n",
      "tratamento  127773  17489\n"
     ]
    }
   ],
   "source": [
    "# Cria tabela de contingência\n",
    "tabela_contingencia = pd.crosstab(df2['grupo'], df2['converteu'])\n",
    "\n",
    "print(tabela_contingencia)"
   ]
  },
  {
   "cell_type": "code",
   "execution_count": 47,
   "id": "dd9eab35",
   "metadata": {},
   "outputs": [
    {
     "name": "stdout",
     "output_type": "stream",
     "text": [
      "Chi-quadrado: 1.7161007736557263\n",
      "Valor-p: 0.19019573569633683\n"
     ]
    }
   ],
   "source": [
    "# Teste de Qui-quadrado\n",
    "chi2, p_value, _, _ = chi2_contingency(tabela_contingencia)\n",
    "\n",
    "print(f'Chi-quadrado: {chi2}')\n",
    "print(f'Valor-p: {p_value}')    "
   ]
  },
  {
   "cell_type": "markdown",
   "id": "ebc67b1d",
   "metadata": {},
   "source": [
    "As taxas de conversão são as seguintes:\n",
    "\n",
    "- Grupo controle (página sem CTA): 11.88%\n",
    "- Grupo tratamento (página com CTA): 12.04%\n",
    "\n",
    "O resultado do teste qui-quadrado para comparar as taxas de conversão entre os dois grupos produziu um valor-p de aproximadamente 0.190. Isso indica que falhamos em rejeitar a H0 e que não há uma diferença estatisticamente significativa entre as taxas de conversão das duas páginas, dado que o valor-p é maior que o limiar comum de 0.05 para significância estatística.\n",
    "\n",
    "Portanto, com base nos dados fornecidos e no teste realizado, parece que uso do CTA (Call-To-Action) não teve um impacto significativo na taxa de conversão dos usuários. "
   ]
  },
  {
   "cell_type": "markdown",
   "id": "823d839d",
   "metadata": {},
   "source": [
    "## Analisando Teste A/B com Teste t de Student Para Amostras Independentes\n",
    "\n",
    "O Teste t de Student para duas amostras independentes é um método estatístico usado para comparar as médias de duas amostras independentes para determinar se há uma diferença estatisticamente significativa entre elas. Este teste é amplamente utilizado em pesquisas que comparam dois grupos distintos, como tratamentos em estudos clínicos ou métodos educacionais em pesquisas acadêmicas.\n",
    "\n",
    "Para aplicar o teste t de Student para duas amostras independentes, algumas suposições devem ser satisfeitas:\n",
    "\n",
    "- Independência das Observações: As amostras devem ser coletadas de forma independente uma da outra.\n",
    "- Normalidade: As distribuições das duas populações devem ser aproximadamente normais. Isso é menos preocupante com tamanhos de amostra grandes devido ao Teorema do Limite Central.\n",
    "- Homogeneidade das Variâncias: As variâncias das duas populações devem ser iguais. Quando as variâncias não são iguais, variantes do teste t, como o teste de Welch, são usadas.\n",
    "\n",
    "Hipóteses:\n",
    "\n",
    "- Hipótese Nula (H0): As médias das duas populações são iguais. Ou seja, não há diferença significativa.\n",
    "- Hipótese Alternativa (H1): As médias das duas populações são diferentes. Ou seja, há diferença significativa."
   ]
  },
  {
   "cell_type": "code",
   "execution_count": 6,
   "id": "6177ba26",
   "metadata": {},
   "outputs": [],
   "source": [
    "# Separa os grupos de controle e tratamento\n",
    "grupo_controle = df2[df2['grupo'] == 'controle']\n",
    "grupo_tratamento = df2[df2['grupo'] == 'tratamento']"
   ]
  },
  {
   "cell_type": "code",
   "execution_count": 8,
   "id": "34845946",
   "metadata": {},
   "outputs": [
    {
     "name": "stdout",
     "output_type": "stream",
     "text": [
      "Taxa de conversão - Controle: 0.11881215374556967\n",
      "Taxa de conversão - Tratamento: 0.12039624953532238\n"
     ]
    }
   ],
   "source": [
    "# Calcule a média das taxas de conversão\n",
    "taxa_controle = grupo_controle['converteu'].mean()\n",
    "taxa_tratamento = grupo_tratamento['converteu'].mean()\n",
    "\n",
    "print(f'Taxa de conversão - Controle: {taxa_controle}')\n",
    "print(f'Taxa de conversão - Tratamento: {taxa_tratamento}')"
   ]
  },
  {
   "cell_type": "code",
   "execution_count": 10,
   "id": "e512381d",
   "metadata": {},
   "outputs": [],
   "source": [
    "# Teste de hipóteses\n",
    "alfa = 0.05\n",
    "hipotese_nula = \"Não há diferença na taxa de conversão entre a pagina_com_cta e a pagina_sem_cta.\"\n",
    "hipotese_alternativa = \"Há diferença na taxa de conversão entre a pagina_com_cta e a pagina_sem_cta.\""
   ]
  },
  {
   "cell_type": "markdown",
   "id": "d3f6415c",
   "metadata": {},
   "source": [
    "A função stats.ttest_ind() é uma função da biblioteca SciPy. Esta função realiza um Teste t de Student independente para duas amostras. O objetivo do Teste t é determinar se existe uma diferença estatisticamente significativa entre as médias de duas populações independentes.\n",
    "\n",
    "A função stats.ttest_ind() recebe dois argumentos principais, que são as duas amostras (geralmente na forma de listas, arrays ou séries do pandas) para as quais você deseja testar a diferença entre as médias. A função retorna dois valores: a estatística t e o valor p.\n",
    "\n",
    "A estatística t é um valor calculado que ajuda a determinar a diferença entre as médias das duas amostras em relação ao erro padrão combinado das amostras. Um valor t grande (positivo ou negativo) indica uma diferença maior entre as médias, enquanto um valor t próximo de zero indica que as médias são semelhantes.\n",
    "\n",
    "O valor-p é uma medida de significância estatística. Ele indica a probabilidade de observar uma diferença igual ou maior do que a encontrada, assumindo que não há diferença real entre as médias das populações (ou seja, a hipótese nula é verdadeira). Um valor-p baixo (geralmente menor que 0,05) sugere que podemos rejeitar a hipótese nula e concluir que há uma diferença estatisticamente significativa entre as médias das duas populações."
   ]
  },
  {
   "cell_type": "code",
   "execution_count": 11,
   "id": "68b77fd6",
   "metadata": {},
   "outputs": [],
   "source": [
    "# Aplica o teste\n",
    "estatistica_t, p_valor = stats.ttest_ind(grupo_controle['converteu'], grupo_tratamento['converteu'])"
   ]
  },
  {
   "cell_type": "code",
   "execution_count": 12,
   "id": "32540dd3",
   "metadata": {},
   "outputs": [
    {
     "name": "stdout",
     "output_type": "stream",
     "text": [
      "Estatística t: -1.315716642446585\n",
      "Valor-p: 0.1882702043077206\n"
     ]
    }
   ],
   "source": [
    "print(f\"Estatística t: {estatistica_t}\")\n",
    "print(f\"Valor-p: {p_valor}\")"
   ]
  },
  {
   "cell_type": "code",
   "execution_count": 13,
   "id": "30e3fe8e",
   "metadata": {},
   "outputs": [
    {
     "name": "stdout",
     "output_type": "stream",
     "text": [
      "Falhamos em rejeitar a hipótese nula.\n",
      "Não há diferença na taxa de conversão entre a pagina_com_cta e a pagina_sem_cta.\n"
     ]
    }
   ],
   "source": [
    "# Resultado\n",
    "if p_valor < alfa:\n",
    "    print(f\"Rejeitamos a hipótese nula.\\n{hipotese_alternativa}\")\n",
    "else:\n",
    "    print(f\"Falhamos em rejeitar a hipótese nula.\\n{hipotese_nula}\")"
   ]
  },
  {
   "cell_type": "code",
   "execution_count": 14,
   "id": "e18cb14d",
   "metadata": {},
   "outputs": [],
   "source": [
    "# Import\n",
    "from scipy.stats import shapiro"
   ]
  },
  {
   "cell_type": "code",
   "execution_count": 15,
   "id": "16c61dc6",
   "metadata": {},
   "outputs": [
    {
     "name": "stdout",
     "output_type": "stream",
     "text": [
      "Estatística de Shapiro-Wilk: 0.37825713299264285, Valor-p: 1.5108023462326112e-195\n",
      "A amostra A não segue uma distribuição normal.\n"
     ]
    }
   ],
   "source": [
    "stat_A, p_A = shapiro(df2['converteu'])\n",
    "print(f'Estatística de Shapiro-Wilk: {stat_A}, Valor-p: {p_A}')\n",
    "if p_A > 0.05:\n",
    "    print('A amostra A segue uma distribuição normal.')\n",
    "else:\n",
    "    print('A amostra A não segue uma distribuição normal.')"
   ]
  },
  {
   "cell_type": "code",
   "execution_count": 16,
   "id": "bdde2d42",
   "metadata": {},
   "outputs": [
    {
     "name": "stdout",
     "output_type": "stream",
     "text": [
      "Estatística de Shapiro-Wilk: 0.37825713299264285, Valor-p: 1.5108023462326112e-195\n",
      "A amostra B não segue uma distribuição normal.\n"
     ]
    }
   ],
   "source": [
    "stat_B, p_B = shapiro(df2['converteu'])\n",
    "print(f'Estatística de Shapiro-Wilk: {stat_B}, Valor-p: {p_B}')\n",
    "if p_B > 0.05:\n",
    "    print('A amostra B segue uma distribuição normal.')\n",
    "else:   \n",
    "    print('A amostra B não segue uma distribuição normal.') "
   ]
  },
  {
   "cell_type": "markdown",
   "id": "256064df",
   "metadata": {},
   "source": [
    "As amostras não passaram na validação de normalidade, portanto os resultados do teste-t não são confiáveis."
   ]
  },
  {
   "cell_type": "markdown",
   "id": "43649c70",
   "metadata": {},
   "source": [
    "## Teste de Mann-Whitney U\n",
    "\n",
    "O Teste de Mann-Whitney U é um teste estatístico não paramétrico utilizado para comparar as medianas de duas amostras independentes. É especialmente útil quando as premissas de normalidade dos dados não são atendidas, o que é comum em muitas situações práticas. O teste é uma alternativa ao teste t de Student para amostras independentes quando os dados não são normalmente distribuídos.\n",
    "\n",
    "O Teste de Mann-Whitney U é adequado para testar a hipótese de que duas amostras provêm de distribuições com a mesma mediana. Ele é particularmente útil em estudos médicos, pesquisas sociais e outros campos onde as premissas de normalidade muitas vezes falham. Se o valor-p é pequeno (geralmente abaixo de 0,05), rejeita-se a hipótese nula, sugerindo uma diferença estatisticamente significativa entre as medianas dos grupos.\n",
    "\n",
    "**Hipótese Nula (H0):**\n",
    "\n",
    "A hipótese nula afirma que as medianas das duas distribuições são iguais. Em outras palavras, não há diferença significativa na mediana entre o grupo de controle e o grupo de tratamento. \n",
    "\n",
    "**Hipótese Alternativa (H1):**\n",
    "\n",
    "A hipótese alternativa, no caso de um teste bicaudal (two-sided), afirma que as medianas das duas distribuições são diferentes. Isso não especifica qual grupo tem a mediana maior, apenas que uma diferença existe. "
   ]
  },
  {
   "cell_type": "code",
   "execution_count": 17,
   "id": "66e1cceb",
   "metadata": {},
   "outputs": [],
   "source": [
    "# Import\n",
    "from scipy.stats import mannwhitneyu"
   ]
  },
  {
   "cell_type": "code",
   "execution_count": 18,
   "id": "49570ebf",
   "metadata": {},
   "outputs": [],
   "source": [
    "# Teste de hipóteses\n",
    "alfa = 0.05\n",
    "hipotese_nula = \"Não há diferença significativa na mediana entre o grupo de controle e o grupo de tratamento.\"\n",
    "hipotese_alternativa = \"Há diferença significativa na mediana entre o grupo de controle e o grupo de tratamento.\""
   ]
  },
  {
   "cell_type": "code",
   "execution_count": 20,
   "id": "0b163d08",
   "metadata": {},
   "outputs": [
    {
     "name": "stdout",
     "output_type": "stream",
     "text": [
      "Estatística t: 10536929466.5\n",
      "Valor-p: 0.1882697352188082\n"
     ]
    }
   ],
   "source": [
    "# Aplica o teste de Mann-Whitney\n",
    "estatistica_u, valor_p = mannwhitneyu(grupo_controle['converteu'], \n",
    "                                      grupo_tratamento['converteu'], \n",
    "                                      alternative = 'two-sided')\n",
    "\n",
    "print(f\"Estatística t: {estatistica_u}\")\n",
    "print(f\"Valor-p: {valor_p}\")"
   ]
  },
  {
   "cell_type": "code",
   "execution_count": 21,
   "id": "d8883c4c",
   "metadata": {},
   "outputs": [
    {
     "name": "stdout",
     "output_type": "stream",
     "text": [
      "Estatística t: 10536929466.5\n",
      "Valor-p: 0.1882697352188082\n"
     ]
    }
   ],
   "source": [
    "print(f\"Estatística t: {estatistica_u}\")\n",
    "print(f\"Valor-p: {valor_p}\")"
   ]
  },
  {
   "cell_type": "code",
   "execution_count": 22,
   "id": "7e6eb969",
   "metadata": {},
   "outputs": [
    {
     "name": "stdout",
     "output_type": "stream",
     "text": [
      "Falhamos em rejeitar a hipótese nula.\n",
      "Não há diferença significativa na mediana entre o grupo de controle e o grupo de tratamento.\n"
     ]
    }
   ],
   "source": [
    "# Resultado\n",
    "if p_valor < alfa:\n",
    "    print(f\"Rejeitamos a hipótese nula.\\n{hipotese_alternativa}\")\n",
    "else:\n",
    "    print(f\"Falhamos em rejeitar a hipótese nula.\\n{hipotese_nula}\")"
   ]
  },
  {
   "cell_type": "markdown",
   "id": "8045cc11",
   "metadata": {},
   "source": [
    "## Teste A/B com Regressão Logística\n",
    "\n",
    "A regressão logística é um método estatístico utilizado para modelar a probabilidade de um evento ocorrer, com base na relação entre a variável dependente binária e uma ou mais variáveis independentes. Especificamente, ela é usada quando a variável de resposta é categórica e pode assumir apenas dois valores (por exemplo, sim ou não, sucesso ou fracasso, convertido ou não convertido).\n",
    "\n",
    "A regressão logística pode ser usada em modelagem estatística quando o objetivo é compreender a relação entre as variáveis (nosso caso neste projeto) e pode ser usada em Machine Learning quando o objetivo é construir um modelo para prever a variável alvo."
   ]
  },
  {
   "cell_type": "code",
   "execution_count": 23,
   "id": "33bf5b5c",
   "metadata": {},
   "outputs": [],
   "source": [
    "# Import\n",
    "from sklearn.linear_model import LogisticRegression"
   ]
  },
  {
   "cell_type": "code",
   "execution_count": 24,
   "id": "3250ad5a",
   "metadata": {},
   "outputs": [],
   "source": [
    "df2['pagina_cta_bin'] = df2['pagina'].apply(lambda x: 1 if x == 'pagina_com_cta' else 0)\n",
    "\n",
    "y = df2['converteu']\n",
    "X = df2[['pagina_cta_bin']]"
   ]
  },
  {
   "cell_type": "code",
   "execution_count": null,
   "id": "868295a7",
   "metadata": {},
   "outputs": [],
   "source": [
    "modelo = LogisticRegression()\n",
    "modelo.fit(X, y)\n",
    "\n",
    "coeficients = modelo.coef_[0][0]\n",
    "odds_ratio = np.exp(coeficients)"
   ]
  },
  {
   "cell_type": "code",
   "execution_count": 27,
   "id": "90ea5f33",
   "metadata": {},
   "outputs": [
    {
     "name": "stdout",
     "output_type": "stream",
     "text": [
      "Coeficiente: 0.015575832009266646\n",
      "Odds Ratio: 1.015697767540523\n"
     ]
    }
   ],
   "source": [
    "print(f'Coeficiente: {coeficients}')\n",
    "print(f'Odds Ratio: {odds_ratio}')"
   ]
  },
  {
   "cell_type": "markdown",
   "id": "5e036c53",
   "metadata": {},
   "source": [
    "### Interpretação\n",
    "\n",
    "A interpretação do coeficiente e do odds ratio no contexto de uma regressão logística envolve entender como a variável independente afeta a probabilidade do evento de interesse (neste caso, conversão).\n",
    "\n",
    "Os coeficientes do modelo de regressão logística podem ser interpretados em termos de log-odds (logit ou coef) e odds ratios. \n",
    "\n",
    "Vamos entender como interpretar essas medidas:\n",
    "\n",
    "**Log-odds (coeficientes)**:\n",
    "\n",
    "Os coeficientes do modelo de regressão logística representam o efeito de uma unidade de mudança na variável independente (explicativa) sobre o log-odds da variável dependente (resposta). \n",
    "\n",
    "Um coeficiente positivo indica que, à medida que a variável independente aumenta, o log-odds da variável dependente também aumenta, tornando o evento mais provável. Por outro lado, um coeficiente negativo indica que, à medida que a variável independente aumenta, o log-odds da variável dependente diminui, tornando o evento menos provável.\n",
    "\n",
    "**Odds ratios**:\n",
    "\n",
    "As odds ratios são obtidas ao exponenciar os coeficientes do modelo de regressão logística. Uma odds ratio (OR) representa o fator de mudança nas odds da variável dependente em resposta a uma unidade de mudança na variável independente. Aqui estão algumas interpretações básicas para as odds ratios:\n",
    "\n",
    "- OR = 1: A variável independente não tem efeito sobre a variável dependente.\n",
    "\n",
    "\n",
    "- OR > 1: A variável independente tem um efeito positivo sobre a variável dependente. À medida que a variável independente aumenta, as odds da variável dependente também aumentam.\n",
    "\n",
    "\n",
    "- OR < 1: A variável independente tem um efeito negativo sobre a variável dependente. À medida que a variável independente aumenta, as odds da variável dependente diminuem.\n",
    "\n",
    "Logo...\n",
    "\n",
    "O coeficiente na regressão logística, também conhecido como logit, representa a mudança no logaritmo das odds (chances) de o evento ocorrer (por exemplo, uma conversão) para cada unidade de aumento na variável independente, mantendo constantes todas as outras variáveis. Em nosso exemplo:\n",
    "\n",
    "**Coeficiente = 0.015042010392362316**\n",
    "\n",
    "Este valor indica que, para cada mudança unitária na variável pagina_cta_dummy (de 0 para 1, ou seja, mudando de uma página sem CTA para uma página com CTA), o logaritmo das odds de conversão aumenta em 0.015042. Em termos mais simples, isso sugere um efeito positivo, ainda que pequeno, da presença de um CTA na probabilidade de conversão.\n",
    "\n",
    "O odds ratio é a exponenciação do coeficiente da regressão logística e oferece uma interpretação mais direta em termos de multiplicador de odds:\n",
    "\n",
    "**Odds Ratio = 1.015155710809641**\n",
    "\n",
    "Este valor significa que a presença de um CTA na página (comparada à ausência) multiplica as odds de conversão por aproximadamente 1.015. Isso indica que, quando um CTA está presente, as odds de conversão são 1.5% mais altas do que quando não está presente.\n",
    "\n",
    "Interpretação Prática\n",
    "\n",
    "Em nosso contexto, um odds ratio de 1.015 não representa uma mudança muito grande nas odds de conversão. No entanto, ainda é uma mudança positiva, indicando que a presença de um CTA tem um impacto ligeiramente positivo na probabilidade de conversão. É importante notar que a magnitude deste efeito pode ser considerada pequena e que devemos avaliar se essa mudança é estatisticamente significativa e relevante do ponto de vista prático para as decisões de negócios ou de design de página. Foi exatamente o que fizemos ao aplicar os testes estatísticos nas etapas anteriores deste projeto.\n",
    "\n",
    "## Conclusão\n",
    "\n",
    "- Fizemos a análise de um Teste A/B para um site de comércio eletrônico a fim de ajudar a decidir se a empresa deveria implementar uma nova página, manter a página antiga ou talvez executar o experimento por mais tempo.\n",
    "\n",
    "- A partir do resultado da análise, descobrimos que a hipótese de a nova página obter maior taxa de conversão tem uma probabilidade muito baixa, portanto, acreditamos que permanecer com a página antiga é uma decisão mais adequada.\n",
    "\n",
    "---"
   ]
  }
 ],
 "metadata": {
  "kernelspec": {
   "display_name": "Python 3",
   "language": "python",
   "name": "python3"
  },
  "language_info": {
   "codemirror_mode": {
    "name": "ipython",
    "version": 3
   },
   "file_extension": ".py",
   "mimetype": "text/x-python",
   "name": "python",
   "nbconvert_exporter": "python",
   "pygments_lexer": "ipython3",
   "version": "3.10.12"
  }
 },
 "nbformat": 4,
 "nbformat_minor": 5
}
