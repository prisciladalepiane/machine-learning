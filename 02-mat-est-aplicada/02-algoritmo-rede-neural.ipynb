{
 "cells": [
  {
   "cell_type": "markdown",
   "id": "59ce9832",
   "metadata": {},
   "source": [
    "# Rede Neural\n",
    "\n",
    "### 1. Tipo de rede\n",
    "\n",
    "O que esse algoritmo representa é uma rede neural artificial simples, equivalente a um perceptron logístico: \n",
    "\n",
    "- Há apenas uma camada (entrada -> saída).\n",
    "- Não existem camadas ocultas.\n",
    "- A saída é obtida aplicando a função *sigmóide*, que transforma o resultado em algo entre 0 e 1.\n",
    "\n",
    "Na prática, essa rede resolve problemas de classificação binária linearmente separáveis.\n",
    "\n",
    "### 2. Como ela “aprende”\n",
    "\n",
    "O aprendizado segue a lógica de redes neurais, mas de forma reduzida:\n",
    "\n",
    "#### 1. Entrada dos dados (**Forward pass**):\n",
    "\n",
    "- Cada atributo de entrada é multiplicado por um peso (representando a importância desse atributo).\n",
    "- Todos os atributos ponderados são somados, junto com um viés (bias), que ajusta a posição da fronteira de decisão.\n",
    "- O resultado passa pela função sigmóide, que produz uma saída interpretada como probabilidade de pertencer à classe 1.\n",
    "\n",
    "#### 2. Erro (Função de custo implícita):\n",
    "\n",
    "- O erro é a diferença entre o valor previsto e o valor real.\n",
    "- Ajuste dos parâmetros (Backpropagation simplificado): Calcula-se o gradiente (direção em que o erro cresce).\n",
    "- Os pesos e o bias são atualizados na direção oposta (usando o gradiente descendente) para reduzir o erro."
   ]
  },
  {
   "cell_type": "markdown",
   "id": "0ea7ceab",
   "metadata": {},
   "source": [
    "### Desenvolvimento do Algoritmo de Rede Neural"
   ]
  },
  {
   "cell_type": "code",
   "execution_count": 1,
   "id": "29b526b9",
   "metadata": {},
   "outputs": [],
   "source": [
    "import numpy as np  "
   ]
  },
  {
   "cell_type": "markdown",
   "id": "e4548457",
   "metadata": {},
   "source": [
    "Imagine que queremos classificar pessoas em “alto risco” ou “baixo risco” para um crédito bancário:\n",
    "\n",
    "- Os atributos de entrada podem ser: renda, idade, histórico de dívidas.\n",
    "- Cada atributo recebe um peso, indicando o quanto ele influencia a decisão.\n",
    "- O algoritmo ajusta esses pesos com base nos exemplos de treino: se erra, ele corrige um pouco a importância atribuída a cada atributo.\n",
    "- Depois de várias iterações, a rede encontra uma fronteira de decisão: de um lado, pessoas que devem ser classificadas como “baixo risco”; de outro, como “alto risco”."
   ]
  },
  {
   "cell_type": "code",
   "execution_count": 2,
   "id": "b13441d7",
   "metadata": {},
   "outputs": [],
   "source": [
    "class AlgoritmoRedeNeural:\n",
    "\n",
    "    # Método construtor\n",
    "    def __init__(self, taxa_aprendizado, num_interacoes):\n",
    "        self.taxa_aprendizado = taxa_aprendizado\n",
    "        self.num_interacoes = num_interacoes\n",
    "\n",
    "        self.pesos = None\n",
    "        self.bias = None\n",
    "\n",
    "    def func_sigmoid(self, pred):\n",
    "       sig = 1/(1+np.exp(-pred))\n",
    "       return sig \n",
    "    \n",
    "    def fit(self, X, y):\n",
    "\n",
    "        num_registro, num_atributos = X.shape\n",
    "\n",
    "        self.pesos = np.zeros(num_atributos)\n",
    "\n",
    "        self.bias = 0\n",
    "\n",
    "        for i in range(self.num_interacoes):\n",
    "            \n",
    "            print(f\"Iteração {i+1}/{self.num_interacoes}\")\n",
    "\n",
    "            ## 1- Foward pass\n",
    "            previsao = np.dot(X, self.pesos) + self.bias\n",
    "            print(f\"Previsão: {previsao}\")\n",
    "            previsao_final = self.func_sigmoid(previsao)\n",
    "            print(f\"Previsão Sigmoid: {previsao_final}\")\n",
    "\n",
    "            # Cálculo do erro\n",
    "            erro = previsao_final - y\n",
    "            print(f\"Erro: {erro}\")\n",
    "\n",
    "            ## 2- Backward pass\n",
    "            # Calculando o gradiente (derivada da função de custo em relação aos pesos e bias)\n",
    "            dw = (1/num_registro) * np.dot(X.T, erro)\n",
    "            db = (1/num_registro) * np.sum(previsao_final - y)\n",
    "\n",
    "            # Atualização dos pesos e bias\n",
    "            # pesos - taxa_aprendizado * gradiente\n",
    "            self.pesos -= self.taxa_aprendizado * dw\n",
    "            self.bias -= self.taxa_aprendizado * db\n",
    "\n",
    "        print(f\"Pesos atualizados: {self.pesos}\")\n",
    "        print(f\"Bias atualizado: {self.bias}\")\n",
    "        print(\"\\nTreinamento concluído.\")\n",
    "    \n",
    "    def predict(self, X):\n",
    "        previsao = np.dot(X, self.pesos) + self.bias\n",
    "        previsao_final = self.func_sigmoid(previsao)\n",
    "        print(f\"Previsão antes da função sigmoid: {previsao}\")\n",
    "        print(f\"Previsão após a função sigmoid (final): {previsao_final}\")\n",
    "        classe_prevista = [1 if i > 0.5 else 0 for i in previsao_final]\n",
    "        return classe_prevista\n"
   ]
  },
  {
   "cell_type": "markdown",
   "id": "fb6b2f7a",
   "metadata": {},
   "source": [
    "Os dados de entrada representam, por exemplo, número de compras em uma transação comercial\n",
    "Os dados de saída representam, por exemplo, se a transação foi ou não suspeita\n",
    "- Classe 0 = Não é Transação Suspeita\n",
    "- Classe 1 = É Transação Suspeita"
   ]
  },
  {
   "cell_type": "code",
   "execution_count": 3,
   "id": "7a3425f5",
   "metadata": {},
   "outputs": [],
   "source": [
    "# Temos 2 atributos (variáveis) e 8 registros (linhas ou observações ou exemplos)\n",
    "entrada = np.array([[1, 2.5], [2, 3], [3, 5], [1, 4], [5, 6], [6, 7], [4, 5.5], [1.5, 2]])\n",
    "\n",
    "# Temos 8 itens, um para cada linha dos dados de entrada\n",
    "saida = np.array([0, 0, 1, 0, 1, 1, 1, 0])\n",
    "\n",
    "# Dados de entrada e saída para treinar o modelo \n",
    "X_treino = np.array([[1, 2.5], [2, 3], [3, 5], [1, 4], [5, 6], [6, 7]])\n",
    "y_treino = np.array([0, 0, 1, 0, 1, 1])\n",
    "\n",
    "# Dados de teste (2 registros)\n",
    "X_teste = np.array([[1.5, 2], [4, 5.5]])\n",
    "y_teste = np.array([0, 1])"
   ]
  },
  {
   "cell_type": "markdown",
   "id": "0afc0c89",
   "metadata": {},
   "source": [
    "### Separando em treino e teste"
   ]
  },
  {
   "cell_type": "code",
   "execution_count": 4,
   "id": "061f2ba7",
   "metadata": {},
   "outputs": [
    {
     "data": {
      "text/plain": [
       "(array([[1. , 2.5],\n",
       "        [2. , 3. ],\n",
       "        [3. , 5. ],\n",
       "        [1. , 4. ],\n",
       "        [5. , 6. ],\n",
       "        [6. , 7. ]]),\n",
       " array([0, 0, 1, 0, 1, 1]))"
      ]
     },
     "execution_count": 4,
     "metadata": {},
     "output_type": "execute_result"
    }
   ],
   "source": [
    "X = entrada[:6]\n",
    "y = saida[:6]\n",
    "\n",
    "X,y"
   ]
  },
  {
   "cell_type": "code",
   "execution_count": 5,
   "id": "2340dfa3",
   "metadata": {},
   "outputs": [
    {
     "data": {
      "text/plain": [
       "(array([[4. , 5.5],\n",
       "        [1.5, 2. ]]),\n",
       " array([1, 0]))"
      ]
     },
     "execution_count": 5,
     "metadata": {},
     "output_type": "execute_result"
    }
   ],
   "source": [
    "X_teste = entrada[6:]\n",
    "y_teste = saida[6:]\n",
    "X_teste,y_teste"
   ]
  },
  {
   "cell_type": "markdown",
   "id": "aa1d7de8",
   "metadata": {},
   "source": [
    "### Treinando o modelo"
   ]
  },
  {
   "cell_type": "code",
   "execution_count": 6,
   "id": "a5ca6544",
   "metadata": {},
   "outputs": [],
   "source": [
    "# Define os hiperparâmetros (controlam o processo de treinamento)\n",
    "taxa_aprendizado = 0.01\n",
    "num_iteracoes = 1000"
   ]
  },
  {
   "cell_type": "code",
   "execution_count": 7,
   "id": "86c59ecd",
   "metadata": {},
   "outputs": [],
   "source": [
    "# Cria uma instância da classe, ou seja, um objeto\n",
    "modelo = AlgoritmoRedeNeural(taxa_aprendizado, num_iteracoes)"
   ]
  },
  {
   "cell_type": "code",
   "execution_count": null,
   "id": "dbaa2048",
   "metadata": {},
   "outputs": [],
   "source": [
    "# Treina o modelo\n",
    "modelo.fit(X_treino, y_treino)"
   ]
  },
  {
   "cell_type": "code",
   "execution_count": 9,
   "id": "e2ee7718",
   "metadata": {},
   "outputs": [
    {
     "data": {
      "text/plain": [
       "array([ 1.25669221, -0.47321303])"
      ]
     },
     "execution_count": 9,
     "metadata": {},
     "output_type": "execute_result"
    }
   ],
   "source": [
    "modelo.pesos"
   ]
  },
  {
   "cell_type": "code",
   "execution_count": 10,
   "id": "42e4819d",
   "metadata": {},
   "outputs": [
    {
     "name": "stdout",
     "output_type": "stream",
     "text": [
      "Previsão antes da função sigmoid: [ 1.41004121 -0.07544372]\n",
      "Previsão após a função sigmoid (final): [0.80377244 0.48114801]\n"
     ]
    }
   ],
   "source": [
    "# Faz previsões com o modelo treinado usando dados de teste\n",
    "previsoes_teste = modelo.predict(X_teste)"
   ]
  },
  {
   "cell_type": "code",
   "execution_count": 11,
   "id": "2b794a34",
   "metadata": {},
   "outputs": [
    {
     "name": "stdout",
     "output_type": "stream",
     "text": [
      "[1 0] [1, 0]\n"
     ]
    }
   ],
   "source": [
    "print(y_teste, previsoes_teste)"
   ]
  }
 ],
 "metadata": {
  "kernelspec": {
   "display_name": "Python 3",
   "language": "python",
   "name": "python3"
  },
  "language_info": {
   "codemirror_mode": {
    "name": "ipython",
    "version": 3
   },
   "file_extension": ".py",
   "mimetype": "text/x-python",
   "name": "python",
   "nbconvert_exporter": "python",
   "pygments_lexer": "ipython3",
   "version": "3.10.12"
  }
 },
 "nbformat": 4,
 "nbformat_minor": 5
}
